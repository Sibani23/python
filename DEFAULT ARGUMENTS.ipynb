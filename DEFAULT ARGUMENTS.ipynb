{
 "cells": [
  {
   "cell_type": "code",
   "execution_count": 7,
   "id": "92e52f19-340a-480e-8864-d0b705444fdd",
   "metadata": {},
   "outputs": [
    {
     "name": "stdout",
     "output_type": "stream",
     "text": [
      "1100\n"
     ]
    }
   ],
   "source": [
    "# Case-1:\n",
    "def addition(n1,n2=600):\n",
    "    add=n1+n2\n",
    "    print(add)\n",
    "    \n",
    "addition(500)\n",
    "\n",
    "# First we are defining function\n",
    "# while define the function we given n2=600\n",
    "# now we are calling the function"
   ]
  },
  {
   "cell_type": "code",
   "execution_count": 1,
   "id": "5a39781c-1524-4302-8fdd-43c5b4d4cd99",
   "metadata": {},
   "outputs": [
    {
     "name": "stdout",
     "output_type": "stream",
     "text": [
      "1500\n"
     ]
    }
   ],
   "source": [
    "# Case-2:\n",
    "def addition(n1,n2=600):\n",
    "    add=n1+n2\n",
    "    print(add)\n",
    "    \n",
    "addition(500,1000)\n",
    "\n",
    "# First we are defining function\n",
    "# while define the function we given n2=600\n",
    "# now we are calling the function,\n",
    "# while we are calling n2=1000\n",
    "# So value will be overwrite\n",
    "# Python always takes the latest value"
   ]
  },
  {
   "cell_type": "code",
   "execution_count": 2,
   "id": "d8417e2b-8aae-4143-b764-cd697ff37117",
   "metadata": {},
   "outputs": [
    {
     "name": "stdout",
     "output_type": "stream",
     "text": [
      "2500\n"
     ]
    }
   ],
   "source": [
    "# Case-3:\n",
    "def addition(n1,n2=600):\n",
    "    n2=2000 \n",
    "    add=n1+n2\n",
    "    print(add)\n",
    "    \n",
    "addition(500,1000)\n",
    "\n",
    "#A) 1100 B) 1500 C) 2500 D) error\n",
    "\n",
    "# Step-1: Define the function n2=600\n",
    "# Step-2: Call the fuction n2=1000\n",
    "# Step-3: Running the function n2=2000"
   ]
  },
  {
   "cell_type": "code",
   "execution_count": 8,
   "id": "3816a605-a458-40b9-8e7d-fc1430c943cf",
   "metadata": {},
   "outputs": [
    {
     "name": "stdout",
     "output_type": "stream",
     "text": [
      "2500\n"
     ]
    }
   ],
   "source": [
    "# Case-4:\n",
    "def addition(n1,n2=600):\n",
    "    n2=2000\n",
    "    add=n1+n2\n",
    "    print(add)\n",
    "n2=3000\n",
    "addition(500,1000)\n",
    "# n2=600 ==== > 3000 === >1000m==== > 2500\n",
    "\n",
    "# Step-1: Define the function n2=600\n",
    "# Step-2: Call the fuction n2=1000\n",
    "# step-3: taken n2=3000 outside the function\n",
    "# step-4: Running the function n2=2000\n",
    "# n2=600 ==== > 3000 === >1000m==== >"
   ]
  },
  {
   "cell_type": "code",
   "execution_count": 3,
   "id": "d875c7b9-01c5-404e-88f2-83281b07c010",
   "metadata": {},
   "outputs": [
    {
     "name": "stdout",
     "output_type": "stream",
     "text": [
      "1200\n"
     ]
    }
   ],
   "source": [
    "# Case-5:\n",
    "a1=100\n",
    "b1=200\n",
    "def add11(a1=1000):\n",
    "    add1=a1+b1\n",
    "    print(add1)\n",
    "add11()\n",
    "\n",
    "# a1=100 === > a1=1000 === > 1000+200\n",
    "\n",
    "#Step-1: Global variable intialization  a1=100\n",
    "# Step-2: Define the function a1=1000\n",
    "# Step-3: Call the function a1=1000\n",
    "# Step-4: Running the function a1=1000"
   ]
  },
  {
   "cell_type": "code",
   "execution_count": 4,
   "id": "0d5696d0-277f-4f3a-97bb-61f2c8620424",
   "metadata": {},
   "outputs": [
    {
     "ename": "TypeError",
     "evalue": "add11() got an unexpected keyword argument 'b1'",
     "output_type": "error",
     "traceback": [
      "\u001b[1;31m---------------------------------------------------------------------------\u001b[0m",
      "\u001b[1;31mTypeError\u001b[0m                                 Traceback (most recent call last)",
      "Cell \u001b[1;32mIn[4], line 7\u001b[0m\n\u001b[0;32m      5\u001b[0m     add1\u001b[38;5;241m=\u001b[39ma1\u001b[38;5;241m+\u001b[39mb1\n\u001b[0;32m      6\u001b[0m     \u001b[38;5;28mprint\u001b[39m(add1)\n\u001b[1;32m----> 7\u001b[0m add11(a1\u001b[38;5;241m=\u001b[39m\u001b[38;5;241m2000\u001b[39m,b1\u001b[38;5;241m=\u001b[39m\u001b[38;5;241m3000\u001b[39m)\n",
      "\u001b[1;31mTypeError\u001b[0m: add11() got an unexpected keyword argument 'b1'"
     ]
    }
   ],
   "source": [
    "# Case-6:\n",
    "a1=100\n",
    "b1=200\n",
    "def add11(a1=1000):\n",
    "    add1=a1+b1\n",
    "    print(add1)\n",
    "add11(a1=2000,b1=3000)\n",
    "\n",
    "# while defiening function only one argument is there\n",
    "# while calling we are providing two arguments\n",
    "# It is not possibile"
   ]
  },
  {
   "cell_type": "code",
   "execution_count": 5,
   "id": "9158c4a6-64e3-471d-96bf-00d3cf445209",
   "metadata": {},
   "outputs": [
    {
     "name": "stdout",
     "output_type": "stream",
     "text": [
      "2200\n"
     ]
    }
   ],
   "source": [
    "# Case-7:\n",
    "a1=100\n",
    "b1=200\n",
    "def add11(a1=1000):\n",
    "    add1=a1+b1 \n",
    "    print(add1)\n",
    "add11(a1=2000)\n",
    "\n",
    "# step 1- global variable initialization  a1=100\n",
    "# step 2- define the function a1=1000\n",
    "# step 3- call the function a1=2000\n",
    "# step 4- running the function add1=2000+200"
   ]
  },
  {
   "cell_type": "code",
   "execution_count": 6,
   "id": "34abdf18-cda8-4cbd-ad48-713fd358a896",
   "metadata": {},
   "outputs": [
    {
     "name": "stdout",
     "output_type": "stream",
     "text": [
      "5200\n"
     ]
    }
   ],
   "source": [
    "# Case-8:\n",
    "a1=100\n",
    "b1=200\n",
    "def add11(a1=1000):\n",
    "    a1=5000\n",
    "    add1=a1+b1\n",
    "    print(add1)\n",
    "add11(a1=2000)\n",
    "\n",
    "# step 1- global variable initialization  a1=100\n",
    "# step 2- define the function a1=1000\n",
    "# step 3- call the function a1=2000\n",
    "# step 4- running the function add1=2000+200"
   ]
  },
  {
   "cell_type": "code",
   "execution_count": null,
   "id": "8c1cecd2-5997-4245-ba61-83fb2b5c1472",
   "metadata": {},
   "outputs": [],
   "source": [
    "# Case-9:\n",
    "a1=100\n",
    "b1=200\n",
    "def add11(a1=1000):\n",
    "    a1=5000\n",
    "    add1=a1+b1\n",
    "    print(add1)\n",
    "a1=6000\n",
    "add11(a1=2000)\n",
    "# a1=100,b1=200\n",
    "# define the function a1=1000\n",
    "# a1=6000\n",
    "# calling the a1=2000\n",
    "# running a1=5000"
   ]
  },
  {
   "cell_type": "code",
   "execution_count": null,
   "id": "8433f521-34e6-4cfe-a066-33e19008ffb6",
   "metadata": {},
   "outputs": [],
   "source": [
    "# Case-10:\n",
    "b1=200\n",
    "def add11():\n",
    "    add1=a1+b1\n",
    "    print(add1)\n",
    "a1=6000\n",
    "add11()\n",
    "\n",
    "# b1=200\n",
    "# define the function\n",
    "# a1=6000\n",
    "# calling the function\n",
    "# running the function"
   ]
  }
 ],
 "metadata": {
  "kernelspec": {
   "display_name": "Python 3 (ipykernel)",
   "language": "python",
   "name": "python3"
  },
  "language_info": {
   "codemirror_mode": {
    "name": "ipython",
    "version": 3
   },
   "file_extension": ".py",
   "mimetype": "text/x-python",
   "name": "python",
   "nbconvert_exporter": "python",
   "pygments_lexer": "ipython3",
   "version": "3.11.7"
  }
 },
 "nbformat": 4,
 "nbformat_minor": 5
}
