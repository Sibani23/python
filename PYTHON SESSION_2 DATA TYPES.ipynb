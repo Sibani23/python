{
 "cells": [
  {
   "cell_type": "markdown",
   "id": "654806eb-23df-4371-9bcf-1b7aaf63a91f",
   "metadata": {},
   "source": [
    "## DATA TYPES"
   ]
  },
  {
   "cell_type": "markdown",
   "id": "664b7b3a-b5a7-42bc-815c-5ed413cb2e14",
   "metadata": {},
   "source": [
    "- in python type declare not requred\n",
    "- python will automatically takes the type based on provided value\n",
    "- we have many data types availabed\n",
    "- the main data are\n",
    "    - integer\n",
    "    - float\n",
    "    - boolean\n",
    "    - string"
   ]
  },
  {
   "cell_type": "markdown",
   "id": "9af36f3f-9c29-4efa-899f-6091162ba100",
   "metadata": {},
   "source": [
    "## Integer"
   ]
  },
  {
   "cell_type": "code",
   "execution_count": 10,
   "id": "2d2ca274-8e84-4a35-9ee6-24d6c5e72181",
   "metadata": {},
   "outputs": [
    {
     "data": {
      "text/plain": [
       "int"
      ]
     },
     "execution_count": 10,
     "metadata": {},
     "output_type": "execute_result"
    }
   ],
   "source": [
    "n=100\n",
    "type(n)"
   ]
  },
  {
   "cell_type": "markdown",
   "id": "c42ab76a-d08d-4ce9-ae83-24fd5a066079",
   "metadata": {},
   "source": [
    "**Type of REPRESENTATION**"
   ]
  },
  {
   "cell_type": "markdown",
   "id": "d63e4304-859b-4a8b-9b65-161210b9cd16",
   "metadata": {},
   "source": [
    "- binary representation\n",
    "- octa representation\n",
    "- hexa representation"
   ]
  },
  {
   "cell_type": "markdown",
   "id": "3f0a0272-a88c-4f11-8285-ef7ee118ea0c",
   "metadata": {},
   "source": [
    "**Binary**"
   ]
  },
  {
   "cell_type": "markdown",
   "id": "8f799a3e-6e78-497b-b883-52a52c1e34f1",
   "metadata": {},
   "source": [
    "- bi means 2\n",
    "- so it requires2 digits\n",
    "- generally we have 0 1 2 3 4 5 6 7 8 9\n",
    "- so it will represent 0 & 1\n",
    "- representation is 0b10,0b01111\n",
    "- Wrong representation is 0b102,0b007"
   ]
  },
  {
   "cell_type": "code",
   "execution_count": 23,
   "id": "6e3bfe85-7c1a-4297-86fb-adf5f96f7554",
   "metadata": {},
   "outputs": [],
   "source": [
    "import os"
   ]
  },
  {
   "cell_type": "code",
   "execution_count": 24,
   "id": "69f5d9a3-dae6-4612-bb27-51375fb06b74",
   "metadata": {},
   "outputs": [
    {
     "data": {
      "text/plain": [
       "'C:\\\\Users\\\\siban\\\\Documents\\\\python'"
      ]
     },
     "execution_count": 24,
     "metadata": {},
     "output_type": "execute_result"
    }
   ],
   "source": [
    "os.getcwd()\n",
    "# get current working directory it will give the path where our python file located\n"
   ]
  },
  {
   "cell_type": "code",
   "execution_count": null,
   "id": "fc4a1814-fda2-4c1f-87fd-5a99f129e954",
   "metadata": {},
   "outputs": [],
   "source": [
    "4   2   1    num\n",
    "0   0   0     0\n",
    "0   0   1     1\n",
    "0   1   0     2\n",
    "0   1   1     3\n",
    "1   0   0     4\n",
    "1   0   1     5\n",
    "1   1   0     6\n",
    "1   1   1     7"
   ]
  },
  {
   "cell_type": "code",
   "execution_count": null,
   "id": "475bf1ac-0fdd-4aad-acba-c129dcf75813",
   "metadata": {},
   "outputs": [],
   "source": [
    "8   4   2   1    num\n",
    "0   0   0   0     0\n",
    "0   0   0   1     1\n",
    "0   0   1   0     2\n",
    "0   0   1   1     3\n",
    "0   1   0   0     4\n",
    "0   1   0   1     5\n",
    "0   1   1   0     6\n",
    "0   1   1   1     7\n",
    "1   0   0   0     8\n",
    "1   0   0   1     9\n",
    "1   0   1   0     10\n",
    "1   0   1   1     11\n",
    "1   1   0   0     12\n",
    "1   1   0   1     13\n",
    "1   1   1   0     14\n",
    "1   1   1   1     15\n"
   ]
  },
  {
   "cell_type": "code",
   "execution_count": 26,
   "id": "fd58bd46-545e-411a-8120-cf19dfaf1217",
   "metadata": {},
   "outputs": [
    {
     "data": {
      "text/plain": [
       "29"
      ]
     },
     "execution_count": 26,
     "metadata": {},
     "output_type": "execute_result"
    }
   ],
   "source": [
    "0b11101"
   ]
  },
  {
   "cell_type": "code",
   "execution_count": 27,
   "id": "a72ba845-ba41-4dad-9397-0131af03f962",
   "metadata": {},
   "outputs": [
    {
     "data": {
      "text/plain": [
       "59"
      ]
     },
     "execution_count": 27,
     "metadata": {},
     "output_type": "execute_result"
    }
   ],
   "source": [
    "0b111011"
   ]
  },
  {
   "cell_type": "markdown",
   "id": "e2d64e80-2fd9-4ddc-8040-c91f035d6026",
   "metadata": {},
   "source": [
    "**OCTA**"
   ]
  },
  {
   "cell_type": "code",
   "execution_count": null,
   "id": "dbc90d86-8b01-4df1-a534-660933cea830",
   "metadata": {},
   "outputs": [],
   "source": [
    "- Octa means 8\n",
    "- so it requred 8 digits\n",
    "- Generally we have 0 1 2 3 4 5 6 7 8 9\n",
    "- so it will have 0 1 2 3 4 5 6 7 8 9\n",
    "- representation is 0xF9,0X0123abc,0xabc"
   ]
  },
  {
   "cell_type": "code",
   "execution_count": 28,
   "id": "ec27da24-f569-429b-bd64-6e18757a2613",
   "metadata": {},
   "outputs": [
    {
     "data": {
      "text/plain": [
       "2748"
      ]
     },
     "execution_count": 28,
     "metadata": {},
     "output_type": "execute_result"
    }
   ],
   "source": [
    "0xabc"
   ]
  },
  {
   "cell_type": "code",
   "execution_count": 29,
   "id": "c1c087ad-f77e-478a-885d-c874c64cb389",
   "metadata": {},
   "outputs": [
    {
     "data": {
      "text/plain": [
       "4671"
      ]
     },
     "execution_count": 29,
     "metadata": {},
     "output_type": "execute_result"
    }
   ],
   "source": [
    "0x123f"
   ]
  },
  {
   "cell_type": "markdown",
   "id": "3814e7ca-3f8e-4236-be7a-844edca83673",
   "metadata": {},
   "source": [
    "**FLOAT**"
   ]
  },
  {
   "cell_type": "code",
   "execution_count": 30,
   "id": "80324ad1-e94a-4644-85cc-17e9430ea175",
   "metadata": {},
   "outputs": [
    {
     "data": {
      "text/plain": [
       "float"
      ]
     },
     "execution_count": 30,
     "metadata": {},
     "output_type": "execute_result"
    }
   ],
   "source": [
    "n1=100.5\n",
    "type(n1)"
   ]
  },
  {
   "cell_type": "code",
   "execution_count": 31,
   "id": "5711f81e-6a83-4119-9f7b-2fd6b6790b97",
   "metadata": {},
   "outputs": [
    {
     "data": {
      "text/plain": [
       "int"
      ]
     },
     "execution_count": 31,
     "metadata": {},
     "output_type": "execute_result"
    }
   ],
   "source": [
    "n2=1005\n",
    "type(n2)"
   ]
  },
  {
   "cell_type": "code",
   "execution_count": 32,
   "id": "abc90a19-6eb8-4d77-b53c-9beb6b2e73b6",
   "metadata": {},
   "outputs": [
    {
     "data": {
      "text/plain": [
       "(10.0, 100.0, 1000.0, 10000.0)"
      ]
     },
     "execution_count": 32,
     "metadata": {},
     "output_type": "execute_result"
    }
   ],
   "source": [
    "1e1,1e2,1e3,1e4\n",
    "# kep=k*10^p"
   ]
  },
  {
   "cell_type": "code",
   "execution_count": 33,
   "id": "78493a47-f954-4ca4-8702-3936e75bb602",
   "metadata": {},
   "outputs": [
    {
     "data": {
      "text/plain": [
       "24000.0"
      ]
     },
     "execution_count": 33,
     "metadata": {},
     "output_type": "execute_result"
    }
   ],
   "source": [
    "24e3"
   ]
  },
  {
   "cell_type": "code",
   "execution_count": 34,
   "id": "39f777ea-76d3-4327-b3f9-c8a648b4a161",
   "metadata": {},
   "outputs": [
    {
     "data": {
      "text/plain": [
       "(10.0, 100.0, 1000.0, 10000.0)"
      ]
     },
     "execution_count": 34,
     "metadata": {},
     "output_type": "execute_result"
    }
   ],
   "source": [
    "1e+1,1e+2,1e+3,1e+4"
   ]
  },
  {
   "cell_type": "code",
   "execution_count": 35,
   "id": "bc2c5982-b201-4515-9bc7-71e282484f0c",
   "metadata": {},
   "outputs": [
    {
     "data": {
      "text/plain": [
       "(0.1, 0.01, 0.001)"
      ]
     },
     "execution_count": 35,
     "metadata": {},
     "output_type": "execute_result"
    }
   ],
   "source": [
    "1e-1,1e-2,1e-3"
   ]
  },
  {
   "cell_type": "code",
   "execution_count": 36,
   "id": "6d22a959-9e27-49fd-ad65-a3175287a954",
   "metadata": {},
   "outputs": [
    {
     "data": {
      "text/plain": [
       "0.024"
      ]
     },
     "execution_count": 36,
     "metadata": {},
     "output_type": "execute_result"
    }
   ],
   "source": [
    "24e-3\n",
    "# 24/1000"
   ]
  },
  {
   "cell_type": "markdown",
   "id": "8a7d5587-2c41-473b-8337-ddf37e9949be",
   "metadata": {},
   "source": [
    "- positive sign means multyply\n",
    "- negetive sign means divide"
   ]
  },
  {
   "cell_type": "markdown",
   "id": "a23cca0f-4991-4bbe-8cee-302ad98bb759",
   "metadata": {},
   "source": [
    "**STRING**"
   ]
  },
  {
   "cell_type": "markdown",
   "id": "d7e431fd-abb0-456a-bbc1-99196ae555a0",
   "metadata": {},
   "source": [
    "- strigs are used to represent the english characters generally\n",
    "- strings will represent in -single qoutes\"-double quotes\"-triple quotes\"-triple quotes\""
   ]
  },
  {
   "cell_type": "code",
   "execution_count": 39,
   "id": "3d543871-4011-4799-ab19-dd2b400b3a08",
   "metadata": {},
   "outputs": [
    {
     "data": {
      "text/plain": [
       "str"
      ]
     },
     "execution_count": 39,
     "metadata": {},
     "output_type": "execute_result"
    }
   ],
   "source": [
    "name='sibani'\n",
    "type(name)"
   ]
  },
  {
   "cell_type": "code",
   "execution_count": 41,
   "id": "2f85232e-7e29-4f2c-aa1b-424ae7dc7931",
   "metadata": {},
   "outputs": [
    {
     "data": {
      "text/plain": [
       "str"
      ]
     },
     "execution_count": 41,
     "metadata": {},
     "output_type": "execute_result"
    }
   ],
   "source": [
    "name1='sibani'\n",
    "type(name1)"
   ]
  },
  {
   "cell_type": "code",
   "execution_count": 42,
   "id": "a44bd73c-2eca-4c26-9103-327b03080eb7",
   "metadata": {},
   "outputs": [
    {
     "data": {
      "text/plain": [
       "str"
      ]
     },
     "execution_count": 42,
     "metadata": {},
     "output_type": "execute_result"
    }
   ],
   "source": [
    "name2='10'\n",
    "type(name2)"
   ]
  },
  {
   "cell_type": "code",
   "execution_count": 43,
   "id": "f1762434-edf2-4898-b4cb-082013037711",
   "metadata": {},
   "outputs": [
    {
     "data": {
      "text/plain": [
       "str"
      ]
     },
     "execution_count": 43,
     "metadata": {},
     "output_type": "execute_result"
    }
   ],
   "source": [
    "email_id='naresh@123'\n",
    "type(email_id)"
   ]
  },
  {
   "cell_type": "markdown",
   "id": "a900aa13-c626-4324-829d-c668305c42be",
   "metadata": {},
   "source": [
    "** RED COLOUR MEANS STRINFG **\n",
    "\n",
    "** GREEN COLOUR MEANS KEYWORDS **\n",
    "\n",
    "** BLACK COLOUR MEANS VARIABLE **"
   ]
  },
  {
   "cell_type": "code",
   "execution_count": 47,
   "id": "0336d0c4-5f73-4046-9711-582b6a037025",
   "metadata": {},
   "outputs": [],
   "source": [
    "name='python'\n",
    "name1='python'"
   ]
  },
  {
   "cell_type": "code",
   "execution_count": 48,
   "id": "755c0071-8442-4bae-9956-b5655d213a81",
   "metadata": {},
   "outputs": [
    {
     "data": {
      "text/plain": [
       "'python'"
      ]
     },
     "execution_count": 48,
     "metadata": {},
     "output_type": "execute_result"
    }
   ],
   "source": [
    "name"
   ]
  },
  {
   "cell_type": "markdown",
   "id": "2f333ea5-7f50-4c4c-893c-10dce5cff45d",
   "metadata": {},
   "source": [
    "- output always single quotes"
   ]
  },
  {
   "cell_type": "code",
   "execution_count": 50,
   "id": "6e4a0360-ff28-4e5e-b999-e71a2312ad4a",
   "metadata": {},
   "outputs": [
    {
     "name": "stdout",
     "output_type": "stream",
     "text": [
      "python\n"
     ]
    }
   ],
   "source": [
    "print(name)"
   ]
  },
  {
   "cell_type": "markdown",
   "id": "fcb8c912-8459-44a4-8643-a65c73ee2ce6",
   "metadata": {},
   "source": [
    "- whenever you print quotes wil not visible"
   ]
  },
  {
   "cell_type": "code",
   "execution_count": 52,
   "id": "dd42d1f4-c257-4385-b073-dbe9d209050b",
   "metadata": {},
   "outputs": [
    {
     "name": "stdout",
     "output_type": "stream",
     "text": [
      "i like 'python\n"
     ]
    }
   ],
   "source": [
    "name=\"i like 'python\"\n",
    "print(name)"
   ]
  },
  {
   "cell_type": "code",
   "execution_count": 53,
   "id": "8a7257ca-4531-4f92-a600-9e7a08017759",
   "metadata": {},
   "outputs": [
    {
     "name": "stdout",
     "output_type": "stream",
     "text": [
      "i like \"python\"\n"
     ]
    }
   ],
   "source": [
    "str='i like \"python\"'\n",
    "print(str)"
   ]
  },
  {
   "cell_type": "markdown",
   "id": "28ded2df-a3b8-4af7-9954-b2d3ea12f459",
   "metadata": {},
   "source": [
    "- Enter string in double quotes the highlited word in single quotes vice versa "
   ]
  },
  {
   "cell_type": "markdown",
   "id": "1bff34ad-e722-4cc5-af10-486acffe93b7",
   "metadata": {},
   "source": [
    "**TRIPLE QUOTES**"
   ]
  },
  {
   "cell_type": "markdown",
   "id": "fcba6679-4dc8-4432-bf9c-78469476da12",
   "metadata": {},
   "source": [
    "- triple quotes is not used for cording\n",
    "- triple quotes is used to provide the information in jupyter Notebook\n",
    "- in oder to provide the information in jupyter Notebook we will MARKDOWN\n",
    "- in VSCODE & PYCHARM there are no markdown option\n",
    "- so we use to write the information in triple quotes\n",
    "- the entire process is called DOC STRING"
   ]
  },
  {
   "cell_type": "code",
   "execution_count": 54,
   "id": "308d67c0-0d3e-43ec-a059-ceae8cec0bc9",
   "metadata": {},
   "outputs": [
    {
     "data": {
      "text/plain": [
       "'\\nHELLO\\nthis is a python code\\n'"
      ]
     },
     "execution_count": 54,
     "metadata": {},
     "output_type": "execute_result"
    }
   ],
   "source": [
    "\"\"\"\n",
    "HELLO\n",
    "this is a python code\n",
    "\"\"\""
   ]
  },
  {
   "cell_type": "markdown",
   "id": "7e262a9d-cdbd-4a9e-9f8c-e873a10f5f6a",
   "metadata": {},
   "source": [
    "**BOOLEAN**"
   ]
  },
  {
   "cell_type": "code",
   "execution_count": 55,
   "id": "6312d10d-7547-4465-b08e-be7cd868716f",
   "metadata": {},
   "outputs": [
    {
     "data": {
      "text/plain": [
       "bool"
      ]
     },
     "execution_count": 55,
     "metadata": {},
     "output_type": "execute_result"
    }
   ],
   "source": [
    "value=False\n",
    "type(value)"
   ]
  },
  {
   "cell_type": "code",
   "execution_count": 58,
   "id": "99970070-af29-44a7-bc95-f1230ee318c6",
   "metadata": {},
   "outputs": [
    {
     "data": {
      "text/plain": [
       "bool"
      ]
     },
     "execution_count": 58,
     "metadata": {},
     "output_type": "execute_result"
    }
   ],
   "source": [
    "value=False\n",
    "type(value)"
   ]
  },
  {
   "cell_type": "code",
   "execution_count": 59,
   "id": "62328a73-aa5d-45f3-8098-a3742739e23e",
   "metadata": {},
   "outputs": [],
   "source": [
    "true=\"TRUE\"\n",
    "false=\"FALSE\"\n",
    "# true and false are variables\n",
    "# type true is string \n",
    "# type false is boolean"
   ]
  },
  {
   "cell_type": "code",
   "execution_count": 6,
   "id": "15eb76aa-206b-4b8a-84f8-4565b96e64ac",
   "metadata": {},
   "outputs": [
    {
     "ename": "NameError",
     "evalue": "name 'true' is not defined",
     "output_type": "error",
     "traceback": [
      "\u001b[1;31m---------------------------------------------------------------------------\u001b[0m",
      "\u001b[1;31mNameError\u001b[0m                                 Traceback (most recent call last)",
      "Cell \u001b[1;32mIn[6], line 1\u001b[0m\n\u001b[1;32m----> 1\u001b[0m \u001b[38;5;28mtype\u001b[39m(true)\n",
      "\u001b[1;31mNameError\u001b[0m: name 'true' is not defined"
     ]
    }
   ],
   "source": [
    "type(true)"
   ]
  },
  {
   "cell_type": "code",
   "execution_count": 5,
   "id": "37470649-c98b-43e9-ba03-33be56f930bd",
   "metadata": {},
   "outputs": [
    {
     "ename": "NameError",
     "evalue": "name 'false' is not defined",
     "output_type": "error",
     "traceback": [
      "\u001b[1;31m---------------------------------------------------------------------------\u001b[0m",
      "\u001b[1;31mNameError\u001b[0m                                 Traceback (most recent call last)",
      "Cell \u001b[1;32mIn[5], line 1\u001b[0m\n\u001b[1;32m----> 1\u001b[0m \u001b[38;5;28mtype\u001b[39m(false)\n",
      "\u001b[1;31mNameError\u001b[0m: name 'false' is not defined"
     ]
    }
   ],
   "source": [
    "type(false)"
   ]
  },
  {
   "cell_type": "code",
   "execution_count": null,
   "id": "202fefaf-aa83-49fe-a025-3f0b5620f512",
   "metadata": {},
   "outputs": [],
   "source": []
  }
 ],
 "metadata": {
  "kernelspec": {
   "display_name": "Python 3 (ipykernel)",
   "language": "python",
   "name": "python3"
  },
  "language_info": {
   "codemirror_mode": {
    "name": "ipython",
    "version": 3
   },
   "file_extension": ".py",
   "mimetype": "text/x-python",
   "name": "python",
   "nbconvert_exporter": "python",
   "pygments_lexer": "ipython3",
   "version": "3.11.7"
  }
 },
 "nbformat": 4,
 "nbformat_minor": 5
}
