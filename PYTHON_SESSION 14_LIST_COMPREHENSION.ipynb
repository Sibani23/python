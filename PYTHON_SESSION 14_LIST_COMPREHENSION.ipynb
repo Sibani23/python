{
 "cells": [
  {
   "cell_type": "markdown",
   "id": "589818ec-fee3-444d-8b69-26f6e1466e30",
   "metadata": {},
   "source": [
    "- we can store the values output values by using append operations\n",
    "\n",
    "- we are taking empty list\n",
    "\n",
    "- we are interating through elements from a given list\n",
    "\n",
    "- the result we are appending in a new list"
   ]
  },
  {
   "cell_type": "code",
   "execution_count": 2,
   "id": "fdd24347-01f2-4d04-a14c-bba154bd0ef0",
   "metadata": {},
   "outputs": [
    {
     "data": {
      "text/plain": [
       "[0, 1, 4, 9, 16, 25, 36, 49, 64, 81]"
      ]
     },
     "execution_count": 2,
     "metadata": {},
     "output_type": "execute_result"
    }
   ],
   "source": [
    "squre_list=[]\n",
    "for i in range(10):\n",
    "    squre_list.append(i*i)\n",
    "squre_list"
   ]
  },
  {
   "cell_type": "markdown",
   "id": "bff178c2-1f1b-43b2-807b-b5e0c2fc0139",
   "metadata": {},
   "source": [
    "- there are 3 lines are in the process\n",
    "\n",
    "- the 3 lines we can make into a single line\n",
    "\n",
    "- this is caled as LIST COMPREHENSION"
   ]
  },
  {
   "cell_type": "markdown",
   "id": "dcc0b86b-84de-4981-a4e5-24d41fa95ab6",
   "metadata": {},
   "source": [
    "$pattern - 1$"
   ]
  },
  {
   "cell_type": "markdown",
   "id": "f05d824f-3f7b-4815-960a-ece867528d8d",
   "metadata": {},
   "source": [
    "**only for loop**"
   ]
  },
  {
   "cell_type": "code",
   "execution_count": null,
   "id": "ac7d4c90-c2cb-4886-979b-7b98e638377c",
   "metadata": {},
   "outputs": [],
   "source": [
    "# syntax\n",
    "# [<output> <for loop>]"
   ]
  },
  {
   "cell_type": "code",
   "execution_count": 7,
   "id": "17633821-6206-4665-90ed-16ed1f9349b9",
   "metadata": {},
   "outputs": [
    {
     "data": {
      "text/plain": [
       "[0, 1, 4, 9, 16, 25, 36, 49, 64, 81]"
      ]
     },
     "execution_count": 7,
     "metadata": {},
     "output_type": "execute_result"
    }
   ],
   "source": [
    "squre_list=[]\n",
    "for i in range(10):\n",
    "    squre_list.append(i*i)\n",
    "    \n",
    "squre_list\n",
    "\n",
    "# q1) what is the output ? i*i\n",
    "# q2) what is the output list name ? squre_list\n",
    "# q3) what is the for loop ? for i in range(10)\n",
    "# q4) [<output>  <for loop>]\n",
    "sq_list=[i*i for i in range(10)]"
   ]
  },
  {
   "cell_type": "code",
   "execution_count": null,
   "id": "97f31a23-0162-4e07-874e-f588f88b13ee",
   "metadata": {},
   "outputs": [],
   "source": [
    "#Q2) l1=['hyd','mumbai','chennai','blr']\n",
    "# upper_list= ['Hyd','Mumbai','Chennai','Blr']\n",
    "\n",
    "#Q3) l2=['Hyd','Mumbai','Chennai','Blr']\n",
    "# lower_list=['hyd','mumbai','chennai','blr']"
   ]
  },
  {
   "cell_type": "code",
   "execution_count": 8,
   "id": "7e759863-2597-48d2-8cf6-b60f2958f4da",
   "metadata": {},
   "outputs": [
    {
     "data": {
      "text/plain": [
       "['HYD', 'MUMBZI', 'CHENAI', 'BLR']"
      ]
     },
     "execution_count": 8,
     "metadata": {},
     "output_type": "execute_result"
    }
   ],
   "source": [
    "#q2) l1=['hyd','mumbzi','chenai','blr']\n",
    "# upper_list=['hyd','mumbzi','chenai','blr']\n",
    "l1=['hyd','mumbzi','chenai','blr']\n",
    "upper_list=[]\n",
    "for i in l1:\n",
    "    upper_list.append(i.upper())\n",
    "upper_list   "
   ]
  },
  {
   "cell_type": "code",
   "execution_count": 2,
   "id": "d02be480-7897-42bf-aa31-826ba02b9852",
   "metadata": {},
   "outputs": [
    {
     "data": {
      "text/plain": [
       "['HYD', 'MUMBZI', 'CHENAI', 'BLR']"
      ]
     },
     "execution_count": 2,
     "metadata": {},
     "output_type": "execute_result"
    }
   ],
   "source": [
    "# q1) what is the output ? i*i\n",
    "# q2) what is the output list name ? squre_list\n",
    "# q3) what is the for loop ? for i in range(10)\n",
    "# q4) [<output>  <for loop>]\n",
    "l1=['hyd','mumbzi','chenai','blr']\n",
    "upper_list=[i.upper() for i in l1]\n",
    "upper_list"
   ]
  },
  {
   "cell_type": "code",
   "execution_count": 3,
   "id": "d8bd3df6-ac3d-458e-99e1-ca81a176c6be",
   "metadata": {},
   "outputs": [
    {
     "data": {
      "text/plain": [
       "['hyd', 'mumbai', 'chennai', 'blr']"
      ]
     },
     "execution_count": 3,
     "metadata": {},
     "output_type": "execute_result"
    }
   ],
   "source": [
    "#Q3) l2=['Hyd','Mumbai','Chennai','Blr']\n",
    "# lower_list=['hyd','mumbai','chennai','blr']\n",
    "l2=['Hyd','Mumbai','Chennai','Blr']\n",
    "lower_list=[i.lower() for i in l2]\n",
    "lower_list"
   ]
  },
  {
   "cell_type": "code",
   "execution_count": 12,
   "id": "b3fec2cd-8383-4b35-9c8c-8502cf5d4dd9",
   "metadata": {},
   "outputs": [
    {
     "name": "stdout",
     "output_type": "stream",
     "text": [
      "0\n",
      "1\n",
      "2\n",
      "3\n"
     ]
    }
   ],
   "source": [
    "#q4)  l2=['Hyd','Mumbzi','Chenai','Blr']\n",
    "# saum of the indexes of all elements\n",
    "\n",
    "l2=['hyd','mumbzi','chenai','blr']\n",
    "for i in l2:\n",
    "    print(l2.index(i))"
   ]
  },
  {
   "cell_type": "code",
   "execution_count": 4,
   "id": "feb06d1a-1a5f-4f75-b575-7f1fe47f6575",
   "metadata": {},
   "outputs": [
    {
     "data": {
      "text/plain": [
       "6"
      ]
     },
     "execution_count": 4,
     "metadata": {},
     "output_type": "execute_result"
    }
   ],
   "source": [
    "l2=['Hyd','Mumbai','Chennai','Blr']\n",
    "idx_list=[l2.index(i) for i in l2]\n",
    "sum(idx_list)"
   ]
  },
  {
   "cell_type": "code",
   "execution_count": null,
   "id": "d209b960-0e2d-49a8-9196-4d493e6daa4b",
   "metadata": {},
   "outputs": [],
   "source": [
    "   1 l1=['Hyd', 'Mumbai', 'Chennai', 'Blr']\n",
    "      2 Sum_List=[i for i in range(len(l1))]\n",
    "----> 3 sum(Sum_List)\n",
    "      4 Sum_List\n",
    "\n",
    "TypeError: 'list' object is not callable"
   ]
  },
  {
   "cell_type": "code",
   "execution_count": 5,
   "id": "7efebc45-3b03-4bd3-9700-78021ff10b1e",
   "metadata": {},
   "outputs": [
    {
     "ename": "IndentationError",
     "evalue": "unexpected indent (4292266541.py, line 5)",
     "output_type": "error",
     "traceback": [
      "\u001b[1;36m  Cell \u001b[1;32mIn[5], line 5\u001b[1;36m\u001b[0m\n\u001b[1;33m    print(val)\u001b[0m\n\u001b[1;37m    ^\u001b[0m\n\u001b[1;31mIndentationError\u001b[0m\u001b[1;31m:\u001b[0m unexpected indent\n"
     ]
    }
   ],
   "source": [
    "# Fail\n",
    "l2=['Hyd','Mumbai','Chennai','Blr']\n",
    "for i in l2:\n",
    " val=l2.index(i)\n",
    "    print(val)\n",
    "idx_list=[val=l2.index(i) for i in l2]    "
   ]
  },
  {
   "cell_type": "markdown",
   "id": "eb11fb7f-1a1e-44d6-9cd7-4b31ea4e85f1",
   "metadata": {},
   "source": [
    "- making empty list will not works in list comprehenion\n",
    "\n",
    "- intialization will not works in list comprehenion\n",
    "\n",
    "- assignment operation also not works"
   ]
  },
  {
   "cell_type": "markdown",
   "id": "7d9a92c0-2dd1-4869-9ee0-a503af97f6a9",
   "metadata": {},
   "source": [
    "$pattern-2$\n",
    "\n",
    "**forloop - if condition**"
   ]
  },
  {
   "cell_type": "code",
   "execution_count": null,
   "id": "b719bb96-5545-42ce-8dfe-4439f8962aa2",
   "metadata": {},
   "outputs": [],
   "source": [
    "# syntax\n",
    "\n",
    "#[<output>  <forloop>  <if condition>]"
   ]
  },
  {
   "cell_type": "code",
   "execution_count": 6,
   "id": "7fc65978-9d1a-49a8-b833-f39d0deb445a",
   "metadata": {},
   "outputs": [
    {
     "name": "stdout",
     "output_type": "stream",
     "text": [
      "Mumbai\n",
      "Chennai\n"
     ]
    }
   ],
   "source": [
    "# Q5)l1=['Hyd','Mumbai','Chennai','blr']\n",
    "# ans=['Mumbai','Chennai'] \n",
    "# we want lements which are len of element >4\n",
    "l1=['Hyd','Mumbai','Chennai','blr']\n",
    "for i in l1:\n",
    "    if len(i)>4:\n",
    "        print(i)"
   ]
  },
  {
   "cell_type": "code",
   "execution_count": 19,
   "id": "3fb8f654-2ce4-4e6b-aefa-8390c87c2a8d",
   "metadata": {},
   "outputs": [
    {
     "data": {
      "text/plain": [
       "['Mumbzi', 'chenai']"
      ]
     },
     "execution_count": 19,
     "metadata": {},
     "output_type": "execute_result"
    }
   ],
   "source": [
    "# q1) what is the output: i\n",
    "# q2) what is the if condition: if len(i)>4\n",
    "# q3) what is the for loop ? for i in l1\n",
    "# q4) [<output>  <for loop>  <if condition>]\n",
    "\n",
    "l1=['Hyd','Mumbzi','chenai','blr']\n",
    "op=[i for i in l1 if len(i)>4]\n",
    "op"
   ]
  },
  {
   "cell_type": "code",
   "execution_count": null,
   "id": "ec0ebb8d-1863-4cf7-a49a-8bbb7ba258ae",
   "metadata": {},
   "outputs": [],
   "source": [
    "# Q3)l1=['Hyd','Mum#bai','Chen#nai','blr']\n",
    "# ans=['Mum#bai'',Chen#nai'] \n",
    "# we want lements which are having '#'\n",
    "# Q5)l1=['Hyd','Mumbai','chennai','blr']\n",
    "# ans= ['Hyd','Mumbai']\n",
    "# we want lements which are having first letter capital\n",
    "# Q6)l1=['Hyd','Mum#bai','Chen#nai','blr']\n",
    "# ans_#=['Mum#bai'',Chen#nai'] for loop and if cond\n",
    "# ans_without_#=['Hyd'','blr'] \n",
    "# we want lements which are having '#' for loop if cond\n",
    "# Q9) str1='virat.kohli@rcb.com, Rohit.sharma@mi.co, KL.Rahul@lucknow.com'\n",
    "# Firstname=[] second name=[] cname =[]\n",
    "# append first name should be in first name list\n",
    "# second name shoul be in second name list\n",
    "# thirs name will be in thirs name list"
   ]
  },
  {
   "cell_type": "code",
   "execution_count": 7,
   "id": "8e0a83e9-3912-4bd9-921d-5e32c5511aaf",
   "metadata": {},
   "outputs": [
    {
     "data": {
      "text/plain": [
       "['Mum#bai', 'Chen#nai']"
      ]
     },
     "execution_count": 7,
     "metadata": {},
     "output_type": "execute_result"
    }
   ],
   "source": [
    "# Q6)l1=['Hyd','Mum#bai','Chen#nai','blr']\n",
    "# ans=['Mum#bai'',Chen#nai'] \n",
    "# we want lements which are having '#'\n",
    "l1=['Hyd','Mum#bai','Chen#nai','blr']\n",
    "op=[]\n",
    "for i in l1:\n",
    "    if '#' in i:\n",
    "        op.append(i)\n",
    "op"
   ]
  },
  {
   "cell_type": "code",
   "execution_count": 8,
   "id": "edb3ee82-1ddd-4317-bfdf-3cdc2a4ecc44",
   "metadata": {},
   "outputs": [
    {
     "data": {
      "text/plain": [
       "['Hyd', 'blr']"
      ]
     },
     "execution_count": 8,
     "metadata": {},
     "output_type": "execute_result"
    }
   ],
   "source": [
    "op_not_in_ash=[i for i in l1 if '#' not in i]\n",
    "op_not_in_ash"
   ]
  },
  {
   "cell_type": "code",
   "execution_count": 9,
   "id": "ff2a8c85-685a-4f9c-8828-ea1ebecaad7e",
   "metadata": {},
   "outputs": [
    {
     "data": {
      "text/plain": [
       "['Hyd']"
      ]
     },
     "execution_count": 9,
     "metadata": {},
     "output_type": "execute_result"
    }
   ],
   "source": [
    "l1=['Hyd','Mum#bai','Chen#nai','blr']\n",
    "op_title=[i for i in l1 if i.istitle()]\n",
    "op_title"
   ]
  },
  {
   "cell_type": "code",
   "execution_count": 10,
   "id": "da91e1b6-7f6a-4172-aad8-efa903c2b1f8",
   "metadata": {},
   "outputs": [
    {
     "data": {
      "text/plain": [
       "['virat', ' Rohit', ' KL']"
      ]
     },
     "execution_count": 10,
     "metadata": {},
     "output_type": "execute_result"
    }
   ],
   "source": [
    "# Q9) str1='virat.kohli@rcb.com, Rohit.sharma@mi.co, KL.Rahul@lucknow.com'\n",
    "# Firstname=[] second name=[] cname =[]\n",
    "# append first name should be in first name list\n",
    "# second name shoul be in second name list\n",
    "# thirs name will be in thirs name list\n",
    "\n",
    "# Firstname\n",
    "str1='virat.kohli@rcb.com, Rohit.sharma@mi.co, KL.Rahul@lucknow.com'\n",
    "list1=str1.split(',')\n",
    "list1[0][:list1[0].index('.')] # Virat\n",
    "list1[1][:list1[1].index('.')] # Rohit\n",
    "list1[2][:list1[2].index('.')] # KL\n",
    "# list1[i][:<first_dot_index>]\n",
    "#list1[i][:list1[i].index('.')]\n",
    "\n",
    "f_name=[]\n",
    "for i in list1:\n",
    "    f_name.append(i[:i.index('.')])\n",
    "    \n",
    "[i[:i.index('.')] for i in list1]"
   ]
  },
  {
   "cell_type": "code",
   "execution_count": 11,
   "id": "8904c00c-e0e5-4103-87c4-1fe5c1239647",
   "metadata": {},
   "outputs": [
    {
     "data": {
      "text/plain": [
       "('virat.kohli@rcb.com', ' Rohit.sharma@mi.co', ' KL.Rahul@lucknow.com')"
      ]
     },
     "execution_count": 11,
     "metadata": {},
     "output_type": "execute_result"
    }
   ],
   "source": [
    "list1[0],list1[1],list1[2]"
   ]
  },
  {
   "cell_type": "code",
   "execution_count": 12,
   "id": "03f2e400-9229-4191-95f1-542b76dcb35e",
   "metadata": {},
   "outputs": [
    {
     "data": {
      "text/plain": [
       "5"
      ]
     },
     "execution_count": 12,
     "metadata": {},
     "output_type": "execute_result"
    }
   ],
   "source": [
    "list1[0].index('.')"
   ]
  },
  {
   "cell_type": "code",
   "execution_count": 13,
   "id": "6a452aaf-f101-44d6-b892-8c1efb6f07f4",
   "metadata": {},
   "outputs": [
    {
     "data": {
      "text/plain": [
       "' KL'"
      ]
     },
     "execution_count": 13,
     "metadata": {},
     "output_type": "execute_result"
    }
   ],
   "source": [
    "str1='virat.kohli@rcb.com, Rohit.sharma@mi.co, KL.Rahul@lucknow.com'\n",
    "list1=str1.split(',')\n",
    "list1[0].index('.')\n",
    "list1[2][:list1[2].index('.')]"
   ]
  },
  {
   "cell_type": "code",
   "execution_count": 14,
   "id": "1d70c975-a563-44b8-980b-7dbc26a7e5fc",
   "metadata": {},
   "outputs": [
    {
     "data": {
      "text/plain": [
       "['virat.kohli@rcb.com', ' Rohit.sharma@mi.co', ' KL.Rahul@lucknow.com']"
      ]
     },
     "execution_count": 14,
     "metadata": {},
     "output_type": "execute_result"
    }
   ],
   "source": [
    "str1='virat.kohli@rcb.com, Rohit.sharma@mi.co, KL.Rahul@lucknow.com'\n",
    "list1=str1.split(',')\n",
    "list1"
   ]
  },
  {
   "cell_type": "code",
   "execution_count": 15,
   "id": "c8902849-dffb-4d48-b01b-d67fa775a046",
   "metadata": {},
   "outputs": [
    {
     "data": {
      "text/plain": [
       "'virat'"
      ]
     },
     "execution_count": 15,
     "metadata": {},
     "output_type": "execute_result"
    }
   ],
   "source": [
    "list1[0][:5]\n",
    "# what is 5: index of first ."
   ]
  },
  {
   "cell_type": "code",
   "execution_count": 17,
   "id": "5e960d5b-1769-4c64-9627-cfd7ac5ae5b5",
   "metadata": {},
   "outputs": [
    {
     "ename": "TypeError",
     "evalue": "list indices must be integers or slices, not str",
     "output_type": "error",
     "traceback": [
      "\u001b[1;31m---------------------------------------------------------------------------\u001b[0m",
      "\u001b[1;31mTypeError\u001b[0m                                 Traceback (most recent call last)",
      "Cell \u001b[1;32mIn[17], line 7\u001b[0m\n\u001b[0;32m      3\u001b[0m name1[:list1[\u001b[38;5;241m0\u001b[39m]\u001b[38;5;241m.\u001b[39mindex(\u001b[38;5;124m'\u001b[39m\u001b[38;5;124m.\u001b[39m\u001b[38;5;124m'\u001b[39m)]\n\u001b[0;32m      5\u001b[0m list1[\u001b[38;5;241m2\u001b[39m][:list1[\u001b[38;5;241m2\u001b[39m]\u001b[38;5;241m.\u001b[39mindex(\u001b[38;5;124m'\u001b[39m\u001b[38;5;124m.\u001b[39m\u001b[38;5;124m'\u001b[39m)]\n\u001b[1;32m----> 7\u001b[0m list1[i][:list1[i]\u001b[38;5;241m.\u001b[39mindex(\u001b[38;5;124m'\u001b[39m\u001b[38;5;124m.\u001b[39m\u001b[38;5;124m'\u001b[39m)]\n",
      "\u001b[1;31mTypeError\u001b[0m: list indices must be integers or slices, not str"
     ]
    }
   ],
   "source": [
    "name1=list1[0]\n",
    "ix=list1[0].index('.')\n",
    "name1[:list1[0].index('.')]\n",
    "\n",
    "list1[2][:list1[2].index('.')]\n",
    "\n",
    "list1[i][:list1[i].index('.')]"
   ]
  },
  {
   "cell_type": "code",
   "execution_count": 18,
   "id": "eb60c9f9-f4ff-4ea9-8192-e2540c278651",
   "metadata": {},
   "outputs": [
    {
     "name": "stdout",
     "output_type": "stream",
     "text": [
      "virat\n",
      " Rohit\n",
      " KL\n"
     ]
    }
   ],
   "source": [
    "for i in range(len(list1)):\n",
    "    print(list1[i][:list1[i].index('.')])"
   ]
  },
  {
   "cell_type": "code",
   "execution_count": 19,
   "id": "296b5610-8306-4131-b1f3-afafd8407f53",
   "metadata": {},
   "outputs": [
    {
     "name": "stdout",
     "output_type": "stream",
     "text": [
      "virat\n",
      " Rohit\n",
      " KL\n"
     ]
    }
   ],
   "source": [
    "for i in list1:\n",
    "    print(i[:i.index('.')])"
   ]
  },
  {
   "cell_type": "markdown",
   "id": "a7166788-8a03-424b-9a7f-bae6df117893",
   "metadata": {},
   "source": [
    "$Pattern − 3$\n",
    "\n",
    "**if-else**"
   ]
  },
  {
   "cell_type": "code",
   "execution_count": null,
   "id": "9d601a44-c73d-4977-a2dd-c8db5d809a86",
   "metadata": {},
   "outputs": [],
   "source": [
    "[<output> <forloop>] : for loop\n",
    "[<output> <forloop> <if condition>]: for-if\n",
    "[<if_output> <if> <else> <else_output> <for>] : if-else"
   ]
  },
  {
   "cell_type": "markdown",
   "id": "a21482f6-6786-4c57-8646-9cfb6f29c26a",
   "metadata": {},
   "source": [
    "**even-odd**"
   ]
  },
  {
   "cell_type": "code",
   "execution_count": 29,
   "id": "62c5161a-5571-4708-b7c3-6a7fc131b80b",
   "metadata": {},
   "outputs": [],
   "source": [
    "even_list,odd_list=[],[]\n",
    "for i in range(1,20):\n",
    "    if i%2==0:\n",
    "        even_list.append(f\"even:{i}\")\n",
    "    else:\n",
    "        odd_list.append(f\"odd:{i}\")    "
   ]
  },
  {
   "cell_type": "code",
   "execution_count": 30,
   "id": "de022ca8-291c-46dd-91b6-5f4dedbd8ca5",
   "metadata": {},
   "outputs": [
    {
     "data": {
      "text/plain": [
       "(['even:2',\n",
       "  'even:4',\n",
       "  'even:6',\n",
       "  'even:8',\n",
       "  'even:10',\n",
       "  'even:12',\n",
       "  'even:14',\n",
       "  'even:16',\n",
       "  'even:18'],\n",
       " ['odd:1',\n",
       "  'odd:3',\n",
       "  'odd:5',\n",
       "  'odd:7',\n",
       "  'odd:9',\n",
       "  'odd:11',\n",
       "  'odd:13',\n",
       "  'odd:15',\n",
       "  'odd:17',\n",
       "  'odd:19'])"
      ]
     },
     "execution_count": 30,
     "metadata": {},
     "output_type": "execute_result"
    }
   ],
   "source": [
    "even_list,odd_list"
   ]
  },
  {
   "cell_type": "code",
   "execution_count": 31,
   "id": "a419018e-6640-4320-9ba6-2c84cbf16e61",
   "metadata": {},
   "outputs": [
    {
     "data": {
      "text/plain": [
       "['odd:1',\n",
       " 'even:2',\n",
       " 'odd:3',\n",
       " 'even:4',\n",
       " 'odd:5',\n",
       " 'even:6',\n",
       " 'odd:7',\n",
       " 'even:8',\n",
       " 'odd:9',\n",
       " 'even:10',\n",
       " 'odd:11',\n",
       " 'even:12',\n",
       " 'odd:13',\n",
       " 'even:14',\n",
       " 'odd:15',\n",
       " 'even:16',\n",
       " 'odd:17',\n",
       " 'even:18',\n",
       " 'odd:19']"
      ]
     },
     "execution_count": 31,
     "metadata": {},
     "output_type": "execute_result"
    }
   ],
   "source": [
    "op_list=[]\n",
    "for i in range(1,20):\n",
    "    if i%2==0:\n",
    "        op_list.append(f\"even:{i}\")\n",
    "    else:\n",
    "        op_list.append(f\"odd:{i}\")\n",
    "op_list\n",
    "\n",
    "#[<if_op> <if_con> <else> <else_op> <for_loop>]\n",
    "[f\"even:{i}\" if i%2==0 else f\"odd:{i}\" for i in range(1,20)]"
   ]
  },
  {
   "cell_type": "code",
   "execution_count": null,
   "id": "bac908aa-c8ac-4050-a510-8e4fca76de13",
   "metadata": {},
   "outputs": [],
   "source": []
  }
 ],
 "metadata": {
  "kernelspec": {
   "display_name": "Python 3 (ipykernel)",
   "language": "python",
   "name": "python3"
  },
  "language_info": {
   "codemirror_mode": {
    "name": "ipython",
    "version": 3
   },
   "file_extension": ".py",
   "mimetype": "text/x-python",
   "name": "python",
   "nbconvert_exporter": "python",
   "pygments_lexer": "ipython3",
   "version": "3.11.7"
  }
 },
 "nbformat": 4,
 "nbformat_minor": 5
}
