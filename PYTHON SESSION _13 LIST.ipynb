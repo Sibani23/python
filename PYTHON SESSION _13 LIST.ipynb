{
 "cells": [
  {
   "cell_type": "markdown",
   "id": "a406155c-649e-492f-96a6-74cd930ba030",
   "metadata": {},
   "source": [
    "- representation\n",
    "- type\n",
    "- len\n",
    "- max\n",
    "- min\n",
    "- sorted\n",
    "- reversed\n",
    "- in\n",
    "- for loop in\n",
    "- index\n",
    "- for loop index\n",
    "- mutable\n",
    "- concantenation\n",
    "- slicing\n",
    "- method"
   ]
  },
  {
   "cell_type": "markdown",
   "id": "024724bd-2c9a-4897-8578-26aa4ecfde55",
   "metadata": {},
   "source": [
    "**representation**"
   ]
  },
  {
   "cell_type": "markdown",
   "id": "28c01ad1-f191-44df-b8ab-96f2ca655416",
   "metadata": {},
   "source": [
    "- string representation with quotes\n",
    "- list representation with code bracket[]"
   ]
  },
  {
   "cell_type": "code",
   "execution_count": 7,
   "id": "d38aa9a1-70d9-4ec3-9924-94ac2c16300f",
   "metadata": {},
   "outputs": [
    {
     "data": {
      "text/plain": [
       "[1, 2, 3, 4]"
      ]
     },
     "execution_count": 7,
     "metadata": {},
     "output_type": "execute_result"
    }
   ],
   "source": [
    "l1=[1,2,3,4]\n",
    "l1"
   ]
  },
  {
   "cell_type": "code",
   "execution_count": 8,
   "id": "dadb2c3c-6f15-4637-84d4-51149243d33b",
   "metadata": {},
   "outputs": [
    {
     "data": {
      "text/plain": [
       "list"
      ]
     },
     "execution_count": 8,
     "metadata": {},
     "output_type": "execute_result"
    }
   ],
   "source": [
    "type(l1)"
   ]
  },
  {
   "cell_type": "code",
   "execution_count": 1,
   "id": "48ceaf77-9c27-4c84-9535-a6bfeb148548",
   "metadata": {},
   "outputs": [
    {
     "data": {
      "text/plain": [
       "['A', 'B', 'C', 'D']"
      ]
     },
     "execution_count": 1,
     "metadata": {},
     "output_type": "execute_result"
    }
   ],
   "source": [
    "l2=['A','B','C','D']\n",
    "l2"
   ]
  },
  {
   "cell_type": "code",
   "execution_count": 2,
   "id": "d796b2aa-6da6-4157-852d-07021a8c42d1",
   "metadata": {},
   "outputs": [
    {
     "data": {
      "text/plain": [
       "[1, 2, 3, 4, 'A', 'B', 'C', 'D']"
      ]
     },
     "execution_count": 2,
     "metadata": {},
     "output_type": "execute_result"
    }
   ],
   "source": [
    "l3=[1,2,3,4,'A','B','C','D']\n",
    "l3"
   ]
  },
  {
   "cell_type": "code",
   "execution_count": 11,
   "id": "914fbcad-9b6d-448a-9562-44ac98d97806",
   "metadata": {},
   "outputs": [
    {
     "data": {
      "text/plain": [
       "[1, 2, 3, 'Apple', 'Ball', 'Cat', True, False]"
      ]
     },
     "execution_count": 11,
     "metadata": {},
     "output_type": "execute_result"
    }
   ],
   "source": [
    "l4=[1,2,3,'Apple','Ball','Cat', True,False]\n",
    "l4"
   ]
  },
  {
   "cell_type": "code",
   "execution_count": 3,
   "id": "363d6ec9-93e3-45ae-946e-9d78652aab1b",
   "metadata": {},
   "outputs": [
    {
     "data": {
      "text/plain": [
       "['naresh it']"
      ]
     },
     "execution_count": 3,
     "metadata": {},
     "output_type": "execute_result"
    }
   ],
   "source": [
    "name='naresh it'\n",
    "l5=[name]\n",
    "l5"
   ]
  },
  {
   "cell_type": "code",
   "execution_count": 6,
   "id": "28c7e7ea-95bf-42b2-b990-5f2f75be7176",
   "metadata": {},
   "outputs": [
    {
     "data": {
      "text/plain": [
       "[100, 200, 300]"
      ]
     },
     "execution_count": 6,
     "metadata": {},
     "output_type": "execute_result"
    }
   ],
   "source": [
    "l6=[100,200,300]\n",
    "l6"
   ]
  },
  {
   "cell_type": "code",
   "execution_count": 7,
   "id": "a81777e2-b509-4416-a9c0-c51ba7e40a4a",
   "metadata": {},
   "outputs": [
    {
     "ename": "SyntaxError",
     "evalue": "cannot assign to literal here. Maybe you meant '==' instead of '='? (4020256508.py, line 1)",
     "output_type": "error",
     "traceback": [
      "\u001b[1;36m  Cell \u001b[1;32mIn[7], line 1\u001b[1;36m\u001b[0m\n\u001b[1;33m    17=[100,'Apple',['A',2]]\u001b[0m\n\u001b[1;37m    ^\u001b[0m\n\u001b[1;31mSyntaxError\u001b[0m\u001b[1;31m:\u001b[0m cannot assign to literal here. Maybe you meant '==' instead of '='?\n"
     ]
    }
   ],
   "source": [
    "17=[100,'Apple',['A',2]]\n",
    "17"
   ]
  },
  {
   "cell_type": "code",
   "execution_count": null,
   "id": "d38ccb0b-1a24-4e46-ae04-79c9a73e7e49",
   "metadata": {},
   "outputs": [],
   "source": [
    "l1=[1,2,3,4]\n",
    "l2=['A','B','C','D']\n",
    "l3=[1,2,3,4,'A','B','C','D']\n",
    "l4=[1,2,3,'Apple','Ball','Cat',True,False]\n",
    "name='naresh it'\n",
    "l5=[name]\n",
    "l6=[100,100,100]\n",
    "l7=[100,'Apple',['A',2]]"
   ]
  },
  {
   "cell_type": "markdown",
   "id": "71433ebd-1940-4ea0-bc00-23ec4725d9b0",
   "metadata": {},
   "source": [
    "- list are array of elements\n",
    "- list elements are heterogeneous all the data types we can represent in a list\n",
    "- list elements are allowed duplicates\n",
    "- list in list is possible\n",
    "- variable assignment also possible in the list"
   ]
  },
  {
   "cell_type": "code",
   "execution_count": null,
   "id": "25e7b37d-df71-4bdb-b4f1-0e5309e682f6",
   "metadata": {},
   "outputs": [],
   "source": [
    "- len\n",
    "- max\n",
    "- min\n",
    "- sorted\n",
    "- reversed"
   ]
  },
  {
   "cell_type": "code",
   "execution_count": null,
   "id": "2e653feb-983d-4e28-b96f-8975f92e4e44",
   "metadata": {},
   "outputs": [],
   "source": [
    "l1=[1,2,3,4]\n",
    "l2=['A','B','C','D']\n",
    "l3=[1,2,3,4,'A','B','C','D']\n",
    "l4=[1,2,3,'Apple','Ball','Cat',True,False]\n",
    "name='naresh it'\n",
    "l5=[name]\n",
    "l6=[100,100,100]\n",
    "l7=[100,'Apple',['A',2]]\n",
    "len()\n",
    "max()\n",
    "min()\n",
    "sorted()\n",
    "reversed()"
   ]
  },
  {
   "cell_type": "code",
   "execution_count": 8,
   "id": "5b65568e-aef2-4e00-8afb-51df6ad727d6",
   "metadata": {},
   "outputs": [
    {
     "data": {
      "text/plain": [
       "<list_reverseiterator at 0x1dd374cde10>"
      ]
     },
     "execution_count": 8,
     "metadata": {},
     "output_type": "execute_result"
    }
   ],
   "source": [
    "l4=[1,2,3,'Apple','Ball','Cat',True,False]\n",
    "reversed(l4)"
   ]
  },
  {
   "cell_type": "code",
   "execution_count": 9,
   "id": "a89713f8-352a-45c5-8c4a-ef8f6bbf1062",
   "metadata": {},
   "outputs": [
    {
     "name": "stdout",
     "output_type": "stream",
     "text": [
      "False\n",
      "True\n",
      "Cat\n",
      "Ball\n",
      "Apple\n",
      "3\n",
      "2\n",
      "1\n"
     ]
    }
   ],
   "source": [
    "for i in reversed(l4):\n",
    "    print(i)"
   ]
  },
  {
   "cell_type": "code",
   "execution_count": 10,
   "id": "1961c049-7358-4ccb-ac79-c1cf7b23e5b9",
   "metadata": {},
   "outputs": [
    {
     "data": {
      "text/plain": [
       "[False, True, 'Cat', 'Ball', 'Apple', 3, 2, 1]"
      ]
     },
     "execution_count": 10,
     "metadata": {},
     "output_type": "execute_result"
    }
   ],
   "source": [
    "l4=[1,2,3,'Apple','Ball','Cat',True,False]\n",
    "list(reversed(l4))"
   ]
  },
  {
   "cell_type": "code",
   "execution_count": 11,
   "id": "fd3bc04f-f68b-412a-a962-e6e8ea29439b",
   "metadata": {},
   "outputs": [
    {
     "data": {
      "text/plain": [
       "'banu'"
      ]
     },
     "execution_count": 11,
     "metadata": {},
     "output_type": "execute_result"
    }
   ],
   "source": [
    "name=['adithya','aadithya','banu']\n",
    "max(name)\n",
    "# First compare all first letters\n",
    "# If all first letters ascii values same\n",
    "# then compare with second letters\n",
    "# Continue the process"
   ]
  },
  {
   "cell_type": "code",
   "execution_count": 12,
   "id": "00797517-05f3-471c-a9de-9e2bbafd85c5",
   "metadata": {},
   "outputs": [
    {
     "data": {
      "text/plain": [
       "3"
      ]
     },
     "execution_count": 12,
     "metadata": {},
     "output_type": "execute_result"
    }
   ],
   "source": [
    "list1=['Apple',\n",
    "       1,\n",
    "      ['Cherry','Banana']\n",
    "      ]\n",
    "len(list1)"
   ]
  },
  {
   "cell_type": "code",
   "execution_count": null,
   "id": "1788aa2d-c4c3-40ff-8934-da4c0b2d67b8",
   "metadata": {},
   "outputs": [],
   "source": [
    "list1=[65,'A']\n",
    "max(list1) # error\n",
    "\n",
    "# same data type only comparable"
   ]
  },
  {
   "cell_type": "markdown",
   "id": "c0c57914-a401-42eb-a710-d5d70f68d779",
   "metadata": {},
   "source": [
    "**index**"
   ]
  },
  {
   "cell_type": "code",
   "execution_count": null,
   "id": "def01b45-a931-4d4b-8b98-2c490e986ea3",
   "metadata": {},
   "outputs": [],
   "source": [
    "l4=[1,2,3,'Apple','Ball','Cat',True,False]\n",
    "\n",
    "#-8   -7   -6   -5   -4   -3   -2   -1\n",
    "#1     2    3  Apple Ball Cat True False\n",
    "#0     1    2    3    4    5    6    7"
   ]
  },
  {
   "cell_type": "code",
   "execution_count": 14,
   "id": "134ecba3-1309-4a0c-930e-76da94f18dc7",
   "metadata": {},
   "outputs": [
    {
     "data": {
      "text/plain": [
       "('Apple', 'Apple')"
      ]
     },
     "execution_count": 14,
     "metadata": {},
     "output_type": "execute_result"
    }
   ],
   "source": [
    "l4[3],l4[-5]"
   ]
  },
  {
   "cell_type": "code",
   "execution_count": 15,
   "id": "5a64c959-32b5-4d69-af6d-911483357de8",
   "metadata": {},
   "outputs": [
    {
     "data": {
      "text/plain": [
       "1"
      ]
     },
     "execution_count": 15,
     "metadata": {},
     "output_type": "execute_result"
    }
   ],
   "source": [
    "l1=[1,[2]]\n",
    "l1[0]"
   ]
  },
  {
   "cell_type": "code",
   "execution_count": 16,
   "id": "99af0226-5d37-45cb-a454-3d26567c3ea4",
   "metadata": {},
   "outputs": [
    {
     "data": {
      "text/plain": [
       "2"
      ]
     },
     "execution_count": 16,
     "metadata": {},
     "output_type": "execute_result"
    }
   ],
   "source": [
    "new=l1[1]\n",
    "new[0]"
   ]
  },
  {
   "cell_type": "code",
   "execution_count": null,
   "id": "03b0414b-c5b8-46d9-9b59-a9711cf94289",
   "metadata": {},
   "outputs": [],
   "source": [
    "l1=[1,[2]]\n",
    "new=l1[1] # [2] will come again it is a list, one element\n",
    "new[0]\n",
    "l1[1][0]"
   ]
  },
  {
   "cell_type": "code",
   "execution_count": 17,
   "id": "277f34b3-c68a-4b73-88c2-793513cc7c6c",
   "metadata": {},
   "outputs": [
    {
     "data": {
      "text/plain": [
       "'A'"
      ]
     },
     "execution_count": 17,
     "metadata": {},
     "output_type": "execute_result"
    }
   ],
   "source": [
    "l1=[1,[2,'A']]\n",
    "l1[1][1]\n",
    "\n",
    "# 'A' is presented at index 1\n",
    "# so we given l1[1] : [2,'A'] it is also a list\n",
    "# The list has two elements\n",
    "# 'A' at 1st index\n",
    "# l1[1][1]"
   ]
  },
  {
   "cell_type": "code",
   "execution_count": 18,
   "id": "c2c84fcb-5380-4ff6-9c12-6dd347e3fe00",
   "metadata": {},
   "outputs": [
    {
     "data": {
      "text/plain": [
       "'A'"
      ]
     },
     "execution_count": 18,
     "metadata": {},
     "output_type": "execute_result"
    }
   ],
   "source": [
    "# How to get 'A'\n",
    "# 1 [2,'A']\n",
    "# 0 1\n",
    "l1=[1,[2,'A']]\n",
    "# Q1) How many elements are there in a list: 2\n",
    "# Q2) 'A' is at which index :\n",
    "# In python index start at 0\n",
    "# 0 and 1\n",
    "l1[1] # [2,'A']\n",
    "# Q3) l1[1] output is which type list\n",
    "# Q4) 'A' 1\n",
    "l1[1][1]"
   ]
  },
  {
   "cell_type": "code",
   "execution_count": 19,
   "id": "ec845a8f-3a6d-474f-b8e9-237ee5668fb6",
   "metadata": {},
   "outputs": [
    {
     "data": {
      "text/plain": [
       "['A', 'B']"
      ]
     },
     "execution_count": 19,
     "metadata": {},
     "output_type": "execute_result"
    }
   ],
   "source": [
    "l1=[1, # 0\n",
    "[2,['A','B']] # 1\n",
    "]\n",
    "# I want 'B'\n",
    "# How many elements\n",
    "len(l1)\n",
    "l1[1][1]"
   ]
  },
  {
   "cell_type": "code",
   "execution_count": 20,
   "id": "234960fd-a8c7-4724-966a-041ea6664fc3",
   "metadata": {},
   "outputs": [
    {
     "data": {
      "text/plain": [
       "'Apple'"
      ]
     },
     "execution_count": 20,
     "metadata": {},
     "output_type": "execute_result"
    }
   ],
   "source": [
    "l1=[1,2,[3,[4,[5,['Apple']]]]]\n",
    "# 2110\n",
    "# 21110\n",
    "len(l1) # index=2\n",
    "l1[2][1][1][1][0]"
   ]
  },
  {
   "cell_type": "code",
   "execution_count": 21,
   "id": "b867870b-5230-4ffd-88c3-3eec3b515c53",
   "metadata": {},
   "outputs": [
    {
     "data": {
      "text/plain": [
       "'Banana'"
      ]
     },
     "execution_count": 21,
     "metadata": {},
     "output_type": "execute_result"
    }
   ],
   "source": [
    "list1=['Apple',\n",
    "       1,\n",
    "      'Solapur',\n",
    "      ['cherry','papaya',70,[123,'Banana'],\n",
    "        'tomato'],\n",
    "      'python'] #get banana 331\n",
    "list1[3][3][1]"
   ]
  },
  {
   "cell_type": "code",
   "execution_count": 22,
   "id": "40c2a5db-3662-42e9-9127-719789f1fed1",
   "metadata": {},
   "outputs": [
    {
     "data": {
      "text/plain": [
       "'Cherry'"
      ]
     },
     "execution_count": 22,
     "metadata": {},
     "output_type": "execute_result"
    }
   ],
   "source": [
    "list1=[[[[[[[1,'Cherry']]]]]]]\n",
    "list1[0][0][0][0][0][0][1]"
   ]
  },
  {
   "cell_type": "code",
   "execution_count": 23,
   "id": "2a9672f0-671e-400f-9099-755a6679ecfb",
   "metadata": {},
   "outputs": [
    {
     "data": {
      "text/plain": [
       "2"
      ]
     },
     "execution_count": 23,
     "metadata": {},
     "output_type": "execute_result"
    }
   ],
   "source": [
    "list1=['MH',\n",
    "       ['Nagpur',['Orange',['likes',['king'],['shivaji',['Son',['shmbaji']]]]]\n",
    "       ]]\n",
    "len(list1)"
   ]
  },
  {
   "cell_type": "code",
   "execution_count": 24,
   "id": "b3142729-71ac-4df1-af4f-4891bb744770",
   "metadata": {},
   "outputs": [
    {
     "data": {
      "text/plain": [
       "'shmbaji'"
      ]
     },
     "execution_count": 24,
     "metadata": {},
     "output_type": "execute_result"
    }
   ],
   "source": [
    "list1[1][1][1][2][1][1][0]"
   ]
  },
  {
   "cell_type": "code",
   "execution_count": null,
   "id": "2928b8ff-d456-4879-9019-d1b8a47f45f1",
   "metadata": {},
   "outputs": [],
   "source": [
    "# In operator : For loop\n",
    "# Index : For loop\n",
    "# Mutability check\n",
    "# Slicing\n",
    "#"
   ]
  },
  {
   "cell_type": "code",
   "execution_count": 1,
   "id": "df2c2b40-b30e-4970-a95e-58e4749bb191",
   "metadata": {},
   "outputs": [
    {
     "name": "stdout",
     "output_type": "stream",
     "text": [
      "1\n",
      "2\n",
      "3\n",
      "A\n",
      "B\n",
      "C\n",
      "True\n",
      "False\n"
     ]
    }
   ],
   "source": [
    "l4=[1,2,3,'A','B','C',True,False]\n",
    "\n",
    "#-8 -7 -6 -5 -4 -3 -2 -1\n",
    "#1 2 3 'A' 'B' 'C' True False\n",
    "#0 1 2 3 4 5 6 7\n",
    "for i in range(len(l4)):\n",
    "    print(l4[i])"
   ]
  },
  {
   "cell_type": "code",
   "execution_count": 2,
   "id": "155c0028-80ae-4d2c-bbeb-05b4b3e3e46a",
   "metadata": {},
   "outputs": [
    {
     "name": "stdout",
     "output_type": "stream",
     "text": [
      "The postive index of 1 is 0\n",
      "The postive index of 2 is 1\n",
      "The postive index of 3 is 2\n",
      "The postive index of A is 3\n",
      "The postive index of B is 4\n",
      "The postive index of C is 5\n",
      "The postive index of True is 6\n",
      "The postive index of False is 7\n",
      "The postive index of w is 0\n",
      "The postive index of e is 1\n",
      "The postive index of l is 2\n",
      "The postive index of c is 3\n",
      "The postive index of o is 4\n",
      "The postive index of m is 5\n",
      "The postive index of e is 6\n"
     ]
    }
   ],
   "source": [
    "l4=[1,2,3,'A','B','C',True,False]\n",
    "for i in range(len(l4)):\n",
    "    print(f\"The postive index of {l4[i]} is {i}\")\n",
    "\n",
    "s='welcome'\n",
    "for i in range(len(s)):\n",
    "    print(f\"The postive index of {s[i]} is {i}\")"
   ]
  },
  {
   "cell_type": "code",
   "execution_count": null,
   "id": "59442e07-21eb-4957-bb29-ad468746a6a6",
   "metadata": {},
   "outputs": [],
   "source": [
    "l4=[1,2,3,'A','B','C',True,False]\n",
    "for i in range(len(l4)):\n",
    "    print(f\"The postive index of {l4[i]} is {i}\")"
   ]
  },
  {
   "cell_type": "code",
   "execution_count": 7,
   "id": "04bf3df6-8584-491b-ab84-c0fcc1650c52",
   "metadata": {},
   "outputs": [
    {
     "ename": "TypeError",
     "evalue": "'str' object does not support item assignment",
     "output_type": "error",
     "traceback": [
      "\u001b[1;31m---------------------------------------------------------------------------\u001b[0m",
      "\u001b[1;31mTypeError\u001b[0m                                 Traceback (most recent call last)",
      "Cell \u001b[1;32mIn[7], line 9\u001b[0m\n\u001b[0;32m      7\u001b[0m s\u001b[38;5;241m=\u001b[39m\u001b[38;5;124m'\u001b[39m\u001b[38;5;124mNaresh\u001b[39m\u001b[38;5;124m'\u001b[39m\n\u001b[0;32m      8\u001b[0m \u001b[38;5;66;03m# We want to change 'h'  'I'\u001b[39;00m\n\u001b[1;32m----> 9\u001b[0m s[\u001b[38;5;241m5\u001b[39m]\u001b[38;5;241m=\u001b[39m\u001b[38;5;124m'\u001b[39m\u001b[38;5;124mI\u001b[39m\u001b[38;5;124m'\u001b[39m\n",
      "\u001b[1;31mTypeError\u001b[0m: 'str' object does not support item assignment"
     ]
    }
   ],
   "source": [
    "# We want to change 1 with 100\n",
    "l=[1,2,3]\n",
    "l[0]=100\n",
    "l\n",
    "\n",
    "#Hi Sir - how the string is immutable please explain\n",
    "s='Naresh'\n",
    "# We want to change 'h'  'I'\n",
    "s[5]='I'\n",
    "\n",
    "# TypeError: 'str' object does not support item assignment\n",
    "# Not able"
   ]
  },
  {
   "cell_type": "code",
   "execution_count": 9,
   "id": "6aa5a91a-87d8-4d25-aff9-6af90fbbe79a",
   "metadata": {},
   "outputs": [
    {
     "ename": "SyntaxError",
     "evalue": "invalid syntax (2369531203.py, line 4)",
     "output_type": "error",
     "traceback": [
      "\u001b[1;36m  Cell \u001b[1;32mIn[9], line 4\u001b[1;36m\u001b[0m\n\u001b[1;33m    0     1    2   3   4   5   6   7   8   9   10  11  12\u001b[0m\n\u001b[1;37m          ^\u001b[0m\n\u001b[1;31mSyntaxError\u001b[0m\u001b[1;31m:\u001b[0m invalid syntax\n"
     ]
    }
   ],
   "source": [
    "l=[1,2,3,4,5,6,'A','B','C','D','E','F','G']\n",
    "-13  -12 -11 -10  -9  -8  -7  -6  -5  -4  -3  -2  -1\n",
    "1,    2,   3,  4,  5,  6, 'A','B','C','D','E','F','G'\n",
    "0     1    2   3   4   5   6   7   8   9   10  11  12\n",
    "\n",
    "l[3:9:2] # P\n",
    "l[3:9:-2] # Np\n",
    "l[3:-9:2] # -----\n",
    "l[3:-9:-2] # Np\n",
    "l[-3:9:2]  # Np\n",
    "l[-3:-9:-2] # W\n",
    "l[-3:9:-2]"
   ]
  },
  {
   "cell_type": "code",
   "execution_count": 10,
   "id": "2d09fe05-eb1e-44c2-bac5-f1a03a66c9c3",
   "metadata": {},
   "outputs": [
    {
     "data": {
      "text/plain": [
       "['E']"
      ]
     },
     "execution_count": 10,
     "metadata": {},
     "output_type": "execute_result"
    }
   ],
   "source": [
    "l=[1,2,3,4,5,6,'A','B','C','D','E','F','G']\n",
    "l[3:-9:2]\n",
    "# start=3\n",
    "# dire =+ve\n",
    "# last= stop-1 = -9-1=-10\n",
    "\n",
    "l[-3:9:-2]"
   ]
  },
  {
   "cell_type": "code",
   "execution_count": 11,
   "id": "e6c0b155-fe74-4f67-b7a6-9ab43ca0f3d3",
   "metadata": {},
   "outputs": [
    {
     "data": {
      "text/plain": [
       "['__add__',\n",
       " '__class__',\n",
       " '__class_getitem__',\n",
       " '__contains__',\n",
       " '__delattr__',\n",
       " '__delitem__',\n",
       " '__dir__',\n",
       " '__doc__',\n",
       " '__eq__',\n",
       " '__format__',\n",
       " '__ge__',\n",
       " '__getattribute__',\n",
       " '__getitem__',\n",
       " '__getstate__',\n",
       " '__gt__',\n",
       " '__hash__',\n",
       " '__iadd__',\n",
       " '__imul__',\n",
       " '__init__',\n",
       " '__init_subclass__',\n",
       " '__iter__',\n",
       " '__le__',\n",
       " '__len__',\n",
       " '__lt__',\n",
       " '__mul__',\n",
       " '__ne__',\n",
       " '__new__',\n",
       " '__reduce__',\n",
       " '__reduce_ex__',\n",
       " '__repr__',\n",
       " '__reversed__',\n",
       " '__rmul__',\n",
       " '__setattr__',\n",
       " '__setitem__',\n",
       " '__sizeof__',\n",
       " '__str__',\n",
       " '__subclasshook__',\n",
       " 'append',\n",
       " 'clear',\n",
       " 'copy',\n",
       " 'count',\n",
       " 'extend',\n",
       " 'index',\n",
       " 'insert',\n",
       " 'pop',\n",
       " 'remove',\n",
       " 'reverse',\n",
       " 'sort']"
      ]
     },
     "execution_count": 11,
     "metadata": {},
     "output_type": "execute_result"
    }
   ],
   "source": [
    "# strings dir('')\n",
    "dir([])"
   ]
  },
  {
   "cell_type": "code",
   "execution_count": null,
   "id": "95a5a4de-a836-40fc-80b1-138bad2a94f3",
   "metadata": {},
   "outputs": [],
   "source": [
    "'append',\n",
    " 'clear',\n",
    " 'copy',\n",
    " 'count',\n",
    " 'extend',\n",
    " 'index',\n",
    " 'insert',\n",
    " 'pop',\n",
    " 'remove',\n",
    " 'reverse',\n",
    " 'sort']"
   ]
  },
  {
   "cell_type": "markdown",
   "id": "711fac10-a735-47ae-89f2-e721b588ff50",
   "metadata": {},
   "source": [
    "**append**\n",
    "\n",
    "- adding elements in a last index\n",
    "- append method is very important\n",
    "- most of the time will use append in the real time-\n",
    "- whenyou add the value the original list be overwrite\n",
    "- When you add the value the original list will be overwrite"
   ]
  },
  {
   "cell_type": "code",
   "execution_count": 15,
   "id": "747573fc-9709-4cd5-a81e-3a87a51fbd57",
   "metadata": {},
   "outputs": [
    {
     "data": {
      "text/plain": [
       "['Apple', 'Ball', 'Cat']"
      ]
     },
     "execution_count": 15,
     "metadata": {},
     "output_type": "execute_result"
    }
   ],
   "source": [
    "l=['Apple','Ball','Cat']\n",
    "l"
   ]
  },
  {
   "cell_type": "code",
   "execution_count": null,
   "id": "5d215fa1-d2fc-4950-a85d-67e91df46628",
   "metadata": {},
   "outputs": [],
   "source": [
    "# you want to add Doll in a list \n",
    "\n",
    "# Keywords  vs  method\n",
    "len()\n",
    "max()\n",
    "min()\n",
    "reversed()\n",
    "sorted()\n",
    "\n",
    "# methods\n",
    "<package>.<method>()\n",
    "# Data types has own method\n",
    "# <data type>.<method>\n",
    "# <pacckage>.<methods>"
   ]
  },
  {
   "cell_type": "code",
   "execution_count": 16,
   "id": "acbe9b27-d990-45e8-bd0f-89ab8c5ae346",
   "metadata": {},
   "outputs": [],
   "source": [
    "l.append('Doll')"
   ]
  },
  {
   "cell_type": "code",
   "execution_count": 17,
   "id": "c550d921-36aa-4dd4-a7dc-91333a2e296e",
   "metadata": {},
   "outputs": [
    {
     "data": {
      "text/plain": [
       "['Apple', 'Ball', 'Cat', 'Doll']"
      ]
     },
     "execution_count": 17,
     "metadata": {},
     "output_type": "execute_result"
    }
   ],
   "source": [
    "l"
   ]
  },
  {
   "cell_type": "code",
   "execution_count": 10,
   "id": "ffe48bac-bbfc-472c-b415-5f3306e7313c",
   "metadata": {},
   "outputs": [
    {
     "data": {
      "text/plain": [
       "[1, 2, 3, 4, 100]"
      ]
     },
     "execution_count": 10,
     "metadata": {},
     "output_type": "execute_result"
    }
   ],
   "source": [
    "l1=[1,2,3,4]\n",
    "l1.append(100)\n",
    "l1"
   ]
  },
  {
   "cell_type": "code",
   "execution_count": 13,
   "id": "be167270-d635-4d11-a82d-1f1ac7a6fcc9",
   "metadata": {},
   "outputs": [
    {
     "data": {
      "text/plain": [
       "[10, 20, 'Apple', ['A', 1], 'True']"
      ]
     },
     "execution_count": 13,
     "metadata": {},
     "output_type": "execute_result"
    }
   ],
   "source": [
    "l2=[]\n",
    "l2.append(10)\n",
    "l2.append(20)\n",
    "l2.append('Apple')\n",
    "l2.append(['A',1])\n",
    "l2.append('True')\n",
    "l2"
   ]
  },
  {
   "cell_type": "code",
   "execution_count": 21,
   "id": "67a3563a-b75c-46e4-86a6-cbcdc9c45e89",
   "metadata": {},
   "outputs": [
    {
     "ename": "SyntaxError",
     "evalue": "invalid syntax (2194342595.py, line 1)",
     "output_type": "error",
     "traceback": [
      "\u001b[1;36m  Cell \u001b[1;32mIn[21], line 1\u001b[1;36m\u001b[0m\n\u001b[1;33m    list.append() takes exactly one argument how can we add more in one statement si\u001b[0m\n\u001b[1;37m                  ^\u001b[0m\n\u001b[1;31mSyntaxError\u001b[0m\u001b[1;31m:\u001b[0m invalid syntax\n"
     ]
    }
   ],
   "source": [
    "list.append() takes exactly one argument how can we add more in one statement si\n",
    "l1.append(100,200,300) # Error"
   ]
  },
  {
   "cell_type": "markdown",
   "id": "795217b6-7357-4254-8423-939c33eb330b",
   "metadata": {},
   "source": [
    "**Append method used to save the output in a list**"
   ]
  },
  {
   "cell_type": "code",
   "execution_count": 23,
   "id": "53f68a4d-ab1f-43d5-b1cd-594cb6d13748",
   "metadata": {},
   "outputs": [
    {
     "name": "stdout",
     "output_type": "stream",
     "text": [
      "1\n",
      "4\n",
      "9\n",
      "16\n",
      "25\n"
     ]
    }
   ],
   "source": [
    "for i in range(1,6):\n",
    "    print(i*i)"
   ]
  },
  {
   "cell_type": "code",
   "execution_count": 24,
   "id": "0db94f58-5f92-4ac1-8ac5-69ce00093ba1",
   "metadata": {},
   "outputs": [
    {
     "data": {
      "text/plain": [
       "[1, 4, 9, 16, 25]"
      ]
     },
     "execution_count": 24,
     "metadata": {},
     "output_type": "execute_result"
    }
   ],
   "source": [
    "square_list=[]\n",
    "for i in range(1,6):\n",
    "    square_list.append(i*i)\n",
    "# print ==== square_list.append\n",
    "square_list"
   ]
  },
  {
   "cell_type": "code",
   "execution_count": 25,
   "id": "5f275710-6c71-4ee7-b630-a2c81129c6d4",
   "metadata": {},
   "outputs": [],
   "source": [
    "s=''\n",
    "for i in 'python':\n",
    "    s=s+i\n",
    "    \n",
    "# str='hai hai hai'\n",
    "# what are index of 'a'\n",
    "# save that index numbers in a list"
   ]
  },
  {
   "cell_type": "code",
   "execution_count": 26,
   "id": "5dc3c255-f487-45e1-ba21-466f97e3b94a",
   "metadata": {},
   "outputs": [
    {
     "data": {
      "text/plain": [
       "([1, 5, 9], 15)"
      ]
     },
     "execution_count": 26,
     "metadata": {},
     "output_type": "execute_result"
    }
   ],
   "source": [
    "str1='hai hai hai'\n",
    "id_list=[]\n",
    "for i in range(len(str1)):\n",
    "     if str1[i]=='a':\n",
    "         id_list.append(i)\n",
    "\n",
    "id_list,sum(id_list)"
   ]
  },
  {
   "cell_type": "code",
   "execution_count": 2,
   "id": "a1e6f1b5-7537-4615-bc97-ee2e923779fc",
   "metadata": {},
   "outputs": [
    {
     "data": {
      "text/plain": [
       "15"
      ]
     },
     "execution_count": 2,
     "metadata": {},
     "output_type": "execute_result"
    }
   ],
   "source": [
    "summ=0\n",
    "str1='hai hai hai'\n",
    "for i in range(len(str1)):\n",
    "    if str1[i]=='a':\n",
    "        summ=summ+i\n",
    "summ "
   ]
  },
  {
   "cell_type": "code",
   "execution_count": null,
   "id": "36a0e786-89a5-4862-8824-c28f93d902d9",
   "metadata": {},
   "outputs": [],
   "source": [
    "# Q4)l1=['hyd','mumbai','chennai','blr']\n",
    "# ans= ['Hyd','Mumbai','Chennai','Blr']\n",
    "# we want lements which are len of element >4\n",
    "# Q5)l1=['Hyd','Mumbai','chennai','blr']\n",
    "# ans= ['Hyd','Mumbai']\n",
    "# we want lements which are having first letter capital\n",
    "# Q6)l1=['Hyd','Mum#bai','Chen#nai','blr']\n",
    "# ans_#=['Mum#bai'',Chen#nai']\n",
    "# ans_without_#=['Hyd'','blr']\n",
    "# we want lements which are having '#'\n",
    "# Q7) ask the user get 5 numbers randomly\n",
    "# even_list and odd_list\n",
    "# even numbers should append at even_list\n",
    "# odd number should append at odd_list\n",
    "# Q8) str='hello hai how are you'\n",
    "# Maximum len of word using split and max method\n",
    "# sum of all the indexes of the maximum len of word using append\n",
    "# Q9) str1='virat.kohli@rcb.com, Rohit.sharma@mi.co, KL.Rahul@lucknow.com'\n",
    "# Firstname=[] second name=[] cname =[]\n",
    "# append first name should be in first name list\n",
    "# second name shoul be in second name list\n",
    "# thirs name will be in thirs name list\n",
    "# 10 )\n",
    "# You have two lists\n",
    "# qns=['What is capital of India',\n",
    "'Who is PM of india',\n",
    "'Who is ICT ODI captian']\n",
    "# ans = ['Delhi','Modi','Rohit']\n",
    "# For i in qns:\n",
    "# print(i)\n",
    "# ans= delhi\n",
    "# index should match\n",
    "# delhi modi\n",
    "# marks= marks+1\n",
    "# print the total marks"
   ]
  },
  {
   "cell_type": "code",
   "execution_count": 3,
   "id": "37d74825-2b44-4da8-b487-be4ffc45658b",
   "metadata": {},
   "outputs": [
    {
     "data": {
      "text/plain": [
       "['Mumbai', 'Chennai']"
      ]
     },
     "execution_count": 3,
     "metadata": {},
     "output_type": "execute_result"
    }
   ],
   "source": [
    "#Q2)l1=['Hyd','Mumbai','Chennai','blr']\n",
    "#  ans=['Mumbai','Chennai']\n",
    "#  we want lements which are len of element >4\n",
    "l1=['Hyd','Mumbai','Chennai','blr']\n",
    "ans=[]\n",
    "for i in l1:\n",
    "    if len(i)>4:\n",
    "        ans.append(i)\n",
    "ans"
   ]
  },
  {
   "cell_type": "code",
   "execution_count": 4,
   "id": "9d5f8c46-8547-4155-a97b-32c7943ee895",
   "metadata": {},
   "outputs": [
    {
     "data": {
      "text/plain": [
       "['Mumb#ai', 'Chen#nai']"
      ]
     },
     "execution_count": 4,
     "metadata": {},
     "output_type": "execute_result"
    }
   ],
   "source": [
    "# Q3)l1=['Hyd','Mum#bai','Chen#nai','blr']\n",
    "# ans=['Mum#bai'',Chen#nai']\n",
    "# we want lements which are having '#'\n",
    "l1=['Hyd','Mumb#ai','Chen#nai','blr']\n",
    "ans=[]\n",
    "for i in l1:\n",
    "   if '#' in i:\n",
    "       ans.append(i)\n",
    "ans"
   ]
  },
  {
   "cell_type": "code",
   "execution_count": null,
   "id": "3a6c3235-ef41-48d0-8159-5d3fad51aeba",
   "metadata": {},
   "outputs": [],
   "source": [
    "['Mumb#ai', 'Chen#nai']\n",
    "l1=['Hyd','Mumb#ai','Chen#nai','blr']\n",
    "for i in l1:\n",
    "if i in '#'"
   ]
  },
  {
   "cell_type": "code",
   "execution_count": 5,
   "id": "6febf868-b946-46fb-96a6-f7a726840428",
   "metadata": {},
   "outputs": [
    {
     "data": {
      "text/plain": [
       "True"
      ]
     },
     "execution_count": 5,
     "metadata": {},
     "output_type": "execute_result"
    }
   ],
   "source": [
    "'nadeem' in '#' # 'nadeem' is avialable in '#'\n",
    "'#' in 'nadeem' # is '#' available in 'nadeem'\n",
    "'nad##m' in '#' # is 'nad##m' avaialabe in '#'\n",
    "'#' in 'nad##m' # is '#' avaialabe in 'nad##m'"
   ]
  },
  {
   "cell_type": "code",
   "execution_count": 7,
   "id": "f3b76262-aa6b-4698-9248-23fb0e0f2d92",
   "metadata": {},
   "outputs": [
    {
     "data": {
      "text/plain": [
       "['Hyd', 'Mumbai', 'Chennai', 'Blr']"
      ]
     },
     "execution_count": 7,
     "metadata": {},
     "output_type": "execute_result"
    }
   ],
   "source": [
    "# Q5)l1=['Hyd','Mumbai','chennai','blr']\n",
    "# ans= ['Hyd','Mumbai']\n",
    "# we want lements which are having first letter capital\n",
    "l1=['Hyd','Mumbai','Chennai','blr']\n",
    "ans=[]\n",
    "for i in l1:\n",
    "    ans.append(i.capitalize())\n",
    "ans\n",
    "\n",
    "# what is the difference betweeb capitalize and title"
   ]
  },
  {
   "cell_type": "code",
   "execution_count": 8,
   "id": "3f29dba6-7b62-4616-9165-606b3e5e6194",
   "metadata": {},
   "outputs": [
    {
     "data": {
      "text/plain": [
       "'Hello Im Learning Python'"
      ]
     },
     "execution_count": 8,
     "metadata": {},
     "output_type": "execute_result"
    }
   ],
   "source": [
    "str1='hello im learning python'\n",
    "# Make everyword capitalize\n",
    "str1.title()"
   ]
  },
  {
   "cell_type": "code",
   "execution_count": null,
   "id": "4a32321c-1229-4b27-92e8-322c50d25046",
   "metadata": {},
   "outputs": [],
   "source": [
    "# Do the same using capitalize method\n",
    "# step-1: split the string\n",
    "# step-2: take empty list\n",
    "# step-3: iterate the each letter apply capitlize and append it\n",
    "# step-4: join the list"
   ]
  },
  {
   "cell_type": "markdown",
   "id": "2f9f3e76-8fca-4c3f-9ac6-26652217a12f",
   "metadata": {},
   "source": [
    "**split-join**\n",
    "\n",
    "- split will apply for strings , to divide the words or characters\n",
    "\n",
    "- when we split the elements will be stored in a list format\n",
    "\n",
    "- Join is used to combine the elements of a list in a string format\n",
    "\n",
    "- **split-strings**\n",
    "\n",
    "- **join-list**"
   ]
  },
  {
   "cell_type": "code",
   "execution_count": 11,
   "id": "6ba10d3b-9d0e-47bc-bf32-7cb0670ccfac",
   "metadata": {},
   "outputs": [
    {
     "data": {
      "text/plain": [
       "'Hello Im Learning Python'"
      ]
     },
     "execution_count": 11,
     "metadata": {},
     "output_type": "execute_result"
    }
   ],
   "source": [
    "str1='hello im learning python'\n",
    "words=str1.split()\n",
    "new_words=[]\n",
    "for i in words:\n",
    "    new_words.append(i.capitalize())\n",
    "' '.join(new_words)"
   ]
  },
  {
   "cell_type": "code",
   "execution_count": 12,
   "id": "081106c0-c813-4cdf-bbdc-6ece4fe7a0c4",
   "metadata": {},
   "outputs": [
    {
     "name": "stdout",
     "output_type": "stream",
     "text": [
      "4.123105625617661\n"
     ]
    }
   ],
   "source": [
    "# Calculate the distance between two points\n",
    "# a=[1,2]\n",
    "# b=[4,5]\n",
    "# a=[x1,x2]\n",
    "# b=[y1,y2]\n",
    "# step-0: Import math\n",
    "# step-1:v1= x2-x1=a[2]-a[1] === index\n",
    "# step-2:v2= y2-y1=b[2]-b[1] === index\n",
    "# step-3: v11=v1**2\n",
    "# step-4: v22=v2**2\n",
    "# step-5: ans=math.sqrt(v11+v22)\n",
    "import math\n",
    "a= [1,2]\n",
    "b = [1,5]\n",
    "v1 = a[1]-a[0]\n",
    "v2 = b[1]-b[0]\n",
    "v11 = v1**2\n",
    "v22 = v2**2\n",
    "print(math.sqrt(v11+v22))"
   ]
  },
  {
   "cell_type": "code",
   "execution_count": 13,
   "id": "54235b48-e0bd-46e1-9d32-ad7199f78440",
   "metadata": {},
   "outputs": [
    {
     "name": "stdout",
     "output_type": "stream",
     "text": [
      "4.123105625617661\n"
     ]
    }
   ],
   "source": [
    "import math\n",
    "a= [1,2]\n",
    "b = [1,5]\n",
    "print(math.sqrt(math.pow((a[1]-a[0]),2)+math.pow((b[1]-b[0]),2)))"
   ]
  },
  {
   "cell_type": "code",
   "execution_count": null,
   "id": "d32782f6-200d-4983-a5ca-040c4e35fd05",
   "metadata": {},
   "outputs": [],
   "source": [
    "[1,2,3,4,5,4,3,2,1]\n",
    "[100,500,[1600,700,400,300,50]"
   ]
  },
  {
   "cell_type": "code",
   "execution_count": 14,
   "id": "ca7dbed4-59a9-4f0c-b9a9-21970e71062f",
   "metadata": {},
   "outputs": [
    {
     "name": "stdout",
     "output_type": "stream",
     "text": [
      "3.0\n"
     ]
    }
   ],
   "source": [
    "pints=[[1,2],[2,3],[3,4]]\n",
    "val=[2,3]\n",
    "\n",
    "# calculate the distance between val [2,3] to each and every point\n",
    "# and find the maximum distance\n",
    "import math\n",
    "a= [1,2] # [x1,y1]\n",
    "b = [1,5] # [x2,y2]\n",
    "# for loop\n",
    "v1 = b[0]-a[0] # x2-x1\n",
    "v2 = b[1]-a[1] # y2-y1\n",
    "v11 = v1**2\n",
    "v22 = v2**2\n",
    "print(math.sqrt(v11+v22))"
   ]
  },
  {
   "cell_type": "code",
   "execution_count": 15,
   "id": "40b19e5f-b624-401f-842c-e2ab2b009e72",
   "metadata": {},
   "outputs": [
    {
     "name": "stdout",
     "output_type": "stream",
     "text": [
      "1 2\n",
      "2 3\n",
      "====================\n",
      "2 3\n",
      "2 3\n",
      "====================\n",
      "3 4\n",
      "2 3\n",
      "====================\n"
     ]
    }
   ],
   "source": [
    "points=[[1,2],[2,3],[3,4]]\n",
    "val=[2,3]\n",
    "# [1,2] vs [2,3]\n",
    "# [2,3] vs [2,3]\n",
    "# [3,4] vs [2,3]\n",
    "for i in points:\n",
    "    print(i[0],i[1]) # x1,y1\n",
    "    print(val[0],val[1]) # x2,y2\n",
    "    print('====================')"
   ]
  },
  {
   "cell_type": "code",
   "execution_count": 16,
   "id": "a4542bfc-e4ad-4c07-b57f-627f08939d79",
   "metadata": {},
   "outputs": [
    {
     "name": "stdout",
     "output_type": "stream",
     "text": [
      "1 2\n",
      "2 3\n",
      "3-2=1,2-1=1\n",
      "1.4142135623730951\n",
      "=======================\n",
      "2 3\n",
      "2 3\n",
      "3-2=0,2-2=0\n",
      "0.0\n",
      "=======================\n",
      "5 6\n",
      "2 3\n",
      "3-2=-3,2-5=-3\n",
      "4.242640687119285\n",
      "=======================\n"
     ]
    }
   ],
   "source": [
    "points=[[1,2],[2,3],[5,6]]\n",
    "val=[2,3]\n",
    "ans=[]\n",
    "for i in points:\n",
    "    print(i[0],i[1])\n",
    "    print(val[0],val[1])\n",
    "    o1=val[0]-i[0]\n",
    "    o2=val[1]-i[1]\n",
    "    print(f\"{val[1]}-{val[0]}={o1},{val[0]}-{i[0]}={o2}\")\n",
    "    v11 = o1**2\n",
    "    v22 = o2**2\n",
    "    print(math.sqrt(v11+v22))\n",
    "    ans.append(math.sqrt(v11+v22))\n",
    "    print('=======================')"
   ]
  },
  {
   "cell_type": "code",
   "execution_count": 9,
   "id": "041fb585-e28a-47fd-a6c6-edf1ec665d99",
   "metadata": {},
   "outputs": [
    {
     "data": {
      "text/plain": [
       "'Mumbai'"
      ]
     },
     "execution_count": 9,
     "metadata": {},
     "output_type": "execute_result"
    }
   ],
   "source": [
    "max(ans)"
   ]
  },
  {
   "cell_type": "code",
   "execution_count": 17,
   "id": "402790fe-b66e-4306-8ac5-b0c79ae064cf",
   "metadata": {},
   "outputs": [
    {
     "data": {
      "text/plain": [
       "[5, 3, 3, 3, 3]"
      ]
     },
     "execution_count": 17,
     "metadata": {},
     "output_type": "execute_result"
    }
   ],
   "source": [
    "# Q8) str='hello hai how are you'\n",
    "# Maximum len of word using split and max method\n",
    "# sum of all the indexes of the maximum len of word using append\n",
    "str1='hello hai how are you'\n",
    "words=str1.split()\n",
    "str2=[]\n",
    "for i in words:\n",
    "    x=len(i)\n",
    "    str2.append(x)\n",
    "str2"
   ]
  },
  {
   "cell_type": "code",
   "execution_count": 20,
   "id": "671b6db1-e590-4601-a4e8-ba764bcfff4c",
   "metadata": {},
   "outputs": [
    {
     "name": "stdout",
     "output_type": "stream",
     "text": [
      "hello\n"
     ]
    }
   ],
   "source": [
    "str1='hello hai how are you'\n",
    "words=str1.split()\n",
    "len_words=[]\n",
    "for i in words:\n",
    "    x=len(i)\n",
    "    len_words.append(x)\n",
    "max_len=max(len_words)\n",
    "\n",
    "for i in words:\n",
    "    if len(i)==max_len:\n",
    "        print(i)\n",
    "        \n",
    "# First we are splitting\n",
    "# the we are calculating each and every len of words and append in a list\n",
    "# we are taking the max value from the list\n",
    "\n",
    "# again we are itertating words list\n",
    "# calculating len of each word\n",
    "# if that word length equal to max value\n",
    "# then that is our answer\n",
    "\n",
    "# hello == 0\n",
    "# 01234"
   ]
  },
  {
   "cell_type": "code",
   "execution_count": 21,
   "id": "a67970ee-4344-40f6-a084-55b6c3efdaf4",
   "metadata": {},
   "outputs": [
    {
     "data": {
      "text/plain": [
       "5"
      ]
     },
     "execution_count": 21,
     "metadata": {},
     "output_type": "execute_result"
    }
   ],
   "source": [
    "str1='hello hai how are you'\n",
    "words=str1.split()\n",
    "max(words)\n",
    "len_words=[5,3,3,3,3]\n",
    "max(len_words)"
   ]
  },
  {
   "cell_type": "code",
   "execution_count": 1,
   "id": "3c86cc0a-2a1a-45c1-b52a-0191d5351fc9",
   "metadata": {},
   "outputs": [
    {
     "ename": "SyntaxError",
     "evalue": "incomplete input (2213876541.py, line 1)",
     "output_type": "error",
     "traceback": [
      "\u001b[1;36m  Cell \u001b[1;32mIn[1], line 1\u001b[1;36m\u001b[0m\n\u001b[1;33m    for i in range(10):\u001b[0m\n\u001b[1;37m                       ^\u001b[0m\n\u001b[1;31mSyntaxError\u001b[0m\u001b[1;31m:\u001b[0m incomplete input\n"
     ]
    }
   ],
   "source": [
    "for i in range(10):"
   ]
  },
  {
   "cell_type": "code",
   "execution_count": null,
   "id": "e482a703-51b5-4db9-aa37-9b6dfb8241ff",
   "metadata": {},
   "outputs": [],
   "source": [
    "# 10 )\n",
    "# You have two lists\n",
    "# qns=['What is capital of India',\n",
    "     'Who is PM of india',\n",
    "      'Who is ICT ODI captian']\n",
    "# ans = ['Delhi','Modi','Rohit']\n",
    "\n",
    "# For i in qns:\n",
    "# print(i)\n",
    "# ans= delhi\n",
    "# index should match\n",
    "# delhi modi\n",
    "\n",
    "# marks= marks+1\n",
    "# print the total marks"
   ]
  },
  {
   "cell_type": "code",
   "execution_count": 2,
   "id": "675a62ef-1543-49f5-a871-2450a68edf10",
   "metadata": {},
   "outputs": [
    {
     "name": "stdin",
     "output_type": "stream",
     "text": [
      "What is capital of India Delhi\n",
      "Who is PM of india Modi\n",
      "Who is ICT ODI captian Rohit\n"
     ]
    },
    {
     "name": "stdout",
     "output_type": "stream",
     "text": [
      "The total marks are: 3\n"
     ]
    }
   ],
   "source": [
    "qns_list=['What is capital of India',\n",
    "    'Who is PM of india',\n",
    "     'Who is ICT ODI captian']\n",
    "ans_list = ['Delhi','Modi','Rohit']\n",
    "marks=0\n",
    "for i in range(len(qns_list)):\n",
    "    ans=input(qns_list[i])\n",
    "    if ans.lower()==ans_list[i].lower():\n",
    "        marks=marks+1 # marks=+1 (best practice)\n",
    "\n",
    "print(\"The total marks are:\",marks)\n",
    "\n",
    "\n",
    "# Step-1: We are iterating throuh qns list\n",
    "# step-2: We are taking each qns and we are providing the answer\n",
    "# Step-3: That answer == anslist"
   ]
  },
  {
   "cell_type": "code",
   "execution_count": 3,
   "id": "b1e50b28-dfef-49c9-99e8-fccf0679e522",
   "metadata": {},
   "outputs": [
    {
     "data": {
      "text/plain": [
       "'Rohit'"
      ]
     },
     "execution_count": 3,
     "metadata": {},
     "output_type": "execute_result"
    }
   ],
   "source": [
    "ans"
   ]
  },
  {
   "cell_type": "code",
   "execution_count": 4,
   "id": "caa284ee-05a7-45f2-96ac-fbb73c2bbe35",
   "metadata": {},
   "outputs": [
    {
     "data": {
      "text/plain": [
       "['__add__',\n",
       " '__class__',\n",
       " '__class_getitem__',\n",
       " '__contains__',\n",
       " '__delattr__',\n",
       " '__delitem__',\n",
       " '__dir__',\n",
       " '__doc__',\n",
       " '__eq__',\n",
       " '__format__',\n",
       " '__ge__',\n",
       " '__getattribute__',\n",
       " '__getitem__',\n",
       " '__getstate__',\n",
       " '__gt__',\n",
       " '__hash__',\n",
       " '__iadd__',\n",
       " '__imul__',\n",
       " '__init__',\n",
       " '__init_subclass__',\n",
       " '__iter__',\n",
       " '__le__',\n",
       " '__len__',\n",
       " '__lt__',\n",
       " '__mul__',\n",
       " '__ne__',\n",
       " '__new__',\n",
       " '__reduce__',\n",
       " '__reduce_ex__',\n",
       " '__repr__',\n",
       " '__reversed__',\n",
       " '__rmul__',\n",
       " '__setattr__',\n",
       " '__setitem__',\n",
       " '__sizeof__',\n",
       " '__str__',\n",
       " '__subclasshook__',\n",
       " 'append',\n",
       " 'clear',\n",
       " 'copy',\n",
       " 'count',\n",
       " 'extend',\n",
       " 'index',\n",
       " 'insert',\n",
       " 'pop',\n",
       " 'remove',\n",
       " 'reverse',\n",
       " 'sort']"
      ]
     },
     "execution_count": 4,
     "metadata": {},
     "output_type": "execute_result"
    }
   ],
   "source": [
    "dir([])"
   ]
  },
  {
   "cell_type": "code",
   "execution_count": null,
   "id": "1aa302e1-8da6-4dbb-8012-489bf4c95756",
   "metadata": {},
   "outputs": [],
   "source": [
    "'clear',\n",
    "'copy',\n",
    "'count',\n",
    "'extend',\n",
    "'index',\n",
    "'insert',\n",
    "'pop',\n",
    "'remove',\n",
    "'reverse',\n",
    "'sort' "
   ]
  },
  {
   "cell_type": "code",
   "execution_count": null,
   "id": "1696af5c-4dd4-4e8b-85e7-ee195e33504f",
   "metadata": {},
   "outputs": [],
   "source": [
    "# Append vs extend vs concatenation vs insert\n",
    "# pop vs remove\n",
    "# reverse vs reversed\n",
    "# sort vs sorted\n",
    "# index\n",
    "# count\n",
    "# clear and copy\n",
    "# Methods vs keywords\n",
    "# keywords : inbuilt functions\n",
    "# print() max() min() len(<) sorted(<>) reversed(<l>)\n",
    "# l.copy()\n",
    "# l.clear()"
   ]
  },
  {
   "cell_type": "markdown",
   "id": "ec7cda72-db0e-4d8e-9eb4-4df9044cf32b",
   "metadata": {},
   "source": [
    "**Copy**"
   ]
  },
  {
   "cell_type": "code",
   "execution_count": 6,
   "id": "fee04f67-4384-41b0-bbbc-aace512aa85a",
   "metadata": {},
   "outputs": [
    {
     "data": {
      "text/plain": [
       "[1, 2, 3, 100, 200, 80, 70, 60]"
      ]
     },
     "execution_count": 6,
     "metadata": {},
     "output_type": "execute_result"
    }
   ],
   "source": [
    "l1=[1,2,3,100,200,80,70,60]\n",
    "l2=l1.copy()\n",
    "l2"
   ]
  },
  {
   "cell_type": "code",
   "execution_count": 7,
   "id": "8514ddef-ee18-4947-aa3e-287bbf259382",
   "metadata": {},
   "outputs": [
    {
     "data": {
      "text/plain": [
       "(11, 12)"
      ]
     },
     "execution_count": 7,
     "metadata": {},
     "output_type": "execute_result"
    }
   ],
   "source": [
    "11,12"
   ]
  },
  {
   "cell_type": "code",
   "execution_count": 13,
   "id": "d196f9c0-848a-4bbf-812f-c75aa5630cf3",
   "metadata": {},
   "outputs": [
    {
     "data": {
      "text/plain": [
       "[]"
      ]
     },
     "execution_count": 13,
     "metadata": {},
     "output_type": "execute_result"
    }
   ],
   "source": [
    "l1.clear()\n",
    "l1"
   ]
  },
  {
   "cell_type": "code",
   "execution_count": 14,
   "id": "ded8aad6-3119-4265-9dba-eb4e356422b4",
   "metadata": {},
   "outputs": [
    {
     "name": "stdout",
     "output_type": "stream",
     "text": [
      "<class 'list'>\n"
     ]
    }
   ],
   "source": [
    "print(type([]))"
   ]
  },
  {
   "cell_type": "markdown",
   "id": "04a0517d-c4f0-461b-bfc4-5f976c99bbab",
   "metadata": {},
   "source": [
    "**append-extend-concatenation-insert**"
   ]
  },
  {
   "cell_type": "code",
   "execution_count": 15,
   "id": "e7d93bdb-d18c-4b56-b839-03cfb4675ebf",
   "metadata": {},
   "outputs": [
    {
     "name": "stdout",
     "output_type": "stream",
     "text": [
      "[1, 2, 3, 4, ['A', 'B', 'C', 'D']]\n",
      "['A', 'B', 'C', 'D']\n"
     ]
    }
   ],
   "source": [
    "l1=[1,2,3,4]\n",
    "l2=['A','B','C','D']\n",
    "l1.append(l2)\n",
    "print(l1)\n",
    "print(l2)\n",
    "\n",
    "# l1 list is overwrire with l2 values"
   ]
  },
  {
   "cell_type": "code",
   "execution_count": 16,
   "id": "c5dc6326-144b-46e5-aeb9-f4df9a3d7e8a",
   "metadata": {},
   "outputs": [
    {
     "name": "stdout",
     "output_type": "stream",
     "text": [
      "[1, 2, 3, 4, 'A', 'B', 'C', 'D']\n",
      "['A', 'B', 'C', 'D']\n"
     ]
    }
   ],
   "source": [
    "l1=[1,2,3,4]\n",
    "l2=['A','B','C','D']\n",
    "l1.extend(l2)\n",
    "print(l1)\n",
    "print(l2)"
   ]
  },
  {
   "cell_type": "code",
   "execution_count": 17,
   "id": "2674ef17-979d-4d2d-8432-b48ff5c1d4bb",
   "metadata": {},
   "outputs": [
    {
     "name": "stdout",
     "output_type": "stream",
     "text": [
      "[1, 2, 3, 4]\n",
      "['A', 'B', 'C', 'D', 1, 2, 3, 4]\n"
     ]
    }
   ],
   "source": [
    "l1=[1,2,3,4]\n",
    "l2=['A','B','C','D']\n",
    "l2.extend(l1)\n",
    "print(l1)\n",
    "print(l2)"
   ]
  },
  {
   "cell_type": "code",
   "execution_count": 18,
   "id": "c4daa84b-2ed0-4e40-a5a4-9b07af566dcd",
   "metadata": {},
   "outputs": [
    {
     "name": "stdout",
     "output_type": "stream",
     "text": [
      "[1, 2, 3, 4, 'A', 'B', 'C', 'D']\n",
      "['A', 'B', 'C', 'D', 1, 2, 3, 4]\n",
      "[1, 2, 3, 4]\n",
      "['A', 'B', 'C', 'D']\n"
     ]
    }
   ],
   "source": [
    "l1=[1,2,3,4]\n",
    "l2=['A','B','C','D']\n",
    "print(l1+l2)\n",
    "print(l2+l1)\n",
    "print(l1)\n",
    "print(l2)"
   ]
  },
  {
   "cell_type": "code",
   "execution_count": 19,
   "id": "981468ef-3243-4d4d-a64b-f0ef30702475",
   "metadata": {},
   "outputs": [
    {
     "data": {
      "text/plain": [
       "[1, 2, 3, 4, 'a', 'p', 'p', 'l', 'e']"
      ]
     },
     "execution_count": 19,
     "metadata": {},
     "output_type": "execute_result"
    }
   ],
   "source": [
    "l1=[1,2,3,4]\n",
    "l1.extend('apple')\n",
    "l1\n",
    "#[1,2,3,4,'a','p','p','l','e']"
   ]
  },
  {
   "cell_type": "code",
   "execution_count": 20,
   "id": "a845bc71-8d70-48f5-abd4-5093807f4a72",
   "metadata": {},
   "outputs": [
    {
     "data": {
      "text/plain": [
       "[1, 2, 3, 4, 10, 20, 30, 40]"
      ]
     },
     "execution_count": 20,
     "metadata": {},
     "output_type": "execute_result"
    }
   ],
   "source": [
    "l1=[1,2,3,4]\n",
    "l1.extend((10,20,30,40))\n",
    "l1\n"
   ]
  },
  {
   "cell_type": "markdown",
   "id": "ada28ea8-2900-4e9a-ae7f-7ef6a9017b35",
   "metadata": {},
   "source": [
    "- append just append the value with base data type\n",
    "\n",
    "- extend is concatenate the value, and the list will be overwrite with new values\n",
    "\n",
    "- extend can take any iterable format type i.e. string,list,tuple\n",
    "\n",
    "- extend and concatenation both are same\n",
    "\n",
    "- the list will not overwrite in concatenation"
   ]
  },
  {
   "cell_type": "markdown",
   "id": "73c514ea-df6b-4483-81e0-fd4c3dadf624",
   "metadata": {},
   "source": [
    "**index**\n",
    "\n",
    "- same like string only"
   ]
  },
  {
   "cell_type": "code",
   "execution_count": 21,
   "id": "38067237-b4a6-4b1e-ae2c-9f0616130963",
   "metadata": {},
   "outputs": [
    {
     "data": {
      "text/plain": [
       "(3, 6)"
      ]
     },
     "execution_count": 21,
     "metadata": {},
     "output_type": "execute_result"
    }
   ],
   "source": [
    "l1=[1, 2, 3,'Apple', 10, 20, 'Apple', 40]\n",
    "l1.index(2)\n",
    "i1=l1.index('Apple')\n",
    "i2=l1.index('Apple',i1+1)\n",
    "i1,i2"
   ]
  },
  {
   "cell_type": "code",
   "execution_count": 22,
   "id": "93cb1071-91c0-49d2-bd73-558759458661",
   "metadata": {},
   "outputs": [
    {
     "data": {
      "text/plain": [
       "6"
      ]
     },
     "execution_count": 22,
     "metadata": {},
     "output_type": "execute_result"
    }
   ],
   "source": [
    "l1.index('Apple',l1.index('Apple')+1)"
   ]
  },
  {
   "cell_type": "code",
   "execution_count": 23,
   "id": "59a0503f-46e9-4ead-b50c-a121bffde8f9",
   "metadata": {},
   "outputs": [
    {
     "name": "stdout",
     "output_type": "stream",
     "text": [
      "3\n"
     ]
    }
   ],
   "source": [
    "l1=[1, 2, 3,'Apple', 10, 20, 'Apple', 40]\n",
    "#   0  1  2    3      4   5     6     7\n",
    "i1=l1.index('Apple') # Case-1\n",
    "i2=l1.index('Apple',i1+1) # Case-2\n",
    "i3=l1.index('Apple',2,5) # Case-3\n",
    "print(i3)\n",
    "# If i want second 'Apple'\n",
    "# from which index my eyes will start"
   ]
  },
  {
   "cell_type": "markdown",
   "id": "d17d33e4-8d6b-4031-bd3c-a0cab9e4f10c",
   "metadata": {},
   "source": [
    "- case-1: Directly get the index\n",
    "\n",
    "- case-2: Next value index, by providing start\n",
    "\n",
    "- case-3: Between the values"
   ]
  },
  {
   "cell_type": "markdown",
   "id": "eaa0248a-83a6-4b5f-8c40-40a3d4860c78",
   "metadata": {},
   "source": [
    "- Copy/clear\n",
    "\n",
    "- Append/Extend/Concatenation\n",
    "\n",
    "- Index\n",
    "\n",
    "- There is no find in list\n",
    "\n",
    "- count is exactly same as strings"
   ]
  },
  {
   "cell_type": "markdown",
   "id": "0a18ddeb-0f89-4075-902a-72e238bddd8b",
   "metadata": {},
   "source": [
    "**insert**\n",
    "\n",
    "- will insert the element based on index\n",
    "- append will add the element at last only"
   ]
  },
  {
   "cell_type": "code",
   "execution_count": 1,
   "id": "30f292ca-8bf1-43c7-a168-d010a8b2e58e",
   "metadata": {},
   "outputs": [
    {
     "data": {
      "text/plain": [
       "[1, 2, 3, 'Banana', 'Apple', 10, 20, 'Apple', 40]"
      ]
     },
     "execution_count": 1,
     "metadata": {},
     "output_type": "execute_result"
    }
   ],
   "source": [
    "l1=[1, 2, 3,'Apple', 10, 20, 'Apple', 40]\n",
    "# 0 1 2 3 4 5 6 7\n",
    "i1=l1.index('Apple') # Apple index = 3\n",
    "l1.insert(i1,'Banana') # insert banana before index i1(3)\n",
    "l1"
   ]
  },
  {
   "cell_type": "code",
   "execution_count": 2,
   "id": "9f4c64fa-697d-4a9a-9346-badad5fed70e",
   "metadata": {},
   "outputs": [
    {
     "data": {
      "text/plain": [
       "[1, 2, 3, 'Apple', 10, 20, 'Apple', 'Cherry', 40]"
      ]
     },
     "execution_count": 2,
     "metadata": {},
     "output_type": "execute_result"
    }
   ],
   "source": [
    "l1=[1, 2, 3,'Apple', 10, 20, 'Apple', 40]\n",
    "# Insert 'Cherry' before 40\n",
    "# You need to find index of the 40\n",
    "i1=l1.index(40)\n",
    "l1.insert(i1,'Cherry')\n",
    "l1"
   ]
  },
  {
   "cell_type": "code",
   "execution_count": 3,
   "id": "7c60c1dd-9fc2-401d-8097-64d7cdaff55d",
   "metadata": {},
   "outputs": [
    {
     "data": {
      "text/plain": [
       "[1, 2, 3, 'Apple', 10, 20, 'Cherry', 'Apple', 40]"
      ]
     },
     "execution_count": 3,
     "metadata": {},
     "output_type": "execute_result"
    }
   ],
   "source": [
    "#If we want to add cherry before 2nd apple then how ?\n",
    "l1=[1, 2, 3,'Apple', 10, 20, 'Apple', 40]\n",
    "# step-1: we want to find the index of 2nd 'APPLE'\n",
    "# Step-2: How to find the second 'Apple' index\n",
    "i1=l1.index('Apple')\n",
    "i2=l1.index('Apple',i1+1)\n",
    "l1.insert(6,'Cherry')\n",
    "l1"
   ]
  },
  {
   "cell_type": "markdown",
   "id": "9a08f875-d906-4b07-b27f-456169ff699e",
   "metadata": {},
   "source": [
    "**pop-remove-del**\n",
    "    \n",
    "- pop will remove the item\n",
    "\n",
    "- pop also display the item which is removing\n",
    "\n",
    "- pop will take one argument:index\n",
    "\n",
    "- pop will remove the item based on index\n",
    "\n",
    "- if you dont provide any index, by default it will remove last value\n",
    "\n",
    "- because the default index value is -1"
   ]
  },
  {
   "cell_type": "code",
   "execution_count": 4,
   "id": "1e9c2b84-d9b4-402b-8ba2-e28678d39c28",
   "metadata": {},
   "outputs": [
    {
     "data": {
      "text/plain": [
       "[1, 2, 3, 'Apple', 10, 20, 'Apple']"
      ]
     },
     "execution_count": 4,
     "metadata": {},
     "output_type": "execute_result"
    }
   ],
   "source": [
    "l1=[1, 2, 3,'Apple', 10, 20, 'Apple', 40]\n",
    "l1.pop()\n",
    "l1"
   ]
  },
  {
   "cell_type": "code",
   "execution_count": 5,
   "id": "f064c636-4e43-4b8f-876a-a1ccacf8daf7",
   "metadata": {},
   "outputs": [
    {
     "data": {
      "text/plain": [
       "[1, 2, 3, 10, 20, 'Apple', 40]"
      ]
     },
     "execution_count": 5,
     "metadata": {},
     "output_type": "execute_result"
    }
   ],
   "source": [
    "# We are concentarting only on first Apple\n",
    "l1=[1, 2, 3,'Apple', 10, 20, 'Apple', 40]\n",
    "i1=l1.index('Apple')\n",
    "l1.pop(i1)\n",
    "l1"
   ]
  },
  {
   "cell_type": "code",
   "execution_count": null,
   "id": "c9c4c2c1-a0ab-42cb-9694-0121639bbd08",
   "metadata": {},
   "outputs": [],
   "source": [
    "# We are concentarting only on Second apple\n",
    "l1=[1, 2, 3,'Apple', 10, 20, 'Apple', 40]\n",
    "i1=l1.index('Apple')\n",
    "i2=l1.index('Apple',i1+1)\n",
    "l1.pop(i2)\n",
    "l1"
   ]
  },
  {
   "cell_type": "code",
   "execution_count": 6,
   "id": "f00b050a-f3b2-41ab-866a-3080ae46976e",
   "metadata": {},
   "outputs": [
    {
     "data": {
      "text/plain": [
       "[1, 2, 3, 10, 20, 40]"
      ]
     },
     "execution_count": 6,
     "metadata": {},
     "output_type": "execute_result"
    }
   ],
   "source": [
    "l1=[1, 2, 3,'Apple', 10, 20, 'Apple', 40]\n",
    "i1=l1.index('Apple') #3\n",
    "l1.pop(i1) # l1=[1, 2, 3,10, 20, 'Apple', 40]\n",
    "###############################################################\n",
    "i1=l1.index('Apple')\n",
    "l1.pop(i1)\n",
    "l1"
   ]
  },
  {
   "cell_type": "code",
   "execution_count": 7,
   "id": "1ea3fb2c-223f-4295-8d89-579d6a54cd5e",
   "metadata": {},
   "outputs": [
    {
     "data": {
      "text/plain": [
       "'hai how are you im good thank you'"
      ]
     },
     "execution_count": 7,
     "metadata": {},
     "output_type": "execute_result"
    }
   ],
   "source": [
    "str='hai apple how are you apple im good apple thank you apple'\n",
    "# o/p='hai how are you im goof thank you'\n",
    "# Idea:\n",
    "# step-1: split\n",
    "# itearte it\n",
    "# pop it\n",
    "# join it\n",
    "list1=str.split()\n",
    "count=list1.count('apple')\n",
    "for i in range(count):\n",
    "    i1=list1.index('apple')\n",
    "    list1.pop(i1)\n",
    "' '.join(list1)"
   ]
  },
  {
   "cell_type": "markdown",
   "id": "ddef7841-cc8d-497e-b361-10dad1996e5d",
   "metadata": {},
   "source": [
    "- pop will take the index\n",
    "\n",
    "- remove will take the value\n",
    "\n",
    "- remove will delete the first occurence of element"
   ]
  },
  {
   "cell_type": "code",
   "execution_count": 8,
   "id": "62fd1851-e446-4c53-8fb7-3078d01941e4",
   "metadata": {},
   "outputs": [
    {
     "data": {
      "text/plain": [
       "[1, 2, 3, 10, 20, 'Apple', 40]"
      ]
     },
     "execution_count": 8,
     "metadata": {},
     "output_type": "execute_result"
    }
   ],
   "source": [
    "l1=[1, 2, 3,'Apple', 10, 20, 'Apple', 40]\n",
    "l1.remove('Apple')\n",
    "l1"
   ]
  },
  {
   "cell_type": "code",
   "execution_count": 9,
   "id": "bbcfd5fc-cd4f-4495-9d64-ee30304ef5f5",
   "metadata": {},
   "outputs": [
    {
     "data": {
      "text/plain": [
       "'hai how are you im good thank you'"
      ]
     },
     "execution_count": 9,
     "metadata": {},
     "output_type": "execute_result"
    }
   ],
   "source": [
    "str='hai apple how are you apple im good apple thank you apple'\n",
    "list1=str.split()\n",
    "count=list1.count('apple')\n",
    "for i in range(count):\n",
    "    list1.remove('apple')\n",
    "' '.join(list1)"
   ]
  },
  {
   "cell_type": "markdown",
   "id": "71b09830-4a8e-4a6e-b6cc-31a0cb0bbf10",
   "metadata": {},
   "source": [
    "**del**"
   ]
  },
  {
   "cell_type": "code",
   "execution_count": 10,
   "id": "6e722605-897f-42fa-8dda-1c6b6f58522c",
   "metadata": {},
   "outputs": [
    {
     "data": {
      "text/plain": [
       "[1, 2, 3, 10, 20, 'Apple', 40]"
      ]
     },
     "execution_count": 10,
     "metadata": {},
     "output_type": "execute_result"
    }
   ],
   "source": [
    "l1=[1, 2, 3,'Apple', 10, 20, 'Apple', 40]\n",
    "del(l1[3])\n",
    "l1"
   ]
  },
  {
   "cell_type": "markdown",
   "id": "b880e05b-c239-4ce4-9f3f-4456d4dc9e3d",
   "metadata": {},
   "source": [
    "- append / extend/ insert/concatenation\n",
    "\n",
    "- pop/remove/del\n",
    "\n",
    "- sort/sorted\n",
    "\n",
    "- reverse/reveresd\n",
    "\n",
    "- count and index"
   ]
  },
  {
   "cell_type": "markdown",
   "id": "5ca1f6a6-361d-4f06-9c98-b65de1d377aa",
   "metadata": {},
   "source": [
    "- representation\n",
    "\n",
    "- type\n",
    "\n",
    "- len\n",
    "\n",
    "- max\n",
    "\n",
    "- min\n",
    "\n",
    "- sum\n",
    "\n",
    "- sorted\n",
    "\n",
    "- reversed\n",
    "\n",
    "- in\n",
    "\n",
    "- for loop with in\n",
    "\n",
    "- index\n",
    "\n",
    "- for loop with index\n",
    "\n",
    "- mutable and immutable\n",
    "\n",
    "- slicing\n",
    "\n",
    "- concatenation\n",
    "\n",
    "- Methods"
   ]
  },
  {
   "cell_type": "code",
   "execution_count": 11,
   "id": "f68e65d3-5145-49bf-840e-bc14254d5128",
   "metadata": {},
   "outputs": [
    {
     "data": {
      "text/plain": [
       "['__add__',\n",
       " '__class__',\n",
       " '__class_getitem__',\n",
       " '__contains__',\n",
       " '__delattr__',\n",
       " '__dir__',\n",
       " '__doc__',\n",
       " '__eq__',\n",
       " '__format__',\n",
       " '__ge__',\n",
       " '__getattribute__',\n",
       " '__getitem__',\n",
       " '__getnewargs__',\n",
       " '__getstate__',\n",
       " '__gt__',\n",
       " '__hash__',\n",
       " '__init__',\n",
       " '__init_subclass__',\n",
       " '__iter__',\n",
       " '__le__',\n",
       " '__len__',\n",
       " '__lt__',\n",
       " '__mul__',\n",
       " '__ne__',\n",
       " '__new__',\n",
       " '__reduce__',\n",
       " '__reduce_ex__',\n",
       " '__repr__',\n",
       " '__rmul__',\n",
       " '__setattr__',\n",
       " '__sizeof__',\n",
       " '__str__',\n",
       " '__subclasshook__',\n",
       " 'count',\n",
       " 'index']"
      ]
     },
     "execution_count": 11,
     "metadata": {},
     "output_type": "execute_result"
    }
   ],
   "source": [
    "dir(())"
   ]
  },
  {
   "cell_type": "code",
   "execution_count": null,
   "id": "ee5e503c-6efc-4791-9b53-2a86b5f769de",
   "metadata": {},
   "outputs": [],
   "source": []
  }
 ],
 "metadata": {
  "kernelspec": {
   "display_name": "Python 3 (ipykernel)",
   "language": "python",
   "name": "python3"
  },
  "language_info": {
   "codemirror_mode": {
    "name": "ipython",
    "version": 3
   },
   "file_extension": ".py",
   "mimetype": "text/x-python",
   "name": "python",
   "nbconvert_exporter": "python",
   "pygments_lexer": "ipython3",
   "version": "3.11.7"
  }
 },
 "nbformat": 4,
 "nbformat_minor": 5
}
