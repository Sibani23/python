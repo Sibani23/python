{
 "cells": [
  {
   "cell_type": "code",
   "execution_count": 5,
   "id": "57e0838b-d5d5-4c0d-8098-af3e86d8de1c",
   "metadata": {},
   "outputs": [],
   "source": [
    "true=True\n",
    "\n",
    "# true is varaible\n",
    "# true is a boolean value we are storing in true"
   ]
  },
  {
   "cell_type": "code",
   "execution_count": 6,
   "id": "bb9ca0a4-7461-455c-844c-efd64e673f01",
   "metadata": {},
   "outputs": [
    {
     "data": {
      "text/plain": [
       "True"
      ]
     },
     "execution_count": 6,
     "metadata": {},
     "output_type": "execute_result"
    }
   ],
   "source": [
    "true"
   ]
  },
  {
   "cell_type": "code",
   "execution_count": null,
   "id": "8331dbe9-9c50-44d8-96bf-fcd8c6446f21",
   "metadata": {},
   "outputs": [],
   "source": [
    "name 'true' is not defined\n",
    "name 'hyd' is not defined\n",
    "name 'india' is not defined"
   ]
  },
  {
   "cell_type": "code",
   "execution_count": null,
   "id": "d51c7614-2099-49f9-9a79-a1a280b66274",
   "metadata": {},
   "outputs": [],
   "source": [
    "n1=100"
   ]
  },
  {
   "cell_type": "code",
   "execution_count": 10,
   "id": "d417a5b4-69fb-48b2-9639-9ae452151936",
   "metadata": {},
   "outputs": [
    {
     "data": {
      "text/plain": [
       "100"
      ]
     },
     "execution_count": 10,
     "metadata": {},
     "output_type": "execute_result"
    }
   ],
   "source": [
    "n1"
   ]
  },
  {
   "cell_type": "code",
   "execution_count": 11,
   "id": "c12c0b87-25d7-43f3-bb0d-310f08ff27ea",
   "metadata": {},
   "outputs": [
    {
     "ename": "SyntaxError",
     "evalue": "invalid syntax (2678815843.py, line 3)",
     "output_type": "error",
     "traceback": [
      "\u001b[1;36m  Cell \u001b[1;32mIn[11], line 3\u001b[1;36m\u001b[0m\n\u001b[1;33m    type true\u001b[0m\n\u001b[1;37m         ^\u001b[0m\n\u001b[1;31mSyntaxError\u001b[0m\u001b[1;31m:\u001b[0m invalid syntax\n"
     ]
    }
   ],
   "source": [
    "# 15 days our main goal\n",
    "# to avoid the syntex error\n",
    "type true"
   ]
  },
  {
   "cell_type": "code",
   "execution_count": 12,
   "id": "ef50fa19-1512-4adc-a73b-81de3ccfa21c",
   "metadata": {},
   "outputs": [
    {
     "data": {
      "text/plain": [
       "bool"
      ]
     },
     "execution_count": 12,
     "metadata": {},
     "output_type": "execute_result"
    }
   ],
   "source": [
    "type(true)"
   ]
  },
  {
   "cell_type": "code",
   "execution_count": null,
   "id": "54a0b306-fb74-4865-8ff2-9477720e0c40",
   "metadata": {},
   "outputs": [],
   "source": [
    "100"
   ]
  },
  {
   "cell_type": "code",
   "execution_count": null,
   "id": "448fea8d-0bcf-420c-87d9-d683c83f636d",
   "metadata": {},
   "outputs": [],
   "source": [
    "1)mistakes are very very common\n",
    "2)avoid the syntex error\n",
    "3)you will think about logic\n",
    "4)1min=== 1hour\n",
    "1st === 10 ===25th ==== 100th"
   ]
  },
  {
   "cell_type": "markdown",
   "id": "d4277ed4-26d2-4e36-93b3-28d80ddd77c3",
   "metadata": {},
   "source": [
    "- integer data type int\n",
    "- float data type float\n",
    "- string data type str\n",
    "- Boolean data type bool"
   ]
  },
  {
   "cell_type": "markdown",
   "id": "25d8e28a-f2bb-4e30-93bb-0b3fe20b3767",
   "metadata": {},
   "source": [
    "**type casting**\n",
    "- convert one data type to another data type is called as type casting \n",
    "- which means we wants to convert \n",
    "- integer type to all other(float,str,boll)data types\n",
    "- float type to all other(int,str,boll)data types\n",
    "- str type to all other(int,float,bool)data types\n",
    "- bool type to all other(int,float,str)data types"
   ]
  },
  {
   "cell_type": "markdown",
   "id": "abf868ae-6a16-402e-befd-01a19e9f18c7",
   "metadata": {},
   "source": [
    "**INTEGER TO OTHER DATA TYPES**"
   ]
  },
  {
   "cell_type": "markdown",
   "id": "f0f78eeb-d279-42cf-88a4-1626b52e94b5",
   "metadata": {},
   "source": [
    "int - float"
   ]
  },
  {
   "cell_type": "code",
   "execution_count": 17,
   "id": "aa2e38ef-6cf5-44ed-a859-c012c5fe2f10",
   "metadata": {},
   "outputs": [
    {
     "data": {
      "text/plain": [
       "int"
      ]
     },
     "execution_count": 17,
     "metadata": {},
     "output_type": "execute_result"
    }
   ],
   "source": [
    "num=100\n",
    "type(num)"
   ]
  },
  {
   "cell_type": "code",
   "execution_count": 18,
   "id": "165e3722-7c20-4c86-8430-aad46184a4a0",
   "metadata": {},
   "outputs": [
    {
     "data": {
      "text/plain": [
       "float"
      ]
     },
     "execution_count": 18,
     "metadata": {},
     "output_type": "execute_result"
    }
   ],
   "source": [
    "float_num=float(num)\n",
    "type(float_num)"
   ]
  },
  {
   "cell_type": "code",
   "execution_count": 22,
   "id": "ef14cbea-9af9-4135-9368-8b12a86940f7",
   "metadata": {},
   "outputs": [
    {
     "data": {
      "text/plain": [
       "'100'"
      ]
     },
     "execution_count": 22,
     "metadata": {},
     "output_type": "execute_result"
    }
   ],
   "source": [
    "str_num=str(num)\n",
    "str_num"
   ]
  },
  {
   "cell_type": "code",
   "execution_count": 23,
   "id": "218978a5-95fe-470d-b714-0b06d34ed7bd",
   "metadata": {},
   "outputs": [
    {
     "data": {
      "text/plain": [
       "str"
      ]
     },
     "execution_count": 23,
     "metadata": {},
     "output_type": "execute_result"
    }
   ],
   "source": [
    "type(str_num)"
   ]
  },
  {
   "cell_type": "code",
   "execution_count": 24,
   "id": "265f36c5-7209-49c4-82c5-028f0e8affd8",
   "metadata": {},
   "outputs": [
    {
     "data": {
      "text/plain": [
       "True"
      ]
     },
     "execution_count": 24,
     "metadata": {},
     "output_type": "execute_result"
    }
   ],
   "source": [
    "bool(num)"
   ]
  },
  {
   "cell_type": "code",
   "execution_count": 25,
   "id": "edf1b8bc-f042-4b0b-b37c-fe68cb0939e3",
   "metadata": {},
   "outputs": [
    {
     "data": {
      "text/plain": [
       "(200.0, '200', True)"
      ]
     },
     "execution_count": 25,
     "metadata": {},
     "output_type": "execute_result"
    }
   ],
   "source": [
    "float(200),str(200),bool(200)"
   ]
  },
  {
   "cell_type": "code",
   "execution_count": 27,
   "id": "442f3a98-c37e-4eb0-91d5-a08300e47a7d",
   "metadata": {},
   "outputs": [
    {
     "data": {
      "text/plain": [
       "(-200.0, '-200', True)"
      ]
     },
     "execution_count": 27,
     "metadata": {},
     "output_type": "execute_result"
    }
   ],
   "source": [
    "float(-200),str(-200),bool(-200)"
   ]
  },
  {
   "cell_type": "code",
   "execution_count": 28,
   "id": "73ae8842-f573-4de0-b4d1-8a2101046cf3",
   "metadata": {},
   "outputs": [
    {
     "data": {
      "text/plain": [
       "False"
      ]
     },
     "execution_count": 28,
     "metadata": {},
     "output_type": "execute_result"
    }
   ],
   "source": [
    "# when integer of boolean converstion become False\n",
    "bool(0)"
   ]
  },
  {
   "cell_type": "markdown",
   "id": "01098a12-aedc-4cb4-8795-62b91d3afa38",
   "metadata": {},
   "source": [
    "**NOTE**"
   ]
  },
  {
   "cell_type": "markdown",
   "id": "27c1a539-d5e3-4fb0-a934-55cb4ed58855",
   "metadata": {},
   "source": [
    "- integer=0 then only bollean conversion becomes false\n",
    "- other wise for any positive number or any negative number it becomes true only"
   ]
  },
  {
   "cell_type": "markdown",
   "id": "5e24b124-a648-4d81-bc7c-4d229670e1da",
   "metadata": {},
   "source": [
    " **FLOAT TO ANOTHER DATA TYPE**"
   ]
  },
  {
   "cell_type": "code",
   "execution_count": null,
   "id": "ce6eefb0-39ca-4dae-88fb-d7b09c6de05e",
   "metadata": {},
   "outputs": [],
   "source": [
    "int(200.5) # 200\n",
    "str(200.5) # '200.5'\n",
    "bool(200.5) # True"
   ]
  },
  {
   "cell_type": "code",
   "execution_count": 29,
   "id": "c0481fc9-eff4-4325-87a8-221250e52952",
   "metadata": {},
   "outputs": [
    {
     "data": {
      "text/plain": [
       "(200, '200.5', True)"
      ]
     },
     "execution_count": 29,
     "metadata": {},
     "output_type": "execute_result"
    }
   ],
   "source": [
    "int(200.5),str(200.5),bool(200.5)"
   ]
  },
  {
   "cell_type": "code",
   "execution_count": null,
   "id": "76683ed0-3e18-406b-b164-a883c7b44fa7",
   "metadata": {},
   "outputs": [],
   "source": []
  },
  {
   "cell_type": "code",
   "execution_count": 30,
   "id": "ade88222-30b2-4064-abb7-2ee6b023cf92",
   "metadata": {},
   "outputs": [
    {
     "data": {
      "text/plain": [
       "(200, '200.5', False)"
      ]
     },
     "execution_count": 30,
     "metadata": {},
     "output_type": "execute_result"
    }
   ],
   "source": [
    "int(200.5),str(200.5),bool(0.0)"
   ]
  },
  {
   "cell_type": "markdown",
   "id": "bb1d5f53-cef6-49fd-9a4f-c990ad9f454c",
   "metadata": {},
   "source": [
    "**STRING TO ANOTHER DATA TYPES**"
   ]
  },
  {
   "cell_type": "code",
   "execution_count": 31,
   "id": "519661e8-4401-433b-a745-db23d9cdaf8a",
   "metadata": {},
   "outputs": [],
   "source": [
    "# case-1\n",
    "str='apple'\n",
    "# case-2\n",
    "strl='10'\n",
    "# case3:\n",
    "str2='10.5'"
   ]
  },
  {
   "cell_type": "code",
   "execution_count": null,
   "id": "035565f9-eb0e-4b22-92a1-13fc92fe727c",
   "metadata": {},
   "outputs": [],
   "source": [
    "int('apple') # error\n",
    "float('apple') # error\n",
    "bool('apple') # True     "
   ]
  },
  {
   "cell_type": "code",
   "execution_count": null,
   "id": "dd89b97a-6e25-4dcf-b147-30bf90a59e6f",
   "metadata": {},
   "outputs": [],
   "source": [
    "int('10') # 10\n",
    "float('10') # 10.0   \n",
    "bool('10.5') # true"
   ]
  },
  {
   "cell_type": "code",
   "execution_count": null,
   "id": "cd57f692-288d-4915-8f69-2231f7021e8b",
   "metadata": {},
   "outputs": [],
   "source": [
    "int('10.5') # error\n",
    "float('10.5') # 10.5\n",
    "bool('10.5') # true"
   ]
  },
  {
   "cell_type": "code",
   "execution_count": null,
   "id": "391766db-7eb0-490c-ad6b-02207c02e970",
   "metadata": {},
   "outputs": [],
   "source": [
    "int('10') # pass\n",
    "int('10.5') # fail\n",
    "float('10') # pass\n",
    "float('10.5') # pass"
   ]
  },
  {
   "cell_type": "markdown",
   "id": "e5942782-a1e1-463b-9e3d-4a1658c611aa",
   "metadata": {},
   "source": [
    "- float is the boss\n",
    "- float of any value either it is integer in strings format\n",
    "- Or float in strings format will work\n",
    "- But integer will works only for integer in strings format\n",
    "- Integer type casting will fail for float in strings fomat"
   ]
  },
  {
   "cell_type": "code",
   "execution_count": 33,
   "id": "26c51baf-b1f9-42d4-91cb-10aff073c0b2",
   "metadata": {},
   "outputs": [
    {
     "data": {
      "text/plain": [
       "False"
      ]
     },
     "execution_count": 33,
     "metadata": {},
     "output_type": "execute_result"
    }
   ],
   "source": [
    "bool('')"
   ]
  },
  {
   "cell_type": "code",
   "execution_count": 15,
   "id": "49cb4094-c960-4315-9330-3549f16bf6eb",
   "metadata": {},
   "outputs": [
    {
     "data": {
      "text/plain": [
       "False"
      ]
     },
     "execution_count": 15,
     "metadata": {},
     "output_type": "execute_result"
    }
   ],
   "source": [
    "bool(0)"
   ]
  },
  {
   "cell_type": "markdown",
   "id": "3f7b46c2-9e6a-4cdd-89b1-525094e87803",
   "metadata": {},
   "source": [
    "- Empty string of boolean give False\n",
    "- False means nothing either 0 or empty string"
   ]
  },
  {
   "cell_type": "code",
   "execution_count": null,
   "id": "a7e19c6c-65b0-4626-8d3f-41d7d0cc774f",
   "metadata": {},
   "outputs": [],
   "source": [
    "# boolean to other type\n",
    "True ====int float str"
   ]
  },
  {
   "cell_type": "code",
   "execution_count": 35,
   "id": "b83a6b4f-3bcb-466e-9887-1ae320473bc3",
   "metadata": {},
   "outputs": [
    {
     "data": {
      "text/plain": [
       "1"
      ]
     },
     "execution_count": 35,
     "metadata": {},
     "output_type": "execute_result"
    }
   ],
   "source": [
    "int(True)"
   ]
  },
  {
   "cell_type": "code",
   "execution_count": 36,
   "id": "9059d217-927f-4c0e-ad17-65671529f6ff",
   "metadata": {},
   "outputs": [
    {
     "data": {
      "text/plain": [
       "1.0"
      ]
     },
     "execution_count": 36,
     "metadata": {},
     "output_type": "execute_result"
    }
   ],
   "source": [
    "float(True)"
   ]
  },
  {
   "cell_type": "code",
   "execution_count": 1,
   "id": "7dac57ec-ceca-479f-a015-8dc43452c84f",
   "metadata": {},
   "outputs": [
    {
     "data": {
      "text/plain": [
       "'True'"
      ]
     },
     "execution_count": 1,
     "metadata": {},
     "output_type": "execute_result"
    }
   ],
   "source": [
    "str(True)"
   ]
  },
  {
   "cell_type": "code",
   "execution_count": 2,
   "id": "76a4cdab-c520-41f5-b7e2-eca04ef2ff95",
   "metadata": {},
   "outputs": [
    {
     "data": {
      "text/plain": [
       "'False'"
      ]
     },
     "execution_count": 2,
     "metadata": {},
     "output_type": "execute_result"
    }
   ],
   "source": [
    "int(False)\n",
    "float(False)\n",
    "str(False)"
   ]
  },
  {
   "cell_type": "code",
   "execution_count": null,
   "id": "0757a201-691e-4a14-9358-27182d72c254",
   "metadata": {},
   "outputs": [],
   "source": [
    "############## Int to other##############\n",
    "float(100)\n",
    "str(100)\n",
    "bool(100)\n",
    "\n",
    "############### Float to other ###########\n",
    "int(100.5)\n",
    "str(100.5)\n",
    "bool(100.5)\n",
    "\n",
    "bool(0)\n",
    "\n",
    "################ str to other ###########\n",
    "int('apple') # error\n",
    "float('apple') # error\n",
    "bool('apple') # true\n",
    "\n",
    "int('10') # 10\n",
    "float('10') # 10.0\n",
    "bool('10') # true\n",
    "\n",
    "int('10.5') # error\n",
    "float('10.5') # 10.5\n",
    "bool('10.5') # True\n",
    "\n",
    "bool('')\n",
    "\n",
    "#########################bool to other############################"
   ]
  },
  {
   "cell_type": "code",
   "execution_count": null,
   "id": "401bef2e-ee1b-423b-bfea-dfbd744a700c",
   "metadata": {},
   "outputs": [],
   "source": [
    "int(False)\n",
    "float(False)\n",
    "str(False)\n",
    "\n",
    "int(True)\n",
    "float(True)\n",
    "str(True)"
   ]
  }
 ],
 "metadata": {
  "kernelspec": {
   "display_name": "Python 3 (ipykernel)",
   "language": "python",
   "name": "python3"
  },
  "language_info": {
   "codemirror_mode": {
    "name": "ipython",
    "version": 3
   },
   "file_extension": ".py",
   "mimetype": "text/x-python",
   "name": "python",
   "nbconvert_exporter": "python",
   "pygments_lexer": "ipython3",
   "version": "3.11.7"
  }
 },
 "nbformat": 4,
 "nbformat_minor": 5
}
