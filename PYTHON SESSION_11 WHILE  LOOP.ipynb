{
 "cells": [
  {
   "cell_type": "markdown",
   "id": "53812a95-f561-4b64-a0b6-7993b1b0f647",
   "metadata": {},
   "source": [
    "**Loops**\n",
    "  \n",
    "- For loop\n",
    "- while loop : If you want to run an infinite iterations will choose while loop\n",
    "- Every loop we need three things\n",
    "- Intial point ( starting point)\n",
    "- Increment or decrement\n",
    "- Condition ( stop point)"
   ]
  },
  {
   "cell_type": "code",
   "execution_count": 3,
   "id": "8baf2343-8641-4e98-aa63-c00aeaba670a",
   "metadata": {},
   "outputs": [
    {
     "name": "stdout",
     "output_type": "stream",
     "text": [
      "1 3 5 7 9 "
     ]
    }
   ],
   "source": [
    "for i in range(1,10,2):\n",
    "    print(i,end=' ')"
   ]
  },
  {
   "cell_type": "markdown",
   "id": "86d5ebf3-6b87-42df-ae63-304d82d9e9b6",
   "metadata": {},
   "source": [
    "- In for loop all three things mentioned in a single line : range(start,stop,step)\n",
    "- In while loop we will use these three things, in as a three lines"
   ]
  },
  {
   "cell_type": "code",
   "execution_count": null,
   "id": "7521c52d-345d-447a-bbef-c0ab99012c02",
   "metadata": {},
   "outputs": [],
   "source": [
    "<start point>\n",
    "while <how to stop>:\n",
    "    codeline1\n",
    "    codeline2\n",
    "    <increment or decrement>"
   ]
  },
  {
   "cell_type": "code",
   "execution_count": null,
   "id": "d53832d4-12be-496e-98e5-d5b76a2dc3b6",
   "metadata": {},
   "outputs": [],
   "source": [
    "if <condition>:\n",
    "######"
   ]
  },
  {
   "cell_type": "code",
   "execution_count": 10,
   "id": "97e1a88c-80e3-4843-aa83-24dd70835186",
   "metadata": {},
   "outputs": [
    {
     "name": "stdout",
     "output_type": "stream",
     "text": [
      "1 hello\n",
      "2 hello\n",
      "3 hello\n",
      "4 hello\n",
      "5 hello\n",
      "6 hello\n",
      "7 hello\n",
      "8 hello\n",
      "9 hello\n"
     ]
    }
   ],
   "source": [
    "for i in range(1,10):\n",
    "    print(i,end=' ')\n",
    "    print('hello')"
   ]
  },
  {
   "cell_type": "code",
   "execution_count": null,
   "id": "c63c538f-6886-4ecb-b4f7-33340e895a0b",
   "metadata": {},
   "outputs": [],
   "source": [
    "# start point i=1\n",
    "# while <condition to stop>:\n",
    "#        i=i+1"
   ]
  },
  {
   "cell_type": "code",
   "execution_count": null,
   "id": "877a2dde-3aa1-4911-aaa4-ffa459b956db",
   "metadata": {},
   "outputs": [],
   "source": [
    "i=1\n",
    "while <condition to step>:\n",
    "print(i,end=' ')\n",
    "      i=i+1\n",
    "\n",
    "# conditions  i<11  i<11  True\n",
    "#             i<1   i<2   True\n",
    "#             i<10  i>10  False\n",
    "#             i>15"
   ]
  },
  {
   "cell_type": "code",
   "execution_count": null,
   "id": "037924e6-2a09-402c-822d-323a7fcade04",
   "metadata": {},
   "outputs": [],
   "source": [
    "- range(1,10): start=1 last=10-1 =9 step= 1\n",
    "i=1\n",
    "while <condition>:\n",
    "print(i)\n",
    "i=i+1\n",
    "- correct entry and correct exit\n",
    "- True condition i<5 True"
   ]
  },
  {
   "cell_type": "code",
   "execution_count": 4,
   "id": "f9f154d4-2d01-4073-86d1-e069194d1d94",
   "metadata": {},
   "outputs": [
    {
     "name": "stdout",
     "output_type": "stream",
     "text": [
      "1 2 3 4 5 6 7 8 9 10 "
     ]
    }
   ],
   "source": [
    "i=1\n",
    "while i<11:\n",
    "    print(i,end=' ')\n",
    "    i=i+1\n",
    "# sep-1:  i=1  while  1<2  True  print(1)  i=1+1  i=2\n",
    "# sep-2:  i=2  while  2<2  False  "
   ]
  },
  {
   "cell_type": "code",
   "execution_count": null,
   "id": "bd5b3db7-8780-4713-9c09-6de6943ee6a4",
   "metadata": {},
   "outputs": [],
   "source": [
    "i=1\n",
    "while i<10:\n",
    "    print(i,end=' ')\n",
    "    i=i+1\n",
    "    \n",
    "# sep-1:  i=1  while  1=1  while 1==10 False"
   ]
  },
  {
   "cell_type": "code",
   "execution_count": 5,
   "id": "48103824-4622-454a-b2ee-aadbdbc042b1",
   "metadata": {},
   "outputs": [],
   "source": [
    "i=1\n",
    "while i==10:\n",
    "    print(i,end='  ')\n",
    "    i=i+1\n",
    "# step-1:  i=1  while  1<11  true  print(1)  i=1-1  i=0\n",
    "# step-2:  i=2  while  1<11  true  print(2)  i=1-1  i=-1\n",
    "# step-3:  i=3  while  1<11  true  print(3)  i=1-1  i=-2\n",
    "    \n",
    "# 1,0,-1,-2,................"
   ]
  },
  {
   "cell_type": "code",
   "execution_count": null,
   "id": "347ec9c3-dc37-4d40-9e53-738d65165112",
   "metadata": {},
   "outputs": [],
   "source": [
    "i=1\n",
    "while i<11:\n",
    "print(i,end=' ')\n",
    "i=i+1\n",
    "#####################################################################\n",
    "i=1\n",
    "while i==10:\n",
    "print(i,end=' ')\n",
    "i=i+1\n",
    "##################################################################\n",
    "i=1\n",
    "while i<11:\n",
    "print(i,end=' ')\n",
    "i=i-1"
   ]
  },
  {
   "cell_type": "code",
   "execution_count": 7,
   "id": "4bcc1a4d-eb5b-4568-bc58-8d0992e7459b",
   "metadata": {},
   "outputs": [
    {
     "name": "stdout",
     "output_type": "stream",
     "text": [
      "1  0  -1  -2  -3  -4  -5  -6  -7  -8  -9  "
     ]
    }
   ],
   "source": [
    "i=1\n",
    "while i<11:\n",
    "    print(i,end='  ')\n",
    "    i=i-1\n",
    "    if i==-10:\n",
    "        break"
   ]
  },
  {
   "cell_type": "code",
   "execution_count": 11,
   "id": "dcff575f-921f-45bf-ad8d-9650cdcc4cbc",
   "metadata": {},
   "outputs": [
    {
     "name": "stdout",
     "output_type": "stream",
     "text": [
      "20  19  18  17  16  15  14  13  12  11  10  9  8  7  6  5  4  3  2  "
     ]
    }
   ],
   "source": [
    "# 20 to 1 \n",
    "# -20 to 0\n",
    "\n",
    "i=20\n",
    "while i>1:\n",
    "    print(i,end='  ')\n",
    "    i=i-1    "
   ]
  },
  {
   "cell_type": "code",
   "execution_count": 4,
   "id": "731ce28e-b864-454a-8489-344e6a354456",
   "metadata": {},
   "outputs": [
    {
     "name": "stdout",
     "output_type": "stream",
     "text": [
      "-20  -19  -18  -17  -16  -15  -14  -13  -12  -11  -10  -9  -8  -7  -6  -5  -4  -3  -2  -1  0  "
     ]
    }
   ],
   "source": [
    "i=-20\n",
    "while i<1:\n",
    "    print(i,end='  ')\n",
    "    i=i+1"
   ]
  },
  {
   "cell_type": "markdown",
   "id": "2958062a-39d1-4182-b142-2a2020947038",
   "metadata": {},
   "source": [
    "**True**\n",
    "\n",
    "- if you dont know about valid condition to enter inside while loop\n",
    "- then use **True**\n",
    "- True will give entry pass irrespective of the condition\n",
    "- But if you want to come out we need apply if condition and break inside the while loop\n",
    "- If you dont apply the break inside, then it becomes infinite loop"
   ]
  },
  {
   "cell_type": "code",
   "execution_count": null,
   "id": "bce41da2-2d14-4e4a-9403-a806eaa1abf5",
   "metadata": {},
   "outputs": [],
   "source": [
    "i=1\n",
    "while i<11:\n",
    "    print(i,end=' ')\n",
    "    i=i+1\n",
    "\n",
    "i=1\n",
    "while i<11:\n",
    "    print(i,end='  ')\n",
    "    i=i-1\n",
    "    if i==-10:\n",
    "    break\n",
    "    \n",
    "i=20\n",
    "while i>0:\n",
    "    print(i,end=' ')\n",
    "    i=i-1\n",
    "\n",
    "i=-20\n",
    "while i<1:\n",
    "    print(i,end=' ')\n",
    "    i=i+1"
   ]
  },
  {
   "cell_type": "code",
   "execution_count": null,
   "id": "f6447008-169f-4094-b8aa-80e3c7ac8423",
   "metadata": {},
   "outputs": [],
   "source": [
    "i=1\n",
    "while i<11:\n",
    "    print(i,end=' ')\n",
    "i=i+1\n",
    "print('========= second method===========')\n",
    "i=1\n",
    "while True:\n",
    "   print(i,end=' ')\n",
    "   i=i+1\n",
    "   if i==11:\n",
    "      break"
   ]
  },
  {
   "cell_type": "code",
   "execution_count": null,
   "id": "682c09ab-c2f6-4613-aa3f-23bea90b383e",
   "metadata": {},
   "outputs": [],
   "source": [
    "i=1\n",
    "while True:\n",
    "print(i,end=' ')\n",
    "i=i-1\n",
    "if i==-10:\n",
    "break"
   ]
  },
  {
   "cell_type": "code",
   "execution_count": 1,
   "id": "c9d194f8-ebc8-44f2-8e93-85b06c1a5e03",
   "metadata": {},
   "outputs": [
    {
     "name": "stdout",
     "output_type": "stream",
     "text": [
      "20 19 18 17 16 15 14 13 12 11 10 9 8 7 6 5 4 3 2 1 ============ second\n",
      "-20 -19 -18 -17 -16 -15 -14 -13 -12 -11 -10 -9 -8 -7 -6 -5 -4 -3 -2 -1 0 "
     ]
    }
   ],
   "source": [
    "i=20\n",
    "while i>0:\n",
    "    print(i,end=' ')\n",
    "    i=i-1\n",
    "print(\"============ second\")    \n",
    "i=-20\n",
    "\n",
    "while True:\n",
    "    print(i,end=' ')\n",
    "    i=i+1\n",
    "    if i==1:\n",
    "        break"
   ]
  },
  {
   "cell_type": "code",
   "execution_count": 2,
   "id": "bf0b0d14-3fda-4462-a71a-1cfa0e8a62d2",
   "metadata": {},
   "outputs": [
    {
     "name": "stdout",
     "output_type": "stream",
     "text": [
      "20 19 18 17 16 15 14 13 12 11 10 9 8 7 6 5 4 3 2 1 ============ second\n",
      "-20 -19 -18 -17 -16 -15 -14 -13 -12 -11 -10 -9 -8 -7 -6 -5 -4 -3 -2 -1 0 "
     ]
    }
   ],
   "source": [
    "i=20\n",
    "while i>0:\n",
    "    print(i,end=' ')\n",
    "    i=i-1\n",
    "print(\"============ second\")    \n",
    "i=-20\n",
    "while True:\n",
    "    print(i,end=' ')\n",
    "    i=i+1\n",
    "    if i==1:\n",
    "        break"
   ]
  },
  {
   "cell_type": "code",
   "execution_count": 5,
   "id": "a18cec33-9971-4bec-b201-f542054f4cdf",
   "metadata": {},
   "outputs": [
    {
     "name": "stdout",
     "output_type": "stream",
     "text": [
      "-20 -19 -18 -17 -16 -15 -14 -13 -12 -11 -10 -9 -8 -7 -6 -5 -4 -3 -2 -1 0 =========== second\n",
      "1 "
     ]
    }
   ],
   "source": [
    "i=-20\n",
    "while i<1:\n",
    "   print(i,end=' ')\n",
    "   i=i+1\n",
    "    \n",
    "print(\"=========== second\")\n",
    "\n",
    "i=-20\n",
    "while i<1:\n",
    "  i=i+1\n",
    "print(i,end=' ')  "
   ]
  },
  {
   "cell_type": "code",
   "execution_count": 8,
   "id": "6920a31a-12eb-4917-9c7c-22b4c2e89b06",
   "metadata": {},
   "outputs": [
    {
     "name": "stdout",
     "output_type": "stream",
     "text": [
      " 89 is even\n",
      " 89 is even\n",
      " 89 is even\n"
     ]
    }
   ],
   "source": [
    "import random\n",
    "num=random.randint(1,100)\n",
    "for i in range(3):\n",
    " if num%2==0:\n",
    "   print(f' {num} is odd')  \n",
    " else:\n",
    "    print(f' {num} is even')"
   ]
  },
  {
   "cell_type": "code",
   "execution_count": 6,
   "id": "fb6ca2c4-5b35-43e8-a129-77961727a24f",
   "metadata": {},
   "outputs": [
    {
     "name": "stdout",
     "output_type": "stream",
     "text": [
      "51 is odd\n",
      "51 is odd\n",
      "51 is odd\n"
     ]
    }
   ],
   "source": [
    "import random\n",
    "num=random.randint(1,100)\n",
    "for i in range(3):\n",
    "    if num%2==0:\n",
    "        print(f'{num} is even')\n",
    "    else:\n",
    "        print(f'{num} is odd')\n",
    "\n",
    "# step-1: Importing\n",
    "# step-2: num= random number : 25\n",
    "# step-3: loop 3 times\n",
    "# step-4: 25%2==0"
   ]
  },
  {
   "cell_type": "code",
   "execution_count": 7,
   "id": "a787ed89-cb1e-4c75-b977-ef502379f784",
   "metadata": {},
   "outputs": [
    {
     "name": "stdout",
     "output_type": "stream",
     "text": [
      "91 is odd\n",
      "96 is even\n",
      "12 is even\n"
     ]
    }
   ],
   "source": [
    "import random\n",
    "for i in range(3):\n",
    "    num=random.randint(1,100)\n",
    "    if num%2==0:\n",
    "        print(f'{num} is even')\n",
    "    else:\n",
    "        print(f'{num} is odd')"
   ]
  },
  {
   "cell_type": "code",
   "execution_count": null,
   "id": "bf172691-a6ab-490c-a9c3-0a920e935b46",
   "metadata": {},
   "outputs": [],
   "source": [
    "#1Q) For example\n",
    "# take a random number between 1 to 100\n",
    "# print it is a even number and odd number\n",
    "# you need to generate 3 random number\n",
    "\n",
    "import random\n",
    "for i in range(3):\n",
    "num=random.randint(1,100)\n",
    "if num%2==0:\n",
    "print(f'{num} is even')\n",
    "else:\n",
    "print(f'{num} is odd')"
   ]
  },
  {
   "cell_type": "code",
   "execution_count": 8,
   "id": "c8e820b4-7c08-4d09-8e43-51c24cecedcc",
   "metadata": {},
   "outputs": [
    {
     "name": "stdout",
     "output_type": "stream",
     "text": [
      "42 is even\n",
      "49 is odd\n",
      "36 is even\n"
     ]
    }
   ],
   "source": [
    "#range(3) ===== three lines\n",
    "i=333\n",
    "while i<336:\n",
    "    num=random.randint(1,100)\n",
    "    if num%2==0:\n",
    "        print(f'{num} is even')\n",
    "    else:\n",
    "        print(f'{num} is odd')\n",
    "    i=i+1"
   ]
  },
  {
   "cell_type": "code",
   "execution_count": 9,
   "id": "3f4f3534-7558-47ed-92aa-ba8377fc6c24",
   "metadata": {},
   "outputs": [
    {
     "data": {
      "text/plain": [
       "(65, 66)"
      ]
     },
     "execution_count": 9,
     "metadata": {},
     "output_type": "execute_result"
    }
   ],
   "source": [
    "# A ===== 65\n",
    "# B ===== 66\n",
    "# C ===== 67\n",
    "\n",
    "# ASCII\n",
    "\n",
    "ord('A'),ord('B')"
   ]
  },
  {
   "cell_type": "code",
   "execution_count": 10,
   "id": "79038f2e-4195-4bed-a092-b09a2cb7fd8e",
   "metadata": {},
   "outputs": [
    {
     "data": {
      "text/plain": [
       "'A'"
      ]
     },
     "execution_count": 10,
     "metadata": {},
     "output_type": "execute_result"
    }
   ],
   "source": [
    "chr(65)"
   ]
  },
  {
   "cell_type": "code",
   "execution_count": null,
   "id": "6a9c87b8-26a3-47c5-9cee-a3e0a0fc9693",
   "metadata": {},
   "outputs": [],
   "source": [
    "#6Q\n",
    "i=1\n",
    "num=eval(input(\"Enter the number of which you want factors:\"))\n",
    "while i<num+1:\n",
    "    if num%i==0:\n",
    "        print(f\"Factor of number is {i} \")\n",
    "    i=i+1\n",
    "    \n",
    "factor=eval(input('enter the factor number'))\n",
    "i=1\n",
    "while i<factor+1:\n",
    "i=i+1"
   ]
  },
  {
   "cell_type": "code",
   "execution_count": null,
   "id": "75447fd2-60d3-45ee-a0d0-af1a93aa7425",
   "metadata": {},
   "outputs": [],
   "source": []
  }
 ],
 "metadata": {
  "kernelspec": {
   "display_name": "Python 3 (ipykernel)",
   "language": "python",
   "name": "python3"
  },
  "language_info": {
   "codemirror_mode": {
    "name": "ipython",
    "version": 3
   },
   "file_extension": ".py",
   "mimetype": "text/x-python",
   "name": "python",
   "nbconvert_exporter": "python",
   "pygments_lexer": "ipython3",
   "version": "3.11.7"
  }
 },
 "nbformat": 4,
 "nbformat_minor": 5
}
