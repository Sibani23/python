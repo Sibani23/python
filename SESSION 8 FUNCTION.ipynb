{
 "cells": [
  {
   "cell_type": "markdown",
   "id": "3ccbad67-1613-4807-8193-26a9fbb87036",
   "metadata": {},
   "source": [
    "**try-except**\n",
    "\n",
    "- Generally in real time we will write n number of python lines\n",
    "- There is a situation we might get an error, that error might be un known\n",
    "- this unknown error does not cause any harm\n",
    "- even though we are getting error we need to proceed further\n",
    "- also we need to catch that error\n",
    "- Because we alredy known python is a sequential process\n",
    "- Means the lines will execute step by step\n",
    "- suppose you have an error at particular line, the code execution will stop at that line\n",
    "only\n",
    "- but you know that error is not harmful\n",
    "- so you want to continue the execution\n",
    "- then we required try-exception\n",
    "- try- except has two blocks\n",
    "- try block as actual code\n",
    "- except block will catch the error"
   ]
  },
  {
   "cell_type": "code",
   "execution_count": 1,
   "id": "913c4a8c-853e-4ebc-b40b-8a79db6f111f",
   "metadata": {},
   "outputs": [
    {
     "name": "stdin",
     "output_type": "stream",
     "text": [
      "enter the number1: five\n"
     ]
    },
    {
     "ename": "NameError",
     "evalue": "name 'five' is not defined",
     "output_type": "error",
     "traceback": [
      "\u001b[1;31m---------------------------------------------------------------------------\u001b[0m",
      "\u001b[1;31mNameError\u001b[0m                                 Traceback (most recent call last)",
      "Cell \u001b[1;32mIn[1], line 1\u001b[0m\n\u001b[1;32m----> 1\u001b[0m n1\u001b[38;5;241m=\u001b[39m\u001b[38;5;28meval\u001b[39m(\u001b[38;5;28minput\u001b[39m(\u001b[38;5;124m\"\u001b[39m\u001b[38;5;124menter the number1:\u001b[39m\u001b[38;5;124m\"\u001b[39m))\n\u001b[0;32m      2\u001b[0m n2\u001b[38;5;241m=\u001b[39m\u001b[38;5;28meval\u001b[39m(\u001b[38;5;28minput\u001b[39m(\u001b[38;5;124m\"\u001b[39m\u001b[38;5;124menter the number2:\u001b[39m\u001b[38;5;124m\"\u001b[39m))\n\u001b[0;32m      3\u001b[0m add\u001b[38;5;241m=\u001b[39mn1\u001b[38;5;241m+\u001b[39mn2\n",
      "File \u001b[1;32m<string>:1\u001b[0m\n",
      "\u001b[1;31mNameError\u001b[0m: name 'five' is not defined"
     ]
    }
   ],
   "source": [
    "n1=eval(input(\"enter the number1:\"))\n",
    "n2=eval(input(\"enter the number2:\"))\n",
    "add=n1+n2\n",
    "print(add)"
   ]
  },
  {
   "cell_type": "code",
   "execution_count": null,
   "id": "efb706c6-0268-432b-a8ef-7bd79a326b4c",
   "metadata": {},
   "outputs": [],
   "source": [
    "try:\n",
    "    n1=eval(input(\"enter the number1:\"))\n",
    "    n2=eval(input(\"enter the number2:\"))\n",
    "    add=n1+n2\n",
    "    print(add)\n",
    "except:\n",
    "     print('hello')\n",
    "     print('you are getting error')\n",
    "    print(\"check the code properly\")"
   ]
  },
  {
   "cell_type": "markdown",
   "id": "73eba138-a109-447d-9155-0409f8b1aaf4",
   "metadata": {},
   "source": [
    "**note**\n",
    "\n",
    "- Generally try except block will use to catch the errors"
   ]
  },
  {
   "cell_type": "code",
   "execution_count": 4,
   "id": "427ba112-d4f1-4da0-b80e-577ba4ea4c6e",
   "metadata": {},
   "outputs": [
    {
     "name": "stdin",
     "output_type": "stream",
     "text": [
      "enter the number1: four\n"
     ]
    },
    {
     "name": "stdout",
     "output_type": "stream",
     "text": [
      "the error is name 'four' is not defined\n"
     ]
    }
   ],
   "source": [
    "try:\n",
    "   n1=eval(input(\"enter the number1:\"))\n",
    "   n2=eval(input(\"enter the number2:\"))\n",
    "   add=n1+n2\n",
    "   div=n1/n2\n",
    "   print(add)\n",
    "except Exception as e:\n",
    "   print(f\"the error is {e}\")"
   ]
  },
  {
   "cell_type": "code",
   "execution_count": 7,
   "id": "174cf091-39ed-4e2d-8681-df0168d8397e",
   "metadata": {},
   "outputs": [
    {
     "name": "stdin",
     "output_type": "stream",
     "text": [
      "enter the number1: 5\n",
      "enter the number2: 9\n"
     ]
    },
    {
     "name": "stdout",
     "output_type": "stream",
     "text": [
      "14\n"
     ]
    }
   ],
   "source": [
    "n1=eval(input(\"enter the number1:\"))\n",
    "n2=eval(input(\"enter the number2:\"))\n",
    "add=n1+n2\n",
    "div=n1/n2\n",
    "print(add)"
   ]
  },
  {
   "cell_type": "code",
   "execution_count": 8,
   "id": "26d9f866-235b-494c-9977-a8fc031eb548",
   "metadata": {},
   "outputs": [],
   "source": [
    "# Now onwards every code\n",
    "# need to use try-execpt"
   ]
  },
  {
   "cell_type": "code",
   "execution_count": null,
   "id": "b3ad6fa9-31f8-467a-9971-4db9993cc616",
   "metadata": {},
   "outputs": [],
   "source": [
    "num=eval(input(\"enter the number:\"))\n",
    "if num%2==0:\n",
    "    print(f\"the {num} is even\")\n",
    "else:\n",
    "    print(f\"the {num} is odd\")"
   ]
  },
  {
   "cell_type": "code",
   "execution_count": 1,
   "id": "8d964a7d-2b40-40c9-8eb3-a905f6646efc",
   "metadata": {},
   "outputs": [
    {
     "name": "stdin",
     "output_type": "stream",
     "text": [
      "enter the number: five\n"
     ]
    },
    {
     "name": "stdout",
     "output_type": "stream",
     "text": [
      "name 'five' is not defined\n"
     ]
    }
   ],
   "source": [
    "try:\n",
    "    num=eval(input(\"enter the number:\"))\n",
    "    if num%2==0:\n",
    "        print(f\"the {num} is even\")\n",
    "    else:\n",
    "        print(f\"the {num} is odd\")\n",
    "except Exception as e:\n",
    "        print(e)"
   ]
  },
  {
   "cell_type": "code",
   "execution_count": 4,
   "id": "c97fe41c-d4ef-4eab-8dde-aa9d1153939b",
   "metadata": {},
   "outputs": [
    {
     "name": "stdin",
     "output_type": "stream",
     "text": [
      "enter the start value: three\n"
     ]
    },
    {
     "name": "stdout",
     "output_type": "stream",
     "text": [
      "name 'three' is not defined\n"
     ]
    }
   ],
   "source": [
    "import random\n",
    "try:\n",
    "    start=eval(input(\"enter the start value:\"))\n",
    "    end=eval(input(\"enter the end value:\"))\n",
    "    num=random.randint(start,end)\n",
    "    if num%2==0:\n",
    "        print(f\"the {num} is even\")\n",
    "    else:  \n",
    "        print(f\"the {num} is odd\")\n",
    "except Exception as e:\n",
    "     print(e)"
   ]
  },
  {
   "cell_type": "code",
   "execution_count": null,
   "id": "c5078dc4-44c6-48d6-a544-86c2fc697e7c",
   "metadata": {},
   "outputs": [],
   "source": []
  }
 ],
 "metadata": {
  "kernelspec": {
   "display_name": "Python 3 (ipykernel)",
   "language": "python",
   "name": "python3"
  },
  "language_info": {
   "codemirror_mode": {
    "name": "ipython",
    "version": 3
   },
   "file_extension": ".py",
   "mimetype": "text/x-python",
   "name": "python",
   "nbconvert_exporter": "python",
   "pygments_lexer": "ipython3",
   "version": "3.11.7"
  }
 },
 "nbformat": 4,
 "nbformat_minor": 5
}
