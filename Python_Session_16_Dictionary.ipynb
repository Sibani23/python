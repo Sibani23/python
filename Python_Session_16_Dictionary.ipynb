{
 "cells": [
  {
   "cell_type": "markdown",
   "id": "5b3bcef5-b315-4128-b245-5b3455f184d5",
   "metadata": {
    "id": "25fd81eb-a66a-4b22-b009-e0a8066a97f1"
   },
   "source": [
    "**Dictionary**\n",
    "\n",
    "\n",
    "- We already seen many Data types\n",
    "\n",
    "- String\n",
    "\n",
    "- List\n",
    "\n",
    "- Tuple\n",
    "\n",
    "- Set\n",
    "\n",
    "- Dictionary\n",
    "\n",
    "- int float bool complex\n",
    "\n",
    "- range\n",
    "\n",
    "- bytes\n",
    "- eval is not a data type"
   ]
  },
  {
   "cell_type": "code",
   "execution_count": 1,
   "id": "fb3062e0-fa19-4202-b517-94c12be530ca",
   "metadata": {
    "id": "fb3062e0-fa19-4202-b517-94c12be530ca"
   },
   "outputs": [],
   "source": [
    "# By using lambda list reduce\n",
    "\n",
    "str=b'hello'"
   ]
  },
  {
   "cell_type": "code",
   "execution_count": 1,
   "id": "6b021efe-29a2-400a-8470-3f676897b757",
   "metadata": {
    "id": "6b021efe-29a2-400a-8470-3f676897b757"
   },
   "outputs": [
    {
     "ename": "NameError",
     "evalue": "name 'key' is not defined",
     "output_type": "error",
     "traceback": [
      "\u001b[1;31m---------------------------------------------------------------------------\u001b[0m",
      "\u001b[1;31mNameError\u001b[0m                                 Traceback (most recent call last)",
      "Cell \u001b[1;32mIn[1], line 5\u001b[0m\n\u001b[0;32m      3\u001b[0m \u001b[38;5;28mtuple\u001b[39m\u001b[38;5;241m=\u001b[39m()\n\u001b[0;32m      4\u001b[0m \u001b[38;5;28mset\u001b[39m\u001b[38;5;241m=\u001b[39m{}\n\u001b[1;32m----> 5\u001b[0m dictionary\u001b[38;5;241m=\u001b[39m{key:value}\n",
      "\u001b[1;31mNameError\u001b[0m: name 'key' is not defined"
     ]
    }
   ],
   "source": [
    "string=''\n",
    "list=[]\n",
    "tuple=()\n",
    "set={}\n",
    "dictionary={key:value}"
   ]
  },
  {
   "cell_type": "code",
   "execution_count": 3,
   "id": "1ea4a706-5bb6-4efa-9b00-ab6bc71f6f82",
   "metadata": {
    "id": "1ea4a706-5bb6-4efa-9b00-ab6bc71f6f82"
   },
   "outputs": [],
   "source": [
    "names=['Ramesh','Suresh','Satish']\n",
    "age=[20,25,30]\n",
    "# Print\n",
    "# Ramesh age is 20"
   ]
  },
  {
   "cell_type": "markdown",
   "id": "96d8cab8-6c3e-489a-a787-aba1d1984e81",
   "metadata": {
    "id": "96d8cab8-6c3e-489a-a787-aba1d1984e81"
   },
   "source": [
    "**zip**"
   ]
  },
  {
   "cell_type": "code",
   "execution_count": 4,
   "id": "59a8c6ac-c57f-4825-b91a-92ec63f7284a",
   "metadata": {
    "id": "59a8c6ac-c57f-4825-b91a-92ec63f7284a",
    "outputId": "5389208c-48ca-431d-f7b4-54686eb62604"
   },
   "outputs": [
    {
     "name": "stdout",
     "output_type": "stream",
     "text": [
      "Ramesh 20\n",
      "Suresh 25\n",
      "Satish 30\n"
     ]
    }
   ],
   "source": [
    "names=['Ramesh','Suresh','Satish']\n",
    "age=[20,25,30]\n",
    "\n",
    "for i,j in zip(names,age):\n",
    "    print(i,j)"
   ]
  },
  {
   "cell_type": "code",
   "execution_count": 2,
   "id": "2e21eaf4-69ba-4439-b565-7a0ff05e34a3",
   "metadata": {
    "id": "2e21eaf4-69ba-4439-b565-7a0ff05e34a3",
    "outputId": "48a3a2a0-e926-45c3-8de9-4c07fb174a40"
   },
   "outputs": [
    {
     "ename": "NameError",
     "evalue": "name 'names' is not defined",
     "output_type": "error",
     "traceback": [
      "\u001b[1;31m---------------------------------------------------------------------------\u001b[0m",
      "\u001b[1;31mNameError\u001b[0m                                 Traceback (most recent call last)",
      "Cell \u001b[1;32mIn[2], line 1\u001b[0m\n\u001b[1;32m----> 1\u001b[0m \u001b[38;5;28mlist\u001b[39m(\u001b[38;5;28mzip\u001b[39m(names,age))\n",
      "\u001b[1;31mNameError\u001b[0m: name 'names' is not defined"
     ]
    }
   ],
   "source": [
    "list(zip(names,age))"
   ]
  },
  {
   "cell_type": "code",
   "execution_count": 6,
   "id": "57acefd6-d961-4afb-91b7-c0df55ea54e7",
   "metadata": {
    "id": "57acefd6-d961-4afb-91b7-c0df55ea54e7"
   },
   "outputs": [],
   "source": [
    "#dict1={<key>:<value>}\n",
    "#names=['Ramesh','Suresh','Satish']\n",
    "#age=[20,25,30]\n",
    "#'Ramesh'  is  the key ====== 20 its related value\n",
    "dict1={'Ramesh':20,'Suresh':25,'Satish':30}"
   ]
  },
  {
   "cell_type": "code",
   "execution_count": 7,
   "id": "5b481523-6a57-4687-b9ab-1a15286fc316",
   "metadata": {
    "id": "5b481523-6a57-4687-b9ab-1a15286fc316",
    "outputId": "3fde4ea9-915c-4fa1-89a0-93abe858580b"
   },
   "outputs": [
    {
     "data": {
      "text/plain": [
       "dict"
      ]
     },
     "execution_count": 7,
     "metadata": {},
     "output_type": "execute_result"
    }
   ],
   "source": [
    "dict1={'Ramesh':20,'Suresh':25,'Satish':30}\n",
    "type(dict1)"
   ]
  },
  {
   "cell_type": "code",
   "execution_count": null,
   "id": "4c923611-c187-41f4-af7c-bbbc96998b52",
   "metadata": {
    "id": "4c923611-c187-41f4-af7c-bbbc96998b52"
   },
   "outputs": [],
   "source": [
    "#If the list are of different length?\n",
    "#if both lists are different lenght\n",
    "#zip will not work"
   ]
  },
  {
   "cell_type": "markdown",
   "id": "eb6fce22-0f6f-4b0b-9e51-85ddc13f79d0",
   "metadata": {
    "id": "eb6fce22-0f6f-4b0b-9e51-85ddc13f79d0"
   },
   "source": [
    "- intialization\n",
    "\n",
    "- type\n",
    "\n",
    "- max\n",
    "\n",
    "- min\n",
    "\n",
    "- len\n",
    "\n",
    "- reversed\n",
    "\n",
    "- sorted\n",
    "\n",
    "- in\n",
    "\n",
    "- index\n",
    "\n",
    "- mutable\n",
    "\n",
    "- concate\n",
    "\n",
    "- slicing\n",
    "\n",
    "- methods"
   ]
  },
  {
   "cell_type": "markdown",
   "id": "130e1137-5f20-4615-871e-e6c158c226e1",
   "metadata": {
    "id": "130e1137-5f20-4615-871e-e6c158c226e1"
   },
   "source": [
    "**Create all type of dictionaries**"
   ]
  },
  {
   "cell_type": "code",
   "execution_count": null,
   "id": "da323986-e827-4a99-9cf8-5b4897a7dd1e",
   "metadata": {
    "id": "da323986-e827-4a99-9cf8-5b4897a7dd1e"
   },
   "outputs": [],
   "source": [
    "d1={'Manish':25,'Shubam':20,'Govindh':15}\n",
    "d2={'Manish':'25','Shubam':'20','Govindh':'15'}\n",
    "d3={25:'Manish',20:'Shubam',15:'Govindh'}\n",
    "d4={25:50}\n",
    "d5={'Fruites':['Apple','Cherry']}\n",
    "d6={['Apple','Cherry']:'Fruites'}\n",
    "d7={('Apple','Cherry'):'Fruites'}\n",
    "d8={'Ajay':25,'Ajay':30}\n",
    "d9={25:'Ajay',30:'Ajay'}\n",
    "d10={'Fruites':{'Mango':25}}"
   ]
  },
  {
   "cell_type": "code",
   "execution_count": 8,
   "id": "e777beac-cf13-4a4f-9d7c-584eb346c46e",
   "metadata": {
    "id": "e777beac-cf13-4a4f-9d7c-584eb346c46e",
    "outputId": "70304cd1-b4a9-4ac7-ee42-1de0da5a57c3"
   },
   "outputs": [
    {
     "data": {
      "text/plain": [
       "{'Manish': 25, 'Shubam': 20, 'Govindh': 15}"
      ]
     },
     "execution_count": 8,
     "metadata": {},
     "output_type": "execute_result"
    }
   ],
   "source": [
    "d1={'Manish':25,'Shubam':20,'Govindh':15}\n",
    "d1"
   ]
  },
  {
   "cell_type": "code",
   "execution_count": 9,
   "id": "d806defa-b6c7-4df4-be7c-f6038eabf660",
   "metadata": {
    "id": "d806defa-b6c7-4df4-be7c-f6038eabf660",
    "outputId": "e69c77aa-526a-43d6-d8c3-df4fbeba899c"
   },
   "outputs": [
    {
     "data": {
      "text/plain": [
       "{'Manish': '25', 'Shubam': '20', 'Govindh': '15'}"
      ]
     },
     "execution_count": 9,
     "metadata": {},
     "output_type": "execute_result"
    }
   ],
   "source": [
    "d2={'Manish':'25','Shubam':'20','Govindh':'15'}\n",
    "d2"
   ]
  },
  {
   "cell_type": "code",
   "execution_count": 10,
   "id": "5d2122e5-8452-4eb8-966c-c524927ec7a5",
   "metadata": {
    "id": "5d2122e5-8452-4eb8-966c-c524927ec7a5",
    "outputId": "51274040-97ee-4065-ce32-da7ef4ce4a7d"
   },
   "outputs": [
    {
     "data": {
      "text/plain": [
       "{25: 'Manish', 20: 'Shubam', 15: 'Govindh'}"
      ]
     },
     "execution_count": 10,
     "metadata": {},
     "output_type": "execute_result"
    }
   ],
   "source": [
    "d3={25:'Manish',20:'Shubam',15:'Govindh'}\n",
    "d3"
   ]
  },
  {
   "cell_type": "code",
   "execution_count": null,
   "id": "fd94a941-e66a-4653-9134-fb3135ffca59",
   "metadata": {
    "id": "fd94a941-e66a-4653-9134-fb3135ffca59"
   },
   "outputs": [],
   "source": [
    "d4={25:50}"
   ]
  },
  {
   "cell_type": "code",
   "execution_count": 11,
   "id": "a7db6373-0c4a-4066-8c79-73508e692507",
   "metadata": {
    "id": "a7db6373-0c4a-4066-8c79-73508e692507",
    "outputId": "24853115-937b-4394-941c-6bc43bed8d60"
   },
   "outputs": [
    {
     "data": {
      "text/plain": [
       "{'Fruites': ['Apple', 'Cherry']}"
      ]
     },
     "execution_count": 11,
     "metadata": {},
     "output_type": "execute_result"
    }
   ],
   "source": [
    "d5={'Fruites':['Apple','Cherry']}\n",
    "d5"
   ]
  },
  {
   "cell_type": "code",
   "execution_count": 3,
   "id": "4e6aa5d3-0d27-4ec1-a446-690c3ebbf5da",
   "metadata": {
    "id": "4e6aa5d3-0d27-4ec1-a446-690c3ebbf5da",
    "outputId": "690a8a36-f8b6-4d35-f56d-41deb1e63888"
   },
   "outputs": [
    {
     "ename": "TypeError",
     "evalue": "unhashable type: 'list'",
     "output_type": "error",
     "traceback": [
      "\u001b[1;31m---------------------------------------------------------------------------\u001b[0m",
      "\u001b[1;31mTypeError\u001b[0m                                 Traceback (most recent call last)",
      "Cell \u001b[1;32mIn[3], line 1\u001b[0m\n\u001b[1;32m----> 1\u001b[0m d6\u001b[38;5;241m=\u001b[39m{[\u001b[38;5;124m'\u001b[39m\u001b[38;5;124mApple\u001b[39m\u001b[38;5;124m'\u001b[39m,\u001b[38;5;124m'\u001b[39m\u001b[38;5;124mCherry\u001b[39m\u001b[38;5;124m'\u001b[39m]:\u001b[38;5;124m'\u001b[39m\u001b[38;5;124mFruites\u001b[39m\u001b[38;5;124m'\u001b[39m}\n\u001b[0;32m      2\u001b[0m d6\n",
      "\u001b[1;31mTypeError\u001b[0m: unhashable type: 'list'"
     ]
    }
   ],
   "source": [
    "d6={['Apple','Cherry']:'Fruites'}\n",
    "d6"
   ]
  },
  {
   "cell_type": "code",
   "execution_count": 13,
   "id": "a80be764-18b9-4650-84e0-01a8b0318504",
   "metadata": {
    "id": "a80be764-18b9-4650-84e0-01a8b0318504",
    "outputId": "8e7ba49a-82f0-4b9b-fe6f-626d6eccf53f"
   },
   "outputs": [
    {
     "data": {
      "text/plain": [
       "{('Apple', 'Cherry'): 'Fruites'}"
      ]
     },
     "execution_count": 13,
     "metadata": {},
     "output_type": "execute_result"
    }
   ],
   "source": [
    "d7={('Apple','Cherry'):'Fruites'}\n",
    "d7"
   ]
  },
  {
   "cell_type": "code",
   "execution_count": 14,
   "id": "ec352a92-5c3f-44df-aa18-4ba3c57ef941",
   "metadata": {
    "id": "ec352a92-5c3f-44df-aa18-4ba3c57ef941",
    "outputId": "df01e6ac-2ff7-4028-b2d4-2eb9d5aef50a"
   },
   "outputs": [
    {
     "data": {
      "text/plain": [
       "{'Ajay': 30}"
      ]
     },
     "execution_count": 14,
     "metadata": {},
     "output_type": "execute_result"
    }
   ],
   "source": [
    "d8={'Ajay':25,'Ajay':30}\n",
    "d8"
   ]
  },
  {
   "cell_type": "code",
   "execution_count": 15,
   "id": "aa555aa9-1b25-4757-9de5-f1f757015b97",
   "metadata": {
    "id": "aa555aa9-1b25-4757-9de5-f1f757015b97",
    "outputId": "f18f514b-074c-4474-e234-902d712935b6"
   },
   "outputs": [
    {
     "data": {
      "text/plain": [
       "{25: 'Ajay', 30: 'Ajay'}"
      ]
     },
     "execution_count": 15,
     "metadata": {},
     "output_type": "execute_result"
    }
   ],
   "source": [
    "d9={25:'Ajay',30:'Ajay'}\n",
    "d9"
   ]
  },
  {
   "cell_type": "markdown",
   "id": "a64c5392-8724-493f-96bf-bd07fa4e1df7",
   "metadata": {
    "id": "a64c5392-8724-493f-96bf-bd07fa4e1df7"
   },
   "source": [
    "- **keys are important**\n",
    "\n",
    "- Keys have only latest value\n",
    "\n",
    "- No duplicate keys\n",
    "\n",
    "- Keys should be only one\n",
    "\n",
    "- Values can be duplicate\n",
    "\n",
    "- which means different keys can have same value\n",
    "\n",
    "- List can not be a key, Because lists are mutable\n",
    "\n",
    "- tuple can be a key, Because tuple are immutable"
   ]
  },
  {
   "cell_type": "code",
   "execution_count": null,
   "id": "a729b458-ae19-41cd-8a17-cefffb011bdc",
   "metadata": {
    "id": "a729b458-ae19-41cd-8a17-cefffb011bdc"
   },
   "outputs": [],
   "source": [
    "d1={'Manish':25,'Shubam':20,'Govindh':15} # 'Shubam'\n",
    "d2={'Manish':'25','Shubam':'20','Govindh':'15'}  # 'Shubam'\n",
    "d3={25:'Manish',20:'Shubam',15:'Govindh'}  # 25\n",
    "d4={'Manish':25,'Shubam':'20','Govindh':15} # 'Shubal'\n",
    "d5={25:'Manish','20':'Shubam',15:'Govindh'} # Error\n",
    "d6={'Manish':20,'Shubam':20,'Govindh':20} # 'Shubam'\n",
    "d7={20:'Manish',20:'Shubam',20:'Govindh'} # 20"
   ]
  },
  {
   "cell_type": "code",
   "execution_count": 16,
   "id": "577ab2cf-a458-49ae-809f-6551db7afc5b",
   "metadata": {
    "id": "577ab2cf-a458-49ae-809f-6551db7afc5b",
    "outputId": "12eca2dd-2bbd-4514-aee6-0794b422cb1c"
   },
   "outputs": [
    {
     "data": {
      "text/plain": [
       "'Shubam'"
      ]
     },
     "execution_count": 16,
     "metadata": {},
     "output_type": "execute_result"
    }
   ],
   "source": [
    "d1={'Manish':25,'Shubam':20,'Govindh':15}\n",
    "max(d1)\n",
    "\n",
    "# Operations apply on keys\n",
    "# Keys are important"
   ]
  },
  {
   "cell_type": "code",
   "execution_count": 17,
   "id": "0c772002-f4f7-4ff2-9f8a-53a1c9d1e33b",
   "metadata": {
    "id": "0c772002-f4f7-4ff2-9f8a-53a1c9d1e33b",
    "outputId": "20c0637b-94a0-4066-e1f0-f0877fe70d45"
   },
   "outputs": [
    {
     "data": {
      "text/plain": [
       "'Shubam'"
      ]
     },
     "execution_count": 17,
     "metadata": {},
     "output_type": "execute_result"
    }
   ],
   "source": [
    "d2={'Manish':'25','Shubam':'20','Govindh':'15'}\n",
    "max(d2)"
   ]
  },
  {
   "cell_type": "code",
   "execution_count": 18,
   "id": "9c3437e7-422a-4794-a3a9-913c50628ed2",
   "metadata": {
    "id": "9c3437e7-422a-4794-a3a9-913c50628ed2",
    "outputId": "1dfbd543-7ef5-4eb9-97a7-36ad0f00b293"
   },
   "outputs": [
    {
     "data": {
      "text/plain": [
       "25"
      ]
     },
     "execution_count": 18,
     "metadata": {},
     "output_type": "execute_result"
    }
   ],
   "source": [
    "d3={25:'Manish',20:'Shubam',15:'Govindh'}\n",
    "max(d3)"
   ]
  },
  {
   "cell_type": "code",
   "execution_count": 19,
   "id": "fef665e8-d680-4ffd-a939-7cd3814615dd",
   "metadata": {
    "id": "fef665e8-d680-4ffd-a939-7cd3814615dd",
    "outputId": "04b97a4a-e64a-4ba5-e3e5-a8c9174bf385"
   },
   "outputs": [
    {
     "data": {
      "text/plain": [
       "'Shubam'"
      ]
     },
     "execution_count": 19,
     "metadata": {},
     "output_type": "execute_result"
    }
   ],
   "source": [
    "d4={'Manish':25,'Shubam':'20','Govindh':15}\n",
    "max(d4)"
   ]
  },
  {
   "cell_type": "code",
   "execution_count": 20,
   "id": "8cd9523b-929f-4bae-8fa6-84ff8341bd37",
   "metadata": {
    "id": "8cd9523b-929f-4bae-8fa6-84ff8341bd37",
    "outputId": "32665069-9d06-4f1f-91f5-87385a1260c1"
   },
   "outputs": [
    {
     "ename": "TypeError",
     "evalue": "'>' not supported between instances of 'int' and 'str'",
     "output_type": "error",
     "traceback": [
      "\u001b[1;31m---------------------------------------------------------------------------\u001b[0m",
      "\u001b[1;31mTypeError\u001b[0m                                 Traceback (most recent call last)",
      "Cell \u001b[1;32mIn[20], line 2\u001b[0m\n\u001b[0;32m      1\u001b[0m l\u001b[38;5;241m=\u001b[39m[\u001b[38;5;124m'\u001b[39m\u001b[38;5;124mA\u001b[39m\u001b[38;5;124m'\u001b[39m,\u001b[38;5;241m2\u001b[39m]\n\u001b[1;32m----> 2\u001b[0m \u001b[38;5;28mmax\u001b[39m(l)\n",
      "\u001b[1;31mTypeError\u001b[0m: '>' not supported between instances of 'int' and 'str'"
     ]
    }
   ],
   "source": [
    "l=['A',2]\n",
    "max(l)"
   ]
  },
  {
   "cell_type": "code",
   "execution_count": 21,
   "id": "b6f76deb-3d6d-48d7-bcf1-679d8503640f",
   "metadata": {
    "id": "b6f76deb-3d6d-48d7-bcf1-679d8503640f",
    "outputId": "b8da9054-1e26-40d0-8a05-e3e2ccd7ab98"
   },
   "outputs": [
    {
     "ename": "TypeError",
     "evalue": "'>' not supported between instances of 'str' and 'int'",
     "output_type": "error",
     "traceback": [
      "\u001b[1;31m---------------------------------------------------------------------------\u001b[0m",
      "\u001b[1;31mTypeError\u001b[0m                                 Traceback (most recent call last)",
      "Cell \u001b[1;32mIn[21], line 2\u001b[0m\n\u001b[0;32m      1\u001b[0m d5\u001b[38;5;241m=\u001b[39m{\u001b[38;5;241m25\u001b[39m:\u001b[38;5;124m'\u001b[39m\u001b[38;5;124mManish\u001b[39m\u001b[38;5;124m'\u001b[39m,\u001b[38;5;124m'\u001b[39m\u001b[38;5;124m20\u001b[39m\u001b[38;5;124m'\u001b[39m:\u001b[38;5;124m'\u001b[39m\u001b[38;5;124mShubam\u001b[39m\u001b[38;5;124m'\u001b[39m,\u001b[38;5;241m15\u001b[39m:\u001b[38;5;124m'\u001b[39m\u001b[38;5;124mGovindh\u001b[39m\u001b[38;5;124m'\u001b[39m}\n\u001b[1;32m----> 2\u001b[0m \u001b[38;5;28mmax\u001b[39m(d5)\n",
      "\u001b[1;31mTypeError\u001b[0m: '>' not supported between instances of 'str' and 'int'"
     ]
    }
   ],
   "source": [
    "d5={25:'Manish','20':'Shubam',15:'Govindh'}\n",
    "max(d5)"
   ]
  },
  {
   "cell_type": "code",
   "execution_count": 22,
   "id": "d0c1d6e6-4417-4ad0-9a30-a5e727674444",
   "metadata": {
    "id": "d0c1d6e6-4417-4ad0-9a30-a5e727674444",
    "outputId": "4f2857ad-c5ad-4862-df38-f36839928e35"
   },
   "outputs": [
    {
     "data": {
      "text/plain": [
       "20"
      ]
     },
     "execution_count": 22,
     "metadata": {},
     "output_type": "execute_result"
    }
   ],
   "source": [
    "d7={20:'Manish',20:'Shubam',20:'Govindh'}\n",
    "max(d7)"
   ]
  },
  {
   "cell_type": "code",
   "execution_count": 23,
   "id": "f03cb7a1-4641-4f41-a28b-872c7ad01b32",
   "metadata": {
    "id": "f03cb7a1-4641-4f41-a28b-872c7ad01b32",
    "outputId": "a983cc43-8178-45a6-e40d-e95de3aeb74f"
   },
   "outputs": [
    {
     "data": {
      "text/plain": [
       "{20: 'Govindh'}"
      ]
     },
     "execution_count": 23,
     "metadata": {},
     "output_type": "execute_result"
    }
   ],
   "source": [
    "d7={20:'Manish',20:'Shubam',20:'Govindh'}\n",
    "d7"
   ]
  },
  {
   "cell_type": "code",
   "execution_count": 24,
   "id": "bde92690-16a1-430f-992d-382b14b8cbd1",
   "metadata": {
    "id": "bde92690-16a1-430f-992d-382b14b8cbd1",
    "outputId": "6b0f084e-7bad-4357-9d96-fb27519ff02b"
   },
   "outputs": [
    {
     "data": {
      "text/plain": [
       "'Shubam'"
      ]
     },
     "execution_count": 24,
     "metadata": {},
     "output_type": "execute_result"
    }
   ],
   "source": [
    "d4={'Manish':25, 'Shubam': '20', 'Govindh':15}\n",
    "max(d4)"
   ]
  },
  {
   "cell_type": "markdown",
   "id": "4fd38107-0b27-4807-9d6c-b7feb038005d",
   "metadata": {
    "id": "4fd38107-0b27-4807-9d6c-b7feb038005d"
   },
   "source": [
    "**reversed**\n",
    "\n",
    "- you might have think dictionary will reverse\n",
    "\n",
    "- when you apply reveresd , then you got to know\n",
    "\n",
    "- only keys will come in reverse"
   ]
  },
  {
   "cell_type": "code",
   "execution_count": 1,
   "id": "79a64b77-5fe7-424f-81a2-5a80c1bc728c",
   "metadata": {
    "id": "79a64b77-5fe7-424f-81a2-5a80c1bc728c",
    "outputId": "fa98587d-5d3f-436e-9d95-88b19ed80f3e"
   },
   "outputs": [
    {
     "data": {
      "text/plain": [
       "['Govindh', 'Shubam', 'Manish']"
      ]
     },
     "execution_count": 1,
     "metadata": {},
     "output_type": "execute_result"
    }
   ],
   "source": [
    "d1={'Manish':25,'Shubam':20,'Govindh':15}\n",
    "list(reversed(d1))"
   ]
  },
  {
   "cell_type": "code",
   "execution_count": 2,
   "id": "cb3ea339-7164-4abf-a658-52f2f58feeaa",
   "metadata": {
    "id": "cb3ea339-7164-4abf-a658-52f2f58feeaa",
    "outputId": "0f38fb14-df8a-4a17-bbea-7daefc4d09c7"
   },
   "outputs": [
    {
     "data": {
      "text/plain": [
       "['Govindh', 'Manish', 'Shubam']"
      ]
     },
     "execution_count": 2,
     "metadata": {},
     "output_type": "execute_result"
    }
   ],
   "source": [
    "d1={'Manish':25,'Shubam':20,'Govindh':15}\n",
    "list(sorted(d1))"
   ]
  },
  {
   "cell_type": "code",
   "execution_count": 3,
   "id": "8137360d-d677-45f5-a780-d50f180d03df",
   "metadata": {
    "id": "8137360d-d677-45f5-a780-d50f180d03df",
    "outputId": "6722b83d-5920-408b-faf4-507705b28125"
   },
   "outputs": [
    {
     "data": {
      "text/plain": [
       "['Shubam', 'Manish', 'Govindh']"
      ]
     },
     "execution_count": 3,
     "metadata": {},
     "output_type": "execute_result"
    }
   ],
   "source": [
    "d1={'Manish':25,'Shubam':20,'Govindh':15}\n",
    "list(sorted(d1,reverse=True))"
   ]
  },
  {
   "cell_type": "code",
   "execution_count": 29,
   "id": "b249b5cd-8e1d-4150-8396-e7d0ec5c7766",
   "metadata": {
    "id": "b249b5cd-8e1d-4150-8396-e7d0ec5c7766",
    "outputId": "aef4da24-cee5-4e09-df19-e86e855b47e0"
   },
   "outputs": [
    {
     "name": "stdout",
     "output_type": "stream",
     "text": [
      "Manish\n",
      "Shubam\n",
      "Govindh\n"
     ]
    }
   ],
   "source": [
    "d1={'Manish':25,'Shubam':20,'Govindh':15}\n",
    "for i in d1:\n",
    "    print(i)\n"
   ]
  },
  {
   "cell_type": "code",
   "execution_count": 4,
   "id": "422df1d9-fff6-416f-b377-280c5c68d883",
   "metadata": {
    "id": "422df1d9-fff6-416f-b377-280c5c68d883",
    "outputId": "ea4039b4-1dfb-4cb6-d436-cfc3052d2e00"
   },
   "outputs": [
    {
     "data": {
      "text/plain": [
       "True"
      ]
     },
     "execution_count": 4,
     "metadata": {},
     "output_type": "execute_result"
    }
   ],
   "source": [
    "'Manish' in d1"
   ]
  },
  {
   "cell_type": "markdown",
   "id": "c78b8446-6f3c-491e-b5d7-f5b4f621560c",
   "metadata": {
    "id": "c78b8446-6f3c-491e-b5d7-f5b4f621560c"
   },
   "source": [
    "**Index**"
   ]
  },
  {
   "cell_type": "code",
   "execution_count": 5,
   "id": "2c1dabbc-a157-47fa-9f96-cbd0296389ce",
   "metadata": {
    "id": "2c1dabbc-a157-47fa-9f96-cbd0296389ce",
    "outputId": "06db2488-bcd1-4603-f027-d0f8af0b856f"
   },
   "outputs": [
    {
     "ename": "KeyError",
     "evalue": "0",
     "output_type": "error",
     "traceback": [
      "\u001b[1;31m---------------------------------------------------------------------------\u001b[0m",
      "\u001b[1;31mKeyError\u001b[0m                                  Traceback (most recent call last)",
      "Cell \u001b[1;32mIn[5], line 4\u001b[0m\n\u001b[0;32m      1\u001b[0m d1\u001b[38;5;241m=\u001b[39m{\u001b[38;5;124m'\u001b[39m\u001b[38;5;124mManish\u001b[39m\u001b[38;5;124m'\u001b[39m:\u001b[38;5;241m25\u001b[39m,\u001b[38;5;124m'\u001b[39m\u001b[38;5;124mShubam\u001b[39m\u001b[38;5;124m'\u001b[39m:\u001b[38;5;241m20\u001b[39m,\u001b[38;5;124m'\u001b[39m\u001b[38;5;124mGovindh\u001b[39m\u001b[38;5;124m'\u001b[39m:\u001b[38;5;241m15\u001b[39m}\n\u001b[0;32m      2\u001b[0m \u001b[38;5;66;03m# If you want retrive the values\u001b[39;00m\n\u001b[0;32m      3\u001b[0m \u001b[38;5;66;03m# Python will never give  'Manish':25\u001b[39;00m\n\u001b[1;32m----> 4\u001b[0m d1[\u001b[38;5;241m0\u001b[39m]\n",
      "\u001b[1;31mKeyError\u001b[0m: 0"
     ]
    }
   ],
   "source": [
    "d1={'Manish':25,'Shubam':20,'Govindh':15}\n",
    "# If you want retrive the values\n",
    "# Python will never give  'Manish':25\n",
    "d1[0]"
   ]
  },
  {
   "cell_type": "code",
   "execution_count": 6,
   "id": "31ac3fa7-23ba-444a-aa1c-453d1ead140a",
   "metadata": {
    "id": "31ac3fa7-23ba-444a-aa1c-453d1ead140a",
    "outputId": "8c4c29aa-fcbf-4db0-af19-7629a283e3b9"
   },
   "outputs": [
    {
     "data": {
      "text/plain": [
       "25"
      ]
     },
     "execution_count": 6,
     "metadata": {},
     "output_type": "execute_result"
    }
   ],
   "source": [
    "d1['Manish']"
   ]
  },
  {
   "cell_type": "code",
   "execution_count": 1,
   "id": "b73a0e8d-4622-4387-8591-fd6a143eb95b",
   "metadata": {
    "id": "b73a0e8d-4622-4387-8591-fd6a143eb95b",
    "outputId": "049e11f7-8a79-4f2c-b7ac-51b4b622444a"
   },
   "outputs": [
    {
     "ename": "NameError",
     "evalue": "name 'i' is not defined",
     "output_type": "error",
     "traceback": [
      "\u001b[1;31m---------------------------------------------------------------------------\u001b[0m",
      "\u001b[1;31mNameError\u001b[0m                                 Traceback (most recent call last)",
      "Cell \u001b[1;32mIn[1], line 9\u001b[0m\n\u001b[0;32m      6\u001b[0m d1[\u001b[38;5;124m'\u001b[39m\u001b[38;5;124mShubam\u001b[39m\u001b[38;5;124m'\u001b[39m]\n\u001b[0;32m      7\u001b[0m d1[\u001b[38;5;124m'\u001b[39m\u001b[38;5;124mGovindh\u001b[39m\u001b[38;5;124m'\u001b[39m]\n\u001b[1;32m----> 9\u001b[0m d1[i]\n",
      "\u001b[1;31mNameError\u001b[0m: name 'i' is not defined"
     ]
    }
   ],
   "source": [
    "d1={'Manish':25,'Shubam':20,'Govindh':15}\n",
    "# Dictionary is a key:value pair\n",
    "# We can not use index number directly\n",
    "# whenever you want to call a value, we will use key\n",
    "d1['Manish']\n",
    "d1['Shubam']\n",
    "d1['Govindh']\n",
    "\n",
    "d1[i]"
   ]
  },
  {
   "cell_type": "code",
   "execution_count": 2,
   "id": "7e18b98f-b5f7-436e-89a3-215e0ec39906",
   "metadata": {
    "id": "7e18b98f-b5f7-436e-89a3-215e0ec39906",
    "outputId": "bf93526f-1b35-4d8e-ec36-140a5351bd92"
   },
   "outputs": [
    {
     "name": "stdout",
     "output_type": "stream",
     "text": [
      "Manish has age 25\n",
      "Shubam has age 20\n",
      "Govindh has age 15\n"
     ]
    }
   ],
   "source": [
    "d1={'Manish':25,'Shubam':20,'Govindh':15}\n",
    "for i in d1:\n",
    "    print(f\"{i} has age {d1[i]}\")"
   ]
  },
  {
   "cell_type": "code",
   "execution_count": 3,
   "id": "d2c78414-7776-432a-86a2-9119e4f7eb59",
   "metadata": {
    "id": "d2c78414-7776-432a-86a2-9119e4f7eb59",
    "outputId": "1287209e-53f7-4785-d591-61a6f18da8be"
   },
   "outputs": [
    {
     "name": "stdout",
     "output_type": "stream",
     "text": [
      "Vignesh has age 20\n",
      "Mohit has age 25\n",
      "Nagesh has age 30\n"
     ]
    }
   ],
   "source": [
    "names=['Vignesh','Mohit','Nagesh']\n",
    "age=[20,25,30]\n",
    "for i,j in zip(names,age):\n",
    "    print(f\"{i} has age {j}\")"
   ]
  },
  {
   "cell_type": "markdown",
   "id": "77e2da5a-ecb5-4808-9cd0-de019dd21512",
   "metadata": {
    "id": "77e2da5a-ecb5-4808-9cd0-de019dd21512"
   },
   "source": [
    "**Dictionary to list**"
   ]
  },
  {
   "cell_type": "code",
   "execution_count": 4,
   "id": "b34cb8a2-7c44-4dcb-880b-f4de57b98b30",
   "metadata": {
    "id": "b34cb8a2-7c44-4dcb-880b-f4de57b98b30",
    "outputId": "282bf6dc-3b48-4710-a61d-592ecaa8cd7a"
   },
   "outputs": [
    {
     "data": {
      "text/plain": [
       "[25, 20, 15]"
      ]
     },
     "execution_count": 4,
     "metadata": {},
     "output_type": "execute_result"
    }
   ],
   "source": [
    "d1={'Manish':25,'Shubam':20,'Govindh':15}\n",
    "keys,values=[],[]\n",
    "for i in d1:\n",
    "    keys.append(i)\n",
    "    values.append(d1[i])\n",
    "values"
   ]
  },
  {
   "cell_type": "code",
   "execution_count": null,
   "id": "f2276727-5bcc-447a-a585-e4665350b80c",
   "metadata": {
    "id": "f2276727-5bcc-447a-a585-e4665350b80c"
   },
   "outputs": [],
   "source": [
    "keys=[i for i in d1]\n",
    "values=[d1[i] for i in d1]"
   ]
  },
  {
   "cell_type": "markdown",
   "id": "41cb0e39-d1fa-47e9-b76c-a0ac6ab79fa5",
   "metadata": {
    "id": "41cb0e39-d1fa-47e9-b76c-a0ac6ab79fa5"
   },
   "source": [
    "**How to create a empty list**"
   ]
  },
  {
   "cell_type": "code",
   "execution_count": 5,
   "id": "71b79bf3-c09b-425d-abbb-9ed974089a03",
   "metadata": {
    "id": "71b79bf3-c09b-425d-abbb-9ed974089a03",
    "outputId": "cba9441c-6ace-4132-c6e0-95f7413b747a"
   },
   "outputs": [
    {
     "data": {
      "text/plain": [
       "[20]"
      ]
     },
     "execution_count": 5,
     "metadata": {},
     "output_type": "execute_result"
    }
   ],
   "source": [
    "l=[]\n",
    "l.append(20)\n",
    "l"
   ]
  },
  {
   "cell_type": "markdown",
   "id": "1447ee87-21df-4947-9c72-46059556d5d9",
   "metadata": {
    "id": "1447ee87-21df-4947-9c72-46059556d5d9"
   },
   "source": [
    "**empty string**"
   ]
  },
  {
   "cell_type": "code",
   "execution_count": 6,
   "id": "75705a3a-c180-4d6a-91d4-139c2afd622f",
   "metadata": {
    "id": "75705a3a-c180-4d6a-91d4-139c2afd622f",
    "outputId": "a71420b8-68bf-44cc-dff7-e7f54651849d"
   },
   "outputs": [
    {
     "data": {
      "text/plain": [
       "'a'"
      ]
     },
     "execution_count": 6,
     "metadata": {},
     "output_type": "execute_result"
    }
   ],
   "source": [
    "s=''\n",
    "s=s+'a'\n",
    "s"
   ]
  },
  {
   "cell_type": "markdown",
   "id": "fc9d3888-d994-4dd5-b0fd-46b2482967c2",
   "metadata": {
    "id": "fc9d3888-d994-4dd5-b0fd-46b2482967c2"
   },
   "source": [
    "**empty dictionary**"
   ]
  },
  {
   "cell_type": "code",
   "execution_count": null,
   "id": "6956b49b-b7a8-4b92-8880-dd46d9830d30",
   "metadata": {
    "id": "6956b49b-b7a8-4b92-8880-dd46d9830d30"
   },
   "outputs": [],
   "source": [
    "d={}\n",
    "d[<key>]=<value>"
   ]
  },
  {
   "cell_type": "code",
   "execution_count": 7,
   "id": "7ab8ea82-dc66-4d3f-afbd-9ae55befc8a6",
   "metadata": {
    "id": "7ab8ea82-dc66-4d3f-afbd-9ae55befc8a6",
    "outputId": "010348c9-8ac4-4d28-fb19-95aaab7eb4ea"
   },
   "outputs": [],
   "source": [
    "d={}\n",
    "d['Vignesh']=20\n",
    "d['Mohit']=25\n",
    "d['Nagesh']=30\n",
    "#d[i]=j"
   ]
  },
  {
   "cell_type": "code",
   "execution_count": 8,
   "id": "ef308d8e-29ce-4355-8eb8-18cb5e22a3b5",
   "metadata": {
    "id": "ef308d8e-29ce-4355-8eb8-18cb5e22a3b5",
    "outputId": "b87e1621-3f74-4490-cbf9-1bb4e819e3ce"
   },
   "outputs": [
    {
     "data": {
      "text/plain": [
       "{'Vignesh': 20, 'Mohit': 25, 'Nagesh': 30}"
      ]
     },
     "execution_count": 8,
     "metadata": {},
     "output_type": "execute_result"
    }
   ],
   "source": [
    "names=['Vignesh','Mohit','Nagesh']\n",
    "age=[20,25,30]\n",
    "NAMES={}\n",
    "for i,j in zip(names,age):\n",
    "    NAMES[i]=j\n",
    "NAMES"
   ]
  },
  {
   "cell_type": "markdown",
   "id": "c3763309-8b60-454a-bf12-8d1cf89c4746",
   "metadata": {
    "id": "c3763309-8b60-454a-bf12-8d1cf89c4746"
   },
   "source": [
    "**string to list**"
   ]
  },
  {
   "cell_type": "code",
   "execution_count": 9,
   "id": "4c42c74f-dc00-4973-8fce-187cdc6f845a",
   "metadata": {
    "id": "4c42c74f-dc00-4973-8fce-187cdc6f845a",
    "outputId": "2e7cedf2-40a2-4fa2-e21f-e2dff5167a07"
   },
   "outputs": [
    {
     "data": {
      "text/plain": [
       "['hello', 'hai', 'hai', 'how', 'how', 'are', 'you']"
      ]
     },
     "execution_count": 9,
     "metadata": {},
     "output_type": "execute_result"
    }
   ],
   "source": [
    "s='hello hai hai how how are you'\n",
    "s.split()"
   ]
  },
  {
   "cell_type": "markdown",
   "id": "54bde46a-1880-4928-815f-0106e3d12201",
   "metadata": {
    "id": "54bde46a-1880-4928-815f-0106e3d12201"
   },
   "source": [
    "**Word frequency**"
   ]
  },
  {
   "cell_type": "code",
   "execution_count": 10,
   "id": "39fb35a1-3133-4516-99be-2ff5b370347d",
   "metadata": {
    "id": "39fb35a1-3133-4516-99be-2ff5b370347d",
    "outputId": "a1ff1f5c-964e-4d8d-b6c7-f544eb73e163"
   },
   "outputs": [
    {
     "data": {
      "text/plain": [
       "{'hello': 1, 'hai': 2, 'how': 2, 'are': 1, 'you': 1}"
      ]
     },
     "execution_count": 10,
     "metadata": {},
     "output_type": "execute_result"
    }
   ],
   "source": [
    "# i/p: s='hello hai hai how how are you'\n",
    "#o/p:{'hello':1,'hai':2,'how':2,'are':1,'you':2}\n",
    "# idea\n",
    "# step-1: split the string: List of words\n",
    "# step-2: Iterate using the list\n",
    "#         each word will come apply the count\n",
    "#         word key, count become value\n",
    "#step-3: Make a dictionary\n",
    "\n",
    "s='hello hai hai how how are you'\n",
    "words_list=s.split()\n",
    "words_list\n",
    "dict1={}\n",
    "for word in words_list:\n",
    "    dict1[word]=s.count(word)\n",
    "dict1"
   ]
  },
  {
   "cell_type": "code",
   "execution_count": null,
   "id": "cbfe1808-cd03-4067-a2cf-e08ae8918427",
   "metadata": {
    "id": "cbfe1808-cd03-4067-a2cf-e08ae8918427"
   },
   "outputs": [],
   "source": [
    "string1=\"\"\"Data science is an interdisciplinary academic field that uses statistics,\n",
    "          scientific computing, scientific methods, processes, scientific visualization,\n",
    "          algorithms and systems to extract or extrapolate knowledge and insights from potentially noisy, structured, or unstructured data.\n",
    "         Data science also integrates domain knowledge from the underlying applicatin.Data science is multifaceted and can be described as a science,\n",
    "         a research paradigm, a research method, a discipline, a workflow, and a profession.\"\"\"\n",
    "\n",
    "#task -1: in the above sentence you need to remove a,an,is,the\n",
    "# task-2: Data first letter Ascii value: 68\n",
    "#         scince first letter Ascii value : 115\n",
    "\n",
    "{'Data':68,'science':115}"
   ]
  },
  {
   "cell_type": "markdown",
   "id": "bfbd53cb-f9e5-44f4-a247-18764556a4c3",
   "metadata": {
    "id": "bfbd53cb-f9e5-44f4-a247-18764556a4c3"
   },
   "source": [
    "**Mutable-immutable**\n",
    "\n",
    "- Change the elements using index\n",
    "\n",
    "- But In dictionary there is no index\n",
    "\n",
    "- In dictionary we wil change the value based on key only\n",
    "\n",
    "- instead of using the index, change the values using key\n",
    "\n",
    "- if it is change it is Mutable\n",
    "\n",
    "- if it is not change it is Immutable"
   ]
  },
  {
   "cell_type": "code",
   "execution_count": 11,
   "id": "c3987c39-e4fe-47a1-9151-b7799f9ed268",
   "metadata": {
    "id": "c3987c39-e4fe-47a1-9151-b7799f9ed268",
    "outputId": "fed5cee2-9f34-4a11-a2ef-98fb68d75ef3"
   },
   "outputs": [
    {
     "data": {
      "text/plain": [
       "{'Vignesh': 20, 'Mohit': 25, 'Nagesh': 22}"
      ]
     },
     "execution_count": 11,
     "metadata": {},
     "output_type": "execute_result"
    }
   ],
   "source": [
    "d={'Vignesh': 20, 'Mohit': 25, 'Nagesh': 30}\n",
    "d['Nagesh']=22\n",
    "d"
   ]
  },
  {
   "cell_type": "markdown",
   "id": "5b2d31fb-a1f7-47f7-9210-366d71aebe78",
   "metadata": {
    "id": "5b2d31fb-a1f7-47f7-9210-366d71aebe78"
   },
   "source": [
    "- List and Dictionary are mutable\n",
    "\n",
    "- tuple and strings are immutable\n",
    "\n",
    "- Difference between list and Tuple"
   ]
  },
  {
   "cell_type": "code",
   "execution_count": 12,
   "id": "183e3277-fb7b-4301-86fb-3d7176144540",
   "metadata": {
    "id": "183e3277-fb7b-4301-86fb-3d7176144540",
    "outputId": "17daff23-4d83-4163-a288-3527c50f5a74"
   },
   "outputs": [
    {
     "data": {
      "text/plain": [
       "'Mango'"
      ]
     },
     "execution_count": 12,
     "metadata": {},
     "output_type": "execute_result"
    }
   ],
   "source": [
    "d={'Fruites':['Mango']}\n",
    "d['Fruites'][0]"
   ]
  },
  {
   "cell_type": "code",
   "execution_count": 13,
   "id": "6bbff7a4-486e-4e13-a0a0-d895419a4d3f",
   "metadata": {
    "id": "6bbff7a4-486e-4e13-a0a0-d895419a4d3f",
    "outputId": "443e9084-a8ff-4e4a-85a4-f0f65bd8bf69"
   },
   "outputs": [
    {
     "data": {
      "text/plain": [
       "{'Fruites': [{'Apple': ['Kashmir']}]}"
      ]
     },
     "execution_count": 13,
     "metadata": {},
     "output_type": "execute_result"
    }
   ],
   "source": [
    "d={'Fruites':[{'Apple':['Kashmir']}]}\n",
    "d"
   ]
  },
  {
   "cell_type": "code",
   "execution_count": 14,
   "id": "a4814b95-9a3c-43b6-be27-a61238af23fa",
   "metadata": {
    "id": "a4814b95-9a3c-43b6-be27-a61238af23fa",
    "outputId": "6225e620-45e9-4a44-f8de-0a3efc289f9d"
   },
   "outputs": [
    {
     "data": {
      "text/plain": [
       "'Kashmir'"
      ]
     },
     "execution_count": 14,
     "metadata": {},
     "output_type": "execute_result"
    }
   ],
   "source": [
    "d['Fruites'][0]['Apple'][0]"
   ]
  },
  {
   "cell_type": "code",
   "execution_count": 15,
   "id": "83eca5a8-1373-4418-803a-dd01e893327c",
   "metadata": {
    "id": "83eca5a8-1373-4418-803a-dd01e893327c",
    "outputId": "1c0890c8-7524-4816-b4fe-b6b26fbc8980"
   },
   "outputs": [
    {
     "data": {
      "text/plain": [
       "{'Fruites': [{'Apple': {'Kashmir': ['India']}}]}"
      ]
     },
     "execution_count": 15,
     "metadata": {},
     "output_type": "execute_result"
    }
   ],
   "source": [
    "d={'Fruites':[\n",
    "    {'Apple':\n",
    "     {'Kashmir':\n",
    "      ['India']\n",
    "     }\n",
    "    }\n",
    "     ]\n",
    "  }\n",
    "d"
   ]
  },
  {
   "cell_type": "code",
   "execution_count": 16,
   "id": "01c3629c-9a94-41a9-baf2-5bc15c86080b",
   "metadata": {
    "id": "01c3629c-9a94-41a9-baf2-5bc15c86080b",
    "outputId": "128cf8ac-89e0-4b7d-af05-9284554045ba"
   },
   "outputs": [
    {
     "data": {
      "text/plain": [
       "'India'"
      ]
     },
     "execution_count": 16,
     "metadata": {},
     "output_type": "execute_result"
    }
   ],
   "source": [
    "d['Fruites'][0]['Apple']['Kashmir'][0]"
   ]
  },
  {
   "cell_type": "code",
   "execution_count": 17,
   "id": "a160a856-2d04-4bef-82fd-a0ff77a835ea",
   "metadata": {
    "id": "a160a856-2d04-4bef-82fd-a0ff77a835ea",
    "outputId": "b297f0c0-d489-473a-fde2-a082cbd4b80f"
   },
   "outputs": [
    {
     "data": {
      "text/plain": [
       "{'Fruites': {'Benganapalli': {'Mango': {'Nagpur': {'MH': {'Shivaji': {'Shambaji'}}}}}}}"
      ]
     },
     "execution_count": 17,
     "metadata": {},
     "output_type": "execute_result"
    }
   ],
   "source": [
    "d={'Fruites':{'Benganapalli':{'Mango':{'Nagpur':{'MH':{'Shivaji':{'Shambaji'}}}}}}}\n",
    "d"
   ]
  },
  {
   "cell_type": "code",
   "execution_count": 18,
   "id": "03d48ff2-1dbf-42fe-b6d7-2161cd05a140",
   "metadata": {
    "id": "03d48ff2-1dbf-42fe-b6d7-2161cd05a140",
    "outputId": "e645cdb6-b921-4e5b-bdb9-de60179b5a22"
   },
   "outputs": [
    {
     "data": {
      "text/plain": [
       "{'Shambaji'}"
      ]
     },
     "execution_count": 18,
     "metadata": {},
     "output_type": "execute_result"
    }
   ],
   "source": [
    "d['Fruites']['Benganapalli']['Mango']['Nagpur']['MH']['Shivaji']"
   ]
  },
  {
   "cell_type": "markdown",
   "id": "8be23acb-e830-43dd-bfb9-03624ac7bac2",
   "metadata": {
    "id": "2215c71a-9dba-4be0-9619-804208de8d63"
   },
   "source": [
    "**Dictionary Methods**"
   ]
  },
  {
   "cell_type": "code",
   "execution_count": 2,
   "id": "db32ca92-1ebd-4d7b-8be9-2086cd3c579b",
   "metadata": {},
   "outputs": [
    {
     "data": {
      "text/plain": [
       "['__class__',\n",
       " '__class_getitem__',\n",
       " '__contains__',\n",
       " '__delattr__',\n",
       " '__delitem__',\n",
       " '__dir__',\n",
       " '__doc__',\n",
       " '__eq__',\n",
       " '__format__',\n",
       " '__ge__',\n",
       " '__getattribute__',\n",
       " '__getitem__',\n",
       " '__getstate__',\n",
       " '__gt__',\n",
       " '__hash__',\n",
       " '__init__',\n",
       " '__init_subclass__',\n",
       " '__ior__',\n",
       " '__iter__',\n",
       " '__le__',\n",
       " '__len__',\n",
       " '__lt__',\n",
       " '__ne__',\n",
       " '__new__',\n",
       " '__or__',\n",
       " '__reduce__',\n",
       " '__reduce_ex__',\n",
       " '__repr__',\n",
       " '__reversed__',\n",
       " '__ror__',\n",
       " '__setattr__',\n",
       " '__setitem__',\n",
       " '__sizeof__',\n",
       " '__str__',\n",
       " '__subclasshook__',\n",
       " 'clear',\n",
       " 'copy',\n",
       " 'fromkeys',\n",
       " 'get',\n",
       " 'items',\n",
       " 'keys',\n",
       " 'pop',\n",
       " 'popitem',\n",
       " 'setdefault',\n",
       " 'update',\n",
       " 'values']"
      ]
     },
     "execution_count": 2,
     "metadata": {},
     "output_type": "execute_result"
    }
   ],
   "source": [
    "dir('') # string methods\n",
    "dir([]) # list methods\n",
    "dir(()) # tuple methods\n",
    "dir({}) # Dictionary methods"
   ]
  },
  {
   "cell_type": "code",
   "execution_count": null,
   "id": "63b1f0dd-4e09-4f0f-b38a-58be9ec82a61",
   "metadata": {},
   "outputs": [],
   "source": [
    "string\n",
    "list\n",
    "tuple\n",
    "dictionary all are class objects"
   ]
  },
  {
   "cell_type": "code",
   "execution_count": 3,
   "id": "421a5e27-1719-458a-9832-1181ca08c6b8",
   "metadata": {},
   "outputs": [
    {
     "name": "stdout",
     "output_type": "stream",
     "text": [
      "<class 'tuple'>\n"
     ]
    }
   ],
   "source": [
    "print(type(()))"
   ]
  },
  {
   "cell_type": "markdown",
   "id": "bb5c9973-84c6-4b76-ad27-acd3dcc1b6d2",
   "metadata": {},
   "source": [
    "**items-keys-values**"
   ]
  },
  {
   "cell_type": "code",
   "execution_count": 4,
   "id": "c64438e7-7f9e-4b29-80a9-0bd197efd5ff",
   "metadata": {},
   "outputs": [
    {
     "data": {
      "text/plain": [
       "{'Vignesh': 20, 'Mohit': 25, 'Nagesh': 30}"
      ]
     },
     "execution_count": 4,
     "metadata": {},
     "output_type": "execute_result"
    }
   ],
   "source": [
    "d={'Vignesh': 20, 'Mohit': 25, 'Nagesh': 30}\n",
    "d"
   ]
  },
  {
   "cell_type": "code",
   "execution_count": null,
   "id": "21a07604-8053-4293-8f12-466c4b255c47",
   "metadata": {},
   "outputs": [],
   "source": [
    "#<package>.<methodname>"
   ]
  },
  {
   "cell_type": "code",
   "execution_count": 5,
   "id": "889742e7-f246-43ec-a772-4b2e9ba278ea",
   "metadata": {},
   "outputs": [
    {
     "data": {
      "text/plain": [
       "dict_items([('Vignesh', 20), ('Mohit', 25), ('Nagesh', 30)])"
      ]
     },
     "execution_count": 5,
     "metadata": {},
     "output_type": "execute_result"
    }
   ],
   "source": [
    "d.items()"
   ]
  },
  {
   "cell_type": "code",
   "execution_count": 6,
   "id": "e0ebacdc-4c68-4e11-85af-d2d929ac985e",
   "metadata": {},
   "outputs": [
    {
     "data": {
      "text/plain": [
       "dict_keys(['Vignesh', 'Mohit', 'Nagesh'])"
      ]
     },
     "execution_count": 6,
     "metadata": {},
     "output_type": "execute_result"
    }
   ],
   "source": [
    "d.keys()"
   ]
  },
  {
   "cell_type": "code",
   "execution_count": 7,
   "id": "ea1cfddd-c8c2-4619-827a-a743c116c576",
   "metadata": {},
   "outputs": [
    {
     "data": {
      "text/plain": [
       "dict_values([20, 25, 30])"
      ]
     },
     "execution_count": 7,
     "metadata": {},
     "output_type": "execute_result"
    }
   ],
   "source": [
    "d.values()"
   ]
  },
  {
   "cell_type": "code",
   "execution_count": 8,
   "id": "1ae982b8-969b-43f0-a73d-7244e85bd05e",
   "metadata": {},
   "outputs": [
    {
     "name": "stdout",
     "output_type": "stream",
     "text": [
      "Vignesh 20\n",
      "Mohit 25\n",
      "Nagesh 30\n"
     ]
    },
    {
     "data": {
      "text/plain": [
       "(['Vignesh', 'Mohit', 'Nagesh'], [20, 25, 30])"
      ]
     },
     "execution_count": 8,
     "metadata": {},
     "output_type": "execute_result"
    }
   ],
   "source": [
    "# We already learn how to make a list from dictionary\n",
    "d={'Vignesh': 20, 'Mohit': 25, 'Nagesh': 30}\n",
    "keys,values=[],[]\n",
    "for i in d:\n",
    "    print(i,d[i])\n",
    "    keys.append(i)\n",
    "    values.append(d[i])\n",
    "    \n",
    "keys,values"
   ]
  },
  {
   "cell_type": "code",
   "execution_count": 9,
   "id": "50ddb8c6-7488-498d-b9d3-ac5973275a4b",
   "metadata": {},
   "outputs": [
    {
     "data": {
      "text/plain": [
       "dict_keys(['Vignesh', 'Mohit', 'Nagesh'])"
      ]
     },
     "execution_count": 9,
     "metadata": {},
     "output_type": "execute_result"
    }
   ],
   "source": [
    "d.keys()"
   ]
  },
  {
   "cell_type": "code",
   "execution_count": 10,
   "id": "1d9c1e36-3e2b-4fd0-84a7-87cd5a46872a",
   "metadata": {},
   "outputs": [
    {
     "data": {
      "text/plain": [
       "dict_keys"
      ]
     },
     "execution_count": 10,
     "metadata": {},
     "output_type": "execute_result"
    }
   ],
   "source": [
    "type(d.keys())"
   ]
  },
  {
   "cell_type": "code",
   "execution_count": 11,
   "id": "af3c82c5-048a-444f-b816-bd53b9391e2d",
   "metadata": {},
   "outputs": [
    {
     "data": {
      "text/plain": [
       "(['Vignesh', 'Mohit', 'Nagesh'], [20, 25, 30])"
      ]
     },
     "execution_count": 11,
     "metadata": {},
     "output_type": "execute_result"
    }
   ],
   "source": [
    "d={'Vignesh': 20, 'Mohit': 25, 'Nagesh': 30}\n",
    "list(d.keys()),list(d.values())"
   ]
  },
  {
   "cell_type": "code",
   "execution_count": 12,
   "id": "884611d2-6134-4c92-b06c-1c209a2fec63",
   "metadata": {},
   "outputs": [
    {
     "ename": "AttributeError",
     "evalue": "'dict_keys' object has no attribute 'append'",
     "output_type": "error",
     "traceback": [
      "\u001b[1;31m---------------------------------------------------------------------------\u001b[0m",
      "\u001b[1;31mAttributeError\u001b[0m                            Traceback (most recent call last)",
      "Cell \u001b[1;32mIn[12], line 1\u001b[0m\n\u001b[1;32m----> 1\u001b[0m d\u001b[38;5;241m.\u001b[39mkeys()\u001b[38;5;241m.\u001b[39mappend(\u001b[38;5;241m20\u001b[39m)\n",
      "\u001b[1;31mAttributeError\u001b[0m: 'dict_keys' object has no attribute 'append'"
     ]
    }
   ],
   "source": [
    "d.keys().append(20)"
   ]
  },
  {
   "cell_type": "markdown",
   "id": "9912b1e5-9927-4c41-ae57-86d361ac5e98",
   "metadata": {},
   "source": [
    "- Dictionary keys will give dictionary keys items in a list\n",
    "\n",
    "- It looks like a list , but it is not a list\n",
    "\n",
    "- Whcih means we can not apply list methods\n",
    "\n",
    "- So we need to convert into list type, by using list type casting"
   ]
  },
  {
   "cell_type": "code",
   "execution_count": 13,
   "id": "14495ec9-666c-439c-a043-8364901558b5",
   "metadata": {},
   "outputs": [
    {
     "data": {
      "text/plain": [
       "['__add__',\n",
       " '__args__',\n",
       " '__class__',\n",
       " '__class_getitem__',\n",
       " '__contains__',\n",
       " '__copy__',\n",
       " '__deepcopy__',\n",
       " '__delattr__',\n",
       " '__delitem__',\n",
       " '__dir__',\n",
       " '__doc__',\n",
       " '__eq__',\n",
       " '__format__',\n",
       " '__ge__',\n",
       " '__getattribute__',\n",
       " '__getitem__',\n",
       " '__getstate__',\n",
       " '__gt__',\n",
       " '__hash__',\n",
       " '__iadd__',\n",
       " '__imul__',\n",
       " '__init__',\n",
       " '__init_subclass__',\n",
       " '__iter__',\n",
       " '__le__',\n",
       " '__len__',\n",
       " '__lt__',\n",
       " '__mro_entries__',\n",
       " '__mul__',\n",
       " '__ne__',\n",
       " '__new__',\n",
       " '__origin__',\n",
       " '__parameters__',\n",
       " '__reduce__',\n",
       " '__reduce_ex__',\n",
       " '__repr__',\n",
       " '__reversed__',\n",
       " '__rmul__',\n",
       " '__setattr__',\n",
       " '__setitem__',\n",
       " '__sizeof__',\n",
       " '__str__',\n",
       " '__subclasshook__',\n",
       " '__typing_unpacked_tuple_args__',\n",
       " '__unpacked__',\n",
       " 'append',\n",
       " 'clear',\n",
       " 'copy',\n",
       " 'count',\n",
       " 'extend',\n",
       " 'index',\n",
       " 'insert',\n",
       " 'pop',\n",
       " 'remove',\n",
       " 'reverse',\n",
       " 'sort']"
      ]
     },
     "execution_count": 13,
     "metadata": {},
     "output_type": "execute_result"
    }
   ],
   "source": [
    "dir(list[d.keys()])"
   ]
  },
  {
   "cell_type": "code",
   "execution_count": 14,
   "id": "7815e1ee-96b7-4e59-b6c8-cc424c206cb8",
   "metadata": {},
   "outputs": [
    {
     "data": {
      "text/plain": [
       "['Vignesh', 'Mohit', 'Nagesh']"
      ]
     },
     "execution_count": 14,
     "metadata": {},
     "output_type": "execute_result"
    }
   ],
   "source": [
    "list(d.keys())"
   ]
  },
  {
   "cell_type": "code",
   "execution_count": 15,
   "id": "bd076620-95e9-4a1f-8fcf-e0e160603918",
   "metadata": {},
   "outputs": [
    {
     "data": {
      "text/plain": [
       "list[dict_keys(['Vignesh', 'Mohit', 'Nagesh'])]"
      ]
     },
     "execution_count": 15,
     "metadata": {},
     "output_type": "execute_result"
    }
   ],
   "source": [
    "list[d.keys()]"
   ]
  },
  {
   "cell_type": "code",
   "execution_count": 17,
   "id": "c03669d7-919b-4f86-b2ab-fb5205076da0",
   "metadata": {},
   "outputs": [
    {
     "name": "stdout",
     "output_type": "stream",
     "text": [
      "*list[dict_keys(['Vignesh', 'Mohit', 'Nagesh'])]\n"
     ]
    }
   ],
   "source": [
    "for i in list[d.keys()]:\n",
    "    print(i)"
   ]
  },
  {
   "cell_type": "code",
   "execution_count": 18,
   "id": "7a650833-393d-4d46-9779-0eac66229f33",
   "metadata": {},
   "outputs": [
    {
     "data": {
      "text/plain": [
       "types.GenericAlias"
      ]
     },
     "execution_count": 18,
     "metadata": {},
     "output_type": "execute_result"
    }
   ],
   "source": [
    "type(list[d.keys()])"
   ]
  },
  {
   "cell_type": "markdown",
   "id": "f9ea7b18-3cbb-4f9f-afb6-ff85b2a72cf6",
   "metadata": {},
   "source": [
    "**Method-1**"
   ]
  },
  {
   "cell_type": "code",
   "execution_count": null,
   "id": "7b9ef56b-f5e1-4cd4-bfc0-bae423058445",
   "metadata": {},
   "outputs": [],
   "source": [
    "d={'Vignesh': 20, 'Mohit': 25, 'Nagesh': 30}\n",
    "keys,values=[],[]\n",
    "for i in d:\n",
    "    print(i,d[i])\n",
    "    keys.append(i)\n",
    "    values.append(d[i])\n",
    "    \n",
    "keys,values"
   ]
  },
  {
   "cell_type": "markdown",
   "id": "acab5809-2d50-48c0-a7cb-28154362f42f",
   "metadata": {},
   "source": [
    "**Method-2**"
   ]
  },
  {
   "cell_type": "code",
   "execution_count": null,
   "id": "d6e6b2a2-165a-4a69-8e20-8609270dba9d",
   "metadata": {},
   "outputs": [],
   "source": [
    "d={'Vignesh': 20, 'Mohit': 25, 'Nagesh': 30}\n",
    "keys=list(d.keys())\n",
    "values=list(d.values())"
   ]
  },
  {
   "cell_type": "markdown",
   "id": "0789fae6-c380-4ca7-b08c-9ac1e281c3f2",
   "metadata": {},
   "source": [
    "**Method-3**"
   ]
  },
  {
   "cell_type": "code",
   "execution_count": 19,
   "id": "99a0e4f8-be51-4687-b2ad-ff8a19691de7",
   "metadata": {},
   "outputs": [
    {
     "data": {
      "text/plain": [
       "dict_items([('Vignesh', 20), ('Mohit', 25), ('Nagesh', 30)])"
      ]
     },
     "execution_count": 19,
     "metadata": {},
     "output_type": "execute_result"
    }
   ],
   "source": [
    "d.items()"
   ]
  },
  {
   "cell_type": "code",
   "execution_count": 20,
   "id": "dc7c36d3-1b1f-4468-8ba9-7496549d3e5a",
   "metadata": {},
   "outputs": [
    {
     "name": "stdout",
     "output_type": "stream",
     "text": [
      "Vignesh 20\n",
      "Mohit 25\n",
      "Nagesh 30\n"
     ]
    },
    {
     "data": {
      "text/plain": [
       "(['Vignesh', 'Mohit', 'Nagesh'], [20, 25, 30])"
      ]
     },
     "execution_count": 20,
     "metadata": {},
     "output_type": "execute_result"
    }
   ],
   "source": [
    "keys,values=[],[]\n",
    "for i,j in d.items():\n",
    "    print(i,j)\n",
    "    keys.append(i)\n",
    "    values.append(j)\n",
    "keys,values"
   ]
  },
  {
   "cell_type": "code",
   "execution_count": null,
   "id": "022b612a-810f-430d-86a1-429a48085d1d",
   "metadata": {},
   "outputs": [],
   "source": [
    "a=10,Works\n",
    "a,b=10,20 # Works\n",
    "a,b=10 # Fails"
   ]
  },
  {
   "cell_type": "code",
   "execution_count": 21,
   "id": "ffb8a1ad-158c-4410-b5fd-b6f2db67a36e",
   "metadata": {},
   "outputs": [
    {
     "data": {
      "text/plain": [
       "['__class__',\n",
       " '__class_getitem__',\n",
       " '__contains__',\n",
       " '__delattr__',\n",
       " '__delitem__',\n",
       " '__dir__',\n",
       " '__doc__',\n",
       " '__eq__',\n",
       " '__format__',\n",
       " '__ge__',\n",
       " '__getattribute__',\n",
       " '__getitem__',\n",
       " '__getstate__',\n",
       " '__gt__',\n",
       " '__hash__',\n",
       " '__init__',\n",
       " '__init_subclass__',\n",
       " '__ior__',\n",
       " '__iter__',\n",
       " '__le__',\n",
       " '__len__',\n",
       " '__lt__',\n",
       " '__ne__',\n",
       " '__new__',\n",
       " '__or__',\n",
       " '__reduce__',\n",
       " '__reduce_ex__',\n",
       " '__repr__',\n",
       " '__reversed__',\n",
       " '__ror__',\n",
       " '__setattr__',\n",
       " '__setitem__',\n",
       " '__sizeof__',\n",
       " '__str__',\n",
       " '__subclasshook__',\n",
       " 'clear',\n",
       " 'copy',\n",
       " 'fromkeys',\n",
       " 'get',\n",
       " 'items',\n",
       " 'keys',\n",
       " 'pop',\n",
       " 'popitem',\n",
       " 'setdefault',\n",
       " 'update',\n",
       " 'values']"
      ]
     },
     "execution_count": 21,
     "metadata": {},
     "output_type": "execute_result"
    }
   ],
   "source": [
    "dir({})"
   ]
  },
  {
   "cell_type": "code",
   "execution_count": null,
   "id": "65055894-7940-4793-a7df-9fd72d2a4146",
   "metadata": {},
   "outputs": [],
   "source": [
    "# Assignment"
   ]
  }
 ],
 "metadata": {
  "colab": {
   "provenance": []
  },
  "kernelspec": {
   "display_name": "Python 3 (ipykernel)",
   "language": "python",
   "name": "python3"
  },
  "language_info": {
   "codemirror_mode": {
    "name": "ipython",
    "version": 3
   },
   "file_extension": ".py",
   "mimetype": "text/x-python",
   "name": "python",
   "nbconvert_exporter": "python",
   "pygments_lexer": "ipython3",
   "version": "3.11.7"
  }
 },
 "nbformat": 4,
 "nbformat_minor": 5
}
