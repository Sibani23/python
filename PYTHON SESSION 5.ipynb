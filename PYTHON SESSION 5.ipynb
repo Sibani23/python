{
 "cells": [
  {
   "cell_type": "code",
   "execution_count": 1,
   "id": "927d9329-dc5f-4b94-97f2-808bf95a21bf",
   "metadata": {},
   "outputs": [
    {
     "data": {
      "text/plain": [
       "300"
      ]
     },
     "execution_count": 1,
     "metadata": {},
     "output_type": "execute_result"
    }
   ],
   "source": [
    "num1 = 100\n",
    "num2 = 200\n",
    "add = num1 + num2\n",
    "add"
   ]
  },
  {
   "cell_type": "code",
   "execution_count": 2,
   "id": "ffe9c8d9-a135-4602-ad6f-1389f25d012b",
   "metadata": {},
   "outputs": [
    {
     "name": "stdin",
     "output_type": "stream",
     "text": [
      " 12\n"
     ]
    },
    {
     "data": {
      "text/plain": [
       "'12'"
      ]
     },
     "execution_count": 2,
     "metadata": {},
     "output_type": "execute_result"
    }
   ],
   "source": [
    "input()"
   ]
  },
  {
   "cell_type": "code",
   "execution_count": 3,
   "id": "9cc688d9-b6e8-4c7a-a46b-77876e804a2a",
   "metadata": {},
   "outputs": [
    {
     "name": "stdin",
     "output_type": "stream",
     "text": [
      " 100\n",
      " 200\n"
     ]
    },
    {
     "data": {
      "text/plain": [
       "'200'"
      ]
     },
     "execution_count": 3,
     "metadata": {},
     "output_type": "execute_result"
    }
   ],
   "source": [
    "input()\n",
    "input()"
   ]
  },
  {
   "cell_type": "code",
   "execution_count": 4,
   "id": "5f0f23ff-cfe1-46d1-bcc8-a7cbad4c5005",
   "metadata": {},
   "outputs": [
    {
     "name": "stdin",
     "output_type": "stream",
     "text": [
      " 100\n",
      " 200\n",
      " 300\n"
     ]
    },
    {
     "data": {
      "text/plain": [
       "'300'"
      ]
     },
     "execution_count": 4,
     "metadata": {},
     "output_type": "execute_result"
    }
   ],
   "source": [
    "input()\n",
    "input()\n",
    "input()"
   ]
  },
  {
   "cell_type": "code",
   "execution_count": 5,
   "id": "9710b842-ebf9-4708-a549-20a5261817de",
   "metadata": {},
   "outputs": [
    {
     "name": "stdin",
     "output_type": "stream",
     "text": [
      "enter the number1: 100\n",
      "enter the number2: 200\n",
      "enter the number3: 300\n"
     ]
    },
    {
     "data": {
      "text/plain": [
       "'300'"
      ]
     },
     "execution_count": 5,
     "metadata": {},
     "output_type": "execute_result"
    }
   ],
   "source": [
    "input(\"enter the number1:\")\n",
    "input(\"enter the number2:\")\n",
    "input(\"enter the number3:\")"
   ]
  },
  {
   "cell_type": "code",
   "execution_count": 6,
   "id": "adc03575-7a69-4a26-acb6-f71b60098df8",
   "metadata": {},
   "outputs": [
    {
     "name": "stdin",
     "output_type": "stream",
     "text": [
      "enter the number1: 100\n",
      "enter the number2: 200\n"
     ]
    }
   ],
   "source": [
    "num1=input(\"enter the number1:\")\n",
    "num2=input(\"enter the number2:\")"
   ]
  },
  {
   "cell_type": "code",
   "execution_count": 7,
   "id": "466f5cfe-45be-4c9c-b7ae-4f430f9b6aae",
   "metadata": {},
   "outputs": [
    {
     "data": {
      "text/plain": [
       "'100'"
      ]
     },
     "execution_count": 7,
     "metadata": {},
     "output_type": "execute_result"
    }
   ],
   "source": [
    "num1"
   ]
  },
  {
   "cell_type": "markdown",
   "id": "9d733397-115e-4af2-b502-9c448dec1c2f",
   "metadata": {},
   "source": [
    "**NOTE**"
   ]
  },
  {
   "cell_type": "markdown",
   "id": "f8cd6428-a833-45f0-8ecc-31c95d1edacf",
   "metadata": {},
   "source": [
    "- input always give the string data type only\n",
    "- in oder to perform math calculatations we need to convert into numerical format i.e. int or float"
   ]
  },
  {
   "cell_type": "code",
   "execution_count": 8,
   "id": "0b694df9-e441-498b-a79b-f05d4ed532bc",
   "metadata": {},
   "outputs": [
    {
     "name": "stdin",
     "output_type": "stream",
     "text": [
      " 100\n"
     ]
    },
    {
     "data": {
      "text/plain": [
       "'100'"
      ]
     },
     "execution_count": 8,
     "metadata": {},
     "output_type": "execute_result"
    }
   ],
   "source": [
    "input()"
   ]
  },
  {
   "cell_type": "code",
   "execution_count": null,
   "id": "a98800e1-2b3d-4007-9532-00b35d491603",
   "metadata": {},
   "outputs": [],
   "source": [
    "input()\n",
    "input(\"enter the number:\")\n",
    "a=input(\"enter the number:\")"
   ]
  },
  {
   "cell_type": "code",
   "execution_count": 12,
   "id": "48543c97-9b2b-4787-bdef-ecc3c32cfdda",
   "metadata": {},
   "outputs": [
    {
     "name": "stdin",
     "output_type": "stream",
     "text": [
      "enter the number1: 100\n",
      "enter the number2: 200\n"
     ]
    },
    {
     "data": {
      "text/plain": [
       "'100200'"
      ]
     },
     "execution_count": 12,
     "metadata": {},
     "output_type": "execute_result"
    }
   ],
   "source": [
    "num1=input(\"enter the number1:\") # num1=int('100')\n",
    "num2=input(\"enter the number2:\") # num2 = '100'\n",
    "num1+num2 # '100'+'200'='100200'"
   ]
  },
  {
   "cell_type": "code",
   "execution_count": 13,
   "id": "9947c4ae-4e4b-42fb-bcf9-5528a74b6503",
   "metadata": {},
   "outputs": [
    {
     "name": "stdin",
     "output_type": "stream",
     "text": [
      "enter the number1: 100\n",
      "enter the number2: 200\n"
     ]
    },
    {
     "data": {
      "text/plain": [
       "300"
      ]
     },
     "execution_count": 13,
     "metadata": {},
     "output_type": "execute_result"
    }
   ],
   "source": [
    "num1=int(input(\"enter the number1:\")) # num1=int('100')=100 # num1=int('100')=100\n",
    "num2=int(input(\"enter the number2:\")) # num1=int('100')=100 # num2=int('200')=200\n",
    "num1+num2  # 100+200=300"
   ]
  },
  {
   "cell_type": "code",
   "execution_count": 14,
   "id": "43149f88-dcb2-431b-ada1-618240a0724c",
   "metadata": {},
   "outputs": [
    {
     "name": "stdin",
     "output_type": "stream",
     "text": [
      "enter the number1: 100\n",
      "enter the number2: 200\n"
     ]
    },
    {
     "name": "stdout",
     "output_type": "stream",
     "text": [
      "the addition of100 and 200 is 300\n"
     ]
    }
   ],
   "source": [
    "num1=int(input(\"enter the number1:\")) # num1=int('100')=100\n",
    "num2=int(input(\"enter the number2:\")) # num2=int('200')=200\n",
    "add=num1+num2 # 100+200=300\n",
    "print(f\"the addition of {num1} and {num2} is {add}\")"
   ]
  },
  {
   "cell_type": "code",
   "execution_count": 17,
   "id": "8e90707a-06e8-41b2-8a58-f93ed745097b",
   "metadata": {},
   "outputs": [
    {
     "name": "stdin",
     "output_type": "stream",
     "text": [
      "enter the number1: 100\n",
      "enter the number2: 200\n"
     ]
    },
    {
     "name": "stdout",
     "output_type": "stream",
     "text": [
      "the addition of 100.0 and 200 is 300.0\n"
     ]
    }
   ],
   "source": [
    "num1=float(input(\"enter the number1:\")) # num1=int('100.5')=100\n",
    "num2=int(input(\"enter the number2:\")) # num2=int('200')=200 \n",
    "add=num1+num2  # 100+200=300\n",
    "print(f\"the addition of {num1} and {num2} is {add}\")"
   ]
  },
  {
   "cell_type": "markdown",
   "id": "6a0acdc1-67da-4c0a-bf30-fbf12361d1fa",
   "metadata": {},
   "source": [
    "$eval$\n",
    "- eval means evalute\n",
    "- what ever the number we enter,eval will convert to corresponding data type"
   ]
  },
  {
   "cell_type": "code",
   "execution_count": 19,
   "id": "488d298e-1071-489f-b229-6504a061253b",
   "metadata": {},
   "outputs": [
    {
     "name": "stdin",
     "output_type": "stream",
     "text": [
      "enter the number1: 105\n",
      "enter the number2: 105\n"
     ]
    },
    {
     "name": "stdout",
     "output_type": "stream",
     "text": [
      "the addition of 105 and 105 is 210\n"
     ]
    }
   ],
   "source": [
    "num1=eval(input(\"enter the number1:\"))  # num1=int('100.5')=100\n",
    "num2=eval(input(\"enter the number2:\"))  # num2=int('200')=200\n",
    "add=num1+num2  # 100+200=300\n",
    "print(f\"the addition of {num1} and {num2} is {add}\")"
   ]
  },
  {
   "cell_type": "code",
   "execution_count": null,
   "id": "b5214c5f-20ac-448f-abdc-01ecaf9b41a5",
   "metadata": {},
   "outputs": [],
   "source": []
  }
 ],
 "metadata": {
  "kernelspec": {
   "display_name": "Python 3 (ipykernel)",
   "language": "python",
   "name": "python3"
  },
  "language_info": {
   "codemirror_mode": {
    "name": "ipython",
    "version": 3
   },
   "file_extension": ".py",
   "mimetype": "text/x-python",
   "name": "python",
   "nbconvert_exporter": "python",
   "pygments_lexer": "ipython3",
   "version": "3.11.7"
  }
 },
 "nbformat": 4,
 "nbformat_minor": 5
}
