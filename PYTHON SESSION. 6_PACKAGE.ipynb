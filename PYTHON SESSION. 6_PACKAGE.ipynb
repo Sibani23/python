{
 "cells": [
  {
   "cell_type": "markdown",
   "id": "42787884-fada-4bc6-a998-f5ef04ba0adf",
   "metadata": {},
   "source": [
    "let assume that our friend coder is there\n",
    "\n",
    "he created an addition program\n",
    "\n",
    "he feels that he only created an addition program\n",
    "\n",
    "he wants to give this program to every one ==== package\n",
    "\n",
    "he wants to anaconda organization\n",
    "\n",
    "he marks a deal\n",
    "\n",
    "who ever installed anaconda my package also automatically download\n",
    "\n",
    "thats why when yoy downloading anaconda a green colour pop is comes means so many packages\n",
    "are tie with anaconda downloade in your local laptop"
   ]
  },
  {
   "cell_type": "code",
   "execution_count": null,
   "id": "0bd7020a-2ab6-479d-a9f1-46fb9d03bae2",
   "metadata": {},
   "outputs": [],
   "source": [
    "package is there in your laptop\n",
    "you want to use for the coading \n",
    "\n",
    "the package name: addition"
   ]
  },
  {
   "cell_type": "markdown",
   "id": "403c33b6-092f-49ed-884f-f1e69ed85121",
   "metadata": {},
   "source": [
    "**import**"
   ]
  },
  {
   "cell_type": "code",
   "execution_count": null,
   "id": "a07fa8fc-3e55-4c7f-907c-7f6409fc3fbf",
   "metadata": {},
   "outputs": [],
   "source": [
    "# syntax\n",
    "#import <package_name>"
   ]
  },
  {
   "cell_type": "code",
   "execution_count": null,
   "id": "cbe9e23b-9fb0-4f1b-a8d1-e1d894aa53e4",
   "metadata": {},
   "outputs": [],
   "source": [
    "# package name:random\n",
    "import random"
   ]
  },
  {
   "cell_type": "code",
   "execution_count": null,
   "id": "13ea8392-88c4-4cb5-8ee2-a5d929c6baee",
   "metadata": {},
   "outputs": [],
   "source": [
    "# package name:time\n",
    "import time"
   ]
  },
  {
   "cell_type": "code",
   "execution_count": null,
   "id": "832c0c08-1952-49ba-bf19-d88ea483f64e",
   "metadata": {},
   "outputs": [],
   "source": [
    "# package name: math\n",
    "import math"
   ]
  },
  {
   "cell_type": "code",
   "execution_count": null,
   "id": "a8bb2229-4f3e-4c99-9f19-615120124df1",
   "metadata": {},
   "outputs": [],
   "source": [
    "# package name:streamlit\n",
    "import streamlit"
   ]
  },
  {
   "cell_type": "code",
   "execution_count": null,
   "id": "12a1c68e-0de3-4b11-8b1e-bd88b44d2199",
   "metadata": {},
   "outputs": [],
   "source": [
    "# module not found\n",
    "# package or module both are same"
   ]
  },
  {
   "cell_type": "code",
   "execution_count": null,
   "id": "8fbaea97-5de1-4d33-ae5f-eb83acd10bc6",
   "metadata": {},
   "outputs": [],
   "source": [
    "import cv2"
   ]
  },
  {
   "cell_type": "code",
   "execution_count": null,
   "id": "eef0d86d-4b0b-4229-a426-e90de0517da3",
   "metadata": {},
   "outputs": [],
   "source": [
    "cv2 guy not tie with anaconda \n",
    "no module name : cv2\n",
    "\n",
    "streamlit guy not tie with anaconda\n",
    "no module name: streamlit"
   ]
  },
  {
   "cell_type": "code",
   "execution_count": null,
   "id": "aee4e7ef-fbd5-443a-99b7-c08657aef31a",
   "metadata": {},
   "outputs": [],
   "source": [
    "math operations\n",
    "    addition\n",
    "    subtraction"
   ]
  },
  {
   "cell_type": "code",
   "execution_count": null,
   "id": "100a7290-9f2a-4d09-ab67-7abbe64de3a1",
   "metadata": {},
   "outputs": [],
   "source": [
    "  multiplications\n",
    "  division"
   ]
  },
  {
   "cell_type": "code",
   "execution_count": null,
   "id": "c48b27c1-2a72-4861-9d82-640abe57fb4d",
   "metadata": {},
   "outputs": [],
   "source": [
    "import random\n",
    "dir(random)"
   ]
  },
  {
   "cell_type": "code",
   "execution_count": null,
   "id": "eb98452a-5b8c-4186-ae73-357c2af41c6c",
   "metadata": {},
   "outputs": [],
   "source": [
    "# syntax\n",
    "# <package name_name>.<method_name>\n",
    "#packagename: random \n",
    "# methodname: random"
   ]
  },
  {
   "cell_type": "code",
   "execution_count": null,
   "id": "c01fe44f-3ec7-4d71-86bb-0986575cbf2d",
   "metadata": {},
   "outputs": [],
   "source": [
    "# help(<packagename.methodname>)\n",
    "# help will give the understanding of how the method will work\n",
    "# here i want to know what randint will do\n",
    "help(random. randint)"
   ]
  },
  {
   "cell_type": "code",
   "execution_count": null,
   "id": "bb1da8e2-7c41-4175-a507-2286e26a2801",
   "metadata": {},
   "outputs": [],
   "source": [
    "random.randint(4,40)"
   ]
  },
  {
   "cell_type": "code",
   "execution_count": null,
   "id": "2cc04533-8c45-40b3-b0a7-e88ff8507637",
   "metadata": {},
   "outputs": [],
   "source": [
    "# step-1:import<package_name>\n",
    "# step-2:import<package_name>\n",
    "# step-3:import<package_name>\n",
    "# packag_name:random\n",
    "import random"
   ]
  },
  {
   "cell_type": "code",
   "execution_count": null,
   "id": "925ac7c7-3ba0-4366-b897-26ca9f41f414",
   "metadata": {},
   "outputs": [],
   "source": [
    "# package name:random\n",
    "# method name:random\n",
    "import random\n",
    "dir (random)\n"
   ]
  },
  {
   "cell_type": "code",
   "execution_count": null,
   "id": "9fcefe13-b4fd-4fb7-ac6b-b85866c73480",
   "metadata": {},
   "outputs": [],
   "source": [
    "import random\n",
    "help(random.randint)"
   ]
  },
  {
   "cell_type": "code",
   "execution_count": null,
   "id": "900429f1-f310-4491-b583-cd08e95fbaaa",
   "metadata": {},
   "outputs": [],
   "source": [
    "import random\n",
    "random.randint(1,20)"
   ]
  },
  {
   "cell_type": "code",
   "execution_count": null,
   "id": "3280f469-e4d4-4e63-8a06-2cc1b764792a",
   "metadata": {},
   "outputs": [],
   "source": [
    "# package name: random\n",
    "# method name: random\n",
    "import random\n",
    "dir(random)\n",
    "help(random.random)"
   ]
  },
  {
   "cell_type": "code",
   "execution_count": null,
   "id": "fee72012-e618-479e-b7aa-94ff45c64d0e",
   "metadata": {},
   "outputs": [],
   "source": [
    "random.random()"
   ]
  },
  {
   "cell_type": "markdown",
   "id": "2dd8cc8c-4aa4-49e2-8e8f-5a1b86c66f6f",
   "metadata": {},
   "source": [
    "**math**\n",
    "\n",
    "# package name : math\n",
    "  \n",
    "# method pi\n",
    "#       sqrt\n",
    "#       sin  "
   ]
  },
  {
   "cell_type": "code",
   "execution_count": null,
   "id": "2240c9a5-c8fd-4da0-a265-6d6319eb2c03",
   "metadata": {},
   "outputs": [],
   "source": [
    "import math"
   ]
  },
  {
   "cell_type": "code",
   "execution_count": null,
   "id": "f52f5007-da74-47dc-b56a-ba980debc562",
   "metadata": {},
   "outputs": [],
   "source": [
    "dir(math)"
   ]
  },
  {
   "cell_type": "code",
   "execution_count": null,
   "id": "3eae924f-7ba8-4cee-9f8d-93b857d7b666",
   "metadata": {},
   "outputs": [],
   "source": [
    "# pi\n",
    "# pow\n",
    "# sqrt\n",
    "# sin\n",
    "help(math.sqrt)"
   ]
  },
  {
   "cell_type": "code",
   "execution_count": null,
   "id": "cf33323b-cb7c-46c5-b634-33d509e3831c",
   "metadata": {},
   "outputs": [],
   "source": [
    "math.sqrt(25)"
   ]
  },
  {
   "cell_type": "code",
   "execution_count": null,
   "id": "c7db5ebc-2ac6-49ad-9e2d-6c135458c572",
   "metadata": {},
   "outputs": [],
   "source": [
    "help(math.pow)"
   ]
  },
  {
   "cell_type": "code",
   "execution_count": null,
   "id": "cacc126c-8ff4-4dae-8c96-4e73c1c0d1ae",
   "metadata": {},
   "outputs": [],
   "source": [
    "math.pow(2,3)"
   ]
  },
  {
   "cell_type": "code",
   "execution_count": null,
   "id": "f484cb16-dead-41f2-aa1a-f9450b9c93d2",
   "metadata": {},
   "outputs": [],
   "source": [
    "help(math.sin)"
   ]
  },
  {
   "cell_type": "code",
   "execution_count": null,
   "id": "16d2fd15-fbce-4054-89cc-ca186fdb7787",
   "metadata": {},
   "outputs": [],
   "source": [
    "math.sin(90)"
   ]
  },
  {
   "cell_type": "code",
   "execution_count": null,
   "id": "ba26fbaf-e50c-4851-964a-9b95d67811de",
   "metadata": {},
   "outputs": [],
   "source": [
    "math.sqrt(25)\n",
    "math.pow(2,3)\n",
    "math.sin(90)"
   ]
  },
  {
   "cell_type": "code",
   "execution_count": null,
   "id": "f70cecc5-5959-4d39-b86c-69c049d3f5d3",
   "metadata": {},
   "outputs": [],
   "source": [
    "math.sqrt(x=25)\n",
    "# curosr inside the barker\n",
    "# then apply sift+tab\n",
    "\n",
    "# / is mentioned means\n",
    "# do not provied x=25 values\n",
    "# directly give 25"
   ]
  },
  {
   "cell_type": "code",
   "execution_count": null,
   "id": "aa309167-d464-4857-a794-ab1273944bc3",
   "metadata": {},
   "outputs": [],
   "source": [
    "math.sqrt"
   ]
  },
  {
   "cell_type": "markdown",
   "id": "5b487d4b-cf02-461a-ae93-bbefa9fece63",
   "metadata": {},
   "source": [
    "- function means we are forgeting barckets\n",
    "- we need to keep bracket\n",
    "- bound method also means forgetting the brackets only\n",
    "- not calleble means remove bracket\n",
    "- when you see slash dont provide variable name\n",
    "- directly give the value"
   ]
  },
  {
   "cell_type": "code",
   "execution_count": null,
   "id": "b07e75a2-62ce-4d56-aa3a-dcf62740cb98",
   "metadata": {},
   "outputs": [],
   "source": [
    "math.sqrt(25)"
   ]
  },
  {
   "cell_type": "code",
   "execution_count": null,
   "id": "029a51ea-c0d0-4bb0-9a9a-ce8f6d9c5e50",
   "metadata": {},
   "outputs": [],
   "source": [
    "random.randint(10,20)"
   ]
  },
  {
   "cell_type": "code",
   "execution_count": null,
   "id": "6a207d6b-cbca-4213-a843-d3c3082a2be0",
   "metadata": {},
   "outputs": [],
   "source": [
    "random.random()"
   ]
  },
  {
   "cell_type": "code",
   "execution_count": null,
   "id": "ef5312e1-b1fe-45f1-87b0-50d1d03ff570",
   "metadata": {},
   "outputs": [],
   "source": [
    "dir(random)"
   ]
  },
  {
   "cell_type": "code",
   "execution_count": null,
   "id": "1caaed4a-cda0-4b45-9278-d9b3e31b7532",
   "metadata": {},
   "outputs": [],
   "source": [
    "math.pi\n",
    "# direct values never include brackets"
   ]
  },
  {
   "cell_type": "code",
   "execution_count": null,
   "id": "b7324250-64d0-433d-bdab-3c1d7ab51fde",
   "metadata": {},
   "outputs": [],
   "source": [
    "# package name: keyword\n",
    "# method name: kwlist\n",
    "import keyword"
   ]
  },
  {
   "cell_type": "code",
   "execution_count": null,
   "id": "b93aa8a8-6088-4d0e-9652-fbc990f4f078",
   "metadata": {},
   "outputs": [],
   "source": [
    "len(keyword.kwlist)"
   ]
  },
  {
   "cell_type": "code",
   "execution_count": null,
   "id": "859a1715-4048-4e2d-9079-30381c58aa10",
   "metadata": {},
   "outputs": [],
   "source": [
    "# step-1:\n",
    "# import <package_name>\n",
    "# step-2:\n",
    "# dir(<package_name>)\n",
    "# methods will display\n",
    "# step-3:\n",
    "# help(<package_name>.<method_name>)\n",
    "# step-4:\n",
    "# <package_name>.<method_name>() # 99%"
   ]
  },
  {
   "cell_type": "code",
   "execution_count": null,
   "id": "14b8b712-f101-4dee-be76-5f8814d6cd83",
   "metadata": {},
   "outputs": [],
   "source": [
    "import random"
   ]
  },
  {
   "cell_type": "code",
   "execution_count": null,
   "id": "0e967269-56d0-4854-9f99-ac145c6834e4",
   "metadata": {},
   "outputs": [],
   "source": [
    "dir(random)"
   ]
  },
  {
   "cell_type": "code",
   "execution_count": null,
   "id": "d82be9b0-d25e-4710-a11c-a2dbc6d43c52",
   "metadata": {},
   "outputs": [],
   "source": [
    "help(random.randint)"
   ]
  },
  {
   "cell_type": "code",
   "execution_count": null,
   "id": "01b0dd7c-7684-40fd-bb4e-340f0f7ae89a",
   "metadata": {},
   "outputs": [],
   "source": [
    "random.randint(10,20)"
   ]
  },
  {
   "cell_type": "code",
   "execution_count": null,
   "id": "3fb69c92-b359-4852-b484-05cca587f660",
   "metadata": {},
   "outputs": [],
   "source": [
    "import math"
   ]
  },
  {
   "cell_type": "code",
   "execution_count": null,
   "id": "46cc21a7-47d8-416b-bda8-f682fbb36d0a",
   "metadata": {},
   "outputs": [],
   "source": [
    "math.pi"
   ]
  },
  {
   "cell_type": "code",
   "execution_count": null,
   "id": "2d604782-4fb3-4b5f-a6d4-a30696085bb2",
   "metadata": {},
   "outputs": [],
   "source": [
    "() : function or methods\n",
    "only functions or methods callable\n",
    "if something says not callable means,it is not a function\n",
    "it is not a function means,you need to remove brackets\n",
    "bound method means ==== add the brackets\n",
    "function=========add the brackets\n",
    "not callable=====remove the brackets"
   ]
  },
  {
   "cell_type": "markdown",
   "id": "9d7d1a94-ba32-4426-984d-ab37a9dd9946",
   "metadata": {},
   "source": [
    "- random\n",
    "- math\n",
    "- keyword"
   ]
  },
  {
   "cell_type": "markdown",
   "id": "55c694e8-9939-4863-b188-530c2ea61df5",
   "metadata": {},
   "source": [
    "**time**"
   ]
  },
  {
   "cell_type": "code",
   "execution_count": null,
   "id": "fd16cad8-471c-4003-bc83-8bcd22414370",
   "metadata": {},
   "outputs": [],
   "source": [
    "import time\n",
    "\n",
    "print(\"Father:hello\")\n",
    "time.sleep(2)\n",
    "print(\"D: hai papa how are you\")\n",
    "time.sleep(2)\n",
    "print(\"Father:do you have school today\")"
   ]
  },
  {
   "cell_type": "code",
   "execution_count": null,
   "id": "1458ea9a-faf1-46dd-a3a5-256cbc2dcc88",
   "metadata": {},
   "outputs": [],
   "source": [
    "Computer vision is used to image operations\n",
    "video operations\n",
    "we called it as opencv\n",
    "pcakge name: cv2"
   ]
  },
  {
   "cell_type": "code",
   "execution_count": null,
   "id": "24a325f9-7008-4de8-a51b-4b3b15b9c780",
   "metadata": {},
   "outputs": [],
   "source": [
    "import cv2"
   ]
  },
  {
   "cell_type": "markdown",
   "id": "2ce179b6-2a65-4965-aa25-72a40e4b1309",
   "metadata": {},
   "source": [
    "- whenever module not fund we need to install it\n",
    "- here our package name is cv2\n",
    "- 99% the installation will be like this\n",
    "\n",
    "pip install\n",
    "\n",
    "- some packages installation name will different and python import name is different\n",
    "- in order to install the packages we need internet\n",
    "- if internet problem occures while installing we will get http error\n"
   ]
  },
  {
   "cell_type": "code",
   "execution_count": null,
   "id": "c8b035c9-a60c-421b-9906-5d76d4556082",
   "metadata": {},
   "outputs": [],
   "source": [
    "import streamlit"
   ]
  },
  {
   "cell_type": "markdown",
   "id": "1e8e340e-43aa-43d6-a98e-0807e487da88",
   "metadata": {},
   "source": [
    "**Note**"
   ]
  },
  {
   "cell_type": "markdown",
   "id": "4f06702c-5a90-40cb-8a15-12dbc1d1241e",
   "metadata": {},
   "source": [
    "- pip freeze is the command to know the aleady existed packages in our laptop"
   ]
  },
  {
   "cell_type": "code",
   "execution_count": null,
   "id": "2356ad5e-70ca-4879-990f-629da54bb055",
   "metadata": {},
   "outputs": [],
   "source": [
    "import nummy"
   ]
  },
  {
   "cell_type": "code",
   "execution_count": null,
   "id": "de0b4a91-3698-4255-aa72-d240041208f1",
   "metadata": {},
   "outputs": [],
   "source": [
    "numpy"
   ]
  },
  {
   "cell_type": "markdown",
   "id": "4f313047-4f84-4384-a6ad-8724ce7acc35",
   "metadata": {},
   "source": [
    "<module 'numpy' from 'C:\\\\Users\\\\omkar\\\\anaconda3\\\\Lib\\\\site-packages\\\\numpy\\\\_\n",
    "_init__.py'>\n",
    "!pip install opencv-python\n",
    "- in jupyter notebook we need add ! mark\n",
    "- in anaconda prompt no need of ! mark\n",
    "- directly name you can provide"
   ]
  },
  {
   "cell_type": "code",
   "execution_count": null,
   "id": "f2c2a437-9982-45c5-9554-45c205a6c408",
   "metadata": {},
   "outputs": [],
   "source": [
    "# hard coding: static\n",
    "# we are fixing the values\n",
    "number1=10\n",
    "number2=20\n",
    "add=number1+number2\n",
    "print(add)"
   ]
  },
  {
   "cell_type": "code",
   "execution_count": null,
   "id": "8be8ce22-9c1e-4344-8022-7a8ad8d894ec",
   "metadata": {},
   "outputs": [],
   "source": [
    "# dynamic\n",
    "number1=eval(input(\"enter the number 1:\"))\n",
    "number2=eval(input(\"enter the number 2:\"))\n",
    "add=number1+number2\n",
    "print(f\"the addition of {number1} and {number2} is {add}\")"
   ]
  },
  {
   "cell_type": "code",
   "execution_count": null,
   "id": "e86a79aa-883f-4683-af07-6fe10b465266",
   "metadata": {},
   "outputs": [],
   "source": [
    "**How we pass the numbers**\n",
    "- hard coding\n",
    "- using keyboard\n",
    "- using random package, taking numbers randomly"
   ]
  },
  {
   "cell_type": "code",
   "execution_count": null,
   "id": "196998b4-4fe1-4bd4-b4a7-02386b5a0dd5",
   "metadata": {},
   "outputs": [],
   "source": [
    "#################################################\n",
    "number1=10\n",
    "number2=20\n",
    "add=number1+number2\n",
    "print(add)\n",
    "\n",
    "##################################################\n",
    "number1=eval(input(\"enter the number 1\"))\n",
    "number2=eval(eval(\"enter the number 2\"))\n",
    "add=number1+number2\n",
    "print(add)\n",
    "\n",
    "##################################################\n",
    "import random\n",
    "number1=random.randint(1,100)\n",
    "number2=random.randint(100,200)\n",
    "add=number1+number2\n",
    "print(f\"the addition of {number1} and {number2}  is {avg}\")"
   ]
  },
  {
   "cell_type": "code",
   "execution_count": 3,
   "id": "3bbf8aff-0a18-497d-ab70-af649ac73253",
   "metadata": {},
   "outputs": [
    {
     "name": "stdin",
     "output_type": "stream",
     "text": [
      "enter the n2: 20\n"
     ]
    },
    {
     "name": "stdout",
     "output_type": "stream",
     "text": [
      "the average of 10,20 and 94 is: 41.333333333333336\n"
     ]
    }
   ],
   "source": [
    "import random \n",
    "n1=10\n",
    "n2=eval(input(\"enter the n2:\"))\n",
    "n3=random.randint(1,100)\n",
    "avg=(n1+n2+n3)/3\n",
    "print(f\"the average of {n1},{n2} and {n3} is: {avg}\")"
   ]
  },
  {
   "cell_type": "code",
   "execution_count": 5,
   "id": "b2bab94e-82f1-4586-ae37-1492c385cc89",
   "metadata": {},
   "outputs": [],
   "source": [
    "# in the entire notebook\n",
    "# if you import packages\n",
    "# no need to import every time\n",
    "# just verify it the line is executed or not\n",
    "# all the packages we will import at starting only line"
   ]
  },
  {
   "cell_type": "code",
   "execution_count": 4,
   "id": "b9bcd506-7fd9-46b0-bf1b-589a075cf68e",
   "metadata": {},
   "outputs": [],
   "source": [
    "# assignment-2\n",
    "# assignment-1 qns only but\n",
    "# you need to take random values every\n",
    "# 11 the print statement using time.sleep"
   ]
  },
  {
   "cell_type": "markdown",
   "id": "34ac86ec-bee4-494e-9f91-a2b526fd8046",
   "metadata": {},
   "source": [
    "**ruund**"
   ]
  },
  {
   "cell_type": "code",
   "execution_count": 6,
   "id": "8eeea90c-1411-468e-bfec-b8ee01d6ba3a",
   "metadata": {},
   "outputs": [
    {
     "data": {
      "text/plain": [
       "23"
      ]
     },
     "execution_count": 6,
     "metadata": {},
     "output_type": "execute_result"
    }
   ],
   "source": [
    "avg=22.666666666666668\n",
    "round(avg)"
   ]
  },
  {
   "cell_type": "code",
   "execution_count": 7,
   "id": "e350f1db-0a11-4484-9acc-e61dce871e49",
   "metadata": {},
   "outputs": [
    {
     "data": {
      "text/plain": [
       "22.667"
      ]
     },
     "execution_count": 7,
     "metadata": {},
     "output_type": "execute_result"
    }
   ],
   "source": [
    "avg=22.666666666666668\n",
    "round(avg,3)"
   ]
  },
  {
   "cell_type": "code",
   "execution_count": null,
   "id": "bf4f2ab0-3364-44f5-abd9-7e4c53a72b78",
   "metadata": {},
   "outputs": [],
   "source": [
    "type()\n",
    "input()\n",
    "print()\n",
    "round()"
   ]
  },
  {
   "cell_type": "code",
   "execution_count": null,
   "id": "674a33ca-caae-4b51-a480-e61b35f492d2",
   "metadata": {},
   "outputs": [],
   "source": [
    "n1=10\n",
    "n2=eval(input(\"enter the n2:\"))\n",
    "n3=random.randint(1,100)\n",
    "avg=(n1+n2+n3)/3\n",
    "avg1=round(avg,2)\n",
    "print(f\"the average of {n1},{n2} and {n3} is: {avg1}\")"
   ]
  },
  {
   "cell_type": "code",
   "execution_count": null,
   "id": "776903a2-39c4-4df4-875f-0b7f61e66aaf",
   "metadata": {},
   "outputs": [],
   "source": [
    "n1=10\n",
    "n2=eval(input(\"enter the n2:\"))\n",
    "n3=random.randint(1,100)\n",
    "avg=round((n1+n2+n3)/3,2)\n",
    "print(f\"The avergae of {n1},{n2} and {n3} is: {avg1}\")"
   ]
  }
 ],
 "metadata": {
  "kernelspec": {
   "display_name": "Python 3 (ipykernel)",
   "language": "python",
   "name": "python3"
  },
  "language_info": {
   "codemirror_mode": {
    "name": "ipython",
    "version": 3
   },
   "file_extension": ".py",
   "mimetype": "text/x-python",
   "name": "python",
   "nbconvert_exporter": "python",
   "pygments_lexer": "ipython3",
   "version": "3.11.7"
  }
 },
 "nbformat": 4,
 "nbformat_minor": 5
}
