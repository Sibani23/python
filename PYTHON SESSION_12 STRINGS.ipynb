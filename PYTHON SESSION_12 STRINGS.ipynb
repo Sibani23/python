{
 "cells": [
  {
   "cell_type": "code",
   "execution_count": null,
   "id": "5e067a3b-34e8-4316-9c4b-1f675d1d8829",
   "metadata": {},
   "outputs": [],
   "source": [
    "######### Python divided 3 parts #######################\n",
    "----- Basics\n",
    "1) Variables\n",
    "2) Data types\n",
    "3) Type conversions\n",
    "4) Eval input\n",
    "5) packages\n",
    "6) Conditional statements\n",
    "7) Try-execpt\n",
    "8) Functions\n",
    "9) For\n",
    "10) While ( you did this)\n",
    "------- Intermediate part\n",
    "11) Strings\n",
    "12) Lists\n",
    "13) Dictionary\n",
    "14) Tuples (You will do this)\n",
    "15) Sets\n",
    "16) Lambda functions\n",
    "17) File handling session\n",
    "--------- Advanced\n",
    "18) OOPS"
   ]
  },
  {
   "cell_type": "code",
   "execution_count": null,
   "id": "03e76890-198a-43ff-8289-e566c247c3a2",
   "metadata": {},
   "outputs": [],
   "source": [
    "==================== PART-1 ======================\n",
    "\n",
    "- initialization\n",
    "- len\n",
    "- max\n",
    "- min\n",
    "- sorted\n",
    "- reversed\n",
    "- in\n",
    "- for loop\n",
    "- index\n",
    "- for loop using in\n",
    "- index\n",
    "- for loop using index\n",
    "- multable\n",
    "-  concatenation\n",
    "    \n",
    "#========================== PART-2======================="
   ]
  },
  {
   "cell_type": "markdown",
   "id": "cda255ee-5314-4172-99be-f2289cc24eb0",
   "metadata": {},
   "source": [
    "**Intialization**"
   ]
  },
  {
   "cell_type": "code",
   "execution_count": 1,
   "id": "6c719ad4-a404-4562-8c64-57206eb91b43",
   "metadata": {},
   "outputs": [
    {
     "data": {
      "text/plain": [
       "'python'"
      ]
     },
     "execution_count": 1,
     "metadata": {},
     "output_type": "execute_result"
    }
   ],
   "source": [
    "str1='python'\n",
    "str1"
   ]
  },
  {
   "cell_type": "code",
   "execution_count": 2,
   "id": "1fbfb54e-c51f-47cc-9f79-562905987c80",
   "metadata": {},
   "outputs": [
    {
     "data": {
      "text/plain": [
       "'python'"
      ]
     },
     "execution_count": 2,
     "metadata": {},
     "output_type": "execute_result"
    }
   ],
   "source": [
    "str2='python'\n",
    "str2"
   ]
  },
  {
   "cell_type": "code",
   "execution_count": 3,
   "id": "618c442d-f3be-4833-8eab-4409c328c3c2",
   "metadata": {},
   "outputs": [
    {
     "ename": "NameError",
     "evalue": "name 'str1' is not defined",
     "output_type": "error",
     "traceback": [
      "\u001b[1;31m---------------------------------------------------------------------------\u001b[0m",
      "\u001b[1;31mNameError\u001b[0m                                 Traceback (most recent call last)",
      "Cell \u001b[1;32mIn[3], line 1\u001b[0m\n\u001b[1;32m----> 1\u001b[0m \u001b[38;5;28mprint\u001b[39m(str1)\n",
      "\u001b[1;31mNameError\u001b[0m: name 'str1' is not defined"
     ]
    }
   ],
   "source": [
    "print(str1) # Do not confuse Im not seeing the quotes"
   ]
  },
  {
   "cell_type": "markdown",
   "id": "6df142c6-5367-4e0b-abb0-9babcdb0912f",
   "metadata": {},
   "source": [
    "**NOTE**\n",
    "\n",
    "- if we mentained single quotes or double quotes by defult python provides in single quotes only\n",
    "- if we prints the strings we answer with out quotes"
   ]
  },
  {
   "cell_type": "markdown",
   "id": "ca052fbe-15aa-4117-96aa-fd3066fe57be",
   "metadata": {},
   "source": [
    "**triple quotes**"
   ]
  },
  {
   "cell_type": "code",
   "execution_count": 2,
   "id": "8918584d-1db3-426d-9b2a-146a52b60dba",
   "metadata": {},
   "outputs": [
    {
     "data": {
      "text/plain": [
       "'hi how are you\\n       im good'"
      ]
     },
     "execution_count": 2,
     "metadata": {},
     "output_type": "execute_result"
    }
   ],
   "source": [
    "str3=\"\"\"hi how are you\n",
    "       im good\"\"\"\n",
    "str3"
   ]
  },
  {
   "cell_type": "code",
   "execution_count": 3,
   "id": "7c4aea73-edc2-46ca-96be-2c312039f3fa",
   "metadata": {},
   "outputs": [
    {
     "name": "stdout",
     "output_type": "stream",
     "text": [
      "hi how are you\n",
      "       im good\n"
     ]
    }
   ],
   "source": [
    "print(str3)"
   ]
  },
  {
   "cell_type": "markdown",
   "id": "da2906fc-3b80-4f65-aecf-a12199393804",
   "metadata": {},
   "source": [
    "**Note**\n",
    "\n",
    "- if we mentioned single quotes or double quotes by default python provides in singlequotes only\n",
    "- If we print the strings, we will answer with out quotes\n",
    "- Triple quotes are using for doc string\n",
    "- In order to convey the information about coding part we will use doc string\n",
    "- anything inside the single or double quotes is considered as string in python"
   ]
  },
  {
   "cell_type": "markdown",
   "id": "fb417573-00f2-4053-95e9-75d0b73fa774",
   "metadata": {},
   "source": [
    "**type**"
   ]
  },
  {
   "cell_type": "code",
   "execution_count": 3,
   "id": "1ac43bce-f08d-4f6b-a981-587726669232",
   "metadata": {},
   "outputs": [
    {
     "data": {
      "text/plain": [
       "str"
      ]
     },
     "execution_count": 3,
     "metadata": {},
     "output_type": "execute_result"
    }
   ],
   "source": [
    "type(str1) # type is string time"
   ]
  },
  {
   "cell_type": "code",
   "execution_count": null,
   "id": "6dbfe38c-bdc2-433b-a7d7-a5521a0582ee",
   "metadata": {},
   "outputs": [],
   "source": [
    "str4='10'  # integer value infron the string\n",
    "str5='10.5' # Float value in the for of string\n",
    "str6='123abc'  # Alpha numeric in the form of strng\n",
    "str7='True'  # Boolean in the form string\n",
    "str8='sinx'\n",
    "\n",
    "# All are in quotes, means in red color : strings"
   ]
  },
  {
   "cell_type": "markdown",
   "id": "0edbb665-c961-441d-bbef-7a21dd6235cc",
   "metadata": {},
   "source": [
    "**len**"
   ]
  },
  {
   "cell_type": "code",
   "execution_count": 5,
   "id": "332377a7-9373-4878-bfd9-06ae5ac096ad",
   "metadata": {},
   "outputs": [
    {
     "data": {
      "text/plain": [
       "6"
      ]
     },
     "execution_count": 5,
     "metadata": {},
     "output_type": "execute_result"
    }
   ],
   "source": [
    "str1='python'\n",
    "len(str1)"
   ]
  },
  {
   "cell_type": "markdown",
   "id": "c3488ab7-9290-4b5a-9d2b-46005306203b",
   "metadata": {},
   "source": [
    "**max and min**"
   ]
  },
  {
   "cell_type": "code",
   "execution_count": 6,
   "id": "72bd39b1-9460-43b2-bfd0-8e4c6c4e44ac",
   "metadata": {},
   "outputs": [
    {
     "data": {
      "text/plain": [
       "'y'"
      ]
     },
     "execution_count": 6,
     "metadata": {},
     "output_type": "execute_result"
    }
   ],
   "source": [
    "str1='python'\n",
    "max(str1)"
   ]
  },
  {
   "cell_type": "code",
   "execution_count": 7,
   "id": "1b40d409-8020-48ce-a513-a95ac885247b",
   "metadata": {},
   "outputs": [
    {
     "data": {
      "text/plain": [
       "(112, 121, 116, 104, 111, 110)"
      ]
     },
     "execution_count": 7,
     "metadata": {},
     "output_type": "execute_result"
    }
   ],
   "source": [
    "ord('p'),ord('y'),ord('t'),ord('h'),ord('o'),ord('n')"
   ]
  },
  {
   "cell_type": "code",
   "execution_count": 8,
   "id": "5d029016-24f8-4f8c-8900-1790575886ea",
   "metadata": {},
   "outputs": [
    {
     "data": {
      "text/plain": [
       "'h'"
      ]
     },
     "execution_count": 8,
     "metadata": {},
     "output_type": "execute_result"
    }
   ],
   "source": [
    "str1='python'\n",
    "min(str1)"
   ]
  },
  {
   "cell_type": "markdown",
   "id": "dfe098c5-9734-4040-a51b-4a72e1c04d80",
   "metadata": {},
   "source": [
    "**keywords vc methods**"
   ]
  },
  {
   "cell_type": "code",
   "execution_count": null,
   "id": "defe4b09-9ea4-40c9-a166-fbc1ef7e0be7",
   "metadata": {},
   "outputs": [],
   "source": [
    "type(<>)\n",
    "print(<>)\n",
    "len(<>)\n",
    "max(<>)\n",
    "min(<>)\n",
    "eval(<>)\n",
    "input(<>)\n",
    "sum(<>)"
   ]
  },
  {
   "cell_type": "code",
   "execution_count": null,
   "id": "6c0f0214-f0cf-409e-8481-0654d90c41cc",
   "metadata": {},
   "outputs": [],
   "source": [
    "- in oder to use to method we need to call package\n",
    "\n",
    "import random\n",
    "random.randint()\n",
    "\n",
    "import math\n",
    "math.sqrt()\n",
    "\n",
    "import time\n",
    "time.sleep()"
   ]
  },
  {
   "cell_type": "code",
   "execution_count": 4,
   "id": "dcf2f0de-af26-4c87-b7dd-5e6fc9376130",
   "metadata": {},
   "outputs": [
    {
     "data": {
      "text/plain": [
       "'y'"
      ]
     },
     "execution_count": 4,
     "metadata": {},
     "output_type": "execute_result"
    }
   ],
   "source": [
    "str1='python123'\n",
    "max(str1)"
   ]
  },
  {
   "cell_type": "markdown",
   "id": "ca5921aa-7a01-4064-8319-28f18834143e",
   "metadata": {},
   "source": [
    "**sum**"
   ]
  },
  {
   "cell_type": "code",
   "execution_count": 12,
   "id": "fb994e8f-9f39-446d-9088-42474924f0c5",
   "metadata": {},
   "outputs": [
    {
     "ename": "TypeError",
     "evalue": "unsupported operand type(s) for +: 'int' and 'str'",
     "output_type": "error",
     "traceback": [
      "\u001b[1;31m---------------------------------------------------------------------------\u001b[0m",
      "\u001b[1;31mTypeError\u001b[0m                                 Traceback (most recent call last)",
      "Cell \u001b[1;32mIn[12], line 2\u001b[0m\n\u001b[0;32m      1\u001b[0m \u001b[38;5;28mstr\u001b[39m\u001b[38;5;241m=\u001b[39m\u001b[38;5;124m'\u001b[39m\u001b[38;5;124mpython\u001b[39m\u001b[38;5;124m'\u001b[39m\n\u001b[1;32m----> 2\u001b[0m \u001b[38;5;28msum\u001b[39m(str1)\n",
      "\u001b[1;31mTypeError\u001b[0m: unsupported operand type(s) for +: 'int' and 'str'"
     ]
    }
   ],
   "source": [
    "str='python'\n",
    "sum(str1)"
   ]
  },
  {
   "cell_type": "code",
   "execution_count": 13,
   "id": "55cd2946-edc3-41ed-9fc5-db6616f94c13",
   "metadata": {},
   "outputs": [
    {
     "data": {
      "text/plain": [
       "'py'"
      ]
     },
     "execution_count": 13,
     "metadata": {},
     "output_type": "execute_result"
    }
   ],
   "source": [
    "'p'+'y'"
   ]
  },
  {
   "cell_type": "code",
   "execution_count": 14,
   "id": "56d27149-7161-467a-8d4c-50f5c17c4de8",
   "metadata": {},
   "outputs": [
    {
     "data": {
      "text/plain": [
       "6"
      ]
     },
     "execution_count": 14,
     "metadata": {},
     "output_type": "execute_result"
    }
   ],
   "source": [
    "sum([1,2,3])"
   ]
  },
  {
   "cell_type": "markdown",
   "id": "76337033-ceb9-4d47-b39c-8e176f10eb33",
   "metadata": {},
   "source": [
    "**sorted**"
   ]
  },
  {
   "cell_type": "code",
   "execution_count": null,
   "id": "20b431e7-d4c6-4b55-bc9e-8f9709ea21da",
   "metadata": {},
   "outputs": [],
   "source": [
    "len('python')\n",
    "max('python')\n",
    "print('python')\n",
    "min('python')\n",
    "max('python')"
   ]
  },
  {
   "cell_type": "code",
   "execution_count": 15,
   "id": "7b0e2e07-19c2-4664-a92f-b4ef1c4c1cc2",
   "metadata": {},
   "outputs": [
    {
     "data": {
      "text/plain": [
       "['h', 'n', 'o', 'p', 't', 'y']"
      ]
     },
     "execution_count": 15,
     "metadata": {},
     "output_type": "execute_result"
    }
   ],
   "source": [
    "sorted ('python')"
   ]
  },
  {
   "cell_type": "code",
   "execution_count": null,
   "id": "a1a8ce66-7fa1-4d67-94eb-7553c8addfe3",
   "metadata": {},
   "outputs": [],
   "source": [
    "sorted "
   ]
  },
  {
   "cell_type": "code",
   "execution_count": 16,
   "id": "35befed9-d503-4f91-958a-0849d25e293b",
   "metadata": {},
   "outputs": [
    {
     "data": {
      "text/plain": [
       "['y', 't', 'p', 'o', 'n', 'h', '3', '2', '1']"
      ]
     },
     "execution_count": 16,
     "metadata": {},
     "output_type": "execute_result"
    }
   ],
   "source": [
    "sorted(str1,reverse=True)"
   ]
  },
  {
   "cell_type": "markdown",
   "id": "202b5551-e0df-4b1b-b753-2de42e51cc33",
   "metadata": {},
   "source": [
    "- sorted gives ascending order based on ASCII numbers\n",
    "- sorted is kind of a function\n",
    "- Every function we have argument \n",
    "- in that one defult arguments is **reverse=False**\n",
    "- by defult sorted output gives **ascending order**\n",
    "- We can change the order,by providing **reverse=True**\n",
    "- **if we do not mention,it will give the defult answer**"
   ]
  },
  {
   "cell_type": "code",
   "execution_count": 5,
   "id": "fca200f7-d66b-4f54-a94b-67cc543cad76",
   "metadata": {},
   "outputs": [
    {
     "data": {
      "text/plain": [
       "['y', 't', 'p', 'o', 'n', 'h']"
      ]
     },
     "execution_count": 5,
     "metadata": {},
     "output_type": "execute_result"
    }
   ],
   "source": [
    "sorted('python',reverse=True)"
   ]
  },
  {
   "cell_type": "code",
   "execution_count": 6,
   "id": "ddfdfcfa-a4c1-48b3-857a-e1c5fa25ce1b",
   "metadata": {},
   "outputs": [
    {
     "data": {
      "text/plain": [
       "0j"
      ]
     },
     "execution_count": 6,
     "metadata": {},
     "output_type": "execute_result"
    }
   ],
   "source": [
    "complex() # 0+0j"
   ]
  },
  {
   "cell_type": "code",
   "execution_count": 7,
   "id": "c9a1113f-bda4-4173-a252-3f3c0a54a105",
   "metadata": {},
   "outputs": [
    {
     "data": {
      "text/plain": [
       "(10+20j)"
      ]
     },
     "execution_count": 7,
     "metadata": {},
     "output_type": "execute_result"
    }
   ],
   "source": [
    "complex(10,20)"
   ]
  },
  {
   "cell_type": "code",
   "execution_count": 8,
   "id": "bf7eab37-078e-4db3-9617-6c6194c69a9f",
   "metadata": {},
   "outputs": [
    {
     "data": {
      "text/plain": [
       "(10+30j)"
      ]
     },
     "execution_count": 8,
     "metadata": {},
     "output_type": "execute_result"
    }
   ],
   "source": [
    "complex(real=10,imag=30)"
   ]
  },
  {
   "cell_type": "code",
   "execution_count": 20,
   "id": "4147faa6-a1fd-41df-9b32-2894c0358b0e",
   "metadata": {},
   "outputs": [
    {
     "ename": "TypeError",
     "evalue": "Random.randint() missing 2 required positional arguments: 'a' and 'b'",
     "output_type": "error",
     "traceback": [
      "\u001b[1;31m---------------------------------------------------------------------------\u001b[0m",
      "\u001b[1;31mTypeError\u001b[0m                                 Traceback (most recent call last)",
      "Cell \u001b[1;32mIn[20], line 2\u001b[0m\n\u001b[0;32m      1\u001b[0m \u001b[38;5;28;01mimport\u001b[39;00m \u001b[38;5;21;01mrandom\u001b[39;00m\n\u001b[1;32m----> 2\u001b[0m random\u001b[38;5;241m.\u001b[39mrandint()\n",
      "\u001b[1;31mTypeError\u001b[0m: Random.randint() missing 2 required positional arguments: 'a' and 'b'"
     ]
    }
   ],
   "source": [
    "import random\n",
    "random.randint()"
   ]
  },
  {
   "cell_type": "code",
   "execution_count": null,
   "id": "c335e7a5-313e-4207-bb80-86fe00af7a13",
   "metadata": {},
   "outputs": [],
   "source": [
    "function() # Answer\n",
    "function(a,b) # this might return error, if we dont give the values of a,b\n",
    "function(a=b,b=10) # Ans"
   ]
  },
  {
   "cell_type": "code",
   "execution_count": null,
   "id": "fb2c0e36-bfe7-4834-9dad-ed1fe3538761",
   "metadata": {},
   "outputs": [],
   "source": [
    "function() \n",
    "function(a,b) \n",
    "function(a=b,b=10)"
   ]
  },
  {
   "cell_type": "code",
   "execution_count": 29,
   "id": "bb2c9b7d-c50b-4897-ba59-15eeedc9acb9",
   "metadata": {},
   "outputs": [
    {
     "data": {
      "text/plain": [
       "0.11817107395929727"
      ]
     },
     "execution_count": 29,
     "metadata": {},
     "output_type": "execute_result"
    }
   ],
   "source": [
    "import random\n",
    "random.random()  # we will get answer but answer is not in our hands"
   ]
  },
  {
   "cell_type": "code",
   "execution_count": 9,
   "id": "35d99549-3c83-486c-bc4e-1f8e7e1a8419",
   "metadata": {},
   "outputs": [
    {
     "data": {
      "text/plain": [
       "18"
      ]
     },
     "execution_count": 9,
     "metadata": {},
     "output_type": "execute_result"
    }
   ],
   "source": [
    "import random\n",
    "random.randint(10,20)  # answer we can change"
   ]
  },
  {
   "cell_type": "code",
   "execution_count": 10,
   "id": "94f66be9-8b8e-4d75-966d-3f1e55f01adb",
   "metadata": {},
   "outputs": [
    {
     "data": {
      "text/plain": [
       "0j"
      ]
     },
     "execution_count": 10,
     "metadata": {},
     "output_type": "execute_result"
    }
   ],
   "source": [
    "complex() # By defult 0,0"
   ]
  },
  {
   "cell_type": "code",
   "execution_count": 31,
   "id": "8b37efdf-fad9-4a46-9435-88b3682b3582",
   "metadata": {},
   "outputs": [
    {
     "data": {
      "text/plain": [
       "(10+20j)"
      ]
     },
     "execution_count": 31,
     "metadata": {},
     "output_type": "execute_result"
    }
   ],
   "source": [
    "complex(10,20)"
   ]
  },
  {
   "cell_type": "code",
   "execution_count": null,
   "id": "c759b21c-603c-495c-857f-cd71496fbc65",
   "metadata": {},
   "outputs": [],
   "source": [
    "sorted(iterable='python') # Frror\n",
    "random.randint(a=10,b=30) # Answer"
   ]
  },
  {
   "cell_type": "code",
   "execution_count": null,
   "id": "fc6c89d6-1473-4477-bf17-53ca90e5f004",
   "metadata": {},
   "outputs": [],
   "source": [
    "sorted('python') # Answer\n",
    "sorted('python',reverse=True)"
   ]
  },
  {
   "cell_type": "markdown",
   "id": "c0049fdc-3175-4d2f-9428-7ad1d6cac18c",
   "metadata": {},
   "source": [
    "**Note**\n",
    "\n",
    "- we have arguments before / and after slase\n",
    "- we can use argument name after / only\n",
    "- for example sorted has arguments one is iterable and another one is \n",
    "- iterable is mentioned befor / symbol\n",
    "- reverse is mentioned after / symbol\n",
    "- so we can use only reverse argument name we are doing the work\n",
    "- we can not use iterable arguments name\n",
    " - instead of using iterable name,we can provied direct value at that possition   "
   ]
  },
  {
   "cell_type": "markdown",
   "id": "ad9bf878-2291-4674-a603-d7ed5a8f2382",
   "metadata": {},
   "source": [
    "**reversed**"
   ]
  },
  {
   "cell_type": "code",
   "execution_count": null,
   "id": "dfcbef8c-7082-47b1-9be5-a2010ebce49f",
   "metadata": {},
   "outputs": [],
   "source": [
    "type()\n",
    "len()\n",
    "max()\n",
    "min()\n",
    "print()\n",
    "sorted()"
   ]
  },
  {
   "cell_type": "code",
   "execution_count": 32,
   "id": "cd804a46-9930-4780-8cdd-287032d52430",
   "metadata": {},
   "outputs": [
    {
     "data": {
      "text/plain": [
       "<reversed at 0x1e6b5928dc0>"
      ]
     },
     "execution_count": 32,
     "metadata": {},
     "output_type": "execute_result"
    }
   ],
   "source": [
    "reversed('python')"
   ]
  },
  {
   "cell_type": "markdown",
   "id": "9ffdbcd2-5f6b-462a-a796-d15339a1d357",
   "metadata": {},
   "source": [
    "- i already done my work\n",
    "- your output is stored in that memory location\n",
    "- whenever you this kind answer less thant and greater than symbol or memory\n",
    "- use for loop to see the answer"
   ]
  },
  {
   "cell_type": "code",
   "execution_count": 36,
   "id": "890fb7ae-9fde-40c1-8c3e-9e4c04483d27",
   "metadata": {},
   "outputs": [
    {
     "name": "stdout",
     "output_type": "stream",
     "text": [
      "n\n",
      "o\n",
      "h\n",
      "t\n",
      "y\n",
      "p\n"
     ]
    }
   ],
   "source": [
    "str1='python'\n",
    "output=reversed(str1)\n",
    "for i in output:\n",
    "    print(i)"
   ]
  },
  {
   "cell_type": "code",
   "execution_count": 37,
   "id": "365d2d83-8ed8-41a1-93f7-14c5f8cb4fa2",
   "metadata": {},
   "outputs": [
    {
     "data": {
      "text/plain": [
       "['a', 'c', 'd', 'e', 'y', 'z']"
      ]
     },
     "execution_count": 37,
     "metadata": {},
     "output_type": "execute_result"
    }
   ],
   "source": [
    "sorted('azyced')"
   ]
  },
  {
   "cell_type": "code",
   "execution_count": 2,
   "id": "05028eee-bd71-46cc-b71f-1fe13d06c0c9",
   "metadata": {},
   "outputs": [
    {
     "data": {
      "text/plain": [
       "['s', 'r', 'n', 'h', 'e', 'a']"
      ]
     },
     "execution_count": 2,
     "metadata": {},
     "output_type": "execute_result"
    }
   ],
   "source": [
    "sorted('naresh',reverse=True)"
   ]
  },
  {
   "cell_type": "code",
   "execution_count": 3,
   "id": "b198b8a4-1fb9-4c2c-89af-396386ae55df",
   "metadata": {},
   "outputs": [
    {
     "data": {
      "text/plain": [
       "<reversed at 0x1b4360e8640>"
      ]
     },
     "execution_count": 3,
     "metadata": {},
     "output_type": "execute_result"
    }
   ],
   "source": [
    "reversed('naresh')"
   ]
  },
  {
   "cell_type": "code",
   "execution_count": null,
   "id": "46dfa822-f6e3-4620-bff5-4c17f5f8077a",
   "metadata": {},
   "outputs": [],
   "source": [
    "for i in reversed('naresh')\n"
   ]
  },
  {
   "cell_type": "code",
   "execution_count": null,
   "id": "86aa4c0d-f1e4-4fda-89d9-eddc33e5008c",
   "metadata": {},
   "outputs": [],
   "source": [
    "Intialization\n",
    "- type\n",
    "- len\n",
    "- max\n",
    "- min\n",
    "- sum\n",
    "- sorted\n",
    "- reversed"
   ]
  },
  {
   "cell_type": "code",
   "execution_count": null,
   "id": "97570416-0005-4d92-8fdb-11150acea53b",
   "metadata": {},
   "outputs": [],
   "source": [
    "type(<value>)\n",
    "eval(<value>)\n",
    "input(<value>)\n",
    "max(<v>)\n",
    "min()\n",
    "len()\n",
    "sum()\n",
    "sorted()\n",
    "reveresd()"
   ]
  },
  {
   "cell_type": "code",
   "execution_count": 1,
   "id": "652af2f5-58b8-4100-a243-3a3f4e96af5c",
   "metadata": {},
   "outputs": [
    {
     "data": {
      "text/plain": [
       "['a', 'e', 'h', 'n', 'r', 's']"
      ]
     },
     "execution_count": 1,
     "metadata": {},
     "output_type": "execute_result"
    }
   ],
   "source": [
    "# sorted()\n",
    "# It will provide the values either ascending or descending\n",
    "\n",
    "sorted('naresh') # Ascending or Descending\n",
    "\n",
    "# when I run directly it will give one answer\n",
    "# the function has a default behaviour: ascending\n",
    "\n",
    "# How this default mentioned\n",
    "# we need to understand about arguments"
   ]
  },
  {
   "cell_type": "code",
   "execution_count": 2,
   "id": "6ffc4c79-bf05-422d-841c-d0a11dfd47cb",
   "metadata": {},
   "outputs": [
    {
     "data": {
      "text/plain": [
       "['s', 'r', 'n', 'h', 'e', 'a']"
      ]
     },
     "execution_count": 2,
     "metadata": {},
     "output_type": "execute_result"
    }
   ],
   "source": [
    "sorted('naresh',reverse=True)\n",
    "\n",
    "# iterable\n",
    "# key\n",
    "# reverse"
   ]
  },
  {
   "cell_type": "code",
   "execution_count": 5,
   "id": "43cd65e5-2678-4a81-84dd-a3346dc34272",
   "metadata": {},
   "outputs": [
    {
     "name": "stdout",
     "output_type": "stream",
     "text": [
      "h\n",
      "s\n",
      "e\n",
      "r\n",
      "a\n",
      "n\n"
     ]
    }
   ],
   "source": [
    "for i in reversed('naresh'):\n",
    "    print(i)"
   ]
  },
  {
   "cell_type": "code",
   "execution_count": 6,
   "id": "1d443987-cda5-4ebf-bba8-5cf5f68aeaf3",
   "metadata": {},
   "outputs": [
    {
     "data": {
      "text/plain": [
       "[1, 2, 10, 20, 30]"
      ]
     },
     "execution_count": 6,
     "metadata": {},
     "output_type": "execute_result"
    }
   ],
   "source": [
    "sorted([1,10,2,20,30])\n",
    "# 1,2,10,20,30\n",
    "# 30,20,10,2,1"
   ]
  },
  {
   "cell_type": "code",
   "execution_count": 7,
   "id": "68296c0d-bbea-4a92-a885-34294ecc8397",
   "metadata": {},
   "outputs": [
    {
     "data": {
      "text/plain": [
       "[30, 20, 10, 2, 1]"
      ]
     },
     "execution_count": 7,
     "metadata": {},
     "output_type": "execute_result"
    }
   ],
   "source": [
    "sorted([1,10,2,20,30],reverse=True)"
   ]
  },
  {
   "cell_type": "markdown",
   "id": "feb3f3ab-5282-4af4-baee-06962304408d",
   "metadata": {},
   "source": [
    "**in**"
   ]
  },
  {
   "cell_type": "code",
   "execution_count": 8,
   "id": "a8057d99-1320-43a2-9603-56be80b47e46",
   "metadata": {},
   "outputs": [
    {
     "data": {
      "text/plain": [
       "True"
      ]
     },
     "execution_count": 8,
     "metadata": {},
     "output_type": "execute_result"
    }
   ],
   "source": [
    "str1='naresh'\n",
    "\n",
    "'n' in str1"
   ]
  },
  {
   "cell_type": "code",
   "execution_count": null,
   "id": "dff4dbc3-3307-425c-b3f2-c8b8dcaa0196",
   "metadata": {},
   "outputs": [],
   "source": [
    "# strings\n",
    "# list\n",
    "# tuples\n",
    "# sets\n",
    "# dictionary"
   ]
  },
  {
   "cell_type": "code",
   "execution_count": 9,
   "id": "b5da6863-d313-42ee-9a67-ffa877d605d0",
   "metadata": {},
   "outputs": [
    {
     "data": {
      "text/plain": [
       "True"
      ]
     },
     "execution_count": 9,
     "metadata": {},
     "output_type": "execute_result"
    }
   ],
   "source": [
    "str1='naresh'\n",
    "'nn' not in str1"
   ]
  },
  {
   "cell_type": "code",
   "execution_count": 11,
   "id": "6e59e295-cc18-48c7-ba8d-97cb92f26c04",
   "metadata": {},
   "outputs": [
    {
     "name": "stdout",
     "output_type": "stream",
     "text": [
      "n\n",
      "a\n",
      "r\n",
      "e\n",
      "s\n",
      "h\n"
     ]
    }
   ],
   "source": [
    "for i in str1:\n",
    "    print(i)"
   ]
  },
  {
   "cell_type": "markdown",
   "id": "94e014e2-9294-4f14-a726-2133d30e5aeb",
   "metadata": {},
   "source": [
    "**note**\n",
    "\n",
    "- in operator directly access the letters"
   ]
  },
  {
   "cell_type": "code",
   "execution_count": 13,
   "id": "52cec060-4f1d-411a-b39f-bd6343ea7984",
   "metadata": {},
   "outputs": [
    {
     "name": "stdout",
     "output_type": "stream",
     "text": [
      "3\n"
     ]
    }
   ],
   "source": [
    "#Q1) wap ask the user count how many counthow many 'a' are present in a given string\n",
    "# str1='hai naresh how are you'\n",
    "\n",
    "# Idea: counter wrapper\n",
    "# step-1: count=0\n",
    "# step-2: using for loop in operator iterate through given string\n",
    "# step-3: apply the if condition, whenever the letter equal to 'a'\n",
    "# step-4: count=count+1\n",
    "\n",
    "str1='hai naresh how are you'\n",
    "count=0\n",
    "for i in str1:\n",
    "    if i=='a':\n",
    "        count=count+1\n",
    "print(count)\n",
    "# step-1: i='h' if 'h'=='a' False     count=\n",
    "# step-2: i='a' if  'a'=='a' T        count=0+1=0\n",
    "# step-3: i='i' if  'i'=='a' F        count=1\n",
    "#\n",
    "# step-3: i='a' if  'a'=='a' T      count=1+1=2"
   ]
  },
  {
   "cell_type": "code",
   "execution_count": 16,
   "id": "05b4ae6b-d7fd-4624-a003-096202c1a8af",
   "metadata": {},
   "outputs": [
    {
     "name": "stdout",
     "output_type": "stream",
     "text": [
      "the count is: 9\n"
     ]
    }
   ],
   "source": [
    "# Q2) WAP ask the find how many vowels are there in a given string\n",
    "# str1='hai naresh how are you'\n",
    "# ans=9\n",
    "\n",
    "count=0\n",
    "str1='hai naresh how are you'\n",
    "for i in str1:\n",
    "    if i=='a' or i=='e' or i=='i' or i=='o' or i=='u':\n",
    "        count=count+1\n",
    "print(\"the count is:\",count)"
   ]
  },
  {
   "cell_type": "code",
   "execution_count": 17,
   "id": "4319dcc5-e88e-4c08-8102-825013e1c581",
   "metadata": {},
   "outputs": [
    {
     "name": "stdout",
     "output_type": "stream",
     "text": [
      "the count is: 9\n"
     ]
    }
   ],
   "source": [
    "count=0\n",
    "str1='hai naresh how are you'\n",
    "for i in str1:\n",
    "    if i in 'aeiou':\n",
    "         count=count+1\n",
    "print(\"the count is:\",count)\n",
    "\n",
    "# step-1: i='h' if 'h' in 'aeiou' F"
   ]
  },
  {
   "cell_type": "code",
   "execution_count": 19,
   "id": "40962920-808a-4630-b24f-9f29d1283165",
   "metadata": {},
   "outputs": [
    {
     "name": "stdout",
     "output_type": "stream",
     "text": [
      "the count is: 9\n",
      "3\n"
     ]
    }
   ],
   "source": [
    "count=0\n",
    "str1='hai naresh how are you'\n",
    "for i in str1:\n",
    "    if i=='a' or i=='e' or i=='i' or i=='o' or i=='u':\n",
    "        count=count+1\n",
    "print(\"the count is:\",count)\n",
    "\n",
    "str1='hai naresh how are you'\n",
    "count=0\n",
    "for i in str1:\n",
    "    if i=='a':\n",
    "       count=count+1\n",
    "print(count)\n",
    "\n",
    "# Idea: counter wrapper\n",
    "# step-1: count=0\n",
    "# step-2: using for loop in operator iterate through given string\n",
    "# step-3: apply the if condition, whenever the letter equal to 'a'\n",
    "# step-4: count=count+1"
   ]
  },
  {
   "cell_type": "code",
   "execution_count": null,
   "id": "57d7ec2d-41ad-49c5-b242-f95e1349236b",
   "metadata": {},
   "outputs": [],
   "source": [
    "# Q3) Home work qn\n",
    "# str1='hai naresh how are you'\n",
    "# Repetaed vowels are there\n",
    "# We dont want repetaed vowels\n",
    "# Count the vowels avoid the repeatition: Unique vowels\n",
    "# Step-1: Count=0\n",
    "# Step-2: take one more empty string: ex= s2=''\n",
    "s2=''\n",
    "# Step-3: using for loop in operator iterate through given string\n",
    "# step-4: condition-1: That letter shoud not avaialble in s2\n",
    "# step-5 condition-2: vowel check condition\n",
    "# step-6 count=count+1\n",
    "# step-7: update the s2= s2=s2+<letter>"
   ]
  },
  {
   "cell_type": "markdown",
   "id": "d5350122-a129-45e0-aa96-e161247f519d",
   "metadata": {},
   "source": [
    "**How to update the empty strings**"
   ]
  },
  {
   "cell_type": "code",
   "execution_count": 21,
   "id": "b98aed4b-8f24-435a-8295-a4f881e940a2",
   "metadata": {},
   "outputs": [
    {
     "data": {
      "text/plain": [
       "'python'"
      ]
     },
     "execution_count": 21,
     "metadata": {},
     "output_type": "execute_result"
    }
   ],
   "source": [
    "s1='python'\n",
    "s2=''\n",
    "for i in s1:\n",
    "    s2=s2+i      # Concatenation\n",
    "\n",
    "s2"
   ]
  },
  {
   "cell_type": "markdown",
   "id": "475e2943-8b8d-4cc5-92a3-dad04c27dc5f",
   "metadata": {},
   "source": [
    "**Concatination**"
   ]
  },
  {
   "cell_type": "code",
   "execution_count": 14,
   "id": "e69b040e-d461-4d62-a1f6-66c3112df45d",
   "metadata": {},
   "outputs": [
    {
     "data": {
      "text/plain": [
       "'hello bye '"
      ]
     },
     "execution_count": 14,
     "metadata": {},
     "output_type": "execute_result"
    }
   ],
   "source": [
    "s1='hello'\n",
    "s2=' bye '\n",
    "s1+s2"
   ]
  },
  {
   "cell_type": "code",
   "execution_count": 15,
   "id": "9ef9a7d6-4ada-460c-a3af-7dacd410a535",
   "metadata": {},
   "outputs": [
    {
     "data": {
      "text/plain": [
       "'hello bye '"
      ]
     },
     "execution_count": 15,
     "metadata": {},
     "output_type": "execute_result"
    }
   ],
   "source": [
    "s1='hello'\n",
    "s2=' bye '\n",
    "\n",
    "s1+s2"
   ]
  },
  {
   "cell_type": "code",
   "execution_count": 16,
   "id": "763a2e6e-94d4-4d67-9cd6-02b3daa3dd6a",
   "metadata": {},
   "outputs": [
    {
     "data": {
      "text/plain": [
       "'hello bye'"
      ]
     },
     "execution_count": 16,
     "metadata": {},
     "output_type": "execute_result"
    }
   ],
   "source": [
    "s1='hello'\n",
    "s2=' '\n",
    "s3='bye'\n",
    "s4=s1+s2+s3\n",
    "s4"
   ]
  },
  {
   "cell_type": "code",
   "execution_count": null,
   "id": "a40fc792-4ff1-45b3-ad97-1d332488bf51",
   "metadata": {},
   "outputs": [],
   "source": [
    "s1='hello'\n",
    "s2='bye'\n",
    "s1*s2\n",
    "s1/s2\n",
    "s1-s2"
   ]
  },
  {
   "cell_type": "code",
   "execution_count": 22,
   "id": "2ad4d4e8-b204-4691-be3c-ea0888689381",
   "metadata": {},
   "outputs": [
    {
     "ename": "TypeError",
     "evalue": "can't multiply sequence by non-int of type 'str'",
     "output_type": "error",
     "traceback": [
      "\u001b[1;31m---------------------------------------------------------------------------\u001b[0m",
      "\u001b[1;31mTypeError\u001b[0m                                 Traceback (most recent call last)",
      "Cell \u001b[1;32mIn[22], line 3\u001b[0m\n\u001b[0;32m      1\u001b[0m s1\u001b[38;5;241m=\u001b[39m\u001b[38;5;124m'\u001b[39m\u001b[38;5;124mhello\u001b[39m\u001b[38;5;124m'\u001b[39m\n\u001b[0;32m      2\u001b[0m s2\u001b[38;5;241m=\u001b[39m\u001b[38;5;124m'\u001b[39m\u001b[38;5;124mbye\u001b[39m\u001b[38;5;124m'\u001b[39m\n\u001b[1;32m----> 3\u001b[0m s1\u001b[38;5;241m*\u001b[39ms2\n",
      "\u001b[1;31mTypeError\u001b[0m: can't multiply sequence by non-int of type 'str'"
     ]
    }
   ],
   "source": [
    "s1='hello'\n",
    "s2='bye'\n",
    "s1*s2"
   ]
  },
  {
   "cell_type": "code",
   "execution_count": 23,
   "id": "c7440323-08a6-4908-9b22-d1cab0c78159",
   "metadata": {},
   "outputs": [
    {
     "ename": "TypeError",
     "evalue": "unsupported operand type(s) for -: 'str' and 'str'",
     "output_type": "error",
     "traceback": [
      "\u001b[1;31m---------------------------------------------------------------------------\u001b[0m",
      "\u001b[1;31mTypeError\u001b[0m                                 Traceback (most recent call last)",
      "Cell \u001b[1;32mIn[23], line 3\u001b[0m\n\u001b[0;32m      1\u001b[0m s1\u001b[38;5;241m=\u001b[39m\u001b[38;5;124m'\u001b[39m\u001b[38;5;124mhello\u001b[39m\u001b[38;5;124m'\u001b[39m\n\u001b[0;32m      2\u001b[0m s2\u001b[38;5;241m=\u001b[39m\u001b[38;5;124m'\u001b[39m\u001b[38;5;124mbye\u001b[39m\u001b[38;5;124m'\u001b[39m\n\u001b[1;32m----> 3\u001b[0m s1\u001b[38;5;241m-\u001b[39ms2\n",
      "\u001b[1;31mTypeError\u001b[0m: unsupported operand type(s) for -: 'str' and 'str'"
     ]
    }
   ],
   "source": [
    "s1='hello'\n",
    "s2='bye'\n",
    "s1-s2"
   ]
  },
  {
   "cell_type": "code",
   "execution_count": 24,
   "id": "4996ef50-918e-4786-b39d-400e02f81892",
   "metadata": {},
   "outputs": [
    {
     "ename": "TypeError",
     "evalue": "unsupported operand type(s) for /: 'str' and 'str'",
     "output_type": "error",
     "traceback": [
      "\u001b[1;31m---------------------------------------------------------------------------\u001b[0m",
      "\u001b[1;31mTypeError\u001b[0m                                 Traceback (most recent call last)",
      "Cell \u001b[1;32mIn[24], line 1\u001b[0m\n\u001b[1;32m----> 1\u001b[0m s1\u001b[38;5;241m/\u001b[39ms2\n",
      "\u001b[1;31mTypeError\u001b[0m: unsupported operand type(s) for /: 'str' and 'str'"
     ]
    }
   ],
   "source": [
    "s1/s2"
   ]
  },
  {
   "cell_type": "code",
   "execution_count": null,
   "id": "df2ddcfc-04ca-415f-bf94-d222f1da53cb",
   "metadata": {},
   "outputs": [],
   "source": [
    "# s1*s2: can't multiply sequence by non-int of type 'str'\n",
    "\n",
    "# s1-s2: unsupported operand type(s) for -: 'str' and 'str'\n",
    "\n",
    "# s1/s2: unsupported operand type(s) for /: 'str' and 'str'"
   ]
  },
  {
   "cell_type": "code",
   "execution_count": 17,
   "id": "285d403a-5f70-41da-9cd8-29d226a96777",
   "metadata": {},
   "outputs": [
    {
     "data": {
      "text/plain": [
       "'hellohello'"
      ]
     },
     "execution_count": 17,
     "metadata": {},
     "output_type": "execute_result"
    }
   ],
   "source": [
    "s1='hello'\n",
    "s2=2\n",
    "s1*s2"
   ]
  },
  {
   "cell_type": "code",
   "execution_count": null,
   "id": "188b5afa-1ab1-4e0f-a8db-c03420d6a3ff",
   "metadata": {},
   "outputs": [],
   "source": [
    "s1+s2 ===> s1*2\n",
    "\n",
    "2*3  3*2"
   ]
  },
  {
   "cell_type": "markdown",
   "id": "cef9774c-0507-4344-8e3f-86ec4fb78a75",
   "metadata": {},
   "source": [
    "**index**\n",
    "\n",
    "- index meaning a number arrached to a letter\n",
    "- in python index start with zero\n",
    "- we have two directions\n",
    "\n",
    "       - positive direction\n",
    "\n",
    "          - positive number start with zero\n",
    "\n",
    "       - negative direction\n",
    "\n",
    "          - negative numbers start with-1, applicable to last letter"
   ]
  },
  {
   "cell_type": "code",
   "execution_count": null,
   "id": "2cb86d2e-b012-4a02-8fff-1f08ec7bc415",
   "metadata": {},
   "outputs": [],
   "source": [
    "s1='python'\n",
    "\n",
    "-6  -5   -4   -3   -2   -1  ===> negative\n",
    "p    y    t    h    o    n  \n",
    "0    1    2    3    4    5  === > postive"
   ]
  },
  {
   "cell_type": "code",
   "execution_count": 25,
   "id": "0ac1c4cb-cefd-43fe-8f16-6c72827d40a5",
   "metadata": {},
   "outputs": [
    {
     "data": {
      "text/plain": [
       "('p', 'y', 't', 'h', 'o', 'n')"
      ]
     },
     "execution_count": 25,
     "metadata": {},
     "output_type": "execute_result"
    }
   ],
   "source": [
    "s1='python'\n",
    "s1[0],s1[1],s1[2],s1[3],s1[4],s1[5]"
   ]
  },
  {
   "cell_type": "code",
   "execution_count": 26,
   "id": "65cf7ac0-1214-4a33-ae9b-ec505bdc57f9",
   "metadata": {},
   "outputs": [
    {
     "data": {
      "text/plain": [
       "('n', 'o', 'h', 't', 'y', 'p')"
      ]
     },
     "execution_count": 26,
     "metadata": {},
     "output_type": "execute_result"
    }
   ],
   "source": [
    "s1='python'\n",
    "s1[-1],s1[-2],s1[-3],s1[-4],s1[-5],s1[-6]"
   ]
  },
  {
   "cell_type": "markdown",
   "id": "1b932d1a-b067-4ffa-89d1-77ab2d2497a8",
   "metadata": {},
   "source": [
    "**mutable-immutable**\n",
    "\n",
    "- mutable: can change\n",
    "  - we can change using indexing\n",
    "- immutable: can not change\n",
    "  - we cannot change change using indexing"
   ]
  },
  {
   "cell_type": "code",
   "execution_count": 2,
   "id": "ba6ff9a0-09cf-4f34-96b9-dddb2eb9bf5a",
   "metadata": {},
   "outputs": [
    {
     "ename": "TypeError",
     "evalue": "'str' object does not support item assignment",
     "output_type": "error",
     "traceback": [
      "\u001b[1;31m---------------------------------------------------------------------------\u001b[0m",
      "\u001b[1;31mTypeError\u001b[0m                                 Traceback (most recent call last)",
      "Cell \u001b[1;32mIn[2], line 5\u001b[0m\n\u001b[0;32m      1\u001b[0m s\u001b[38;5;241m=\u001b[39m\u001b[38;5;124m'\u001b[39m\u001b[38;5;124mWelcome\u001b[39m\u001b[38;5;124m'\u001b[39m       \u001b[38;5;66;03m# welcome\u001b[39;00m\n\u001b[0;32m      2\u001b[0m \u001b[38;5;66;03m# i want to replace 'l' with 'L'\u001b[39;00m\n\u001b[0;32m      3\u001b[0m \u001b[38;5;66;03m# possible\u001b[39;00m\n\u001b[0;32m      4\u001b[0m \u001b[38;5;66;03m# not possible\u001b[39;00m\n\u001b[1;32m----> 5\u001b[0m s[\u001b[38;5;241m2\u001b[39m]\u001b[38;5;241m=\u001b[39m\u001b[38;5;124m'\u001b[39m\u001b[38;5;124mL\u001b[39m\u001b[38;5;124m'\u001b[39m\n",
      "\u001b[1;31mTypeError\u001b[0m: 'str' object does not support item assignment"
     ]
    }
   ],
   "source": [
    "s='Welcome'       # welcome\n",
    "# i want to replace 'l' with 'L'\n",
    "# possible\n",
    "# not possible\n",
    "s[2]='L'"
   ]
  },
  {
   "cell_type": "markdown",
   "id": "10a24d08-284a-4697-8782-4e18e32b0b43",
   "metadata": {},
   "source": [
    "## strings are immutable"
   ]
  },
  {
   "cell_type": "code",
   "execution_count": 4,
   "id": "83dca350-873a-47f0-a763-d07b55bbe3ad",
   "metadata": {},
   "outputs": [
    {
     "data": {
      "text/plain": [
       "[1, 200, 3, 4]"
      ]
     },
     "execution_count": 4,
     "metadata": {},
     "output_type": "execute_result"
    }
   ],
   "source": [
    "l=[1,2,3,4]   # 2= 200\n",
    "l[1]=200\n",
    "l"
   ]
  },
  {
   "cell_type": "code",
   "execution_count": null,
   "id": "218e163e-3a82-4e37-b04b-3bdd6cdc4272",
   "metadata": {},
   "outputs": [],
   "source": [
    "s='Welcome' \n",
    "s[2]='L'\n",
    "#########################################\n",
    "l=[1,2,3,4]   \n",
    "l[1]=200\n",
    "l"
   ]
  },
  {
   "cell_type": "markdown",
   "id": "0e028b95-b9c4-4ce0-98b4-7803edfdb650",
   "metadata": {},
   "source": [
    "- range belongs to which family\n",
    "\n",
    "   - math family\n",
    "\n",
    "- inside range bracket what we need to provied\n",
    "\n",
    "   - number\n",
    "\n",
    "- how many numbers we need to provied \n",
    "\n",
    "   - number of letter : len(string)\n",
    "\n",
    "- how to access the letter using number\n",
    "\n",
    "   - by using index"
   ]
  },
  {
   "cell_type": "code",
   "execution_count": 3,
   "id": "f256720f-5303-4a36-8623-18198ba05ada",
   "metadata": {},
   "outputs": [
    {
     "name": "stdout",
     "output_type": "stream",
     "text": [
      "w\n",
      "e\n",
      "l\n",
      "c\n",
      "o\n",
      "m\n",
      "e\n"
     ]
    }
   ],
   "source": [
    "# Q4) print each latter using for loop change\n",
    "s='Welcome'\n",
    "# inside bracket we need to provide a number\n",
    "# How many numbers we need to provide\n",
    "# number of letters=7\n",
    "# How to access a letter using number:\n",
    "s='welcome'\n",
    "for i in range(7):\n",
    "    print(s[i])\n",
    "# i=0   s[0]=w\n",
    "# i=1   s[1]=e"
   ]
  },
  {
   "cell_type": "code",
   "execution_count": 10,
   "id": "de419e22-e7e4-4afc-b188-51f063c1792e",
   "metadata": {},
   "outputs": [
    {
     "name": "stdout",
     "output_type": "stream",
     "text": [
      "W\n",
      "e\n",
      "l\n",
      "c\n",
      "o\n",
      "m\n",
      "e\n",
      " \n",
      "t\n",
      "o\n",
      " \n",
      "n\n",
      "a\n",
      "r\n",
      "e\n",
      "s\n",
      "h\n",
      " \n",
      "i\n",
      "t\n"
     ]
    }
   ],
   "source": [
    "s='Welcome to naresh it'\n",
    "n=len(s)\n",
    "for i in range(n):\n",
    "    print(s[i])"
   ]
  },
  {
   "cell_type": "markdown",
   "id": "3cfbfc9d-2530-47d7-8f8c-0146009a9a52",
   "metadata": {},
   "source": [
    "- **for-in** directly access the letter \n",
    "\n",
    "- **for-range** will access using index"
   ]
  },
  {
   "cell_type": "code",
   "execution_count": 11,
   "id": "62c91058-88ea-40f7-a54c-ce6df1766c16",
   "metadata": {},
   "outputs": [
    {
     "name": "stdout",
     "output_type": "stream",
     "text": [
      "W\n",
      "e\n",
      "l\n",
      "c\n",
      "o\n",
      "m\n",
      "e\n"
     ]
    }
   ],
   "source": [
    "s='Welcome'\n",
    "\n",
    "for i in s:\n",
    "    print(i)"
   ]
  },
  {
   "cell_type": "code",
   "execution_count": null,
   "id": "534394c4-73e9-4a6a-b24d-366878fd4f17",
   "metadata": {},
   "outputs": [],
   "source": [
    "# Q5) wap ask the user interate using a string\n",
    "# string='welcome'\n",
    "# print the possitive index of w is 0\n",
    "#       the possitive index of e is 1\n",
    "#       the possitive index of l is 1\n",
    "\n",
    "#Q6) wap ask the user interate using a string\n",
    "# string='welcome'\n",
    "# print the negative index of w is -7\n",
    "#       the negative index of e is -6\n",
    "#       the negative index of l is -5"
   ]
  },
  {
   "cell_type": "code",
   "execution_count": 4,
   "id": "77c0100c-01bd-4f16-a142-a60bbfdece92",
   "metadata": {},
   "outputs": [
    {
     "name": "stdout",
     "output_type": "stream",
     "text": [
      "0 w\n",
      "The postive index of w is 0\n",
      "1 e\n",
      "The postive index of e is 1\n",
      "2 l\n",
      "The postive index of l is 2\n",
      "3 c\n",
      "The postive index of c is 3\n",
      "4 o\n",
      "The postive index of o is 4\n",
      "5 m\n",
      "The postive index of m is 5\n",
      "6 e\n",
      "The postive index of e is 6\n"
     ]
    }
   ],
   "source": [
    "# Q5) wap ask the user interate using a string\n",
    "# string='welcome'\n",
    "# print the possitive index of w is 0\n",
    "#       the possitive index of e is 1\n",
    "#       the possitive index of l is 1\n",
    "s='welcome'\n",
    "for i in range(len(s)):\n",
    "    print(i,s[i])\n",
    "    print(f\"The postive index of {s[i]} is {i}\")"
   ]
  },
  {
   "cell_type": "code",
   "execution_count": 5,
   "id": "07f71c5f-bf00-4d73-b40b-c3124a46576d",
   "metadata": {},
   "outputs": [
    {
     "name": "stdout",
     "output_type": "stream",
     "text": [
      "0 -7\n",
      "the negative index of w is -7\n",
      "1 -6\n",
      "the negative index of e is -6\n",
      "2 -5\n",
      "the negative index of l is -5\n",
      "3 -4\n",
      "the negative index of c is -4\n",
      "4 -3\n",
      "the negative index of o is -3\n",
      "5 -2\n",
      "the negative index of m is -2\n",
      "6 -1\n",
      "the negative index of e is -1\n"
     ]
    }
   ],
   "source": [
    "# Q6) wap ask the user iterate using a string\n",
    "# string='welcome'\n",
    "# print the negative index of w is -7\n",
    "#       the negative index of e is -6\n",
    "#       the negative index of l is -5\n",
    "# the positive index is 0 and the negtaive index -7 for w\n",
    "s='welcome'\n",
    "for i in range(len(s)):\n",
    "    print(i,i-len(s))\n",
    "    print(f\"the negative index of {s[i]} is {i-len(s)}\")\n",
    "# 0-7==== -7\n",
    "# 1-7==== -6\n",
    "# 2-7 ==== -5"
   ]
  },
  {
   "cell_type": "code",
   "execution_count": 6,
   "id": "a410ec58-5f5c-4f78-8f93-f5b799db0085",
   "metadata": {},
   "outputs": [
    {
     "name": "stdout",
     "output_type": "stream",
     "text": [
      "the positive index is 0 and the negtaive index -7 for W\n",
      "the positive index is 1 and the negtaive index -6 for e\n",
      "the positive index is 2 and the negtaive index -5 for l\n",
      "the positive index is 3 and the negtaive index -4 for c\n",
      "the positive index is 4 and the negtaive index -3 for o\n",
      "the positive index is 5 and the negtaive index -2 for m\n",
      "the positive index is 6 and the negtaive index -1 for e\n"
     ]
    }
   ],
   "source": [
    "# Q7) wap ask the user interate using a string\n",
    "# string='welcome'\n",
    "# print the negative index of w is 0\n",
    "#       the negative index of e is 1\n",
    "#       the negative index of l is -7\n",
    "\n",
    "s='Welcome'\n",
    "n=len(s)\n",
    "for i in range(len(s)):\n",
    "    print(f\"the positive index is {i} and the negtaive index {i-len(s)} for {s[i]}\")"
   ]
  },
  {
   "cell_type": "code",
   "execution_count": 21,
   "id": "e0e0b0dd-5d2e-4e64-afc9-269517e2ba6e",
   "metadata": {},
   "outputs": [
    {
     "name": "stdout",
     "output_type": "stream",
     "text": [
      " the possitive  index is 0 and the negative index -7 for W\n",
      " the possitive  index is 1 and the negative index -6 for e\n",
      " the possitive  index is 2 and the negative index -5 for l\n",
      " the possitive  index is 3 and the negative index -4 for c\n",
      " the possitive  index is 4 and the negative index -3 for o\n",
      " the possitive  index is 5 and the negative index -2 for m\n",
      " the possitive  index is 6 and the negative index -1 for e\n"
     ]
    }
   ],
   "source": [
    "s='Welcome'\n",
    "n=len(s)\n",
    "for i in range(n):\n",
    "    print(f\" the possitive  index is {i } and the negative index {i-len(s)} for {s[i]}\")"
   ]
  },
  {
   "cell_type": "code",
   "execution_count": 7,
   "id": "eac0d442-7096-4bef-911b-1a831752aa89",
   "metadata": {},
   "outputs": [
    {
     "name": "stdout",
     "output_type": "stream",
     "text": [
      "1\n",
      "5\n",
      "16\n",
      "26\n",
      "a\n",
      "a\n",
      "a\n"
     ]
    }
   ],
   "source": [
    "#Q8) wap ask the user to get the index of each 'a' in a given string\n",
    "# s='hai how are you i am good'\n",
    "# a=1 8 18\n",
    "s='hai nareshn how are you i am good'\n",
    "for i in range(len(s)):\n",
    "    if s[i]=='a':\n",
    "       print(i)\n",
    "        \n",
    "s='hai how are you i am good'\n",
    "for i in s:\n",
    "    if i=='a':\n",
    "        print(i)"
   ]
  },
  {
   "cell_type": "code",
   "execution_count": 8,
   "id": "4552d596-5007-41bc-b843-b0135f73067a",
   "metadata": {},
   "outputs": [
    {
     "data": {
      "text/plain": [
       "3"
      ]
     },
     "execution_count": 8,
     "metadata": {},
     "output_type": "execute_result"
    }
   ],
   "source": [
    "#9) wap ask the user to get count of number of 'a' in a given string\n",
    "#   using for range\n",
    "\n",
    "s='hai how are you i am good'\n",
    "count=0\n",
    "for i in range(len(s)):\n",
    "    if s[i]=='a':\n",
    "       count=count+1\n",
    "\n",
    "count"
   ]
  },
  {
   "cell_type": "code",
   "execution_count": 13,
   "id": "b9a51bcf-879c-4784-9928-9bd9c38bb204",
   "metadata": {},
   "outputs": [
    {
     "ename": "NameError",
     "evalue": "name 'summ' is not defined",
     "output_type": "error",
     "traceback": [
      "\u001b[1;31m---------------------------------------------------------------------------\u001b[0m",
      "\u001b[1;31mNameError\u001b[0m                                 Traceback (most recent call last)",
      "Cell \u001b[1;32mIn[13], line 7\u001b[0m\n\u001b[0;32m      5\u001b[0m \u001b[38;5;28;01mfor\u001b[39;00m i \u001b[38;5;129;01min\u001b[39;00m \u001b[38;5;28mrange\u001b[39m(\u001b[38;5;28mlen\u001b[39m(s)):\n\u001b[0;32m      6\u001b[0m     \u001b[38;5;28;01mif\u001b[39;00m s[i]\u001b[38;5;241m==\u001b[39m\u001b[38;5;124m'\u001b[39m\u001b[38;5;124ma\u001b[39m\u001b[38;5;124m'\u001b[39m:\n\u001b[1;32m----> 7\u001b[0m         summ\u001b[38;5;241m=\u001b[39msumm\u001b[38;5;241m+\u001b[39mi\n\u001b[0;32m      9\u001b[0m summ()\n",
      "\u001b[1;31mNameError\u001b[0m: name 'summ' is not defined"
     ]
    }
   ],
   "source": [
    "#Q10) wap ask the user get the sum of all index numbers of 'a'\n",
    "# 1+8+18= 27\n",
    "s='hai how are you i am good'\n",
    "count=0\n",
    "for i in range(len(s)):\n",
    "    if s[i]=='a':\n",
    "        summ=summ+i\n",
    "\n",
    "summ()"
   ]
  },
  {
   "cell_type": "code",
   "execution_count": 14,
   "id": "7aa44ccf-3b81-473d-ae2b-7320e5c78674",
   "metadata": {},
   "outputs": [
    {
     "name": "stdout",
     "output_type": "stream",
     "text": [
      "a\n",
      "i\n",
      "o\n",
      "a\n",
      "e\n",
      "o\n",
      "u\n",
      "i\n",
      "a\n",
      "o\n",
      "o\n",
      "The number of vowels are: 11\n"
     ]
    }
   ],
   "source": [
    "#Q11) wap ask the user get the vowels from a given string using for-range\n",
    "s='hai how are you i am good'\n",
    "count=0\n",
    "for i in range(len(s)):\n",
    "    if s[i] in 'aeiou':\n",
    "      print(s[i])\n",
    "      count=count+1\n",
    "        \n",
    "print(\"The number of vowels are:\",count)"
   ]
  },
  {
   "cell_type": "code",
   "execution_count": 15,
   "id": "ff7ca773-0ca0-4710-badc-f4d4e79b1696",
   "metadata": {},
   "outputs": [
    {
     "ename": "SyntaxError",
     "evalue": "unterminated string literal (detected at line 10) (2611412663.py, line 10)",
     "output_type": "error",
     "traceback": [
      "\u001b[1;36m  Cell \u001b[1;32mIn[15], line 10\u001b[1;36m\u001b[0m\n\u001b[1;33m    print(\"the number of vowels are:\",count\")\u001b[0m\n\u001b[1;37m                                           ^\u001b[0m\n\u001b[1;31mSyntaxError\u001b[0m\u001b[1;31m:\u001b[0m unterminated string literal (detected at line 10)\n"
     ]
    }
   ],
   "source": [
    "#Q12) wap ask the user get the vowels from a given string using for-range\n",
    "s='hi how re you i m good'\n",
    "s1=''\n",
    "count=0\n",
    "for i in range(len(s)):\n",
    "  if s[i] not in s1: # we are checking the letter is avalible in s1(it should)\n",
    "      print(s[i])\n",
    "      s1=s1+s[1]\n",
    "      count=count+1\n",
    "print(\"the number of vowels are:\",count\")      "
   ]
  },
  {
   "cell_type": "code",
   "execution_count": 17,
   "id": "8e92e1c7-bb1d-4c4a-971a-39b0abbcd151",
   "metadata": {},
   "outputs": [
    {
     "name": "stdout",
     "output_type": "stream",
     "text": [
      "i\n",
      "o\n",
      "e\n",
      "u\n",
      "The number of vowels are: 4\n"
     ]
    }
   ],
   "source": [
    "#Q13)updated wap ask the user get the vowels from a given string using for-range\n",
    "s='hi how re you i m good'\n",
    "s1=''\n",
    "count=0\n",
    "for i in range(len(s)):\n",
    "    if s[i] not in s1 and s[i] in 'aeiou':\n",
    "        print(s[i])\n",
    "        s1=s1+s[i]\n",
    "        count=count+1\n",
    "    \n",
    "print(\"The number of vowels are:\",count)"
   ]
  },
  {
   "cell_type": "code",
   "execution_count": null,
   "id": "cd1ebfcf-c34f-4dbb-a5fa-653a800fb671",
   "metadata": {},
   "outputs": [],
   "source": [
    "#Q14) string='ola ola ola'\n",
    "\n",
    "# answer should be 3\n",
    "\n",
    "#Q15) string1='hello hello hello how how how how are you'\n",
    "# what is the most repeated word  : how\n",
    "\n",
    "#Q16) string1='hellooooo how aree u'\n",
    "# what is the maximum length of word: helooo\n",
    "# what is the minimum length of word: u\n",
    "\n",
    "#Q17) without using sorted then sort the letters"
   ]
  },
  {
   "cell_type": "code",
   "execution_count": 4,
   "id": "415df2b9-c609-4fc2-b372-5bb23f090ed3",
   "metadata": {},
   "outputs": [
    {
     "data": {
      "text/plain": [
       "['e', 'h', 'l', 'l', 'o']"
      ]
     },
     "execution_count": 4,
     "metadata": {},
     "output_type": "execute_result"
    }
   ],
   "source": [
    "sorted('hello')"
   ]
  },
  {
   "cell_type": "markdown",
   "id": "ab3cfbf0-06d2-442e-aac2-fedf6b791c6c",
   "metadata": {},
   "source": [
    "**Slice**\n",
    "\n",
    "- we can cut into pieces\n",
    "- Similar to range concept\n",
    "- start , stop ,step here also"
   ]
  },
  {
   "cell_type": "code",
   "execution_count": 2,
   "id": "c040cc27-748c-4def-97e3-0ee790b8436d",
   "metadata": {},
   "outputs": [],
   "source": [
    "str1='hai how are you'"
   ]
  },
  {
   "cell_type": "code",
   "execution_count": null,
   "id": "c362c27e-4eca-47e2-bc3e-f1bbec3d08be",
   "metadata": {},
   "outputs": [],
   "source": [
    "-15 -14 -13 -12 -11 -10 -9 -8 -7 -6 -5 -4 -3 -2 -1\n",
    "  h   a   i       h   o  w     a  r  e     y  o  u\n",
    "  0   1   2  3    4   5  6  7  8  9 10 11 12 13  14"
   ]
  },
  {
   "cell_type": "code",
   "execution_count": null,
   "id": "e34392f7-a675-49f8-93f2-f8f097b2f97f",
   "metadata": {},
   "outputs": [],
   "source": [
    "str1[start:stop:step]"
   ]
  },
  {
   "cell_type": "markdown",
   "id": "98ccedea-7959-4898-9abd-bded86f45b40",
   "metadata": {},
   "source": [
    "$pattern-1$\n",
    "\n",
    "**str1[start:]**\n",
    "\n",
    "- By default start value = start only\n",
    "- Last value nothing mentioned automatically it will go till = last only\n",
    "- Step nothing mentioned means , It is a postive direction and increment by 1"
   ]
  },
  {
   "cell_type": "code",
   "execution_count": 13,
   "id": "4ff8cefd-51ff-4a50-85e6-32ee8e459802",
   "metadata": {},
   "outputs": [
    {
     "data": {
      "text/plain": [
       "'ow are you'"
      ]
     },
     "execution_count": 13,
     "metadata": {},
     "output_type": "execute_result"
    }
   ],
   "source": [
    "#-15 -14 -13 -12 -11 -10 -9 -8 -7 -6 -5 -4 -3 -2 -1\n",
    "#  h   a   i       h   o  w     a  r  e     y  o  u\n",
    "#  0   1   2  3    4   5  6  7  8  9 10 11 12 13  14\n",
    "str1='hai how are you'\n",
    "str1[5:]"
   ]
  },
  {
   "cell_type": "code",
   "execution_count": 7,
   "id": "8ca4b06d-e8c6-44ed-8e63-a46ec721427c",
   "metadata": {},
   "outputs": [
    {
     "data": {
      "text/plain": [
       "'e you'"
      ]
     },
     "execution_count": 7,
     "metadata": {},
     "output_type": "execute_result"
    }
   ],
   "source": [
    "str1[10:]"
   ]
  },
  {
   "cell_type": "code",
   "execution_count": 8,
   "id": "7b43d2fc-ac7d-432b-bfa8-85c53578ec4e",
   "metadata": {},
   "outputs": [
    {
     "data": {
      "text/plain": [
       "'e you'"
      ]
     },
     "execution_count": 8,
     "metadata": {},
     "output_type": "execute_result"
    }
   ],
   "source": [
    "str1[-5:]"
   ]
  },
  {
   "cell_type": "code",
   "execution_count": 9,
   "id": "c105314c-82ed-4e8d-9262-e7f9b1c167db",
   "metadata": {},
   "outputs": [
    {
     "data": {
      "text/plain": [
       "('ow are you', 'ow are you')"
      ]
     },
     "execution_count": 9,
     "metadata": {},
     "output_type": "execute_result"
    }
   ],
   "source": [
    "str1[5:],str1[-10:] # Both will give same answer"
   ]
  },
  {
   "cell_type": "code",
   "execution_count": 10,
   "id": "e0ba34e4-809f-4ba0-958d-f0a9d3634bf2",
   "metadata": {},
   "outputs": [
    {
     "data": {
      "text/plain": [
       "'u'"
      ]
     },
     "execution_count": 10,
     "metadata": {},
     "output_type": "execute_result"
    }
   ],
   "source": [
    "str1[14:]"
   ]
  },
  {
   "cell_type": "code",
   "execution_count": 11,
   "id": "7df715f4-e6bc-4b14-80e4-c4b0abbc76a3",
   "metadata": {},
   "outputs": [
    {
     "data": {
      "text/plain": [
       "'u'"
      ]
     },
     "execution_count": 11,
     "metadata": {},
     "output_type": "execute_result"
    }
   ],
   "source": [
    "str1[-1:]"
   ]
  },
  {
   "cell_type": "markdown",
   "id": "392386db-10d3-4b3f-b7cf-6339fda92353",
   "metadata": {},
   "source": [
    "$pattern-2$\n",
    "\n",
    "**str1[start:stop]**\n",
    "\n",
    "- start value means by default start only\n",
    "- step is not mentioned postive direction\n",
    "- last = stop-1"
   ]
  },
  {
   "cell_type": "code",
   "execution_count": 14,
   "id": "d36a37d3-b6f9-4216-8e81-d6acdcf0a4fd",
   "metadata": {},
   "outputs": [
    {
     "data": {
      "text/plain": [
       "'ow are yo'"
      ]
     },
     "execution_count": 14,
     "metadata": {},
     "output_type": "execute_result"
    }
   ],
   "source": [
    "#-15 -14 -13 -12 -11 -10 -9 -8 -7 -6 -5 -4 -3 -2 -1\n",
    "#  h   a   i       h   o  w     a  r  e     y  o  u\n",
    "#  0   1   2  3    4   5  6  7  8  9 10 11 12 13  14\n",
    "str1='hai how are you'\n",
    "str1[5:14]"
   ]
  },
  {
   "cell_type": "code",
   "execution_count": 20,
   "id": "83315815-ac31-42b1-b44c-13a1512402f0",
   "metadata": {},
   "outputs": [
    {
     "data": {
      "text/plain": [
       "'e yo'"
      ]
     },
     "execution_count": 20,
     "metadata": {},
     "output_type": "execute_result"
    }
   ],
   "source": [
    "str1[-5:14]\n",
    "# start=-5\n",
    "# lasr = 14-1=13   positive"
   ]
  },
  {
   "cell_type": "code",
   "execution_count": 17,
   "id": "6554645d-e908-4ca8-9af1-35d0751baf8c",
   "metadata": {},
   "outputs": [
    {
     "data": {
      "text/plain": [
       "'e yo'"
      ]
     },
     "execution_count": 17,
     "metadata": {},
     "output_type": "execute_result"
    }
   ],
   "source": [
    "str1[-5:14]"
   ]
  },
  {
   "cell_type": "code",
   "execution_count": 15,
   "id": "92de0e30-910b-4d2a-9c5d-7873e97b4488",
   "metadata": {},
   "outputs": [
    {
     "data": {
      "text/plain": [
       "''"
      ]
     },
     "execution_count": 15,
     "metadata": {},
     "output_type": "execute_result"
    }
   ],
   "source": [
    "str1[-5:-14] # Postive"
   ]
  },
  {
   "cell_type": "code",
   "execution_count": null,
   "id": "167e0daa-b932-47ce-a971-bcdce4854f55",
   "metadata": {},
   "outputs": [],
   "source": [
    "#-15 -14 -13 -12 -11 -10 -9 -8 -7 -6 -5 -4 -3 -2 -1\n",
    "#  h   a   i       h   o  w     a  r  e     y  o  u\n",
    "#  0   1   2  3    4   5  6  7  8  9 10 11 12 13  14\n",
    "str1='hai how are you' # step is mentioned or not mentioned\n",
    "str1[5:14], # Answer\n",
    "str1[-5:14], # Answer\n",
    "str1[5:-14], # No answer\n",
    "str1[-5:-14] # No answer"
   ]
  },
  {
   "cell_type": "code",
   "execution_count": 16,
   "id": "68896048-bb56-4fc0-8cd7-7bdf4bc41428",
   "metadata": {},
   "outputs": [
    {
     "data": {
      "text/plain": [
       "'ow are you'"
      ]
     },
     "execution_count": 16,
     "metadata": {},
     "output_type": "execute_result"
    }
   ],
   "source": [
    "str1[5:500]"
   ]
  },
  {
   "cell_type": "markdown",
   "id": "16d8b137-609d-468f-8131-90c9a436a0fa",
   "metadata": {},
   "source": [
    "**Truncation behaviour**\n",
    "  \n",
    "- when ever string range is limited, but we provided unlimited number\n",
    "- string will consider till the range we have\n",
    "- In the above example our range only 15 letters\n",
    "- we provided 500 , then 500 will truncate to till 15 letters only"
   ]
  },
  {
   "cell_type": "code",
   "execution_count": null,
   "id": "2248caf6-7ff0-429b-8356-01c3e7bfcc13",
   "metadata": {},
   "outputs": [],
   "source": [
    "str1[5:500]  # Answer\n",
    "str1[-500:500]  # Answer\n",
    "str1[-1:500]  # Answer\n",
    "str1[500:]  # no answer\n",
    "str1[-500:-100] # No answer"
   ]
  },
  {
   "cell_type": "markdown",
   "id": "885df21c-7f93-43b0-94ba-be30573df339",
   "metadata": {},
   "source": [
    "$pattern-3$ **str1[strat:stop:step]**\n",
    "\n",
    "- start value means start only\n",
    "- If step value positive\n",
    "     - last value= stop-1\n",
    "- If step value negative\n",
    "     - last value=stop+1"
   ]
  },
  {
   "cell_type": "code",
   "execution_count": 21,
   "id": "7755bff6-ae4f-4337-915a-02755cf281f6",
   "metadata": {},
   "outputs": [
    {
     "data": {
      "text/plain": [
       "15"
      ]
     },
     "execution_count": 21,
     "metadata": {},
     "output_type": "execute_result"
    }
   ],
   "source": [
    "len(str1)"
   ]
  },
  {
   "cell_type": "code",
   "execution_count": null,
   "id": "a40af644-2603-4a83-a8c0-391b394fabb7",
   "metadata": {},
   "outputs": [],
   "source": [
    "str2='yeshwanth'\n",
    "y  e  s  h  w  a  n  t  h\n",
    "0  1  2  3  4  5  6  7  8"
   ]
  },
  {
   "cell_type": "code",
   "execution_count": null,
   "id": "8513991a-aa1b-4b6d-bc93-18145a23235e",
   "metadata": {},
   "outputs": [],
   "source": [
    "#-15 -14 -13 -12 -11 -10 -9 -8 -7 -6 -5 -4 -3 -2 -1\n",
    "#  h   a   i       h   o  w     a  r  e     y  o  u\n",
    "#  0   1   2  3    4   5  6  7  8  9 10 11 12 13  14\n",
    "\n",
    "str1[2:13:2] # P\n",
    "str1[2:13:-2] # NP\n",
    "str1[2:-13:2] # NP (CHECK) str1[2:-13] str1[2:3:2] str1[2:2]\n",
    "str1[2:-13:-2] # NP (CHECK)\n",
    "str1[-2:13:2] # NP (CHECK)\n",
    "str1[-2:-13:2] # NP\n",
    "str1[-2:-13:-2] # P\n",
    "str1[13:2:2] # NP\n",
    "str1[-13:2:2] # NP (CHECK)\n",
    "str1[-13:-2:2] # P\n",
    "str1[-13:-2:-2] # NP\n",
    "str1[-13:2:-2] # NP(CHECK)"
   ]
  },
  {
   "cell_type": "code",
   "execution_count": null,
   "id": "1307c7b8-a3ae-4636-bc59-b99302796a96",
   "metadata": {},
   "outputs": [],
   "source": [
    "==================== PART-1=====================================\n",
    "- Intiaization\n",
    "\n",
    "- type\n",
    "\n",
    "- len\n",
    "\n",
    "- max\n",
    "\n",
    "- min\n",
    "\n",
    "- sorted\n",
    "\n",
    "- reveresed\n",
    "\n",
    "- in\n",
    "\n",
    "\n",
    "- for loop using in\n",
    "\n",
    "- index\n",
    "    \n",
    "- for loop using index\n",
    "    \n",
    "- mutable \n",
    "    \n",
    "- concatenation\n",
    "    \n",
    "- slice\n",
    "\n",
    "#================== PART-2=====================\n",
    "# Methods    "
   ]
  },
  {
   "cell_type": "code",
   "execution_count": 22,
   "id": "93d1d057-b80d-4457-85f4-cc2dc2c521a1",
   "metadata": {},
   "outputs": [
    {
     "data": {
      "text/plain": [
       "'uyeaw'"
      ]
     },
     "execution_count": 22,
     "metadata": {},
     "output_type": "execute_result"
    }
   ],
   "source": [
    "#-15 -14 -13 -12 -11 -10 -9 -8 -7 -6 -5 -4 -3 -2 -1\n",
    "#  h   a   i       h   o  w     a  r  e     y  o  u\n",
    "#  0   1   2  3    4   5  6  7  8  9 10 11 12 13  14\n",
    "\n",
    "str1[:5:-2]  # start value   -1"
   ]
  },
  {
   "cell_type": "code",
   "execution_count": null,
   "id": "1f1bfb62-6615-4b49-b367-81c63e7a688c",
   "metadata": {},
   "outputs": [],
   "source": [
    "str1[-13:2:2] # postive direction start value :0"
   ]
  },
  {
   "cell_type": "code",
   "execution_count": null,
   "id": "0f76004c-0f70-4c47-9818-c410ea2d86a4",
   "metadata": {},
   "outputs": [],
   "source": [
    "str1[:] # Complete string\n",
    "str1[::] # Complete string\n",
    "str1[<start>::-1] # Reveres start value=-1\n",
    "str1[<start>:5:-2]"
   ]
  },
  {
   "cell_type": "markdown",
   "id": "587a84c2-865c-49f3-8bc3-b85b08019ffb",
   "metadata": {},
   "source": [
    "**Methods**\n",
    "  \n",
    "- Strings lists tuple dictionary every data type has its own methods\n",
    "\n",
    "- We already seen that packages has different method\n",
    "\n",
    "- For example random package : randint method\n",
    "\n",
    "- Math package : sqrt\n",
    "\n",
    "- In the same way strings also have methods\n",
    "\n",
    "- In order to see methods for the packages\n",
    "\n",
    "    - we are importing the package\n",
    "\n",
    "    - we are applying dir\n",
    "\n",
    "- In the similar way in order to see the methods of string , we need to apply dir only"
   ]
  },
  {
   "cell_type": "code",
   "execution_count": 24,
   "id": "0fa6e840-0c9f-4f03-9a8a-d06cde4c4248",
   "metadata": {},
   "outputs": [
    {
     "data": {
      "text/plain": [
       "['__add__',\n",
       " '__class__',\n",
       " '__contains__',\n",
       " '__delattr__',\n",
       " '__dir__',\n",
       " '__doc__',\n",
       " '__eq__',\n",
       " '__format__',\n",
       " '__ge__',\n",
       " '__getattribute__',\n",
       " '__getitem__',\n",
       " '__getnewargs__',\n",
       " '__getstate__',\n",
       " '__gt__',\n",
       " '__hash__',\n",
       " '__init__',\n",
       " '__init_subclass__',\n",
       " '__iter__',\n",
       " '__le__',\n",
       " '__len__',\n",
       " '__lt__',\n",
       " '__mod__',\n",
       " '__mul__',\n",
       " '__ne__',\n",
       " '__new__',\n",
       " '__reduce__',\n",
       " '__reduce_ex__',\n",
       " '__repr__',\n",
       " '__rmod__',\n",
       " '__rmul__',\n",
       " '__setattr__',\n",
       " '__sizeof__',\n",
       " '__str__',\n",
       " '__subclasshook__',\n",
       " 'capitalize',\n",
       " 'casefold',\n",
       " 'center',\n",
       " 'count',\n",
       " 'encode',\n",
       " 'endswith',\n",
       " 'expandtabs',\n",
       " 'find',\n",
       " 'format',\n",
       " 'format_map',\n",
       " 'index',\n",
       " 'isalnum',\n",
       " 'isalpha',\n",
       " 'isascii',\n",
       " 'isdecimal',\n",
       " 'isdigit',\n",
       " 'isidentifier',\n",
       " 'islower',\n",
       " 'isnumeric',\n",
       " 'isprintable',\n",
       " 'isspace',\n",
       " 'istitle',\n",
       " 'isupper',\n",
       " 'join',\n",
       " 'ljust',\n",
       " 'lower',\n",
       " 'lstrip',\n",
       " 'maketrans',\n",
       " 'partition',\n",
       " 'removeprefix',\n",
       " 'removesuffix',\n",
       " 'replace',\n",
       " 'rfind',\n",
       " 'rindex',\n",
       " 'rjust',\n",
       " 'rpartition',\n",
       " 'rsplit',\n",
       " 'rstrip',\n",
       " 'split',\n",
       " 'splitlines',\n",
       " 'startswith',\n",
       " 'strip',\n",
       " 'swapcase',\n",
       " 'title',\n",
       " 'translate',\n",
       " 'upper',\n",
       " 'zfill']"
      ]
     },
     "execution_count": 24,
     "metadata": {},
     "output_type": "execute_result"
    }
   ],
   "source": [
    "dir('')\n",
    "# dir('hai')\n",
    "# str1='apple'\n",
    "# dir(str1)"
   ]
  },
  {
   "cell_type": "markdown",
   "id": "92bb6851-a472-45c3-a103-a84fc7d50096",
   "metadata": {},
   "source": [
    "- lower\n",
    "- upper\n",
    "- capitalize\n",
    "- Title\n",
    "- casefold\n",
    "- Center"
   ]
  },
  {
   "cell_type": "markdown",
   "id": "66c75d7d-c937-4bb4-8cf9-851a1cca0cc3",
   "metadata": {},
   "source": [
    "**upper**"
   ]
  },
  {
   "cell_type": "code",
   "execution_count": null,
   "id": "67f7dadd-4fbc-409e-9b07-6a70b8fd936d",
   "metadata": {},
   "outputs": [],
   "source": [
    "str1='hai how are you'"
   ]
  },
  {
   "cell_type": "code",
   "execution_count": 25,
   "id": "5df57f78-0482-49b3-bb8f-699980e4dc5b",
   "metadata": {},
   "outputs": [
    {
     "name": "stdout",
     "output_type": "stream",
     "text": [
      "Help on built-in function upper:\n",
      "\n",
      "upper() method of builtins.str instance\n",
      "    Return a copy of the string converted to uppercase.\n",
      "\n"
     ]
    }
   ],
   "source": [
    "type(str1)\n",
    "help(str1.upper)"
   ]
  },
  {
   "cell_type": "code",
   "execution_count": 26,
   "id": "54def085-9ca7-4d38-be60-ac4ded00bde0",
   "metadata": {},
   "outputs": [
    {
     "data": {
      "text/plain": [
       "'HAI HOW ARE YOU'"
      ]
     },
     "execution_count": 26,
     "metadata": {},
     "output_type": "execute_result"
    }
   ],
   "source": [
    "str1.upper()"
   ]
  },
  {
   "cell_type": "code",
   "execution_count": 30,
   "id": "3ddabc04-0153-4938-8254-aebf522929e2",
   "metadata": {},
   "outputs": [
    {
     "data": {
      "text/plain": [
       "'HAI HOW ARE YOU'"
      ]
     },
     "execution_count": 30,
     "metadata": {},
     "output_type": "execute_result"
    }
   ],
   "source": [
    "str1.upper()"
   ]
  },
  {
   "cell_type": "code",
   "execution_count": 28,
   "id": "a20fc7c7-030d-45c2-9410-d0d9e771ac5c",
   "metadata": {},
   "outputs": [
    {
     "data": {
      "text/plain": [
       "'HAI HOW ARE YOU'"
      ]
     },
     "execution_count": 28,
     "metadata": {},
     "output_type": "execute_result"
    }
   ],
   "source": [
    "str1='hai how are you'\n",
    "str1.upper()"
   ]
  },
  {
   "cell_type": "markdown",
   "id": "bd6ddecc-0e77-4d66-ac91-f56a2e1219c1",
   "metadata": {},
   "source": [
    "**lower**"
   ]
  },
  {
   "cell_type": "code",
   "execution_count": 31,
   "id": "ae9c0f10-22c0-47c7-8d83-b60cb679ec1c",
   "metadata": {},
   "outputs": [
    {
     "name": "stdout",
     "output_type": "stream",
     "text": [
      "Help on built-in function lower:\n",
      "\n",
      "lower() method of builtins.str instance\n",
      "    Return a copy of the string converted to lowercase.\n",
      "\n"
     ]
    }
   ],
   "source": [
    "help(str1.lower)"
   ]
  },
  {
   "cell_type": "code",
   "execution_count": 32,
   "id": "c7a2867f-e080-4374-9439-64bc1f875335",
   "metadata": {},
   "outputs": [
    {
     "data": {
      "text/plain": [
       "'hai how are you'"
      ]
     },
     "execution_count": 32,
     "metadata": {},
     "output_type": "execute_result"
    }
   ],
   "source": [
    "str1.lower()"
   ]
  },
  {
   "cell_type": "markdown",
   "id": "fc5608ee-ad66-4a99-be7d-d6a748876fae",
   "metadata": {},
   "source": [
    "**capitalize**"
   ]
  },
  {
   "cell_type": "code",
   "execution_count": 33,
   "id": "e327bef1-97c3-4cf6-9ded-eb618f863869",
   "metadata": {},
   "outputs": [
    {
     "data": {
      "text/plain": [
       "'Hai how are you'"
      ]
     },
     "execution_count": 33,
     "metadata": {},
     "output_type": "execute_result"
    }
   ],
   "source": [
    "str1.capitalize()"
   ]
  },
  {
   "cell_type": "markdown",
   "id": "2a317e78-87b6-403c-b45e-eac1aedae5a7",
   "metadata": {},
   "source": [
    "**casefold**"
   ]
  },
  {
   "cell_type": "code",
   "execution_count": 34,
   "id": "3f862236-a607-4dd5-80cd-b802f7c4d4c7",
   "metadata": {},
   "outputs": [
    {
     "data": {
      "text/plain": [
       "'hai how are you'"
      ]
     },
     "execution_count": 34,
     "metadata": {},
     "output_type": "execute_result"
    }
   ],
   "source": [
    "str1.casefold()"
   ]
  },
  {
   "cell_type": "markdown",
   "id": "0b38321d-ca57-419c-98b0-5e90f885c3a4",
   "metadata": {},
   "source": [
    "**Title**"
   ]
  },
  {
   "cell_type": "code",
   "execution_count": 35,
   "id": "65fccb20-426d-42b3-b36b-1e4778e5af8b",
   "metadata": {},
   "outputs": [
    {
     "data": {
      "text/plain": [
       "'Hai How Are You'"
      ]
     },
     "execution_count": 35,
     "metadata": {},
     "output_type": "execute_result"
    }
   ],
   "source": [
    "str1.title()"
   ]
  },
  {
   "cell_type": "code",
   "execution_count": null,
   "id": "6c43e46a-3ebc-42b3-bf7f-09cd6aad2174",
   "metadata": {},
   "outputs": [],
   "source": [
    "# str1='hai how are you'\n",
    "# o/p = 'Hai How Are You'\n",
    "# with out using any method\n",
    "# One more level : iterate each letter apply capitalize\n",
    "# scratch : ord char"
   ]
  },
  {
   "cell_type": "markdown",
   "id": "8477f37c-e5de-41a8-9ecc-343a46b30b6b",
   "metadata": {},
   "source": [
    "**center**"
   ]
  },
  {
   "cell_type": "code",
   "execution_count": 37,
   "id": "2c6ed44e-39bb-4156-a2d7-6fb597cec1c2",
   "metadata": {},
   "outputs": [
    {
     "data": {
      "text/plain": [
       "'  hai how are you   '"
      ]
     },
     "execution_count": 37,
     "metadata": {},
     "output_type": "execute_result"
    }
   ],
   "source": [
    "str1.center(20)"
   ]
  },
  {
   "cell_type": "code",
   "execution_count": 36,
   "id": "d46e80ab-c466-4ab6-9064-67c57aea3774",
   "metadata": {},
   "outputs": [
    {
     "data": {
      "text/plain": [
       "20"
      ]
     },
     "execution_count": 36,
     "metadata": {},
     "output_type": "execute_result"
    }
   ],
   "source": [
    "len(str1.center(20))"
   ]
  },
  {
   "cell_type": "markdown",
   "id": "49ee32fc-6bb0-47b4-98ca-02d225ca325c",
   "metadata": {},
   "source": [
    "- center has two arguments\n",
    "\n",
    "    - width\n",
    "\n",
    "    - fill char\n",
    "\n",
    "- original string alread : 15 lettters\n",
    "\n",
    "- we want to create a new string with 20 letters\n",
    "\n",
    "- Remaining 5 letters by default empty\n",
    "\n",
    "- we can fill with charcters also"
   ]
  },
  {
   "cell_type": "code",
   "execution_count": 38,
   "id": "3e259cb5-a8a2-40c1-803a-b9139f1afa08",
   "metadata": {},
   "outputs": [
    {
     "data": {
      "text/plain": [
       "'*****hai how are you******'"
      ]
     },
     "execution_count": 38,
     "metadata": {},
     "output_type": "execute_result"
    }
   ],
   "source": [
    "str1.center(26,'*')"
   ]
  },
  {
   "cell_type": "code",
   "execution_count": 39,
   "id": "ce578abb-abba-4ef0-8c80-85734b92ca67",
   "metadata": {},
   "outputs": [
    {
     "ename": "TypeError",
     "evalue": "center expected at least 1 argument, got 0",
     "output_type": "error",
     "traceback": [
      "\u001b[1;31m---------------------------------------------------------------------------\u001b[0m",
      "\u001b[1;31mTypeError\u001b[0m                                 Traceback (most recent call last)",
      "Cell \u001b[1;32mIn[39], line 1\u001b[0m\n\u001b[1;32m----> 1\u001b[0m str1\u001b[38;5;241m.\u001b[39mcenter()\n",
      "\u001b[1;31mTypeError\u001b[0m: center expected at least 1 argument, got 0"
     ]
    }
   ],
   "source": [
    "str1.center()"
   ]
  },
  {
   "cell_type": "markdown",
   "id": "a7c41d91-e0a0-4177-a986-228cacb09326",
   "metadata": {},
   "source": [
    "**count**"
   ]
  },
  {
   "cell_type": "code",
   "execution_count": null,
   "id": "7df7de59-7515-41d4-b731-0b0af6cd2d27",
   "metadata": {},
   "outputs": [],
   "source": [
    "str1='hai how are you'\n",
    "# How many 'a's are there"
   ]
  },
  {
   "cell_type": "code",
   "execution_count": null,
   "id": "90fdafe2-9a5f-401b-9c1c-dde6308a99ee",
   "metadata": {},
   "outputs": [],
   "source": [
    "count=0\n",
    "for i in str1:\n",
    "    if i=='a':\n",
    "        count=count=+1\n",
    "count=0        "
   ]
  },
  {
   "cell_type": "code",
   "execution_count": 12,
   "id": "a8aa8921-17e7-46e0-8416-d0ec0fc8577b",
   "metadata": {},
   "outputs": [
    {
     "data": {
      "text/plain": [
       "3"
      ]
     },
     "execution_count": 12,
     "metadata": {},
     "output_type": "execute_result"
    }
   ],
   "source": [
    "str='hai how are you'\n",
    "str1.count('a')"
   ]
  },
  {
   "cell_type": "code",
   "execution_count": 8,
   "id": "7f3e58c5-0ebf-4e8b-ac1f-bce4aa37e137",
   "metadata": {},
   "outputs": [
    {
     "data": {
      "text/plain": [
       "3"
      ]
     },
     "execution_count": 8,
     "metadata": {},
     "output_type": "execute_result"
    }
   ],
   "source": [
    "str1='hai hai hai'\n",
    "str1.count('a')"
   ]
  },
  {
   "cell_type": "code",
   "execution_count": null,
   "id": "bfc821e1-3770-45e5-8514-eeb354caedca",
   "metadata": {},
   "outputs": [],
   "source": [
    "- we want number of a from a specific index\n",
    "- we wnat of a between two indexes"
   ]
  },
  {
   "cell_type": "code",
   "execution_count": 9,
   "id": "1894c43b-79e2-4975-a0a5-e3cd55376a97",
   "metadata": {},
   "outputs": [
    {
     "data": {
      "text/plain": [
       "2"
      ]
     },
     "execution_count": 9,
     "metadata": {},
     "output_type": "execute_result"
    }
   ],
   "source": [
    "#h  a  i    h  a  i  h    a  i\n",
    "#0  1  2 3  4  5  6  7 8  9  10\n",
    "str1.count('a')\n",
    "str1.count('a',5)"
   ]
  },
  {
   "cell_type": "code",
   "execution_count": null,
   "id": "9e0473d1-4f65-4c99-82ba-9ce6aeb789c2",
   "metadata": {},
   "outputs": [],
   "source": [
    "str.count('a'3)\n",
    "# We are searching number of 'a' from index=3"
   ]
  },
  {
   "cell_type": "code",
   "execution_count": 10,
   "id": "151e8abe-6b91-4768-b9fa-ed15ebd32c9b",
   "metadata": {},
   "outputs": [
    {
     "data": {
      "text/plain": [
       "1"
      ]
     },
     "execution_count": 10,
     "metadata": {},
     "output_type": "execute_result"
    }
   ],
   "source": [
    "#h  a  i    h  a  i  h    a  i\n",
    "#0  1  2 3  4  5  6  7 8  9  10\n",
    "str1.count('a') # All the 'a'\n",
    "str1.count('a',5) # We are searching number of 'a' from index=3\n",
    "str1.count('a',4,8)# We are searching number of 'a' from index=8"
   ]
  },
  {
   "cell_type": "code",
   "execution_count": 11,
   "id": "6d7d96dc-4f64-4c22-98e9-fe3c2dd91d09",
   "metadata": {},
   "outputs": [],
   "source": [
    "# Reverse check Raro"
   ]
  },
  {
   "cell_type": "code",
   "execution_count": null,
   "id": "2a5df85b-1a98-4048-88e1-629019334414",
   "metadata": {},
   "outputs": [],
   "source": [
    "# In the interviews he ask with out using method\n",
    "# After you got job"
   ]
  },
  {
   "cell_type": "code",
   "execution_count": null,
   "id": "d205c6e2-6676-4ae7-94bf-e853ef601db0",
   "metadata": {},
   "outputs": [],
   "source": [
    "str1='ola ola ola'\n",
    "for i in str1:\n",
    "    if i=='ola':   # 'o'  =='ola'\n",
    "        print(i)"
   ]
  },
  {
   "cell_type": "markdown",
   "id": "59dbb639-3815-4390-8310-6bfbd84400db",
   "metadata": {},
   "source": [
    "**Window method**"
   ]
  },
  {
   "cell_type": "code",
   "execution_count": null,
   "id": "fdc1d8a8-d504-4538-bbd1-17039512717b",
   "metadata": {},
   "outputs": [],
   "source": [
    "str1[i:i+3]\n",
    "i=0   str[0:3]  === > ola\n",
    "i=1   str[1:4]  === > la\n",
    "i=2"
   ]
  },
  {
   "cell_type": "code",
   "execution_count": 14,
   "id": "e4004b8a-2b6a-4bbf-b9b0-db02bd853b1d",
   "metadata": {},
   "outputs": [
    {
     "name": "stdout",
     "output_type": "stream",
     "text": [
      "3\n"
     ]
    }
   ],
   "source": [
    "str='ola ola ola'\n",
    "count=0\n",
    "for i in range(len(str1)):\n",
    "    if str[i:i+3]=='ola':\n",
    "        count=count+1\n",
    "\n",
    "print(count)"
   ]
  },
  {
   "cell_type": "code",
   "execution_count": 17,
   "id": "b4e9ef56-6ea5-4f09-bbd8-bc19c64169c8",
   "metadata": {},
   "outputs": [
    {
     "data": {
      "text/plain": [
       "1"
      ]
     },
     "execution_count": 17,
     "metadata": {},
     "output_type": "execute_result"
    }
   ],
   "source": [
    "str1='ola ola ola'\n",
    "str1.count('ola ola ola')"
   ]
  },
  {
   "cell_type": "code",
   "execution_count": 20,
   "id": "504ca340-440f-4780-a137-756f2a11df2a",
   "metadata": {},
   "outputs": [
    {
     "data": {
      "text/plain": [
       "1"
      ]
     },
     "execution_count": 20,
     "metadata": {},
     "output_type": "execute_result"
    }
   ],
   "source": [
    "str1='ola ola ola'\n",
    "str1.count(str1)"
   ]
  },
  {
   "cell_type": "code",
   "execution_count": 21,
   "id": "fe0fc9de-9913-4d6e-ba54-7493e4581094",
   "metadata": {},
   "outputs": [
    {
     "data": {
      "text/plain": [
       "0"
      ]
     },
     "execution_count": 21,
     "metadata": {},
     "output_type": "execute_result"
    }
   ],
   "source": [
    "str.count('z')"
   ]
  },
  {
   "cell_type": "markdown",
   "id": "b84517a4-284d-476b-82a3-c0abf8c37d86",
   "metadata": {},
   "source": [
    "**Replace**"
   ]
  },
  {
   "cell_type": "code",
   "execution_count": null,
   "id": "249affcb-37bb-43fd-9cca-95b8ca5f83ce",
   "metadata": {},
   "outputs": [],
   "source": [
    "str1='Welcome'\n",
    "# I wnat to replace 'l' with 'l'"
   ]
  },
  {
   "cell_type": "code",
   "execution_count": 22,
   "id": "bacd382f-f4b5-4044-8cd6-3390e771c074",
   "metadata": {},
   "outputs": [
    {
     "data": {
      "text/plain": [
       "'welcome'"
      ]
     },
     "execution_count": 22,
     "metadata": {},
     "output_type": "execute_result"
    }
   ],
   "source": [
    "# we know that string are immutable\n",
    "# we cannot use index operations also\n",
    "# slice and concatenation\n",
    "# divide welcome : we   come\n",
    "# s1='we'\n",
    "# s2='come'\n",
    "# s1+'l'+s2\n",
    "\n",
    "str1='welcome'\n",
    "s1=str1[0:2]\n",
    "s2=str1[3:]\n",
    "s1+'l'+s2"
   ]
  },
  {
   "cell_type": "code",
   "execution_count": 28,
   "id": "64ef83f1-8043-4573-850c-a41d3eadaff5",
   "metadata": {},
   "outputs": [
    {
     "data": {
      "text/plain": [
       "'L'"
      ]
     },
     "execution_count": 28,
     "metadata": {},
     "output_type": "execute_result"
    }
   ],
   "source": [
    "chr(ord('l')-32)  # try this"
   ]
  },
  {
   "cell_type": "code",
   "execution_count": 26,
   "id": "65875132-0cde-440c-809e-d5cd45b5a147",
   "metadata": {},
   "outputs": [
    {
     "data": {
      "text/plain": [
       "'welcome'"
      ]
     },
     "execution_count": 26,
     "metadata": {},
     "output_type": "execute_result"
    }
   ],
   "source": [
    "str1= 'welcome'\n",
    "str1.replace('1','L')"
   ]
  },
  {
   "cell_type": "code",
   "execution_count": 25,
   "id": "f88e523d-6a7f-47d1-9a1f-d597f5ed1b0c",
   "metadata": {},
   "outputs": [
    {
     "data": {
      "text/plain": [
       "'welcome'"
      ]
     },
     "execution_count": 25,
     "metadata": {},
     "output_type": "execute_result"
    }
   ],
   "source": [
    "str1= 'welcome'\n",
    "str1.replace('1','L')"
   ]
  },
  {
   "cell_type": "code",
   "execution_count": null,
   "id": "8613d122-e4d6-457e-a189-8d6f53ef9ac4",
   "metadata": {},
   "outputs": [],
   "source": [
    "- by defult replace will chanf=ge all the occurances\n",
    "- count=-1 is responsible for that\n",
    "- which mwans we can procide some count also,which how many i want \n",
    "- give wellcome and change count=1 count=2 explare it"
   ]
  },
  {
   "cell_type": "code",
   "execution_count": 29,
   "id": "aae1f8ca-8262-40db-a521-2a66a43bbb8c",
   "metadata": {},
   "outputs": [
    {
     "data": {
      "text/plain": [
       "'welcome'"
      ]
     },
     "execution_count": 29,
     "metadata": {},
     "output_type": "execute_result"
    }
   ],
   "source": [
    "str1= 'welcome'\n",
    "str1.replace('1','L',1)"
   ]
  },
  {
   "cell_type": "code",
   "execution_count": 30,
   "id": "e0b73058-20be-41a2-b7d7-5f03051764cb",
   "metadata": {},
   "outputs": [
    {
     "data": {
      "text/plain": [
       "'welcome'"
      ]
     },
     "execution_count": 30,
     "metadata": {},
     "output_type": "execute_result"
    }
   ],
   "source": [
    "str1= 'welcome'\n",
    "str1.replace('1','L',2)"
   ]
  },
  {
   "cell_type": "code",
   "execution_count": 32,
   "id": "2ab95f27-ca87-4ff9-807a-8387b3f842ba",
   "metadata": {},
   "outputs": [
    {
     "data": {
      "text/plain": [
       "'resta$t'"
      ]
     },
     "execution_count": 32,
     "metadata": {},
     "output_type": "execute_result"
    }
   ],
   "source": [
    "# str1='restart'\n",
    "# i/p= 'resta$t'\n",
    "\n",
    "str1='restart'\n",
    "s1=str1[:1]\n",
    "s2=str1[1:]\n",
    "s3=s2.replace('r','$')\n",
    "s1+s3"
   ]
  },
  {
   "cell_type": "code",
   "execution_count": null,
   "id": "ee9b70c2-9c84-4db4-a640-4414ded81073",
   "metadata": {},
   "outputs": [],
   "source": [
    "Q. why is"
   ]
  },
  {
   "cell_type": "code",
   "execution_count": 33,
   "id": "63c4cb9e-ac95-43ba-a6ed-1f4dece590e1",
   "metadata": {},
   "outputs": [
    {
     "data": {
      "text/plain": [
       "'resta$t'"
      ]
     },
     "execution_count": 33,
     "metadata": {},
     "output_type": "execute_result"
    }
   ],
   "source": [
    "str1='restart'  #This case\n",
    "str1[::-1].replace('r','$',1)[::-1]"
   ]
  },
  {
   "cell_type": "markdown",
   "id": "1d92b474-8e34-42a3-b4ab-6175e59b3320",
   "metadata": {},
   "source": [
    "**index-find**"
   ]
  },
  {
   "cell_type": "code",
   "execution_count": null,
   "id": "a1317ea8-5729-49af-b0bc-653c49207d62",
   "metadata": {},
   "outputs": [],
   "source": [
    "- upper\n",
    "\n",
    "- lower\n",
    "\n",
    "- casefold\n",
    "\n",
    "- title\n",
    "\n",
    "- capitalize\n",
    "\n",
    "- count\n",
    "\n",
    "- replace\n",
    "\n",
    "- index-find\n",
    "\n",
    "- split\n",
    "\n",
    "- strip\n",
    "\n",
    "- statswith"
   ]
  },
  {
   "cell_type": "code",
   "execution_count": 34,
   "id": "f8c90090-147f-44bb-a4b9-5f227e01e6c4",
   "metadata": {},
   "outputs": [
    {
     "data": {
      "text/plain": [
       "['__add__',\n",
       " '__class__',\n",
       " '__contains__',\n",
       " '__delattr__',\n",
       " '__dir__',\n",
       " '__doc__',\n",
       " '__eq__',\n",
       " '__format__',\n",
       " '__ge__',\n",
       " '__getattribute__',\n",
       " '__getitem__',\n",
       " '__getnewargs__',\n",
       " '__getstate__',\n",
       " '__gt__',\n",
       " '__hash__',\n",
       " '__init__',\n",
       " '__init_subclass__',\n",
       " '__iter__',\n",
       " '__le__',\n",
       " '__len__',\n",
       " '__lt__',\n",
       " '__mod__',\n",
       " '__mul__',\n",
       " '__ne__',\n",
       " '__new__',\n",
       " '__reduce__',\n",
       " '__reduce_ex__',\n",
       " '__repr__',\n",
       " '__rmod__',\n",
       " '__rmul__',\n",
       " '__setattr__',\n",
       " '__sizeof__',\n",
       " '__str__',\n",
       " '__subclasshook__',\n",
       " 'capitalize',\n",
       " 'casefold',\n",
       " 'center',\n",
       " 'count',\n",
       " 'encode',\n",
       " 'endswith',\n",
       " 'expandtabs',\n",
       " 'find',\n",
       " 'format',\n",
       " 'format_map',\n",
       " 'index',\n",
       " 'isalnum',\n",
       " 'isalpha',\n",
       " 'isascii',\n",
       " 'isdecimal',\n",
       " 'isdigit',\n",
       " 'isidentifier',\n",
       " 'islower',\n",
       " 'isnumeric',\n",
       " 'isprintable',\n",
       " 'isspace',\n",
       " 'istitle',\n",
       " 'isupper',\n",
       " 'join',\n",
       " 'ljust',\n",
       " 'lower',\n",
       " 'lstrip',\n",
       " 'maketrans',\n",
       " 'partition',\n",
       " 'removeprefix',\n",
       " 'removesuffix',\n",
       " 'replace',\n",
       " 'rfind',\n",
       " 'rindex',\n",
       " 'rjust',\n",
       " 'rpartition',\n",
       " 'rsplit',\n",
       " 'rstrip',\n",
       " 'split',\n",
       " 'splitlines',\n",
       " 'startswith',\n",
       " 'strip',\n",
       " 'swapcase',\n",
       " 'title',\n",
       " 'translate',\n",
       " 'upper',\n",
       " 'zfill']"
      ]
     },
     "execution_count": 34,
     "metadata": {},
     "output_type": "execute_result"
    }
   ],
   "source": [
    "dir('')"
   ]
  },
  {
   "cell_type": "code",
   "execution_count": null,
   "id": "036721bc-4b22-4e0a-bcd2-a72574ee9023",
   "metadata": {},
   "outputs": [],
   "source": [
    " 'isalnum',\n",
    " 'isalpha',\n",
    " 'isascii',\n",
    " 'isdecimal',\n",
    " 'isdigit',\n",
    " 'isidentifier',\n",
    " 'islower',\n",
    " 'isnumeric',\n",
    " 'isprintable',\n",
    " 'isspace',\n",
    " 'istitle',\n",
    " 'isupper',"
   ]
  },
  {
   "cell_type": "code",
   "execution_count": 35,
   "id": "717f298b-2ca9-4f6e-a351-7a5e89475559",
   "metadata": {},
   "outputs": [
    {
     "data": {
      "text/plain": [
       "True"
      ]
     },
     "execution_count": 35,
     "metadata": {},
     "output_type": "execute_result"
    }
   ],
   "source": [
    "str1='HELLO'\n",
    "str1.isupper()"
   ]
  },
  {
   "cell_type": "code",
   "execution_count": 1,
   "id": "32168ad8-6f53-47da-847f-ff4615305c87",
   "metadata": {},
   "outputs": [
    {
     "data": {
      "text/plain": [
       "True"
      ]
     },
     "execution_count": 1,
     "metadata": {},
     "output_type": "execute_result"
    }
   ],
   "source": [
    "str1='Hello'\n",
    "str1.istitle()"
   ]
  },
  {
   "cell_type": "code",
   "execution_count": 2,
   "id": "5489bc84-2a37-411d-953f-b8de4e6b7628",
   "metadata": {},
   "outputs": [
    {
     "data": {
      "text/plain": [
       "False"
      ]
     },
     "execution_count": 2,
     "metadata": {},
     "output_type": "execute_result"
    }
   ],
   "source": [
    "str1='HELLO'\n",
    "str1.istitle()"
   ]
  },
  {
   "cell_type": "markdown",
   "id": "8230fea9-41d4-4036-8ffa-c8c8b3b491bf",
   "metadata": {},
   "source": [
    "**index-find**\n",
    "\n",
    "- index says that it will give the ing=dex of any letter string\n",
    "\n",
    "- we already seen about count: count will give how many letters are then\n",
    "\n",
    "          - at what index you to count\n",
    "\n",
    "          - between indexes also we can count the letter\n",
    "\n",
    "- index meaning it will provide the index\n",
    "\n",
    "- imagine that there same letters repeated\n",
    "\n",
    "- how can we find the next index"
   ]
  },
  {
   "cell_type": "code",
   "execution_count": 3,
   "id": "7851901b-c34f-4a7f-9f7b-8bf53b864b02",
   "metadata": {},
   "outputs": [
    {
     "data": {
      "text/plain": [
       "1"
      ]
     },
     "execution_count": 3,
     "metadata": {},
     "output_type": "execute_result"
    }
   ],
   "source": [
    "#h  a  i    h  a  i  h    a  i\n",
    "#0  1  2 3  4  5  6  7 8  9  10\n",
    "str1='hai hai hai'\n",
    "str1.index('a')\n",
    "# Return the lowest index in s where substring sub is found,"
   ]
  },
  {
   "cell_type": "code",
   "execution_count": 3,
   "id": "f2b091f2-2e3f-45c3-881b-dd90101d592b",
   "metadata": {},
   "outputs": [
    {
     "data": {
      "text/plain": [
       "5"
      ]
     },
     "execution_count": 3,
     "metadata": {},
     "output_type": "execute_result"
    }
   ],
   "source": [
    "# i want to know 'a' index after 3rd index\n",
    "str1='hai hai hai'\n",
    "str1.index('a',3)"
   ]
  },
  {
   "cell_type": "code",
   "execution_count": 4,
   "id": "4e81e5a9-4d04-47d2-88e4-49890e607c82",
   "metadata": {},
   "outputs": [
    {
     "data": {
      "text/plain": [
       "5"
      ]
     },
     "execution_count": 4,
     "metadata": {},
     "output_type": "execute_result"
    }
   ],
   "source": [
    "# i want to know 'a' index after 3rd and 7th index\n",
    "#h  a  i    h  a  i    h    a   i\n",
    "#0  1  2 3  4  5  6  7 8  9 10\n",
    "str1='hai hai hai'\n",
    "str1.index('a',3,7)"
   ]
  },
  {
   "cell_type": "code",
   "execution_count": 5,
   "id": "6fe54946-4ec6-49fe-895e-445b40826af1",
   "metadata": {},
   "outputs": [
    {
     "data": {
      "text/plain": [
       "5"
      ]
     },
     "execution_count": 5,
     "metadata": {},
     "output_type": "execute_result"
    }
   ],
   "source": [
    "# i always a return a lowest index\n",
    "str1='hai hai hai'  \n",
    "str1.index('a')       # among all the index the lowest index is '1'\n",
    "\n",
    "str1='hai hai hai'\n",
    "str1.index('a',3)     # after 3rd index the lowest index is '5'\n",
    "\n",
    "str1='hai hai hai'\n",
    "str1.index('a',3,7)   # between 3-7 index lowest index is '5' only"
   ]
  },
  {
   "cell_type": "code",
   "execution_count": 6,
   "id": "b610edb8-5aa6-49d4-a0b2-5ac607703b45",
   "metadata": {},
   "outputs": [
    {
     "data": {
      "text/plain": [
       "9"
      ]
     },
     "execution_count": 6,
     "metadata": {},
     "output_type": "execute_result"
    }
   ],
   "source": [
    "str1='hai hai hai'\n",
    "str1.index('a',-3,-1)       # among all the indexes the lowset index is '1'"
   ]
  },
  {
   "cell_type": "code",
   "execution_count": null,
   "id": "be3c4086-f8ce-442b-968d-c2109c02ed7c",
   "metadata": {},
   "outputs": [],
   "source": [
    "#h  a  i    h  a  i  h    a  i\n",
    "#0  1  2 3  4  5  6  7 8  9  10\n"
   ]
  },
  {
   "cell_type": "code",
   "execution_count": 7,
   "id": "dbf00fc7-6426-4c25-b967-8ce9d205e223",
   "metadata": {},
   "outputs": [
    {
     "ename": "TypeError",
     "evalue": "index() takes at most 3 arguments (4 given)",
     "output_type": "error",
     "traceback": [
      "\u001b[1;31m---------------------------------------------------------------------------\u001b[0m",
      "\u001b[1;31mTypeError\u001b[0m                                 Traceback (most recent call last)",
      "Cell \u001b[1;32mIn[7], line 2\u001b[0m\n\u001b[0;32m      1\u001b[0m \u001b[38;5;28mstr\u001b[39m\u001b[38;5;241m=\u001b[39m\u001b[38;5;124m'\u001b[39m\u001b[38;5;124mhai hai hai\u001b[39m\u001b[38;5;124m'\u001b[39m\n\u001b[1;32m----> 2\u001b[0m \u001b[38;5;28mprint\u001b[39m(\u001b[38;5;28mstr\u001b[39m\u001b[38;5;241m.\u001b[39mindex(\u001b[38;5;124m'\u001b[39m\u001b[38;5;124ma\u001b[39m\u001b[38;5;124m'\u001b[39m,\u001b[38;5;241m-\u001b[39m\u001b[38;5;241m9\u001b[39m,\u001b[38;5;241m-\u001b[39m\u001b[38;5;241m5\u001b[39m,\u001b[38;5;241m-\u001b[39m\u001b[38;5;241m6\u001b[39m))\n",
      "\u001b[1;31mTypeError\u001b[0m: index() takes at most 3 arguments (4 given)"
     ]
    }
   ],
   "source": [
    "str='hai hai hai'\n",
    "print(str.index('a',-9,-5,-6))\n",
    "# possitive direction\n",
    "# start= start = -9\n",
    "# last = end-1 = 6-1=5\n",
    "# -9 -8 -7\n",
    "# i h\n",
    "# there is no 'a'"
   ]
  },
  {
   "cell_type": "code",
   "execution_count": null,
   "id": "db1048ba-f163-47f6-b493-5c6626c62e0d",
   "metadata": {},
   "outputs": [],
   "source": [
    "str1='hai hai hai'\n",
    "print(str1.count('a'))\n",
    "print(str1.count('a',3))\n",
    "print(str1.count('a',3,7))"
   ]
  },
  {
   "cell_type": "code",
   "execution_count": 8,
   "id": "b89f747c-4d29-4a68-a775-af8037670b1b",
   "metadata": {},
   "outputs": [
    {
     "name": "stdout",
     "output_type": "stream",
     "text": [
      "3\n",
      "2\n",
      "1\n"
     ]
    }
   ],
   "source": [
    "# -11 -10 -9 -8 -7 -6 -5 -4 -3 -2 -1\n",
    "# h    a   i     h  a  i     h  a  i\n",
    "# 0    1   2  3  4  5  6  7  8 9 10\n",
    "str1= 'hai hai hai'\n",
    "print(str1.count('a'))\n",
    "print(str1.count('a',3))\n",
    "print(str1.count('a',3,7))"
   ]
  },
  {
   "cell_type": "code",
   "execution_count": 9,
   "id": "4c774bbb-1ed7-404a-bf1a-fca64bd7b4ad",
   "metadata": {},
   "outputs": [
    {
     "name": "stdout",
     "output_type": "stream",
     "text": [
      "1\n",
      "5\n",
      "5\n"
     ]
    }
   ],
   "source": [
    "# -11 -10 -9 -8 -7 -6 -5 -4 -3 -2 -1\n",
    "# h    a   i     h  a  i     h  a  i\n",
    "# 0    1   2  3  4  5  6  7  8 9 10\n",
    "str1= 'hai hai hai'\n",
    "print(str1.index('a'))\n",
    "print(str1.index('a',3))\n",
    "print(str1.index('a',3,7))"
   ]
  },
  {
   "cell_type": "code",
   "execution_count": null,
   "id": "656dd85f-5cd5-4708-8f0c-8ac8143b3d1d",
   "metadata": {},
   "outputs": [],
   "source": [
    "Sir, yesterday assignment methods are string methods right?\n",
    "Why those are not visible in string package? Those are visible with dir('') not\n",
    "import string\n",
    "name='praveen'\n",
    "dir(name)\n",
    "dir(string)"
   ]
  },
  {
   "cell_type": "code",
   "execution_count": 10,
   "id": "5239b9c4-3c67-4a72-9ec4-63c29bf62fb4",
   "metadata": {},
   "outputs": [
    {
     "name": "stdout",
     "output_type": "stream",
     "text": [
      "1\n",
      "5\n",
      "9\n"
     ]
    }
   ],
   "source": [
    "str1='hai hai hai'\n",
    "# I want to know all the indexes of 'a'\n",
    "for i in range(len(str1)):\n",
    "    if str1[i]=='a':\n",
    "        print(i)"
   ]
  },
  {
   "cell_type": "code",
   "execution_count": 11,
   "id": "96333576-1c12-4708-a9eb-a768589fb3a6",
   "metadata": {},
   "outputs": [
    {
     "name": "stdout",
     "output_type": "stream",
     "text": [
      "1\n",
      "5\n",
      "9\n",
      "13\n"
     ]
    }
   ],
   "source": [
    "# h    a    i    h  a  i    h  a  i  hai\n",
    "# 0    1    2  3 4  5  6 7   8 9 10\n",
    "str1='hai hai hai hai'\n",
    "i1=str1.index('a')\n",
    "print(i1)\n",
    "i2=str1.index('a',i1+1)\n",
    "print(i2)\n",
    "i3=str1.index('a',i2+1)\n",
    "print(i3)\n",
    "i4=str1.index('a',i3+1)\n",
    "print(i4)"
   ]
  },
  {
   "cell_type": "code",
   "execution_count": 12,
   "id": "a4de4bed-27f0-446c-bfdb-9b859fdb51c1",
   "metadata": {},
   "outputs": [
    {
     "name": "stdout",
     "output_type": "stream",
     "text": [
      "1\n",
      "5\n",
      "9\n",
      "13\n"
     ]
    },
    {
     "ename": "ValueError",
     "evalue": "substring not found",
     "output_type": "error",
     "traceback": [
      "\u001b[1;31m---------------------------------------------------------------------------\u001b[0m",
      "\u001b[1;31mValueError\u001b[0m                                Traceback (most recent call last)",
      "Cell \u001b[1;32mIn[12], line 13\u001b[0m\n\u001b[0;32m     11\u001b[0m i4\u001b[38;5;241m=\u001b[39mstr1\u001b[38;5;241m.\u001b[39mindex(\u001b[38;5;124m'\u001b[39m\u001b[38;5;124ma\u001b[39m\u001b[38;5;124m'\u001b[39m,i3\u001b[38;5;241m+\u001b[39m\u001b[38;5;241m1\u001b[39m)\n\u001b[0;32m     12\u001b[0m \u001b[38;5;28mprint\u001b[39m(i4)\n\u001b[1;32m---> 13\u001b[0m i5\u001b[38;5;241m=\u001b[39m str1\u001b[38;5;241m.\u001b[39mindex(\u001b[38;5;124m'\u001b[39m\u001b[38;5;124ma\u001b[39m\u001b[38;5;124m'\u001b[39m,i4\u001b[38;5;241m+\u001b[39m\u001b[38;5;241m1\u001b[39m)\n\u001b[0;32m     14\u001b[0m \u001b[38;5;28mprint\u001b[39m(i5)\n",
      "\u001b[1;31mValueError\u001b[0m: substring not found"
     ]
    }
   ],
   "source": [
    "# Home work implement above logic to get all the indexes\n",
    "# h     a     i         h  a  i       h  a   i    hai\n",
    "# 0     1     2  3      4  5  6  7     8  9  10\n",
    "str1='hai hai hai hai'\n",
    "i1=str.index('a')\n",
    "print(i1)  # 1\n",
    "i2=str1.index('a',i1+1)\n",
    "print(i2)  # 5\n",
    "i3=str1.index('a',i2+1)\n",
    "print(i3)\n",
    "i4=str1.index('a',i3+1)\n",
    "print(i4)\n",
    "i5= str1.index('a',i4+1)\n",
    "print(i5)"
   ]
  },
  {
   "cell_type": "markdown",
   "id": "f4a49691-7873-4a4f-ad1f-15ec9c35cdb2",
   "metadata": {},
   "source": [
    "**find**"
   ]
  },
  {
   "cell_type": "code",
   "execution_count": 13,
   "id": "189880fb-89fd-4281-80d9-f3e4d228f5f8",
   "metadata": {},
   "outputs": [
    {
     "name": "stdout",
     "output_type": "stream",
     "text": [
      "1\n",
      "5\n",
      "9\n",
      "13\n",
      "-1\n"
     ]
    }
   ],
   "source": [
    "str1='hai hai hai hai'\n",
    "i1=str1.find('a')\n",
    "print(i1) # 1\n",
    "i2= str1.find('a',i1+1)\n",
    "print(i2) # 5\n",
    "i3= str1.find('a',i2+1)\n",
    "print(i3)\n",
    "i4= str1.find('a',i3+1)\n",
    "print(i4)\n",
    "i5= str1.find('a',i4+1)\n",
    "print(i5)"
   ]
  },
  {
   "cell_type": "code",
   "execution_count": null,
   "id": "66ef9c77-564d-40fc-8cf1-c369290a2dad",
   "metadata": {},
   "outputs": [],
   "source": [
    "str1.index()  # Raiser ValueError when the sucstring is not found\n",
    "str1.find()  # Return -1 on failure."
   ]
  },
  {
   "cell_type": "code",
   "execution_count": 2,
   "id": "2b7e304d-c968-4b16-a3f5-ba9e31f46534",
   "metadata": {},
   "outputs": [
    {
     "data": {
      "text/plain": [
       "0"
      ]
     },
     "execution_count": 2,
     "metadata": {},
     "output_type": "execute_result"
    }
   ],
   "source": [
    "str1='hai hai hai'\n",
    "str1.count('z')"
   ]
  },
  {
   "cell_type": "code",
   "execution_count": 19,
   "id": "98df2625-0495-4c0d-a1c7-f5803406cbae",
   "metadata": {},
   "outputs": [
    {
     "data": {
      "text/plain": [
       "'hai hai hai'"
      ]
     },
     "execution_count": 19,
     "metadata": {},
     "output_type": "execute_result"
    }
   ],
   "source": [
    "str1='hai hai hai'\n",
    "str1.replace('z','z')"
   ]
  },
  {
   "cell_type": "markdown",
   "id": "118c997c-3a61-49b9-aeed-500b7464b43d",
   "metadata": {},
   "source": [
    "- if substring not found\n",
    "- count method will give zero\n",
    "- replace method will give original string\n",
    "- index will give **sub string not found error**\n",
    "- find will give - 1"
   ]
  },
  {
   "cell_type": "code",
   "execution_count": null,
   "id": "102ef08a-95f2-47c0-9f6a-e425fed2e0ec",
   "metadata": {},
   "outputs": [],
   "source": [
    "str='omkar.nalgoni@congnixant.com'\n",
    "# First name= omkar\n",
    "# second name= nallagoni\n",
    "# company nmae= cognizant\n",
    "str2='virat.kholi@rcb.com'\n",
    "str3='virat.sharma@mi.com'\n",
    "str4='a.b@c.com'\n",
    "\n",
    "# idea : find the triggers\n",
    "# For first name  .\n",
    "# second name    .  and @\n",
    "# company name    @ and second .\n",
    "# i1= first dot index\n",
    "# i2= @ index\n",
    "# i3= second index"
   ]
  },
  {
   "cell_type": "code",
   "execution_count": 1,
   "id": "d9dc2551-294d-4106-b002-263f6f6529fe",
   "metadata": {},
   "outputs": [
    {
     "data": {
      "text/plain": [
       "('omkar', 'nallagoni', 'cognizant')"
      ]
     },
     "execution_count": 1,
     "metadata": {},
     "output_type": "execute_result"
    }
   ],
   "source": [
    "str1='omkar.nallagoni@cognizant.com'\n",
    "i1=str1.index('.')\n",
    "i2=str1.index('@')\n",
    "i3=str1.index('.',i1+1)\n",
    "first_name=str1[:i1]\n",
    "second_name=str1[i1+1:i2]\n",
    "cname=str1[i2+1:i3]\n",
    "first_name,second_name,cname"
   ]
  },
  {
   "cell_type": "markdown",
   "id": "a6d8ef84-0804-43b3-a1eb-334ac0d09cbb",
   "metadata": {},
   "source": [
    "- count\n",
    "\n",
    "- replace\n",
    "\n",
    "- find\n",
    "\n",
    "- index\n",
    "\n",
    "- Upper/lower/casefold\n",
    "\n",
    "- Capitalize/Title\n",
    "\n",
    "- Center\n",
    "\n",
    "- Count\n",
    "\n",
    "- Replace\n",
    "\n",
    "- index/find\n",
    "\n",
    "- start with is"
   ]
  },
  {
   "cell_type": "code",
   "execution_count": null,
   "id": "2f57ca98-11d8-4186-9d4f-0d0caaa3f2ed",
   "metadata": {},
   "outputs": [],
   "source": [
    "- split\n",
    "- strip/lstrip/rstrip\n",
    "- startswith/endswith"
   ]
  },
  {
   "cell_type": "code",
   "execution_count": null,
   "id": "c82442ba-edf3-4a7c-abe1-2c7d71b0097a",
   "metadata": {},
   "outputs": [],
   "source": []
  }
 ],
 "metadata": {
  "kernelspec": {
   "display_name": "Python 3 (ipykernel)",
   "language": "python",
   "name": "python3"
  },
  "language_info": {
   "codemirror_mode": {
    "name": "ipython",
    "version": 3
   },
   "file_extension": ".py",
   "mimetype": "text/x-python",
   "name": "python",
   "nbconvert_exporter": "python",
   "pygments_lexer": "ipython3",
   "version": "3.11.7"
  }
 },
 "nbformat": 4,
 "nbformat_minor": 5
}
