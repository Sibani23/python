{
 "cells": [
  {
   "cell_type": "markdown",
   "id": "4523d27c-315b-4edd-8ec8-7192ab63f581",
   "metadata": {},
   "source": [
    "**CONDITIONAL STATEMENT**"
   ]
  },
  {
   "cell_type": "markdown",
   "id": "04046e6f-9646-4b45-909e-8c26d7101bf1",
   "metadata": {},
   "source": [
    "- conditional statements means we want to run the code lines based on condition \n",
    "- if rain comes i will not to go school other wise i will go to movie\n",
    "- rain is there will efect one process\n",
    "- rain is not there will efect another process\n",
    "- if statement\n",
    "- elif statement\n",
    "- else statement"
   ]
  },
  {
   "cell_type": "markdown",
   "id": "f2d7b320-8a2d-43ff-83a1-bc83cc81fd1c",
   "metadata": {},
   "source": [
    "**if ststement**"
   ]
  },
  {
   "cell_type": "code",
   "execution_count": null,
   "id": "34446ce9-5361-4535-81c3-93eb616cad9e",
   "metadata": {},
   "outputs": [],
   "source": [
    "# syntax\n",
    "if <condition>:\n",
    "   <codeline1>\n",
    "   <codeline2>"
   ]
  },
  {
   "cell_type": "markdown",
   "id": "067b9df0-a147-4e7a-b7ef-792bce2d1d3e",
   "metadata": {},
   "source": [
    "- whenever any line start with keyword(green) at the end of the line we\n",
    "\n",
    "- whenwver we have a colon**(:)** the next line stsrt with some gap\n",
    "\n",
    "- and this gap is called as indentation\n",
    "\n",
    "- how many lines we maintating gap(indentating) that all are under one area"
   ]
  },
  {
   "cell_type": "markdown",
   "id": "1532e15a-a2dd-4f3c-9512-0744a65b9395",
   "metadata": {},
   "source": [
    "- if is a conditional statement , it will check the condition is true or False\n",
    "\n",
    "- if that condition will true then only will enter inside the if area\n",
    "    \n",
    "- and execute those code lines\n",
    "    \n",
    "- if that condition will False,then it will not either inside the if area \n",
    "\n",
    "- and it will not execute those code lines"
   ]
  },
  {
   "cell_type": "code",
   "execution_count": 2,
   "id": "52c0146d-e835-4227-9f44-491272693a9c",
   "metadata": {},
   "outputs": [
    {
     "data": {
      "text/plain": [
       "True"
      ]
     },
     "execution_count": 2,
     "metadata": {},
     "output_type": "execute_result"
    }
   ],
   "source": [
    "100>10"
   ]
  },
  {
   "cell_type": "code",
   "execution_count": 5,
   "id": "8eff6a21-16c7-4f03-aa90-563820906596",
   "metadata": {},
   "outputs": [
    {
     "name": "stdout",
     "output_type": "stream",
     "text": [
      "hello\n"
     ]
    }
   ],
   "source": [
    "if 100>10:                # true:\n",
    "   print(\"hello\")"
   ]
  },
  {
   "cell_type": "markdown",
   "id": "d050784e-dcba-471c-8688-eb8695a77392",
   "metadata": {},
   "source": [
    "**mistake-1**\n",
    "- indentation"
   ]
  },
  {
   "cell_type": "code",
   "execution_count": 3,
   "id": "cd5109e3-075b-4713-841a-c44e3ecbdaea",
   "metadata": {},
   "outputs": [
    {
     "ename": "IndentationError",
     "evalue": "expected an indented block after 'if' statement on line 1 (2678951947.py, line 2)",
     "output_type": "error",
     "traceback": [
      "\u001b[1;36m  Cell \u001b[1;32mIn[3], line 2\u001b[1;36m\u001b[0m\n\u001b[1;33m    print(\"hello\")\u001b[0m\n\u001b[1;37m    ^\u001b[0m\n\u001b[1;31mIndentationError\u001b[0m\u001b[1;31m:\u001b[0m expected an indented block after 'if' statement on line 1\n"
     ]
    }
   ],
   "source": [
    "if 100>10:                \n",
    "print(\"hello\")"
   ]
  },
  {
   "cell_type": "code",
   "execution_count": 4,
   "id": "248fb371-798e-4f1f-8ee8-630384603cf1",
   "metadata": {},
   "outputs": [
    {
     "name": "stdout",
     "output_type": "stream",
     "text": [
      "hello\n"
     ]
    }
   ],
   "source": [
    "if 100>10:\n",
    "    print(\"hello\")\n",
    "# indentation  requires 4 spaces   "
   ]
  },
  {
   "cell_type": "code",
   "execution_count": 5,
   "id": "0339c39e-3d12-42dc-a8bc-1a6c9a3de259",
   "metadata": {},
   "outputs": [
    {
     "name": "stdin",
     "output_type": "stream",
     "text": [
      " a\n"
     ]
    },
    {
     "data": {
      "text/plain": [
       "'a'"
      ]
     },
     "execution_count": 5,
     "metadata": {},
     "output_type": "execute_result"
    }
   ],
   "source": [
    "input()"
   ]
  },
  {
   "cell_type": "markdown",
   "id": "a2d3db76-5f66-47f2-a48e-4f2ea89bb411",
   "metadata": {},
   "source": [
    "**mistake-2**\n",
    "  \n",
    "- colon(:)"
   ]
  },
  {
   "cell_type": "code",
   "execution_count": 6,
   "id": "026cfb22-cd5a-4486-95c8-88dd1d4e1c47",
   "metadata": {},
   "outputs": [
    {
     "ename": "SyntaxError",
     "evalue": "expected ':' (4173596931.py, line 1)",
     "output_type": "error",
     "traceback": [
      "\u001b[1;36m  Cell \u001b[1;32mIn[6], line 1\u001b[1;36m\u001b[0m\n\u001b[1;33m    if 100>10\u001b[0m\n\u001b[1;37m             ^\u001b[0m\n\u001b[1;31mSyntaxError\u001b[0m\u001b[1;31m:\u001b[0m expected ':'\n"
     ]
    }
   ],
   "source": [
    "if 100>10\n",
    "    print(\"hello\")"
   ]
  },
  {
   "cell_type": "markdown",
   "id": "86ab3b53-5c33-4cca-8bd9-c1b300d96f13",
   "metadata": {},
   "source": [
    "**mistake-3**\n",
    "- if iwill expect a condition"
   ]
  },
  {
   "cell_type": "code",
   "execution_count": 7,
   "id": "a60a4958-10b8-42be-a365-bf41431a8011",
   "metadata": {},
   "outputs": [
    {
     "ename": "SyntaxError",
     "evalue": "invalid syntax (1063708972.py, line 1)",
     "output_type": "error",
     "traceback": [
      "\u001b[1;36m  Cell \u001b[1;32mIn[7], line 1\u001b[1;36m\u001b[0m\n\u001b[1;33m    if:\u001b[0m\n\u001b[1;37m      ^\u001b[0m\n\u001b[1;31mSyntaxError\u001b[0m\u001b[1;31m:\u001b[0m invalid syntax\n"
     ]
    }
   ],
   "source": [
    "if:\n",
    " print(\"hello\")"
   ]
  },
  {
   "cell_type": "markdown",
   "id": "d992dbdd-9197-44de-82a2-deaf772877af",
   "metadata": {},
   "source": [
    "**mistake-4**\n",
    "- missing brackets"
   ]
  },
  {
   "cell_type": "code",
   "execution_count": 8,
   "id": "bf24496f-9583-4ef4-945f-edfc658e9cac",
   "metadata": {},
   "outputs": [
    {
     "ename": "SyntaxError",
     "evalue": "Missing parentheses in call to 'print'. Did you mean print(...)? (3394095289.py, line 2)",
     "output_type": "error",
     "traceback": [
      "\u001b[1;36m  Cell \u001b[1;32mIn[8], line 2\u001b[1;36m\u001b[0m\n\u001b[1;33m    print \"hello\"\u001b[0m\n\u001b[1;37m    ^\u001b[0m\n\u001b[1;31mSyntaxError\u001b[0m\u001b[1;31m:\u001b[0m Missing parentheses in call to 'print'. Did you mean print(...)?\n"
     ]
    }
   ],
   "source": [
    "if 100>10:\n",
    "    print \"hello\""
   ]
  },
  {
   "cell_type": "markdown",
   "id": "2c6a9c9b-24e1-4f70-8a17-a7e002035ac2",
   "metadata": {},
   "source": [
    "**mistake-5**\n",
    "\n",
    "- never assign a variable to a print statement\n",
    "- print we are using for to see the answer"
   ]
  },
  {
   "cell_type": "code",
   "execution_count": 1,
   "id": "0fb435fd-7761-4254-8628-e10f71c17c34",
   "metadata": {},
   "outputs": [
    {
     "name": "stdout",
     "output_type": "stream",
     "text": [
      "hello\n"
     ]
    }
   ],
   "source": [
    "if 100>10:\n",
    "    name=print(\"hello\")"
   ]
  },
  {
   "cell_type": "markdown",
   "id": "9d5bc319-426c-42fc-94c3-cba100f48892",
   "metadata": {},
   "source": [
    "**mistake-6**\n",
    "- all types of syntax error\n",
    "- spelling mistakes"
   ]
  },
  {
   "cell_type": "code",
   "execution_count": null,
   "id": "9454d9c2-73df-4e99-9832-cf5a9c83849e",
   "metadata": {},
   "outputs": [],
   "source": [
    "if100>10:"
   ]
  },
  {
   "cell_type": "code",
   "execution_count": 10,
   "id": "e0039782-0275-4198-9f94-c9a710fd88ac",
   "metadata": {},
   "outputs": [
    {
     "name": "stdout",
     "output_type": "stream",
     "text": [
      "hello\n",
      "good morning\n"
     ]
    }
   ],
   "source": [
    "if 100>10:\n",
    "    print(\"hello\")\n",
    "    print('good morning')"
   ]
  },
  {
   "cell_type": "code",
   "execution_count": null,
   "id": "8ecea363-9f30-47f5-9cac-1512226671d3",
   "metadata": {},
   "outputs": [],
   "source": [
    "if 100>10:\n",
    "print(\"hello\")\n",
    "print('good mornig')\n",
    "#########################################\n",
    "print(\"okay\")\n",
    "print(\"bye\")\n",
    "# step-1: if 100>10 if True\n",
    "# step-2: hello\n",
    "# step-3: good morning\n",
    "# step-4: okay\n",
    "# step-5: bye"
   ]
  },
  {
   "cell_type": "code",
   "execution_count": 12,
   "id": "efa4e874-fb2f-446c-ba7f-b2d02447dfdd",
   "metadata": {},
   "outputs": [
    {
     "name": "stdout",
     "output_type": "stream",
     "text": [
      "10\n",
      "20\n",
      "hello\n",
      "good mornig\n",
      "okay\n",
      "bye\n"
     ]
    }
   ],
   "source": [
    "print(10)\n",
    "print(20)\n",
    "##################################\n",
    "if 100>10:\n",
    "    print(\"hello\")\n",
    "    print('good mornig')\n",
    "####################################\n",
    "print(\"okay\")\n",
    "print(\"bye\")"
   ]
  },
  {
   "cell_type": "code",
   "execution_count": 13,
   "id": "de22c049-753d-4763-857c-561a376634b4",
   "metadata": {},
   "outputs": [
    {
     "ename": "IndentationError",
     "evalue": "unexpected indent (2719034567.py, line 6)",
     "output_type": "error",
     "traceback": [
      "\u001b[1;36m  Cell \u001b[1;32mIn[13], line 6\u001b[1;36m\u001b[0m\n\u001b[1;33m    print(\"okay\")\u001b[0m\n\u001b[1;37m    ^\u001b[0m\n\u001b[1;31mIndentationError\u001b[0m\u001b[1;31m:\u001b[0m unexpected indent\n"
     ]
    }
   ],
   "source": [
    "print(10)\n",
    "print(20)\n",
    "if 100>10:\n",
    "    print(\"hello\")\n",
    "print('good mornig')\n",
    "    print(\"okay\")\n",
    "print(\"bye\")"
   ]
  },
  {
   "cell_type": "code",
   "execution_count": 15,
   "id": "21ab9e4b-03e6-4401-99f1-9ee15196828c",
   "metadata": {},
   "outputs": [
    {
     "name": "stdout",
     "output_type": "stream",
     "text": [
      "10\n",
      "hello\n",
      "good mornig\n",
      "okay\n",
      "bye\n"
     ]
    }
   ],
   "source": [
    "print(10)\n",
    "if True:\n",
    "   print(\"hello\")\n",
    "   print('good mornig')\n",
    "print(\"okay\")\n",
    "print(\"bye\")"
   ]
  },
  {
   "cell_type": "code",
   "execution_count": 16,
   "id": "13b64f75-4290-4f08-9c7e-0a3191f9aa7c",
   "metadata": {},
   "outputs": [
    {
     "data": {
      "text/plain": [
       "True"
      ]
     },
     "execution_count": 16,
     "metadata": {},
     "output_type": "execute_result"
    }
   ],
   "source": [
    "100>10"
   ]
  },
  {
   "cell_type": "code",
   "execution_count": 18,
   "id": "80b65cb8-f8cc-4112-9a03-290cc427dc83",
   "metadata": {},
   "outputs": [
    {
     "name": "stdout",
     "output_type": "stream",
     "text": [
      "10\n",
      "okay\n",
      "bye\n"
     ]
    }
   ],
   "source": [
    "print(10)\n",
    "if 100<10:\n",
    "    print(\"hello\")\n",
    "    print('good mornig')\n",
    "print(\"okay\")\n",
    "print(\"bye\")"
   ]
  },
  {
   "cell_type": "code",
   "execution_count": 19,
   "id": "62f63137-3d73-4e02-bf2a-e95a050e968c",
   "metadata": {},
   "outputs": [
    {
     "name": "stdout",
     "output_type": "stream",
     "text": [
      "10\n",
      "okay\n",
      "bye\n"
     ]
    }
   ],
   "source": [
    "print(10)\n",
    "if False:\n",
    "   print(\"hello\")\n",
    "   print('good mornig')\n",
    "print(\"okay\")\n",
    "print(\"bye\")"
   ]
  },
  {
   "cell_type": "code",
   "execution_count": 20,
   "id": "b4938f1c-72c3-459d-a069-5bd0d7627afa",
   "metadata": {},
   "outputs": [
    {
     "name": "stdout",
     "output_type": "stream",
     "text": [
      "10\n",
      "hello\n",
      "good mornig\n",
      "okay\n",
      "bye\n"
     ]
    }
   ],
   "source": [
    "print(10)\n",
    "if 100:\n",
    "   print(\"hello\")\n",
    "   print('good mornig')\n",
    "print(\"okay\")\n",
    "print(\"bye\")"
   ]
  },
  {
   "cell_type": "code",
   "execution_count": 21,
   "id": "573b89c5-7b97-4557-b298-5e1ac14dadfa",
   "metadata": {},
   "outputs": [
    {
     "data": {
      "text/plain": [
       "True"
      ]
     },
     "execution_count": 21,
     "metadata": {},
     "output_type": "execute_result"
    }
   ],
   "source": [
    "bool(100)"
   ]
  },
  {
   "cell_type": "code",
   "execution_count": 22,
   "id": "dc8818f8-54af-48e3-894d-4f735517eab2",
   "metadata": {},
   "outputs": [
    {
     "name": "stdout",
     "output_type": "stream",
     "text": [
      "10\n",
      "okay\n",
      "bye\n"
     ]
    }
   ],
   "source": [
    "print(10)\n",
    "if 0:\n",
    "   print(\"hello\")\n",
    "   print('good mornig')\n",
    "print(\"okay\")\n",
    "print(\"bye\")"
   ]
  },
  {
   "cell_type": "code",
   "execution_count": 23,
   "id": "7b7f2135-087d-4b73-81e9-336143edee45",
   "metadata": {},
   "outputs": [
    {
     "name": "stdout",
     "output_type": "stream",
     "text": [
      "10\n",
      "okay\n",
      "bye\n"
     ]
    }
   ],
   "source": [
    "print(10)\n",
    "if 0.0:\n",
    "   print(\"hello\")\n",
    "   print('good mornig')\n",
    "print(\"okay\")\n",
    "print(\"bye\")"
   ]
  },
  {
   "cell_type": "code",
   "execution_count": 24,
   "id": "6570e618-e124-4124-838c-bb6106c48ae1",
   "metadata": {},
   "outputs": [
    {
     "name": "stdout",
     "output_type": "stream",
     "text": [
      "10\n",
      "hello\n",
      "good mornig\n",
      "okay\n",
      "bye\n"
     ]
    }
   ],
   "source": [
    "print(10)\n",
    "if 'hello':\n",
    "    print(\"hello\")\n",
    "    print('good mornig')\n",
    "print(\"okay\")\n",
    "print(\"bye\")"
   ]
  },
  {
   "cell_type": "code",
   "execution_count": 25,
   "id": "ba6ed8dc-5899-44e4-aadb-8163ba8354a4",
   "metadata": {},
   "outputs": [
    {
     "data": {
      "text/plain": [
       "True"
      ]
     },
     "execution_count": 25,
     "metadata": {},
     "output_type": "execute_result"
    }
   ],
   "source": [
    "bool('hello')"
   ]
  },
  {
   "cell_type": "code",
   "execution_count": 26,
   "id": "54aa4ecc-8cb7-4cb2-84e5-a75024869100",
   "metadata": {},
   "outputs": [
    {
     "name": "stdout",
     "output_type": "stream",
     "text": [
      "10\n",
      "okay\n",
      "bye\n"
     ]
    }
   ],
   "source": [
    "print(10)\n",
    "if '':\n",
    "     print(\"hello\")\n",
    "     print('good mornig')\n",
    "print(\"okay\")\n",
    "print(\"bye\")"
   ]
  },
  {
   "cell_type": "code",
   "execution_count": 27,
   "id": "ef03bb14-8674-48e6-8592-a0fc28f820e1",
   "metadata": {},
   "outputs": [
    {
     "name": "stdout",
     "output_type": "stream",
     "text": [
      "10\n"
     ]
    },
    {
     "ename": "NameError",
     "evalue": "name 'true' is not defined",
     "output_type": "error",
     "traceback": [
      "\u001b[1;31m---------------------------------------------------------------------------\u001b[0m",
      "\u001b[1;31mNameError\u001b[0m                                 Traceback (most recent call last)",
      "Cell \u001b[1;32mIn[27], line 2\u001b[0m\n\u001b[0;32m      1\u001b[0m \u001b[38;5;28mprint\u001b[39m(\u001b[38;5;241m10\u001b[39m)\n\u001b[1;32m----> 2\u001b[0m \u001b[38;5;28;01mif\u001b[39;00m true:\n\u001b[0;32m      3\u001b[0m     \u001b[38;5;28mprint\u001b[39m(\u001b[38;5;124m\"\u001b[39m\u001b[38;5;124mhello\u001b[39m\u001b[38;5;124m\"\u001b[39m)\n\u001b[0;32m      4\u001b[0m     \u001b[38;5;28mprint\u001b[39m(\u001b[38;5;124m'\u001b[39m\u001b[38;5;124mgood mornig\u001b[39m\u001b[38;5;124m'\u001b[39m)\n",
      "\u001b[1;31mNameError\u001b[0m: name 'true' is not defined"
     ]
    }
   ],
   "source": [
    "print(10)\n",
    "if true:\n",
    "    print(\"hello\")\n",
    "    print('good mornig')\n",
    "print(\"okay\")\n",
    "print(\"bye\")"
   ]
  },
  {
   "cell_type": "markdown",
   "id": "98ccdb99-5e58-4049-991c-609129a2905f",
   "metadata": {},
   "source": [
    "**if-else**\n",
    "\n",
    "- if required condition\n",
    "\n",
    "- if that condition is True, then it will execute if block\n",
    "\n",
    "- otherwise it can directly go to the else block\n",
    "\n",
    "- so else block does not required any condition"
   ]
  },
  {
   "cell_type": "code",
   "execution_count": null,
   "id": "6a93af28-2fbb-46ec-894a-7167dce294cc",
   "metadata": {},
   "outputs": [],
   "source": [
    "# syntax\n",
    "\n",
    "if <condition>:\n",
    "     <code line>        \n",
    "else:\n",
    "      <code line>  "
   ]
  },
  {
   "cell_type": "code",
   "execution_count": 3,
   "id": "ee76f5fb-e61f-4291-b311-b422a08425b6",
   "metadata": {},
   "outputs": [
    {
     "name": "stdout",
     "output_type": "stream",
     "text": [
      "good condition is correct\n"
     ]
    }
   ],
   "source": [
    "if 100>10:\n",
    "    print(\"good condition is correct\")\n",
    "else:\n",
    "    print(\"not good condition is wrong\")  "
   ]
  },
  {
   "cell_type": "code",
   "execution_count": 4,
   "id": "b475b0a1-4efe-4d3f-b86a-c13c7cd5988e",
   "metadata": {},
   "outputs": [
    {
     "name": "stdout",
     "output_type": "stream",
     "text": [
      "hello\n",
      "good condition is correct\n",
      "bye\n"
     ]
    }
   ],
   "source": [
    "print(\"hello\")\n",
    "if 100>10:\n",
    "     print(\"good condition is correct\")\n",
    "else:\n",
    "    print(\"not good condition is wrong\")\n",
    "print(\"bye\")    "
   ]
  },
  {
   "cell_type": "code",
   "execution_count": 5,
   "id": "a842a3eb-11b5-4e2d-9794-5453d6921a65",
   "metadata": {},
   "outputs": [
    {
     "name": "stdout",
     "output_type": "stream",
     "text": [
      "hello\n",
      "not good condition is wrong\n",
      "bye\n"
     ]
    }
   ],
   "source": [
    "print(\"hello\")\n",
    "if 100<10:\n",
    "    print(\"good condition is correct\")\n",
    "else:\n",
    "    print(\"not good condition is wrong\")\n",
    "print(\"bye\")    "
   ]
  },
  {
   "cell_type": "code",
   "execution_count": 6,
   "id": "53a0f739-8969-4089-b77e-acc113e864b5",
   "metadata": {},
   "outputs": [
    {
     "ename": "SyntaxError",
     "evalue": "invalid syntax (2852914540.py, line 5)",
     "output_type": "error",
     "traceback": [
      "\u001b[1;36m  Cell \u001b[1;32mIn[6], line 5\u001b[1;36m\u001b[0m\n\u001b[1;33m    else:\u001b[0m\n\u001b[1;37m    ^\u001b[0m\n\u001b[1;31mSyntaxError\u001b[0m\u001b[1;31m:\u001b[0m invalid syntax\n"
     ]
    }
   ],
   "source": [
    "print(\"hello\")\n",
    "if 100>10:\n",
    "    print(\"not good condition is correct \")\n",
    "print(\"why you are in middle\")\n",
    "else:\n",
    "    print(\"not ggod condition is wrong\")\n",
    "print(\"bye\")    "
   ]
  },
  {
   "cell_type": "code",
   "execution_count": 7,
   "id": "6dbab7dc-e547-46fa-9121-ac13f070d9e2",
   "metadata": {},
   "outputs": [
    {
     "name": "stdout",
     "output_type": "stream",
     "text": [
      "10\n",
      "0\n",
      "10\n",
      "0.0\n"
     ]
    },
    {
     "ename": "ZeroDivisionError",
     "evalue": "division by zero",
     "output_type": "error",
     "traceback": [
      "\u001b[1;31m---------------------------------------------------------------------------\u001b[0m",
      "\u001b[1;31mZeroDivisionError\u001b[0m                         Traceback (most recent call last)",
      "Cell \u001b[1;32mIn[7], line 10\u001b[0m\n\u001b[0;32m      8\u001b[0m d\u001b[38;5;241m=\u001b[39mb\u001b[38;5;241m/\u001b[39ma       \u001b[38;5;66;03m# 0/10 = 0\u001b[39;00m\n\u001b[0;32m      9\u001b[0m \u001b[38;5;28mprint\u001b[39m(d)\n\u001b[1;32m---> 10\u001b[0m e\u001b[38;5;241m=\u001b[39ma\u001b[38;5;241m/\u001b[39mb       \u001b[38;5;66;03m# 10/0= any number /0 means error\u001b[39;00m\n\u001b[0;32m     11\u001b[0m \u001b[38;5;28mprint\u001b[39m(e)\n",
      "\u001b[1;31mZeroDivisionError\u001b[0m: division by zero"
     ]
    }
   ],
   "source": [
    "if True:\n",
    "    a=10\n",
    "    b=0\n",
    "    print(a)    # 10\n",
    "    print(b)    # 0\n",
    "    c=a+b\n",
    "    print(c)    # 10+0=10\n",
    "    d=b/a       # 0/10 = 0\n",
    "    print(d)\n",
    "    e=a/b       # 10/0= any number /0 means error\n",
    "    print(e)"
   ]
  },
  {
   "cell_type": "code",
   "execution_count": null,
   "id": "12b61c10-25c4-4263-b649-672ac3c8c5e5",
   "metadata": {},
   "outputs": [],
   "source": [
    "0/10  10/0  0/0"
   ]
  },
  {
   "cell_type": "code",
   "execution_count": 8,
   "id": "5692ff0b-ba4f-4ead-89f8-10598c3ce1f7",
   "metadata": {},
   "outputs": [
    {
     "data": {
      "text/plain": [
       "1.25"
      ]
     },
     "execution_count": 8,
     "metadata": {},
     "output_type": "execute_result"
    }
   ],
   "source": [
    "5/4  #normal division"
   ]
  },
  {
   "cell_type": "code",
   "execution_count": 9,
   "id": "2d5bb271-d8b4-461d-a5c8-6a2bd2f89d5e",
   "metadata": {},
   "outputs": [
    {
     "data": {
      "text/plain": [
       "1"
      ]
     },
     "execution_count": 9,
     "metadata": {},
     "output_type": "execute_result"
    }
   ],
   "source": [
    "5//4  # floor division"
   ]
  },
  {
   "cell_type": "code",
   "execution_count": null,
   "id": "6ad0116a-cb1a-4f54-8469-9371115883a0",
   "metadata": {},
   "outputs": [],
   "source": [
    "# moduls operator\n",
    "5%4  # reminder\n",
    "/ --- normal division(return type float)\n",
    "// --- floor division(return type int) quotient\n",
    "% --- reminder(return int) sir is my thinking correct"
   ]
  },
  {
   "cell_type": "code",
   "execution_count": 12,
   "id": "f0219e13-a6e0-45b3-983b-455e2efe8818",
   "metadata": {},
   "outputs": [
    {
     "name": "stdin",
     "output_type": "stream",
     "text": [
      "enter the number: 20\n"
     ]
    },
    {
     "name": "stdout",
     "output_type": "stream",
     "text": [
      "the 20 is even\n"
     ]
    }
   ],
   "source": [
    "# wap ask the user enter a number\n",
    "# find it is a even number or odd number\n",
    "# idea: any number divide by 2 , the remiander=0\n",
    "#       it is called as even number\n",
    "# step-1: num=eval(input())\n",
    "# step-2: if <condition>:\n",
    "# step-3 print()\n",
    "# step-4   else:\n",
    "# step-5     print()\n",
    "\n",
    "num=eval(input(\"enter the number:\"))\n",
    "if num%2==0:\n",
    "    print(f\"the {num} is even\")\n",
    "else:\n",
    "    print(f\"the {num} is odd\")"
   ]
  },
  {
   "cell_type": "code",
   "execution_count": 14,
   "id": "2f823944-5c28-4455-a63f-76cc3fd10a2a",
   "metadata": {},
   "outputs": [
    {
     "name": "stdin",
     "output_type": "stream",
     "text": [
      "enter the start value: 30\n",
      "enter the end value: 70\n"
     ]
    },
    {
     "name": "stdout",
     "output_type": "stream",
     "text": [
      "the 56 is even\n"
     ]
    }
   ],
   "source": [
    "# Implement the above problem by taking a random input between 1, 100\n",
    "import random\n",
    "start=eval(input(\"enter the start value:\"))\n",
    "end=eval(input(\"enter the end value:\"))\n",
    "num=random.randint(start,end)\n",
    "if num%2==0:\n",
    "    print(f\"the {num} is even\")\n",
    "else:\n",
    "    print(f\"the {num} is odd\")"
   ]
  },
  {
   "cell_type": "markdown",
   "id": "3d0b7fc8-5387-4a84-a99d-9b776477df22",
   "metadata": {},
   "source": [
    "- we are providing values means it is hard coded\n",
    "- code should be always generic,with out hard codings"
   ]
  },
  {
   "cell_type": "code",
   "execution_count": 20,
   "id": "1946dcd0-e15f-470c-a240-678a01005408",
   "metadata": {},
   "outputs": [
    {
     "name": "stdin",
     "output_type": "stream",
     "text": [
      "enter the distance in km: 1000\n",
      "enter the charge in rs 500\n"
     ]
    },
    {
     "name": "stdout",
     "output_type": "stream",
     "text": [
      "the total charge is: 500000\n"
     ]
    }
   ],
   "source": [
    "# wap ask the user enter the distance\n",
    "# if distance greater than 25km\n",
    "#      then enter the charge\n",
    "#      print the total cost\n",
    "#otherwise\n",
    "#      print free ride\n",
    "distance=eval(input(\"enter the distance in km:\"))\n",
    "if distance>25:\n",
    "   charge=eval(input(\"enter the charge in rs\"))\n",
    "   cost=distance*charge\n",
    "   print(\"the total charge is:\",cost)\n",
    "else:\n",
    "    print(\"enjoy the free ride\")"
   ]
  },
  {
   "cell_type": "code",
   "execution_count": 38,
   "id": "c32d51fd-4580-4d2c-b657-e419301b2385",
   "metadata": {},
   "outputs": [
    {
     "name": "stdin",
     "output_type": "stream",
     "text": [
      "enter the distance in km: 50\n",
      "enter the cuto ff distance in km: 20\n"
     ]
    },
    {
     "name": "stdout",
     "output_type": "stream",
     "text": [
      "kudos to you the chargeble distance is: 30\n"
     ]
    },
    {
     "name": "stdin",
     "output_type": "stream",
     "text": [
      "enter the charge in rs 100\n"
     ]
    },
    {
     "name": "stdout",
     "output_type": "stream",
     "text": [
      "the total charge is: 3000\n"
     ]
    }
   ],
   "source": [
    "# wap ask the user enter the distance\n",
    "# cutoff distance enter 25\n",
    "# if distance greater than 25km\n",
    "#       print(\"good news your charge is appicable for only remaining of 25\")\n",
    "#       chargeble distance= distance-cutoff\n",
    "#       then enter the charge\n",
    "#       print the total cost\n",
    "#otherwise\n",
    "#        print free ride\n",
    "distance=eval(input(\"enter the distance in km:\"))\n",
    "cutoff_distance=eval(input(\"enter the cuto ff distance in km:\"))\n",
    "if distance>cutoff_distance:\n",
    "   chargeble_distance=distance-cutoff_distance\n",
    "   print(\"kudos to you the chargeble distance is:\",chargeble_distance)\n",
    "   charge=eval(input(\"enter the charge in rs\"))\n",
    "   cost=chargeble_distance*charge\n",
    "   print(\"the total charge is:\",cost)\n",
    "else:\n",
    "    print(\"enjoy the free ride\")"
   ]
  },
  {
   "cell_type": "code",
   "execution_count": 39,
   "id": "5134939d-ebd0-40a2-9bb2-53941e945946",
   "metadata": {},
   "outputs": [
    {
     "name": "stdin",
     "output_type": "stream",
     "text": [
      "enter the course: data science\n",
      "enter the institute: naresh it\n"
     ]
    },
    {
     "name": "stdout",
     "output_type": "stream",
     "text": [
      "good\n"
     ]
    }
   ],
   "source": [
    "# wap ask the user enter the course\n",
    "# ask the user enter the Institute\n",
    "# if the course equal to data science and institute equal to naresh it\n",
    "# then you are good\n",
    "# otherwise\n",
    "# you are bad\n",
    "course=input(\"enter the course:\")\n",
    "institute=input(\"enter the institute:\")\n",
    "if course=='data science' and institute=='naresh it':\n",
    "     print(\"good\")\n",
    "else:\n",
    "     print(\"bad\")    "
   ]
  },
  {
   "cell_type": "code",
   "execution_count": 42,
   "id": "b14510d8-cd54-4f8d-a208-fb68a12b1679",
   "metadata": {},
   "outputs": [
    {
     "name": "stdin",
     "output_type": "stream",
     "text": [
      "enter the course: python\n",
      "enter the institute: jkt\n"
     ]
    },
    {
     "name": "stdout",
     "output_type": "stream",
     "text": [
      "bad\n"
     ]
    }
   ],
   "source": [
    "course=input(\"enter the course:\")\n",
    "institute=input(\"enter the institute:\")\n",
    "if course=='data science' or institute=='naresh it':\n",
    "   print(\"good\")\n",
    "else:\n",
    "   print(\"bad\")"
   ]
  },
  {
   "cell_type": "markdown",
   "id": "879fa291-ee44-41d6-85d4-6ca36d0370c1",
   "metadata": {},
   "source": [
    "- and means two conditions need to satisfy\n",
    "- or means any one condition enough to satisfy"
   ]
  },
  {
   "cell_type": "code",
   "execution_count": null,
   "id": "c03885e9-d190-4407-a4be-e3cd08ed6903",
   "metadata": {},
   "outputs": [],
   "source": [
    "ir why can't we use eval in first two lines of code\n",
    "eval =====evaluate === math familiy ==== numbers only"
   ]
  },
  {
   "cell_type": "code",
   "execution_count": 45,
   "id": "cab044b1-dfa7-4edb-83ae-41c01efa7156",
   "metadata": {},
   "outputs": [
    {
     "name": "stdin",
     "output_type": "stream",
     "text": [
      " 10\n"
     ]
    },
    {
     "data": {
      "text/plain": [
       "10"
      ]
     },
     "execution_count": 45,
     "metadata": {},
     "output_type": "execute_result"
    }
   ],
   "source": [
    "eval(input())"
   ]
  },
  {
   "cell_type": "code",
   "execution_count": 46,
   "id": "cc297795-fa76-4047-be62-24a18f9d6a27",
   "metadata": {},
   "outputs": [
    {
     "name": "stdout",
     "output_type": "stream",
     "text": [
      "10\n"
     ]
    },
    {
     "name": "stdin",
     "output_type": "stream",
     "text": [
      "enter the number2: 20\n"
     ]
    },
    {
     "name": "stdout",
     "output_type": "stream",
     "text": [
      "you lost\n"
     ]
    }
   ],
   "source": [
    "# wap ask the user enter a random number between 1 to 10, treat this as number1\n",
    "# ask the user enter another number from keyboard, treat this as number2\n",
    "# if number1 equal to number2\n",
    "#     print you won\n",
    "# otherwise\n",
    "#     print you lost\n",
    "import random\n",
    "num1=random.randint(1,10)\n",
    "print(num1)\n",
    "num2=eval(input(\"enter the number2:\"))\n",
    "if num1==num2:\n",
    "    print(\"you won\")\n",
    "else:\n",
    "    print(\"you lost\")"
   ]
  },
  {
   "cell_type": "markdown",
   "id": "dc64d804-54b4-47ea-8cb1-6964f2f62abd",
   "metadata": {},
   "source": [
    "- till now we have seen one condition problem \n",
    "- which means if that condition is true will get one answer \n",
    "- if that condition False then will get another answer\n",
    "- How about if we have more than 2 condition\n",
    "- if-elif-else\n",
    "- two condition means 3 result\n",
    "- if has one condition \n",
    "- elif has second conditio\n",
    "- if both are false then the result in else"
   ]
  },
  {
   "cell_type": "code",
   "execution_count": null,
   "id": "1640917e-d835-4a72-a52b-0e447b91bc5e",
   "metadata": {},
   "outputs": [],
   "source": [
    "if <condition>:\n",
    "    <statement>\n",
    "elif<condition>:\n",
    "    <statemen>\n",
    "else:\n",
    "    <statement>\n",
    "\n",
    "if-elif-else (1)\n",
    "if-elif-else(2)\n",
    "if-elif-elif-else(3)"
   ]
  },
  {
   "cell_type": "code",
   "execution_count": 52,
   "id": "bc9523a4-6fcd-4bc5-b56c-cd304f36afd1",
   "metadata": {},
   "outputs": [
    {
     "name": "stdin",
     "output_type": "stream",
     "text": [
      "enter the number: 10\n"
     ]
    },
    {
     "name": "stdout",
     "output_type": "stream",
     "text": [
      "enter the valid number\n"
     ]
    }
   ],
   "source": [
    "# wap ask the user enter number \n",
    "# if number equal to 1 then print one\n",
    "# if number equal to 2 then print two\n",
    "# if number equal to 3 then print three\n",
    "# otherwise print enter a valid number\n",
    "num=eval(input(\"enter the number:\"))\n",
    "if num==1:\n",
    "    print(\"one\")\n",
    "elif num==2:\n",
    "    print(\"two\")\n",
    "elif num==3:\n",
    "    print(\"three\")\n",
    "else:print(\"enter the valid number\")"
   ]
  },
  {
   "cell_type": "code",
   "execution_count": 54,
   "id": "10fa16ae-aa06-4b46-b52b-52dc46c57589",
   "metadata": {},
   "outputs": [
    {
     "name": "stdin",
     "output_type": "stream",
     "text": [
      "enter the number: 2\n"
     ]
    },
    {
     "name": "stdout",
     "output_type": "stream",
     "text": [
      "two\n"
     ]
    }
   ],
   "source": [
    "num=eval(input(\"enter the number:\"))\n",
    "if num==1:\n",
    "    print(\"one\")\n",
    "elif num==2:\n",
    "    print(\"two\")\n",
    "elif num==3:\n",
    "    print(\"three\")\n",
    "else:print(\"enter the valid number\")                                    "
   ]
  },
  {
   "cell_type": "code",
   "execution_count": 56,
   "id": "bab683c0-63cf-411e-b478-6dad6557dc0b",
   "metadata": {},
   "outputs": [
    {
     "name": "stdin",
     "output_type": "stream",
     "text": [
      "enter num1 -10\n"
     ]
    },
    {
     "name": "stdout",
     "output_type": "stream",
     "text": [
      "negative\n"
     ]
    }
   ],
   "source": [
    "# wap ask the number\n",
    "# if that number greater than zero print postive\n",
    "# if that number less than zero print negative\n",
    "# otherwise print zero\n",
    "num1=eval(input('enter num1'))\n",
    "if num1 > 0:\n",
    "   print('positive')\n",
    "elif num1 <0:\n",
    "   print('negative')\n",
    "else:\n",
    "   print('zero')"
   ]
  },
  {
   "cell_type": "code",
   "execution_count": null,
   "id": "ad4e30cc-6d8d-4b93-8e3f-2423c48be26e",
   "metadata": {},
   "outputs": [],
   "source": [
    "# wap ask the user enter the percentage of marks 0 to 100\n",
    "# if percentage gretear than 90 print A garde\n",
    "# if percentage between 75 to 90 print B garde \n",
    "# if percentage between 50 to 75 print c garde \n",
    "# if percentage between 35 to 50 print d garde \n",
    "# if percentage less than 35 print fail\n",
    "\n",
    "percentage=eval(input(\"Enter the percentage of marks:\"))\n",
    "if percentage>=90:\n",
    "    print('A grade')\n",
    "elif percentage<90 and percentage>=75:\n",
    "    print('B grade')\n",
    "elif percentage<75 and percentage>=50:\n",
    "    print('C grade')\n",
    "elif percentage<50 and percentage>=35:\n",
    "    print('D grade')\n",
    "else:\n",
    "    print('Fail')   "
   ]
  },
  {
   "cell_type": "code",
   "execution_count": 60,
   "id": "d14ba5f0-961e-4dab-b3e4-c9009dd40825",
   "metadata": {},
   "outputs": [
    {
     "name": "stdin",
     "output_type": "stream",
     "text": [
      "Enter the percentage of marks:between 0 to 100 95\n"
     ]
    },
    {
     "name": "stdout",
     "output_type": "stream",
     "text": [
      "A grade\n"
     ]
    }
   ],
   "source": [
    "percentage=eval(input(\"Enter the percentage of marks:between 0 to 100\"))\n",
    "if percentage>=90:  # true\n",
    "    print('A grade')\n",
    "elif percentage>=75: # tRU\n",
    "    print('B grade')\n",
    "elif percentage>=50: # T\n",
    "    print(\"C\")\n",
    "elif percentage>=35: # T\n",
    "     print(\"D\")\n",
    "else:\n",
    "     print(\"Fail\")\n",
    "# 95\n",
    "    \n",
    "# 80\n",
    "# if 80>=90 F\n",
    "# elif 80>=75 true\n",
    "# elif 80>=50: true"
   ]
  },
  {
   "cell_type": "code",
   "execution_count": 4,
   "id": "cde36dce-3246-48e7-806b-1748e0c42524",
   "metadata": {},
   "outputs": [
    {
     "name": "stdin",
     "output_type": "stream",
     "text": [
      "Enter the age:  21\n"
     ]
    },
    {
     "name": "stdout",
     "output_type": "stream",
     "text": [
      "young age\n"
     ]
    }
   ],
   "source": [
    "# wap ask the user enter the age\n",
    "# if the age greater than 100 print you are lucky\n",
    "# if the age greater than 75 print old age\n",
    "# if the age between 50 to 75 print ss\n",
    "# if the age between 30 to 50 print middle age\n",
    "# if the age between less than 15 print kid\n",
    "age=age=eval(input(\"Enter the age: \"))\n",
    "if (age>=75):     # F\n",
    "    print(\"old age\")\n",
    "elif (age>=50):    # T\n",
    "     print(\"senior citizen\")\n",
    "elif (age>=30):    # T\n",
    "     print(\"middle age\")\n",
    "elif (age>=15):    # T\n",
    "    print(\"young age\")\n",
    "else:\n",
    "    print(\"kid\")"
   ]
  },
  {
   "cell_type": "code",
   "execution_count": null,
   "id": "62fcbe09-c61e-4ac4-a121-8dfd45df7bc0",
   "metadata": {},
   "outputs": [],
   "source": [
    "# wap ask the user enter 2 numbers\n",
    "# num1\n",
    "# num2\n",
    "# you need to print \n",
    "# enter operation between 1 for addition\n",
    "# enter operation 2 for mul\n",
    "# enter operation for sub \n",
    "# enter operation for div\n",
    "\n",
    "# enter operation between 1 to 4\n",
    "# if operation equal to 1 then do add\n",
    "# if operation equal to 2 then do mul\n",
    "# if operation equal to 3 then do sub\n",
    "# if operation equal to 4 then do div\n",
    "# otherwise print enter a valid number "
   ]
  },
  {
   "cell_type": "code",
   "execution_count": 2,
   "id": "d95b1df0-bc0d-449e-9426-e51b789278ed",
   "metadata": {},
   "outputs": [
    {
     "name": "stdin",
     "output_type": "stream",
     "text": [
      "Enter first number: 5\n",
      "Enter second number: 6\n"
     ]
    },
    {
     "name": "stdout",
     "output_type": "stream",
     "text": [
      "Enter operation 1 for addition\n",
      "Enter operation 2 for mul\n",
      "Enter operation 3 for sub\n",
      "Enter operation 4 for div\n"
     ]
    },
    {
     "name": "stdin",
     "output_type": "stream",
     "text": [
      "Enter a choice of operation between 1 to 4: 3\n"
     ]
    },
    {
     "name": "stdout",
     "output_type": "stream",
     "text": [
      "Subtraction of two number is -1\n"
     ]
    }
   ],
   "source": [
    "num1=eval(input(\"Enter first number:\"))\n",
    "num2=eval(input(\"Enter second number:\"))\n",
    "print(\"Enter operation 1 for addition\")\n",
    "print(\"Enter operation 2 for mul\")\n",
    "print(\"Enter operation 3 for sub\")\n",
    "print(\"Enter operation 4 for div\")\n",
    "op=eval(input(\"Enter a choice of operation between 1 to 4:\"))\n",
    "if op==1:\n",
    "    sum=num1+num2\n",
    "    print(f\"Addition of two number is {sum}\")\n",
    "elif op==2:\n",
    "    mul=num1*num2\n",
    "    print(f\"multiplication of two number is {mul}\")\n",
    "elif op==3:\n",
    "    sub=num1-num2\n",
    "    print(f\"Subtraction of two number is {sub}\")\n",
    "elif op==4:\n",
    "    div=num1/num2\n",
    "    print(f\"Division of two number is {div}\")\n",
    "else:\n",
    "   print(\"Enter a valid number\")"
   ]
  },
  {
   "cell_type": "code",
   "execution_count": 4,
   "id": "555a8c2f-ab16-49eb-96a8-e5a7b30e809b",
   "metadata": {},
   "outputs": [
    {
     "name": "stdin",
     "output_type": "stream",
     "text": [
      "Enter first number: 10\n",
      "Enter second number: 15\n"
     ]
    },
    {
     "name": "stdout",
     "output_type": "stream",
     "text": [
      "Enter operation 1 for addition\n",
      "Enter operation 2 for mul\n",
      "Enter operation 3 for sub\n",
      "Enter operation 4 for div\n"
     ]
    },
    {
     "name": "stdin",
     "output_type": "stream",
     "text": [
      "Enter a choice of operation between 1 to 4: 2\n"
     ]
    },
    {
     "name": "stdout",
     "output_type": "stream",
     "text": [
      "multiplication of two number is 150\n"
     ]
    }
   ],
   "source": [
    "num1=eval(input(\"Enter first number:\"))\n",
    "num2=eval(input(\"Enter second number:\"))\n",
    "print(\"Enter operation 1 for addition\")\n",
    "print(\"Enter operation 2 for mul\")\n",
    "print(\"Enter operation 3 for sub\")\n",
    "print(\"Enter operation 4 for div\")\n",
    "op=input(\"Enter a choice of operation between 1 to 4:\")\n",
    "if op=='1':\n",
    "   sum=num1+num2\n",
    "   print(f\"Addition of two number is {sum}\")\n",
    "elif op=='2':\n",
    "   mul=num1*num2\n",
    "   print(f\"multiplication of two number is {mul}\")\n",
    "elif op=='3':\n",
    "   sub=num1-num2\n",
    "   print(f\"Subtraction of two number is {sub}\")\n",
    "elif op=='4':\n",
    "   div=num1/num2\n",
    "   print(f\"Division of two number is {div}\")\n",
    "else:\n",
    "   print(\"Enter a valid number\")"
   ]
  },
  {
   "cell_type": "code",
   "execution_count": null,
   "id": "2eb5494d-5cac-4205-99fa-e532787207da",
   "metadata": {},
   "outputs": [],
   "source": [
    "# wap ask the user enter the gander\n",
    "# if gender equal to male\n",
    "# ask the user enter age\n",
    "# if the age greather than 60 print ss\n",
    "# if the age between 30 to 60 print woman\n",
    "# if the age between 15 to 30 print youngman\n",
    "# otherwise print boy\n",
    "#  elif gender equal to female \n",
    "# ask the user enter age\n",
    "# if the age greater than 60 to ss\n",
    "# if the age between 30 to 60 print mawoman\n",
    "# if the age between 15 to 30 print young girl\n",
    "# otherwise:\n",
    "#        print enter a valid gender"
   ]
  },
  {
   "cell_type": "code",
   "execution_count": 6,
   "id": "e95caddb-45bd-4291-8a6f-2fbcd319f6b1",
   "metadata": {},
   "outputs": [
    {
     "name": "stdin",
     "output_type": "stream",
     "text": [
      "Enter the Gender (male/female) : female\n",
      "Enter your age: 21\n"
     ]
    },
    {
     "name": "stdout",
     "output_type": "stream",
     "text": [
      "Young girl\n"
     ]
    }
   ],
   "source": [
    "gender=input(\"Enter the Gender (male/female) :\")\n",
    "if gender=='male':\n",
    "    age=eval(input(\"Enter your age:\"))\n",
    "    if age>=60:\n",
    "        print(\"Senior citizen\")\n",
    "    elif age>=30:\n",
    "        print(\"Middle age man\")\n",
    "    elif age>=15:\n",
    "        print(\"Young man\")\n",
    "    else:\n",
    "        print(\"Boy\")\n",
    "elif gender=='female':\n",
    "    age=eval(input(\"Enter your age:\"))\n",
    "    if age>=60:\n",
    "        print(\"Senior citizen\")\n",
    "    elif age>=30:\n",
    "        print(\"Middle age woman\")\n",
    "    elif age>=15:\n",
    "        print(\"Young girl\")\n",
    "    else:\n",
    "        print(\"Kid\")\n",
    "        \n",
    "else:\n",
    "     print(\"enter a valid gender\")"
   ]
  },
  {
   "cell_type": "code",
   "execution_count": null,
   "id": "f637335a-a824-4add-ab65-f1b6dd0dbd8a",
   "metadata": {},
   "outputs": [],
   "source": [
    "# wap ask the user enter a number\n",
    "# if that number greater than or equal to zero \n",
    "#       if number q=equal to zero\n",
    "#           print zero\n",
    "#       else\n",
    "#          print possitive\n",
    "#  else\n",
    "#        print negative"
   ]
  },
  {
   "cell_type": "code",
   "execution_count": 7,
   "id": "e950eee8-4441-4090-8bfc-4f885918cd4f",
   "metadata": {},
   "outputs": [
    {
     "name": "stdin",
     "output_type": "stream",
     "text": [
      "Enter a number 7\n"
     ]
    },
    {
     "name": "stdout",
     "output_type": "stream",
     "text": [
      "Postive\n"
     ]
    }
   ],
   "source": [
    "num = eval(input(\"Enter a number\"))\n",
    "if num >= 0:\n",
    "    if num == 0:\n",
    "        print(\"Zero\")\n",
    "    else:\n",
    "        print(\"Postive\")\n",
    "else:\n",
    "    print(\"Negative\")"
   ]
  },
  {
   "cell_type": "code",
   "execution_count": null,
   "id": "8b113d61-71ab-4db1-a064-80292a7025ed",
   "metadata": {},
   "outputs": [],
   "source": [
    "# take theree numbers\n",
    "# num1 num2 num3\n",
    "# find the maximum value"
   ]
  }
 ],
 "metadata": {
  "kernelspec": {
   "display_name": "Python 3 (ipykernel)",
   "language": "python",
   "name": "python3"
  },
  "language_info": {
   "codemirror_mode": {
    "name": "ipython",
    "version": 3
   },
   "file_extension": ".py",
   "mimetype": "text/x-python",
   "name": "python",
   "nbconvert_exporter": "python",
   "pygments_lexer": "ipython3",
   "version": "3.11.7"
  }
 },
 "nbformat": 4,
 "nbformat_minor": 5
}
