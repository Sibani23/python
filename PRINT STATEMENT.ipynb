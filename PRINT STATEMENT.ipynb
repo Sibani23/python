{
 "cells": [
  {
   "cell_type": "code",
   "execution_count": 4,
   "id": "b06548a7-7686-40d9-8a9a-50957d0bb357",
   "metadata": {},
   "outputs": [
    {
     "name": "stdout",
     "output_type": "stream",
     "text": [
      "10\n"
     ]
    }
   ],
   "source": [
    "print(10)"
   ]
  },
  {
   "cell_type": "code",
   "execution_count": 3,
   "id": "66907b97-fa69-4394-bdbd-ae596fceb1ec",
   "metadata": {},
   "outputs": [
    {
     "name": "stdout",
     "output_type": "stream",
     "text": [
      "Python\n"
     ]
    }
   ],
   "source": [
    "print('Python')"
   ]
  },
  {
   "cell_type": "code",
   "execution_count": 5,
   "id": "e924f8d2-2db0-4a88-93dd-02317a2b7396",
   "metadata": {},
   "outputs": [
    {
     "name": "stdout",
     "output_type": "stream",
     "text": [
      "10 20 30\n"
     ]
    }
   ],
   "source": [
    "print(10,20,30)"
   ]
  },
  {
   "cell_type": "code",
   "execution_count": 8,
   "id": "6bb7d874-3d48-448a-84c4-7436281f1c4d",
   "metadata": {},
   "outputs": [
    {
     "name": "stdout",
     "output_type": "stream",
     "text": [
      "10 10.5 Naresh IT True\n"
     ]
    }
   ],
   "source": [
    "print(10,10.5,'Naresh IT',True)"
   ]
  },
  {
   "cell_type": "code",
   "execution_count": 9,
   "id": "7715562a-773e-40e0-85ec-711602bd8f84",
   "metadata": {},
   "outputs": [
    {
     "name": "stdout",
     "output_type": "stream",
     "text": [
      "10 20\n"
     ]
    }
   ],
   "source": [
    "n1=10\n",
    "n2=20\n",
    "print(n1,n2)"
   ]
  },
  {
   "cell_type": "code",
   "execution_count": 10,
   "id": "b567ec9e-c3c7-4572-9d34-4f2923bc5c73",
   "metadata": {},
   "outputs": [
    {
     "name": "stdout",
     "output_type": "stream",
     "text": [
      "10\n",
      "20\n"
     ]
    },
    {
     "data": {
      "text/plain": [
       "(None, None)"
      ]
     },
     "execution_count": 10,
     "metadata": {},
     "output_type": "execute_result"
    }
   ],
   "source": [
    "print(10),print(20) # good\n",
    "# None-no value"
   ]
  },
  {
   "cell_type": "code",
   "execution_count": 12,
   "id": "33c321de-1454-4e45-8317-bbb9f88ea4a3",
   "metadata": {},
   "outputs": [
    {
     "name": "stdout",
     "output_type": "stream",
     "text": [
      "10 20 30\n",
      "10\n",
      "20\n"
     ]
    }
   ],
   "source": [
    "print(10,20,30)\n",
    "print(10)\n",
    "print(20)"
   ]
  },
  {
   "cell_type": "code",
   "execution_count": 13,
   "id": "3dd50141-098d-4f79-be2f-28ce51db8026",
   "metadata": {},
   "outputs": [
    {
     "data": {
      "text/plain": [
       "10"
      ]
     },
     "execution_count": 13,
     "metadata": {},
     "output_type": "execute_result"
    }
   ],
   "source": [
    "n1=10\n",
    "n1"
   ]
  },
  {
   "cell_type": "code",
   "execution_count": 2,
   "id": "681a9bb6-6ab0-4087-8a44-ca6609149dc9",
   "metadata": {},
   "outputs": [
    {
     "name": "stdout",
     "output_type": "stream",
     "text": [
      "the addition of 100 and 200 is 300\n"
     ]
    }
   ],
   "source": [
    "a=100\n",
    "b=200\n",
    "c=a+b\n",
    "c\n",
    "print(\"the addition of\",a, \"and\" ,b, \"is\" ,c)"
   ]
  },
  {
   "cell_type": "code",
   "execution_count": null,
   "id": "5ab1e0ae-108c-4977-b41f-e6c347f61770",
   "metadata": {},
   "outputs": [],
   "source": [
    "# read your name \n",
    "# read your age\n",
    "# read your city\n",
    "# my name is sibani,i am 22 years old i am hydrabad"
   ]
  },
  {
   "cell_type": "code",
   "execution_count": 4,
   "id": "dcae10d6-2c13-464f-babf-4eb9af0648cd",
   "metadata": {},
   "outputs": [
    {
     "name": "stdout",
     "output_type": "stream",
     "text": [
      "my name is Sibani, i am 22 years old Im from Hydrabad\n"
     ]
    }
   ],
   "source": [
    "name='Sibani'\n",
    "age=22\n",
    "city='Hydrabad'\n",
    "print(\"my name is {}, i am {} years old Im from {}\".format(name,age,city))"
   ]
  },
  {
   "cell_type": "code",
   "execution_count": 7,
   "id": "41240d38-2518-48e2-aaf3-3df3bd05560e",
   "metadata": {},
   "outputs": [
    {
     "name": "stdout",
     "output_type": "stream",
     "text": [
      "the emp name is Sibani,she is a Manager in the Tata company\n"
     ]
    }
   ],
   "source": [
    "emp_name ='Sibani'\n",
    "emp_role ='Manager'\n",
    "company ='Tata'\n",
    "print(\"the emp name is {},she is a {} in the {} company\".format(emp_name,emp_role,company))       "
   ]
  },
  {
   "cell_type": "markdown",
   "id": "c1842f42-2e4f-46ef-ac37-410ba2f0ad58",
   "metadata": {},
   "source": [
    "**F string method**"
   ]
  },
  {
   "cell_type": "code",
   "execution_count": 10,
   "id": "a94e21b8-445a-4d6a-9890-4ceb1b4a7dc1",
   "metadata": {},
   "outputs": [
    {
     "name": "stdout",
     "output_type": "stream",
     "text": [
      "the addition of 10 and 40 is 50\n"
     ]
    }
   ],
   "source": [
    "a=10\n",
    "b=40\n",
    "c=a+b\n",
    "print(f\"the addition of {a} and {b} is {c}\")"
   ]
  },
  {
   "cell_type": "code",
   "execution_count": 12,
   "id": "43dd6645-8718-474b-bdf1-5d757edbe2a1",
   "metadata": {},
   "outputs": [
    {
     "name": "stdout",
     "output_type": "stream",
     "text": [
      "the emp name is sibani, I am 22 years old I am from Hydrabad\n"
     ]
    }
   ],
   "source": [
    "name='sibani'\n",
    "age=22\n",
    "city='Hydrabad'\n",
    "print(f\"the emp name is {'sibani'}, I am {22} years old I am from {'Hydrabad'}\")"
   ]
  },
  {
   "cell_type": "code",
   "execution_count": 13,
   "id": "1c0f18c0-d246-4599-9c7f-61ec21fc4191",
   "metadata": {},
   "outputs": [
    {
     "name": "stdout",
     "output_type": "stream",
     "text": [
      "the emp name is Sibani,she is a manager in the Teta company\n"
     ]
    }
   ],
   "source": [
    "emp_name ='Sibani'\n",
    "emp_role ='Manager'\n",
    "company ='Teta'\n",
    "print(f\"the emp name is {'Sibani'},she is a {'manager'} in the {'Teta'} company\")"
   ]
  },
  {
   "cell_type": "code",
   "execution_count": 7,
   "id": "9e14c696-a1d4-44f7-991f-d24eeef73c68",
   "metadata": {},
   "outputs": [
    {
     "name": "stdout",
     "output_type": "stream",
     "text": [
      "the average of 100 and 200 is: 150.0\n",
      "the average of 100 and 200 is: 150.0\n"
     ]
    }
   ],
   "source": [
    "num1=100\n",
    "num2=200\n",
    "average=(num1+num2)/2\n",
    "print(\"the average of {} and {} is: {}\".format(num1,num2,average))\n",
    "print(f\"the average of {num1} and {num2} is: {average}\")"
   ]
  },
  {
   "cell_type": "code",
   "execution_count": 10,
   "id": "2da13b3e-3011-4d8c-a351-aefb3c56b299",
   "metadata": {},
   "outputs": [
    {
     "ename": "SyntaxError",
     "evalue": "invalid syntax. Maybe you meant '==' or ':=' instead of '='? (1108114372.py, line 3)",
     "output_type": "error",
     "traceback": [
      "\u001b[1;36m  Cell \u001b[1;32mIn[10], line 3\u001b[1;36m\u001b[0m\n\u001b[1;33m    average=(num1=num2)/2\u001b[0m\n\u001b[1;37m             ^\u001b[0m\n\u001b[1;31mSyntaxError\u001b[0m\u001b[1;31m:\u001b[0m invalid syntax. Maybe you meant '==' or ':=' instead of '='?\n"
     ]
    }
   ],
   "source": [
    "num1=100\n",
    "num2=200\n",
    "average=(num1=num2)/2\n",
    "print(\"the average of {} and {} is: {}\".format(num1,num2,average))\n",
    "print(f\"the average of {num1} and {num2} is: {average}\")"
   ]
  },
  {
   "cell_type": "code",
   "execution_count": 11,
   "id": "5855a28a-2793-4716-99c2-6b7b0883e747",
   "metadata": {},
   "outputs": [
    {
     "data": {
      "text/plain": [
       "11.0"
      ]
     },
     "execution_count": 11,
     "metadata": {},
     "output_type": "execute_result"
    }
   ],
   "source": [
    "(10+2)/2\n",
    "10+2/2\n",
    "\n",
    "# BODMAS"
   ]
  },
  {
   "cell_type": "code",
   "execution_count": 12,
   "id": "12ff1080-d78b-4d51-bbda-e13c0dc06e6d",
   "metadata": {},
   "outputs": [
    {
     "name": "stdout",
     "output_type": "stream",
     "text": [
      "the area of circle is:314.0\n",
      "the area of circle is:314.0\n"
     ]
    }
   ],
   "source": [
    "# take the radius of circle\n",
    "# take the pi value\n",
    "# Find the area of the circle = pi*r*r\n",
    "\n",
    "radius=10\n",
    "pi_value=3.14\n",
    "area=pi_value*radius*radius\n",
    "print(\"the area of circle is:{}\".format(area))\n",
    "print(f\"the area of circle is:{area}\")"
   ]
  },
  {
   "cell_type": "markdown",
   "id": "f2679736-90d6-4410-aa4a-e6fa1c270c07",
   "metadata": {},
   "source": [
    "- format spelling\n",
    "- brackets are not providing\n",
    "- you are keeping\n",
    "- for getting the quotes also"
   ]
  },
  {
   "cell_type": "code",
   "execution_count": 14,
   "id": "7e7a7ecb-4ba2-43fb-839f-6dcbee513d4a",
   "metadata": {},
   "outputs": [
    {
     "name": "stdout",
     "output_type": "stream",
     "text": [
      "the area of traingle is: 100.0\n"
     ]
    }
   ],
   "source": [
    "# take the base of traingle\n",
    "# take the height of the traingle\n",
    "# area of the traingle=1/2*base*height\n",
    "base=10\n",
    "height=20\n",
    "area=0.5*base*height\n",
    "print(f\"the area of traingle is: {area}\")"
   ]
  },
  {
   "cell_type": "code",
   "execution_count": null,
   "id": "c66d6609-3576-45c8-ad68-0c277e4d35d7",
   "metadata": {},
   "outputs": [],
   "source": [
    "#"
   ]
  },
  {
   "cell_type": "code",
   "execution_count": 15,
   "id": "3b4ddca8-8a3c-4926-8536-55f0f3488c5d",
   "metadata": {},
   "outputs": [
    {
     "name": "stdout",
     "output_type": "stream",
     "text": [
      "10\n",
      "20\n"
     ]
    }
   ],
   "source": [
    "print(10)\n",
    "print(20)"
   ]
  },
  {
   "cell_type": "code",
   "execution_count": 16,
   "id": "1d00b57d-8f03-4183-a01d-45232baca6f0",
   "metadata": {},
   "outputs": [
    {
     "name": "stdout",
     "output_type": "stream",
     "text": [
      "10 20\n"
     ]
    }
   ],
   "source": [
    "print(10,20)"
   ]
  },
  {
   "cell_type": "markdown",
   "id": "d5ecf091-6649-4e89-98a8-40682e3a20ff",
   "metadata": {},
   "source": [
    "end"
   ]
  },
  {
   "cell_type": "markdown",
   "id": "c3f21c42-f6a7-4aed-85c9-34fc40e83966",
   "metadata": {},
   "source": [
    "- combining multiple print statement in a single line"
   ]
  },
  {
   "cell_type": "code",
   "execution_count": 18,
   "id": "bb7453b8-e5ef-4a7a-8e57-c711c0b74881",
   "metadata": {},
   "outputs": [
    {
     "name": "stdout",
     "output_type": "stream",
     "text": [
      "10 20\n"
     ]
    }
   ],
   "source": [
    "print(10,end=' ')\n",
    "print(20)"
   ]
  },
  {
   "cell_type": "code",
   "execution_count": 19,
   "id": "a1567132-fdb4-4d85-9b33-59e39639aca7",
   "metadata": {},
   "outputs": [
    {
     "name": "stdout",
     "output_type": "stream",
     "text": [
      "10,20&30\n"
     ]
    }
   ],
   "source": [
    "print(10,end=',')\n",
    "print(20,end='&')\n",
    "print(30)"
   ]
  },
  {
   "cell_type": "markdown",
   "id": "da5e66ab-9c90-439a-95a3-e8d07aaac08f",
   "metadata": {},
   "source": [
    "sep"
   ]
  },
  {
   "cell_type": "markdown",
   "id": "758f4b28-bde1-4c41-9baa-746291f7fe0d",
   "metadata": {},
   "source": [
    "- separate the multiple values in a single print satatement"
   ]
  },
  {
   "cell_type": "code",
   "execution_count": 20,
   "id": "4a7ec428-e686-483f-a0b9-dcaf2d2c4524",
   "metadata": {},
   "outputs": [
    {
     "name": "stdout",
     "output_type": "stream",
     "text": [
      "10&20&30\n"
     ]
    }
   ],
   "source": [
    "print(10,20,30,sep='&')\n",
    "\n",
    "# 10 & 20 & 30"
   ]
  },
  {
   "cell_type": "code",
   "execution_count": 21,
   "id": "bdf84b22-2709-4322-a6e9-47a931bebb85",
   "metadata": {},
   "outputs": [
    {
     "name": "stdout",
     "output_type": "stream",
     "text": [
      "10--->20--->30\n"
     ]
    }
   ],
   "source": [
    "print(10,20,30,sep='--->')"
   ]
  },
  {
   "cell_type": "code",
   "execution_count": 22,
   "id": "fdab6758-3e04-42c9-bb85-8f7d56f9dd50",
   "metadata": {},
   "outputs": [
    {
     "name": "stdout",
     "output_type": "stream",
     "text": [
      "the addition of 5 and 3 is 8.\n"
     ]
    }
   ],
   "source": [
    "print(f\"the addition of {5} and {3} is {5+3}.\")"
   ]
  },
  {
   "cell_type": "code",
   "execution_count": 26,
   "id": "4e913c33-401a-4e7e-9383-1e9c761c8bc6",
   "metadata": {},
   "outputs": [
    {
     "name": "stdout",
     "output_type": "stream",
     "text": [
      "the addition of 5 and 3 is 8.\n"
     ]
    }
   ],
   "source": [
    "print(\"the addition of {} and {} is {}.\".format(5,3,5+3))"
   ]
  },
  {
   "cell_type": "code",
   "execution_count": 29,
   "id": "5861ce67-318e-43ed-8883-91ec23972ced",
   "metadata": {},
   "outputs": [
    {
     "name": "stdout",
     "output_type": "stream",
     "text": [
      "the addition of 5 and 3 is 8.\n"
     ]
    }
   ],
   "source": [
    "print ('the addition of 5 and 3 is 8','.',sep='')"
   ]
  },
  {
   "cell_type": "code",
   "execution_count": null,
   "id": "af227b02-54d2-4d9e-abba-e3590bffc858",
   "metadata": {},
   "outputs": [],
   "source": []
  }
 ],
 "metadata": {
  "kernelspec": {
   "display_name": "Python 3 (ipykernel)",
   "language": "python",
   "name": "python3"
  },
  "language_info": {
   "codemirror_mode": {
    "name": "ipython",
    "version": 3
   },
   "file_extension": ".py",
   "mimetype": "text/x-python",
   "name": "python",
   "nbconvert_exporter": "python",
   "pygments_lexer": "ipython3",
   "version": "3.11.7"
  }
 },
 "nbformat": 4,
 "nbformat_minor": 5
}
