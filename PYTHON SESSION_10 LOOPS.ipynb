{
 "cells": [
  {
   "cell_type": "markdown",
   "id": "f492d58e-af7e-426f-a64e-412c65038172",
   "metadata": {},
   "source": [
    "**loops**\n",
    "\n",
    "- interate a pice of code untill the condition satisfy\n",
    "- we can run a normally\n",
    "- we can run a code by using function wrapper (functions)\n",
    "- we can run a code multiple times (loops) \n",
    "- we can run a code by using condition (conditions)"
   ]
  },
  {
   "cell_type": "code",
   "execution_count": 2,
   "id": "a8765c0f-64c1-4d9d-badc-8a7cd37be629",
   "metadata": {},
   "outputs": [
    {
     "name": "stdout",
     "output_type": "stream",
     "text": [
      "30\n"
     ]
    }
   ],
   "source": [
    "if True:\n",
    "    a=10 \n",
    "    b=20\n",
    "    c=a+b\n",
    "    print(c)"
   ]
  },
  {
   "cell_type": "code",
   "execution_count": 5,
   "id": "2496cd0b-11c4-4c38-be6d-7bf37db8860b",
   "metadata": {},
   "outputs": [
    {
     "name": "stdout",
     "output_type": "stream",
     "text": [
      "30\n"
     ]
    }
   ],
   "source": [
    "def add():\n",
    "    a=10 \n",
    "    b=20\n",
    "    c=a+b\n",
    "    print(c)\n",
    "add()    "
   ]
  },
  {
   "cell_type": "code",
   "execution_count": null,
   "id": "b220c665-5770-4961-89c9-debe1221f1e0",
   "metadata": {},
   "outputs": [],
   "source": [
    "salary=eval(input('enter the salary:'))\n",
    "tax_per=eval(input(\"enter the tax_percentage:\"))\n",
    "tax_amount=salary*tax_per/100\n",
    "print(tax_amount)\n",
    "\n",
    "salary=eval(input('enter the salary:'))\n",
    "tax_per=eval(input(\"enter the tax_percentage:\"))\n",
    "tax_amount=salary*tax_per/100\n",
    "print(tax_amount)\n",
    "\n",
    "salary=eval(input('enter the salary:'))\n",
    "tax_per=eval(input(\"enter the tax_percentage:\"))\n",
    "tax_amount=salary*tax_per/100\n",
    "print(tax_amount)"
   ]
  },
  {
   "cell_type": "code",
   "execution_count": null,
   "id": "9a0c6bd5-7bd4-483b-8d15-6be4e4631967",
   "metadata": {},
   "outputs": [],
   "source": [
    "def tax():\n",
    "    salary=eval(input('enter the salary:'))\n",
    "    tax_per=eval(input(\"enter the tax_percentage:\"))\n",
    "    tax_amount=salary*tax_per/100\n",
    "    print(tax_amount)\n",
    "tax()    "
   ]
  },
  {
   "cell_type": "markdown",
   "id": "172f3858-a428-431b-a964-5b2615a229f8",
   "metadata": {},
   "source": [
    "**type of loops**\n",
    "\n",
    "- for loop\n",
    "- while loop\n",
    "- any loop \n",
    "    - intial point to start the loop \n",
    "    - increment or decrement\n",
    "    - condition to stop the loop"
   ]
  },
  {
   "cell_type": "markdown",
   "id": "a49ca3db-e64e-42cd-aac7-07ebb8701cc1",
   "metadata": {},
   "source": [
    "**For loop**\n",
    "\n",
    "$pattern-1$\n",
    "\n",
    "**rang(stop)**"
   ]
  },
  {
   "cell_type": "code",
   "execution_count": null,
   "id": "a0946769-26dc-4d77-9616-a176b0a3e7d9",
   "metadata": {},
   "outputs": [],
   "source": [
    "# syntax\n",
    "for i in range (<value>):\n",
    "    # start write your code    "
   ]
  },
  {
   "cell_type": "markdown",
   "id": "6ff25eb9-9dfe-4767-a1c2-227d4220f23b",
   "metadata": {},
   "source": [
    "- when ever you see the word range it belongs to math family \n",
    "\n",
    "- inside range we need to provide one value ex: range(3)\n",
    "\n",
    "- if you provide only one value\n",
    "\n",
    "        - start value=0\n",
    "\n",
    "        - increment= +1\n",
    "\n",
    "        - last = stop-1\n",
    "\n",
    "\n",
    "   - range(3)\n",
    "\n",
    "\n",
    "       - start value=0\n",
    "\n",
    "       - increment= +1\n",
    "\n",
    "       - last= stop-1\n",
    "  \n",
    "       - answer are:0 1 2\n",
    "\n",
    "**NOTE**: in python the index always start is zero"
   ]
  },
  {
   "cell_type": "code",
   "execution_count": 8,
   "id": "cfb7bab7-4560-436d-9991-2a96e390607a",
   "metadata": {},
   "outputs": [
    {
     "name": "stdout",
     "output_type": "stream",
     "text": [
      "1\n",
      "1\n",
      "1\n"
     ]
    }
   ],
   "source": [
    "for i in range(3):\n",
    "    print(1)"
   ]
  },
  {
   "cell_type": "code",
   "execution_count": 9,
   "id": "bcb1c7bf-be9e-4cdb-89b7-f23f773f2421",
   "metadata": {},
   "outputs": [
    {
     "name": "stdout",
     "output_type": "stream",
     "text": [
      "0\n",
      "1\n",
      "2\n",
      "3\n",
      "4\n"
     ]
    }
   ],
   "source": [
    "print(0)\n",
    "print(1)     \n",
    "print(2)   \n",
    "print(3)\n",
    "print(4)"
   ]
  },
  {
   "cell_type": "code",
   "execution_count": 10,
   "id": "1e3474bf-9b02-497f-8395-47d1250f8f00",
   "metadata": {},
   "outputs": [
    {
     "name": "stdout",
     "output_type": "stream",
     "text": [
      "hello\n",
      "hello\n",
      "hello\n",
      "hello\n",
      "hello\n"
     ]
    }
   ],
   "source": [
    "# i went to print hello 5 times\n",
    "for i in range(5):\n",
    "    print(\"hello\")"
   ]
  },
  {
   "cell_type": "code",
   "execution_count": 4,
   "id": "c298a3f4-c78e-4a12-89f9-00dbb4a4c4f7",
   "metadata": {},
   "outputs": [
    {
     "name": "stdout",
     "output_type": "stream",
     "text": [
      "86 is even\n",
      "70 is even\n",
      "18 is even\n"
     ]
    }
   ],
   "source": [
    "# for example\n",
    "# take arandom number between 1 to 100\n",
    "# print it is a even number and odd number \n",
    "# you need to generate 3 random number\n",
    "\n",
    "import random\n",
    "num=random.randint(1,100)\n",
    "if num%2==0:\n",
    "    print(f\"{num} is even\")\n",
    "else:\n",
    "    print(f\"{num} is odd\")\n",
    "    \n",
    "import random\n",
    "num=random.randint(1,100)\n",
    "if num%2==0:\n",
    "    print(f\"{num} is even\")\n",
    "else:\n",
    "    print(f\"{num} is odd\")\n",
    "    \n",
    "import random\n",
    "num=random.randint(1,100)\n",
    "if num%2==0:\n",
    "    print(f\"{num} is even\")\n",
    "else:\n",
    "    print(f\"{num} is odd\")"
   ]
  },
  {
   "cell_type": "code",
   "execution_count": 10,
   "id": "058afd94-d86b-4f5b-8bd6-26471d8a25c2",
   "metadata": {},
   "outputs": [
    {
     "name": "stdout",
     "output_type": "stream",
     "text": [
      "27 is odd\n",
      "82 is even\n",
      "60 is even\n"
     ]
    }
   ],
   "source": [
    "import random\n",
    "for i in range(3):\n",
    "    num=random.randint(1,100)\n",
    "    if num%2==0:\n",
    "        print(f\"{num} is even\")\n",
    "    else:\n",
    "        print(f\"{num} is odd\")"
   ]
  },
  {
   "cell_type": "code",
   "execution_count": 11,
   "id": "19120912-5d7d-4c1e-ba10-af61a5c00032",
   "metadata": {},
   "outputs": [
    {
     "name": "stdout",
     "output_type": "stream",
     "text": [
      "0 1 2 3 4\n",
      "2 "
     ]
    }
   ],
   "source": [
    "print(0,end=' ')\n",
    "print(1,end=' ')\n",
    "print(2,end=' ')\n",
    "print(3,end=' ')\n",
    "print(4)\n",
    "print(i,end=' ')"
   ]
  },
  {
   "cell_type": "code",
   "execution_count": 12,
   "id": "096fb487-83e3-4fe1-a875-95ca3e4de1a8",
   "metadata": {},
   "outputs": [
    {
     "name": "stdout",
     "output_type": "stream",
     "text": [
      "0 1 2 3 4 5 6 7 8 9 "
     ]
    }
   ],
   "source": [
    "for i in range(10):\n",
    "     print(i,end=' ')"
   ]
  },
  {
   "cell_type": "code",
   "execution_count": null,
   "id": "87d50060-e03e-4f6c-9b42-332773deaad5",
   "metadata": {},
   "outputs": [],
   "source": [
    "# sep : will seperate multiple values in same print staement\n",
    "# end: combine the multiple print statements"
   ]
  },
  {
   "cell_type": "markdown",
   "id": "555fe5e5-5137-4597-bed5-bb7fe2fd8fbc",
   "metadata": {},
   "source": [
    "$pattwrn-2$\n",
    "\n",
    "**range(satar,stop)**\n",
    "\n",
    " - range(10,20)\n",
    "\n",
    "      - start value= 10\n",
    "\n",
    "      - increment= 1\n",
    "\n",
    "      - last==stop-1=20-1=19\n",
    "\n",
    "      - ans=10 11 12 13 14 15 16 17 18 19"
   ]
  },
  {
   "cell_type": "code",
   "execution_count": 13,
   "id": "47c01298-af82-4604-8cbf-ff7c15d115ba",
   "metadata": {},
   "outputs": [
    {
     "name": "stdout",
     "output_type": "stream",
     "text": [
      "10 11 12 13 14 15 16 17 18 19 "
     ]
    }
   ],
   "source": [
    "wap ask the user print the number is even or odd between 10 to 20\n",
    "for i in range(10,20):\n",
    "    print(i,end=' ')"
   ]
  },
  {
   "cell_type": "code",
   "execution_count": 17,
   "id": "e95c2758-a94f-435a-8820-77485a6f39af",
   "metadata": {},
   "outputs": [
    {
     "name": "stdout",
     "output_type": "stream",
     "text": [
      "the square of 20 is 400\n",
      "the square of 21 is 441\n",
      "the square of 22 is 484\n",
      "the square of 23 is 529\n",
      "the square of 24 is 576\n"
     ]
    }
   ],
   "source": [
    "# wap ask the user print the squre of the numbers between \n",
    "# 20 to 25\n",
    "for i in range(20,25):\n",
    "    print(f\"the square of {i} is {i*i}\")   "
   ]
  },
  {
   "cell_type": "code",
   "execution_count": null,
   "id": "ad1f01b3-0fbe-4d6c-ba1f-4fb6c23f071a",
   "metadata": {},
   "outputs": [],
   "source": [
    "for i in range(20,25):\n",
    "    print(f\")"
   ]
  },
  {
   "cell_type": "code",
   "execution_count": null,
   "id": "fe431cab-d514-4d35-a677-42bdaeb73bd5",
   "metadata": {},
   "outputs": [
    {
     "name": "stdin",
     "output_type": "stream",
     "text": [
      "enter the number: 10\n"
     ]
    },
    {
     "name": "stdout",
     "output_type": "stream",
     "text": [
      "10 is even number\n"
     ]
    },
    {
     "name": "stdin",
     "output_type": "stream",
     "text": [
      "enter the number: 20\n"
     ]
    },
    {
     "name": "stdout",
     "output_type": "stream",
     "text": [
      "20 is even number\n"
     ]
    },
    {
     "name": "stdin",
     "output_type": "stream",
     "text": [
      "enter the number: 30\n"
     ]
    },
    {
     "name": "stdout",
     "output_type": "stream",
     "text": [
      "30 is even number\n"
     ]
    },
    {
     "name": "stdin",
     "output_type": "stream",
     "text": [
      "enter the number: 40\n"
     ]
    }
   ],
   "source": [
    "# wap ask the user print the number is even or odd\n",
    "\n",
    "for i in range(10,20):\n",
    "    num=eval(input(\"enter the number:\"))\n",
    "    if (num%2==0):\n",
    "        print(f\"{num} is even number\")\n",
    "    else:\n",
    "        print(f\"{num} is odd number\")"
   ]
  },
  {
   "cell_type": "markdown",
   "id": "bbf22826-bc3f-440d-8a14-f8c9a4d37fa2",
   "metadata": {},
   "source": [
    "$pattern-3$\n",
    "\n",
    "**range(start,loops,step)**\n",
    "\n",
    "  - start value = satrt value\n",
    "\n",
    "  - step value\n",
    "\n",
    "       - possitive step value\n",
    "\n",
    "           - if step value is possitive: increment\n",
    "\n",
    "           - last = stop-1\n",
    "\n",
    "       - negative step value\n",
    "\n",
    "           - if step value is negative: decrement\n",
    "\n",
    "           - last = stop+1"
   ]
  },
  {
   "cell_type": "code",
   "execution_count": 4,
   "id": "6ba9ab1c-8e9f-44ee-a1f1-8295b9132d38",
   "metadata": {},
   "outputs": [
    {
     "name": "stdout",
     "output_type": "stream",
     "text": [
      "2 4 6 8 10 12 14 16 18 "
     ]
    }
   ],
   "source": [
    "# case-1:\n",
    "for i in range(2,20,2):\n",
    "    print(i,end=' ')\n",
    "\n",
    "# start=2\n",
    "# step= +ve   2\n",
    "# last= stop-1= 20-1=19\n",
    "# 2  4  6  8  10  12  14  16  18 "
   ]
  },
  {
   "cell_type": "code",
   "execution_count": 18,
   "id": "79efa994-48bd-4ca3-aaa7-f1c91ab528c1",
   "metadata": {},
   "outputs": [
    {
     "name": "stdout",
     "output_type": "stream",
     "text": [
      "10 "
     ]
    }
   ],
   "source": [
    "for i in range(10,20,30):\n",
    "    print(i,end=' ')\n",
    "# start=10\n",
    "# step=30\n",
    "# last= 20-1=19\n",
    "# 10"
   ]
  },
  {
   "cell_type": "code",
   "execution_count": 25,
   "id": "b4e2b390-cb51-4ab2-8532-18b1f0da86a5",
   "metadata": {},
   "outputs": [],
   "source": [
    "# case-2:\n",
    "for i in range(2,20,-2): # range(start,stop,step)\n",
    "    print(i,end=' ')\n",
    "    \n",
    "# start=2\n",
    "# step= -2 negative direction\n",
    "# last= stop+1 : 20+1 =21"
   ]
  },
  {
   "cell_type": "code",
   "execution_count": 26,
   "id": "ad00fc68-cb89-4df3-90f9-c9b2a4b69796",
   "metadata": {},
   "outputs": [
    {
     "name": "stdout",
     "output_type": "stream",
     "text": [
      "20 18 16 14 12 10 8 6 4 "
     ]
    }
   ],
   "source": [
    "# case-3:\n",
    "for i in range(20,2,-2):   # range(start,stop,step)\n",
    "    print(i,end=' ')\n",
    "    \n",
    "# start=20 \n",
    "# step= -2 negative\n",
    "# last= stop+1= 2+1=3\n",
    "# 20 18 16 14 12 10 8 6 4 "
   ]
  },
  {
   "cell_type": "code",
   "execution_count": 22,
   "id": "50dcb7ad-16bc-4049-9749-c31f8f7580f1",
   "metadata": {},
   "outputs": [],
   "source": [
    "# case-4:\n",
    "for i in range(-20,2,-2):  # range(start,stop,step)\n",
    "    print(i,end=' ')\n",
    "# start= -20\n",
    "# step= -2 neg\n",
    "# last= stop+1 = 2+1=3"
   ]
  },
  {
   "cell_type": "code",
   "execution_count": null,
   "id": "854e4702-6b1f-4c2f-a246-61fa0830622b",
   "metadata": {},
   "outputs": [],
   "source": [
    "range(3,20,2) # P\n",
    "range(3,20,-2) # NP\n",
    "range(3,-20,2) # NP\n",
    "range(3,-20,-2) # P\n",
    "range(-3,20,2) # P\n",
    "range(-3,-20,2) # NP\n",
    "range(-3,20,-2) # NP\n",
    "range(-3,-20,-2) # P\n",
    "range(20,3,2) # NP\n",
    "range(20,3,-2) # P\n",
    "range(20,-3,-2) # P\n",
    "range(-20,-3,-2) #NP"
   ]
  },
  {
   "cell_type": "code",
   "execution_count": 24,
   "id": "66f3158d-35ec-4723-9c09-00817240d2e2",
   "metadata": {},
   "outputs": [
    {
     "name": "stdout",
     "output_type": "stream",
     "text": [
      "20 18 16 14 12 10 8 6 4 2 0 -2 "
     ]
    }
   ],
   "source": [
    "for i in range(20,-3,-2):\n",
    "    print(i,end=' ')"
   ]
  },
  {
   "cell_type": "code",
   "execution_count": 1,
   "id": "4ffd993a-9afb-4fc9-9f5b-a538d6612f03",
   "metadata": {},
   "outputs": [
    {
     "name": "stdout",
     "output_type": "stream",
     "text": [
      "45\n"
     ]
    }
   ],
   "source": [
    "s=0\n",
    "for i in range(10):\n",
    "    s=s+i\n",
    "    \n",
    "print(s)"
   ]
  },
  {
   "cell_type": "code",
   "execution_count": 3,
   "id": "82eaff95-c497-4e32-bacb-1a9e79b69fc0",
   "metadata": {},
   "outputs": [],
   "source": [
    "l=[]\n",
    "for i in range(10):\n",
    "    l.append(i)"
   ]
  },
  {
   "cell_type": "code",
   "execution_count": 5,
   "id": "5c10b98d-099c-4db7-88ed-cb06aff45696",
   "metadata": {},
   "outputs": [
    {
     "data": {
      "text/plain": [
       "45"
      ]
     },
     "execution_count": 5,
     "metadata": {},
     "output_type": "execute_result"
    }
   ],
   "source": [
    "sum(l)"
   ]
  },
  {
   "cell_type": "code",
   "execution_count": null,
   "id": "6b352d3b-c465-49c3-a484-46d4b5c595af",
   "metadata": {},
   "outputs": [],
   "source": [
    "#1Q) For example\n",
    "# take a random number between 1 to 100\n",
    "# print it is a even number and odd number\n",
    "# you need to generate 3 random number\n",
    "import random\n",
    "for i in range(3):\n",
    "    num=random.randint(1,100)\n",
    "    if num%2==0:\n",
    "       print(f\"{num} is even\")\n",
    "    else:\n",
    "       print(f\"{num} is odd\")"
   ]
  },
  {
   "cell_type": "code",
   "execution_count": null,
   "id": "802fda99-652a-491a-92f7-826dd13e037d",
   "metadata": {},
   "outputs": [],
   "source": [
    "#2Q) wap ask the user print the number is even or odd between 10 to 20\n",
    "for i in range(10,20):\n",
    "if i%2==0:\n",
    "print(f\"{i} is even\")\n",
    "else:\n",
    "print(f\"{i} is odd\")"
   ]
  },
  {
   "cell_type": "code",
   "execution_count": null,
   "id": "95eb632a-177c-4b11-907c-c3753faf4cd3",
   "metadata": {},
   "outputs": [],
   "source": [
    "#3Q) wap ask the user print the square of the number between\n",
    "# 20 to 25\n",
    "for i in range(20,25):\n",
    "    print(f\"the square of {i} is {i*i}\")\n"
   ]
  },
  {
   "cell_type": "code",
   "execution_count": 7,
   "id": "06ba5ca4-a6bc-468a-ae6d-5836c666b626",
   "metadata": {},
   "outputs": [
    {
     "name": "stdin",
     "output_type": "stream",
     "text": [
      "enter the number 5\n"
     ]
    },
    {
     "name": "stdout",
     "output_type": "stream",
     "text": [
      "The square of 5 is 25\n"
     ]
    },
    {
     "name": "stdin",
     "output_type": "stream",
     "text": [
      "enter the number 6\n"
     ]
    },
    {
     "name": "stdout",
     "output_type": "stream",
     "text": [
      "The square of 6 is 36\n"
     ]
    },
    {
     "name": "stdin",
     "output_type": "stream",
     "text": [
      "enter the number 9\n"
     ]
    },
    {
     "name": "stdout",
     "output_type": "stream",
     "text": [
      "The square of 9 is 81\n"
     ]
    }
   ],
   "source": [
    "#4Q) WAP ask the user enter number three times find the square of the number\n",
    "# How many times loop should run\n",
    "for i in range(3):\n",
    "    num=eval(input(\"enter the number\"))\n",
    "    print(f\"The square of {num} is {num*num}\")"
   ]
  },
  {
   "cell_type": "code",
   "execution_count": 8,
   "id": "8c687cf7-d978-4828-826b-e7511c3903b6",
   "metadata": {},
   "outputs": [
    {
     "name": "stdin",
     "output_type": "stream",
     "text": [
      "enter the table which you want to see 5\n"
     ]
    },
    {
     "name": "stdout",
     "output_type": "stream",
     "text": [
      "5 x 1 = 5\n",
      "5 x 2 = 10\n",
      "5 x 3 = 15\n",
      "5 x 4 = 20\n",
      "5 x 5 = 25\n",
      "5 x 6 = 30\n",
      "5 x 7 = 35\n",
      "5 x 8 = 40\n",
      "5 x 9 = 45\n",
      "5 x 10 = 50\n"
     ]
    }
   ],
   "source": [
    "#5Q) Print the 14th table\n",
    "# ans: 14 x 1 = 14\n",
    "# 14 x 2 = 28\n",
    "# 14 x 3 = 42\n",
    "#\n",
    "#\n",
    "# 14 x10 = 140\n",
    "# How many times 10\n",
    "\n",
    "num=eval(input(\"enter the table which you want to see\"))\n",
    "for i in range(1,11):\n",
    "    val=i*num\n",
    "    print(f\"{num} x {i} = {val}\")"
   ]
  },
  {
   "cell_type": "code",
   "execution_count": 9,
   "id": "807bdee3-6b66-463a-ba3a-956b4d1304e9",
   "metadata": {},
   "outputs": [
    {
     "name": "stdin",
     "output_type": "stream",
     "text": [
      "which number factors you want: 50\n",
      "which number factors you want: 60\n"
     ]
    },
    {
     "name": "stdout",
     "output_type": "stream",
     "text": [
      "1 is the divisor of 60\n",
      "2 is the divisor of 60\n",
      "3 is the divisor of 60\n",
      "4 is the divisor of 60\n",
      "5 is the divisor of 60\n",
      "6 is the divisor of 60\n",
      "10 is the divisor of 60\n",
      "12 is the divisor of 60\n",
      "15 is the divisor of 60\n",
      "20 is the divisor of 60\n",
      "30 is the divisor of 60\n",
      "60 is the divisor of 60\n"
     ]
    }
   ],
   "source": [
    "#6 Q) Find the factors of 75\n",
    "# step-1: Iterate the loop = which numbers factor you want\n",
    "# step-2: Apply the if condition\n",
    "#         cond= divide the number with each i\n",
    "\n",
    "num=eval(input(\"which number factors you want:\"))\n",
    "num=eval(input(\"which number factors you want:\"))\n",
    "for i in range(1,num+1):\n",
    "    if num%i==0:\n",
    "        print(f\"{i} is the divisor of {num}\")"
   ]
  },
  {
   "cell_type": "code",
   "execution_count": null,
   "id": "2865bfbc-dca4-4aa7-985a-04cdcaab3e38",
   "metadata": {},
   "outputs": [],
   "source": [
    "#7Q) Write the sum of first 10 Natural numbers\n",
    "# 1 to 10\n",
    "# 1+2+3+4+5+6+7+8+9+10=55\n",
    "1 to 10\n",
    "0+1=1\n",
    "1+2=3\n",
    "3+3=6\n",
    "6+4=10\n",
    "10+5=15\n",
    "15+6=21\n",
    "21+7=28\n",
    "28+8=36\n",
    "36+9=45\n",
    "45+10=50\n",
    "sum=0\n",
    "sum=sum+i"
   ]
  },
  {
   "cell_type": "markdown",
   "id": "3f4e49d0-fb5a-4b81-a528-aa8d44634d7d",
   "metadata": {},
   "source": [
    "**Summation wrapper**\n",
    "  \n",
    "- intially we need to keep summ=0\n",
    "\n",
    "- make sure that do not provide sum\n",
    "\n",
    "- Because sum is a keyword\n",
    "\n",
    "- inside for loop : summ=summ+i"
   ]
  },
  {
   "cell_type": "code",
   "execution_count": 11,
   "id": "0c897cdc-7ab2-42c1-a6d3-37ef00e13599",
   "metadata": {},
   "outputs": [
    {
     "name": "stdout",
     "output_type": "stream",
     "text": [
      "0+1=1\n",
      "1+2=3\n",
      "3+3=6\n",
      "6+4=10\n",
      "10+5=15\n",
      "15+6=21\n",
      "21+7=28\n",
      "28+8=36\n",
      "36+9=45\n",
      "45+10=55\n"
     ]
    }
   ],
   "source": [
    "#summ=0\n",
    "#for loop:\n",
    "\n",
    "#summ=summ+i\n",
    "\n",
    "summ=0\n",
    "for i in range(1,11):\n",
    "    summ=summ+i\n",
    "    print(f\"{summ-i}+{i}={summ}\")"
   ]
  },
  {
   "cell_type": "code",
   "execution_count": 12,
   "id": "44c4eab0-0d5b-4fe5-9f86-736ca7dbda01",
   "metadata": {},
   "outputs": [
    {
     "name": "stdout",
     "output_type": "stream",
     "text": [
      "0+1=1\n",
      "1+2=3\n",
      "3+3=6\n",
      "6+4=10\n",
      "10+5=15\n",
      "15+6=21\n",
      "21+7=28\n",
      "28+8=36\n",
      "36+9=45\n",
      "45+10=55\n"
     ]
    }
   ],
   "source": [
    "summ=0\n",
    "for i in range(1,11):\n",
    "    val=summ\n",
    "    summ=summ+i\n",
    "    print(f\"{val}+{i}={summ}\")"
   ]
  },
  {
   "cell_type": "code",
   "execution_count": 13,
   "id": "2b7491db-dc7d-4355-82d7-8b892c601089",
   "metadata": {},
   "outputs": [
    {
     "name": "stdout",
     "output_type": "stream",
     "text": [
      "55\n"
     ]
    }
   ],
   "source": [
    "summ=0\n",
    "for i in range(1,11):\n",
    "    summ=summ+i\n",
    "print(summ)"
   ]
  },
  {
   "cell_type": "markdown",
   "id": "f3d8d98d-86de-4d3a-8b76-46e65b9e96f7",
   "metadata": {},
   "source": [
    "**Note**\n",
    "  \n",
    "- If we print answer from out of for loop, last answer will print"
   ]
  },
  {
   "cell_type": "code",
   "execution_count": 14,
   "id": "9365bf38-ea1c-48f9-9d3b-7f94da7af73e",
   "metadata": {},
   "outputs": [
    {
     "name": "stdout",
     "output_type": "stream",
     "text": [
      "0\n",
      "1\n",
      "2\n"
     ]
    },
    {
     "data": {
      "text/plain": [
       "2"
      ]
     },
     "execution_count": 14,
     "metadata": {},
     "output_type": "execute_result"
    }
   ],
   "source": [
    "for i in range(3):\n",
    "    print(i)\n",
    "i"
   ]
  },
  {
   "cell_type": "code",
   "execution_count": 15,
   "id": "2c027503-77ce-4e1a-b999-b7afff9ffd37",
   "metadata": {},
   "outputs": [
    {
     "name": "stdin",
     "output_type": "stream",
     "text": [
      "Enter the number: 5\n"
     ]
    },
    {
     "name": "stdout",
     "output_type": "stream",
     "text": [
      "3.0\n"
     ]
    }
   ],
   "source": [
    "# 8Q) Average first 1 to 10 numbers\n",
    "# avg= summation of all the numbers/total number\n",
    "#Wap to find the average of ' N ' numbers in Python.\n",
    "summ=0\n",
    "N=eval(input('Enter the number:'))\n",
    "for i in range(1,N+1):\n",
    "    summ=summ+i\n",
    "print(summ/N)"
   ]
  },
  {
   "cell_type": "markdown",
   "id": "ffdd870b-d241-4686-86f3-8b20cecb0fa3",
   "metadata": {},
   "source": [
    "**Counter wrapper**\n",
    "  \n",
    "- Before for loop intilaise with count=0\n",
    "- Under for loop count=count+1\n",
    "- Counter always increase by 1 only"
   ]
  },
  {
   "cell_type": "code",
   "execution_count": 20,
   "id": "0c12ca01-d46b-45ea-a036-bb6304247fd3",
   "metadata": {},
   "outputs": [
    {
     "name": "stdin",
     "output_type": "stream",
     "text": [
      "which number factors you want: 70\n"
     ]
    },
    {
     "name": "stdout",
     "output_type": "stream",
     "text": [
      "The number of divisiors for 70 is 8\n"
     ]
    }
   ],
   "source": [
    "#9Q) Find the number of divisors of 75\n",
    "# ans: 1,3,5,15,25,75\n",
    "# Number =6\n",
    "count=0\n",
    "num=eval(input(\"which number factors you want:\"))\n",
    "for i in range(1,num+1):\n",
    "    if num%i==0:\n",
    "        count=count+1\n",
    "print(f\"The number of divisiors for {num} is {count}\")"
   ]
  },
  {
   "cell_type": "code",
   "execution_count": null,
   "id": "bc36c549-163e-443b-a87f-b503ecce4e7c",
   "metadata": {},
   "outputs": [],
   "source": [
    "summ=summ+i ==== > summ+=i\n",
    "count=count+i ==== > count+=i"
   ]
  },
  {
   "cell_type": "code",
   "execution_count": 18,
   "id": "d833c26e-f7cc-48c2-bedd-84d093c57ab7",
   "metadata": {},
   "outputs": [
    {
     "name": "stdout",
     "output_type": "stream",
     "text": [
      "7\n"
     ]
    },
    {
     "name": "stdin",
     "output_type": "stream",
     "text": [
      "enter the number between 1 to 10: 7\n"
     ]
    },
    {
     "name": "stdout",
     "output_type": "stream",
     "text": [
      "won\n",
      "3\n"
     ]
    },
    {
     "name": "stdin",
     "output_type": "stream",
     "text": [
      "enter the number between 1 to 10: 9\n"
     ]
    },
    {
     "name": "stdout",
     "output_type": "stream",
     "text": [
      "Fail\n",
      "2\n"
     ]
    },
    {
     "name": "stdin",
     "output_type": "stream",
     "text": [
      "enter the number between 1 to 10: 30\n"
     ]
    },
    {
     "name": "stdout",
     "output_type": "stream",
     "text": [
      "Fail\n"
     ]
    }
   ],
   "source": [
    "# 10Q)\n",
    "# Get a random number between 1 to 10 : num1\n",
    "# Ask the user enter a number : num2\n",
    "# if num1 == num2 then print won\n",
    "# else print fail\n",
    "\n",
    "# Give 3 chances\n",
    "\n",
    "import random\n",
    "for i in range(3):\n",
    "    num1=random.randint(1,10)\n",
    "    print(num1)\n",
    "    num2=eval(input('enter the number between 1 to 10:'))\n",
    "    if num1==num2:\n",
    "        print('won')\n",
    "    else:\n",
    "        print('Fail')"
   ]
  },
  {
   "cell_type": "code",
   "execution_count": null,
   "id": "9836180d-ed6b-412f-bfd3-1555b82d87e6",
   "metadata": {},
   "outputs": [],
   "source": [
    "# Case-3:\n",
    "# Suppose i want to give 4 chances\n",
    "# Every time you fail I want to display\n",
    "# Number of chances left\n",
    "# If all the chances you are used\n",
    "# Try again after 24 hours\n",
    "# If you are win"
   ]
  },
  {
   "cell_type": "code",
   "execution_count": null,
   "id": "93f49ee1-7307-49d6-9975-f9b6009de17a",
   "metadata": {},
   "outputs": [],
   "source": [
    "What is the difference between Summation wrapper and Counter wrapper\n",
    "# summation\n",
    "# counter"
   ]
  },
  {
   "cell_type": "code",
   "execution_count": 3,
   "id": "8e7f2bf3-45c2-496e-b43d-6e7beb9ea753",
   "metadata": {},
   "outputs": [
    {
     "name": "stdout",
     "output_type": "stream",
     "text": [
      "the total number of even numbers are: 0\n",
      "the total number of odd numbers are: 1\n"
     ]
    }
   ],
   "source": [
    "# wap ask the user get 5 numbers\n",
    "# get it is an even number of odd number \n",
    "# also count how many even numbers are there\n",
    "# and count how many odd numbers are there \n",
    "\n",
    "import random\n",
    "even_count=0\n",
    "odd_count=0\n",
    "for i in range (5):\n",
    "     num=random.randint(1,100)\n",
    "     if num%2==0:\n",
    "         evan_count_=even_count+1\n",
    "     else:\n",
    "          odd_count=odd_count+1\n",
    "print(f\"the total number of even numbers are: {even_count}\")     \n",
    "print(f\"the total number of odd numbers are: {odd_count}\")     "
   ]
  },
  {
   "cell_type": "code",
   "execution_count": 6,
   "id": "b8adf1dd-960a-49ce-9548-547fa4af3257",
   "metadata": {},
   "outputs": [
    {
     "name": "stdout",
     "output_type": "stream",
     "text": [
      "the number is even number\n",
      "the number is even number\n",
      "the total number of even numbers are: 0\n",
      "the total number of odd numbers are: 3\n",
      "the total sumation of even numbers are: 0\n",
      "the total sumation of even numbers are: 3\n"
     ]
    }
   ],
   "source": [
    "# wap ask the user get 5 random numbers\n",
    "# get it is an even number of odd number \n",
    "# also count how many even numbers are there\n",
    "# and count how many odd numbers are there \n",
    "\n",
    "import random\n",
    "even_count=0\n",
    "odd_count=0\n",
    "even_sum=0\n",
    "odd_sum=0\n",
    "for i in range (5):\n",
    "     num=random.randint(1,20)\n",
    "     if num%2==0:\n",
    "         print(f\"the number is even number\")\n",
    "         evan_count_=even_count+1\n",
    "         evan_sum=even_sum+1\n",
    "     else:\n",
    "          odd_count=odd_count+1\n",
    "          odd_sum=odd_sum+1\n",
    "print(f\"the total number of even numbers are: {even_count}\")     \n",
    "print(f\"the total number of odd numbers are: {odd_count}\")    \n",
    "print(f\"the total sumation of even numbers are: {even_sum}\")     \n",
    "print(f\"the total sumation of even numbers are: {odd_sum}\")     "
   ]
  },
  {
   "cell_type": "code",
   "execution_count": null,
   "id": "3e469f7d-cbb5-4c53-9b50-f41a72e52856",
   "metadata": {},
   "outputs": [],
   "source": [
    "import random\n",
    "def even_odd():\n",
    "    even_count,total_count=0,0\n",
    "    even_sum,total_sum=0,0\n",
    "    def even_odd1():\n",
    "        "
   ]
  },
  {
   "cell_type": "markdown",
   "id": "c16e7ce4-ba53-478d-bbc9-74303881dbf0",
   "metadata": {},
   "source": [
    "**in operator**"
   ]
  },
  {
   "cell_type": "code",
   "execution_count": 9,
   "id": "28ea3e76-e404-4adf-9a11-b9bf7e4d154f",
   "metadata": {},
   "outputs": [
    {
     "data": {
      "text/plain": [
       "True"
      ]
     },
     "execution_count": 9,
     "metadata": {},
     "output_type": "execute_result"
    }
   ],
   "source": [
    "string1='python'\n",
    "'p' in string1\n",
    "'y' in string1\n",
    "'t' in string1"
   ]
  },
  {
   "cell_type": "code",
   "execution_count": 8,
   "id": "cb2ddc41-58e6-4daa-9276-e183a0441608",
   "metadata": {},
   "outputs": [
    {
     "name": "stdout",
     "output_type": "stream",
     "text": [
      "p\n",
      "y\n",
      "t\n",
      "h\n",
      "o\n",
      "n\n"
     ]
    }
   ],
   "source": [
    " for i in string1:\n",
    "     print(i)"
   ]
  },
  {
   "cell_type": "code",
   "execution_count": 21,
   "id": "55614d8e-cd9b-4636-87af-3a51353b5d5f",
   "metadata": {},
   "outputs": [
    {
     "ename": "NameError",
     "evalue": "name 'string1' is not defined",
     "output_type": "error",
     "traceback": [
      "\u001b[1;31m---------------------------------------------------------------------------\u001b[0m",
      "\u001b[1;31mNameError\u001b[0m                                 Traceback (most recent call last)",
      "Cell \u001b[1;32mIn[21], line 1\u001b[0m\n\u001b[1;32m----> 1\u001b[0m \u001b[38;5;28;01mfor\u001b[39;00m i \u001b[38;5;129;01min\u001b[39;00m (string1):\n\u001b[0;32m      2\u001b[0m      \u001b[38;5;28mprint\u001b[39m(i)\n",
      "\u001b[1;31mNameError\u001b[0m: name 'string1' is not defined"
     ]
    }
   ],
   "source": [
    "for i in (string1):\n",
    "     print(i)"
   ]
  },
  {
   "cell_type": "markdown",
   "id": "a022123a-455f-4824-bd8e-9ab686d4b073",
   "metadata": {},
   "source": [
    "**Difference between in operator and range operator**\n",
    "\n",
    "- range belongs to math family\n",
    "- inside range we need to keep number only\n",
    "- whwnever if we went interate through a english letters\n",
    "- we need to choose inoperator\n",
    "- ranges means number\n",
    "- in means strings"
   ]
  },
  {
   "cell_type": "code",
   "execution_count": 20,
   "id": "12a8fe8e-a072-4bdf-9f9f-a23dfcc50b2f",
   "metadata": {},
   "outputs": [
    {
     "data": {
      "text/plain": [
       "True"
      ]
     },
     "execution_count": 20,
     "metadata": {},
     "output_type": "execute_result"
    }
   ],
   "source": [
    "'p'>'P'"
   ]
  },
  {
   "cell_type": "markdown",
   "id": "4eaf1f5b-1dcd-4bc8-a29c-a1d8d0d5b215",
   "metadata": {},
   "source": [
    "- every english letter \n",
    "- every spl charcters how mechine will understand\n",
    "- Machine language always consider as numbers\n",
    "- every non numeric assign a number\n",
    "- ASCII: American standard code for information interchange\n",
    "- A:65 , a:97"
   ]
  },
  {
   "cell_type": "markdown",
   "id": "8541a8bf-5b92-440d-8456-20d6cdcca278",
   "metadata": {},
   "source": [
    "**ord-chr**"
   ]
  },
  {
   "cell_type": "code",
   "execution_count": null,
   "id": "82ad3b7c-5f7d-4ece-a879-7d336f5d8a74",
   "metadata": {},
   "outputs": [],
   "source": [
    "A === 65 ===== ob1000001"
   ]
  },
  {
   "cell_type": "code",
   "execution_count": 13,
   "id": "80117e10-63a7-4bbf-adf2-e3ab4dacbafc",
   "metadata": {},
   "outputs": [
    {
     "data": {
      "text/plain": [
       "(65, 97)"
      ]
     },
     "execution_count": 13,
     "metadata": {},
     "output_type": "execute_result"
    }
   ],
   "source": [
    "ord('A'),ord('a')"
   ]
  },
  {
   "cell_type": "code",
   "execution_count": 14,
   "id": "91bf6310-016d-4d7e-8486-b86f643e25ff",
   "metadata": {},
   "outputs": [
    {
     "data": {
      "text/plain": [
       "(80, 112)"
      ]
     },
     "execution_count": 14,
     "metadata": {},
     "output_type": "execute_result"
    }
   ],
   "source": [
    "ord('P'),ord('p')"
   ]
  },
  {
   "cell_type": "code",
   "execution_count": 17,
   "id": "6e613677-0081-4b62-a559-600fd86abdde",
   "metadata": {},
   "outputs": [
    {
     "data": {
      "text/plain": [
       "True"
      ]
     },
     "execution_count": 17,
     "metadata": {},
     "output_type": "execute_result"
    }
   ],
   "source": [
    "'p'>'P'   # 112>80"
   ]
  },
  {
   "cell_type": "code",
   "execution_count": 18,
   "id": "19d82f7d-9c9e-4b8d-9598-76512cd41e9b",
   "metadata": {},
   "outputs": [
    {
     "data": {
      "text/plain": [
       "('p', 'P', 'A', 'a')"
      ]
     },
     "execution_count": 18,
     "metadata": {},
     "output_type": "execute_result"
    }
   ],
   "source": [
    "chr(112),chr(80),chr(65),chr(97)"
   ]
  },
  {
   "cell_type": "code",
   "execution_count": 19,
   "id": "7448bd38-a2ab-4efe-9048-5bf1aa5bfb9d",
   "metadata": {},
   "outputs": [
    {
     "name": "stdout",
     "output_type": "stream",
     "text": [
      "the ASCII number for p is 112\n",
      "the ASCII number for y is 121\n",
      "the ASCII number for t is 116\n",
      "the ASCII number for h is 104\n",
      "the ASCII number for o is 111\n",
      "the ASCII number for n is 110\n"
     ]
    }
   ],
   "source": [
    "# i want python string : 'python'\n",
    "# print all ascii numbers for 'python'\n",
    "for i in 'python':\n",
    "    print(f\"the ASCII number for {i} is {ord(i)}\")"
   ]
  },
  {
   "cell_type": "code",
   "execution_count": 22,
   "id": "b15e0591-df15-4d4c-88e1-83878896137c",
   "metadata": {},
   "outputs": [
    {
     "name": "stdout",
     "output_type": "stream",
     "text": [
      " the sumation is 674\n"
     ]
    }
   ],
   "source": [
    "# sum of all ASCII numbers\n",
    "\n",
    "ascii_sum=0\n",
    "for i in 'python':\n",
    "    ascii_sum=ascii_sum+ord(i)\n",
    "print(f\" the sumation is {ascii_sum}\")    "
   ]
  },
  {
   "cell_type": "code",
   "execution_count": null,
   "id": "88e8979f-3adf-4934-b228-d60dd4faa576",
   "metadata": {},
   "outputs": [],
   "source": [
    "# i want to know all ascii number from A to Z\n",
    "\n",
    "import <string>\n",
    "\n",
    "\n",
    "\n",
    "# package called : string \n",
    "# import the paackge \n",
    "# apply the dir\n",
    "# there some methods are there\n",
    "# in that one method will capital latters"
   ]
  },
  {
   "cell_type": "code",
   "execution_count": 25,
   "id": "9aeaf9b4-c12f-4922-a8e4-6d4a704b0e35",
   "metadata": {},
   "outputs": [],
   "source": [
    "import string"
   ]
  },
  {
   "cell_type": "code",
   "execution_count": 26,
   "id": "b6d58109-4d8c-44dd-865c-ac5538d6f6de",
   "metadata": {},
   "outputs": [
    {
     "data": {
      "text/plain": [
       "['Formatter',\n",
       " 'Template',\n",
       " '_ChainMap',\n",
       " '__all__',\n",
       " '__builtins__',\n",
       " '__cached__',\n",
       " '__doc__',\n",
       " '__file__',\n",
       " '__loader__',\n",
       " '__name__',\n",
       " '__package__',\n",
       " '__spec__',\n",
       " '_re',\n",
       " '_sentinel_dict',\n",
       " '_string',\n",
       " 'ascii_letters',\n",
       " 'ascii_lowercase',\n",
       " 'ascii_uppercase',\n",
       " 'capwords',\n",
       " 'digits',\n",
       " 'hexdigits',\n",
       " 'octdigits',\n",
       " 'printable',\n",
       " 'punctuation',\n",
       " 'whitespace']"
      ]
     },
     "execution_count": 26,
     "metadata": {},
     "output_type": "execute_result"
    }
   ],
   "source": [
    "dir(string)"
   ]
  },
  {
   "cell_type": "code",
   "execution_count": 29,
   "id": "542a0b07-0872-42b2-80e1-9b96a4f2f94f",
   "metadata": {},
   "outputs": [
    {
     "data": {
      "text/plain": [
       "'abcdefghijklmnopqrstuvwxyzABCDEFGHIJKLMNOPQRSTUVWXYZ'"
      ]
     },
     "execution_count": 29,
     "metadata": {},
     "output_type": "execute_result"
    }
   ],
   "source": [
    "(string.ascii_letters)"
   ]
  },
  {
   "cell_type": "code",
   "execution_count": 31,
   "id": "2e9ec34d-ca7c-4bd1-a0c9-984d03aa68b9",
   "metadata": {},
   "outputs": [
    {
     "data": {
      "text/plain": [
       "'abcdefghijklmnopqrstuvwxyz'"
      ]
     },
     "execution_count": 31,
     "metadata": {},
     "output_type": "execute_result"
    }
   ],
   "source": [
    "(string.ascii_lowercase)"
   ]
  },
  {
   "cell_type": "code",
   "execution_count": 32,
   "id": "5afc10a8-8270-4764-a901-6b3b81870276",
   "metadata": {},
   "outputs": [
    {
     "data": {
      "text/plain": [
       "'ABCDEFGHIJKLMNOPQRSTUVWXYZ'"
      ]
     },
     "execution_count": 32,
     "metadata": {},
     "output_type": "execute_result"
    }
   ],
   "source": [
    "(string.ascii_uppercase)"
   ]
  },
  {
   "cell_type": "code",
   "execution_count": 36,
   "id": "5c146836-4b20-4452-bd5d-645612713f1d",
   "metadata": {},
   "outputs": [
    {
     "name": "stdout",
     "output_type": "stream",
     "text": [
      "the ASCII number for A is 65\n",
      "the ASCII number for B is 66\n",
      "the ASCII number for C is 67\n",
      "the ASCII number for D is 68\n",
      "the ASCII number for E is 69\n",
      "the ASCII number for F is 70\n",
      "the ASCII number for G is 71\n",
      "the ASCII number for H is 72\n",
      "the ASCII number for I is 73\n",
      "the ASCII number for J is 74\n",
      "the ASCII number for K is 75\n",
      "the ASCII number for L is 76\n",
      "the ASCII number for M is 77\n",
      "the ASCII number for N is 78\n",
      "the ASCII number for O is 79\n",
      "the ASCII number for P is 80\n",
      "the ASCII number for Q is 81\n",
      "the ASCII number for R is 82\n",
      "the ASCII number for S is 83\n",
      "the ASCII number for T is 84\n",
      "the ASCII number for U is 85\n",
      "the ASCII number for V is 86\n",
      "the ASCII number for W is 87\n",
      "the ASCII number for X is 88\n",
      "the ASCII number for Y is 89\n",
      "the ASCII number for Z is 90\n"
     ]
    }
   ],
   "source": [
    "import string\n",
    "letters=string.ascii_uppercase\n",
    "for i in letters:\n",
    "    print(f\"the ASCII number for {i} is {ord(i)}\")"
   ]
  },
  {
   "cell_type": "code",
   "execution_count": 22,
   "id": "fe3c54d8-57a7-44dc-b41b-278cbc092396",
   "metadata": {},
   "outputs": [
    {
     "name": "stdout",
     "output_type": "stream",
     "text": [
      "The ASCII number for a is 97\n",
      "The ASCII number for b is 98\n",
      "The ASCII number for c is 99\n",
      "The ASCII number for d is 100\n",
      "The ASCII number for e is 101\n",
      "The ASCII number for f is 102\n",
      "The ASCII number for g is 103\n",
      "The ASCII number for h is 104\n",
      "The ASCII number for i is 105\n",
      "The ASCII number for j is 106\n",
      "The ASCII number for k is 107\n",
      "The ASCII number for l is 108\n",
      "The ASCII number for m is 109\n",
      "The ASCII number for n is 110\n",
      "The ASCII number for o is 111\n",
      "The ASCII number for p is 112\n",
      "The ASCII number for q is 113\n",
      "The ASCII number for r is 114\n",
      "The ASCII number for s is 115\n",
      "The ASCII number for t is 116\n",
      "The ASCII number for u is 117\n",
      "The ASCII number for v is 118\n",
      "The ASCII number for w is 119\n",
      "The ASCII number for x is 120\n",
      "The ASCII number for y is 121\n",
      "The ASCII number for z is 122\n",
      "The ASCII number for A is 65\n",
      "The ASCII number for B is 66\n",
      "The ASCII number for C is 67\n",
      "The ASCII number for D is 68\n",
      "The ASCII number for E is 69\n",
      "The ASCII number for F is 70\n",
      "The ASCII number for G is 71\n",
      "The ASCII number for H is 72\n",
      "The ASCII number for I is 73\n",
      "The ASCII number for J is 74\n",
      "The ASCII number for K is 75\n",
      "The ASCII number for L is 76\n",
      "The ASCII number for M is 77\n",
      "The ASCII number for N is 78\n",
      "The ASCII number for O is 79\n",
      "The ASCII number for P is 80\n",
      "The ASCII number for Q is 81\n",
      "The ASCII number for R is 82\n",
      "The ASCII number for S is 83\n",
      "The ASCII number for T is 84\n",
      "The ASCII number for U is 85\n",
      "The ASCII number for V is 86\n",
      "The ASCII number for W is 87\n",
      "The ASCII number for X is 88\n",
      "The ASCII number for Y is 89\n",
      "The ASCII number for Z is 90\n"
     ]
    }
   ],
   "source": [
    "import string\n",
    "letters=string.ascii_letters\n",
    "for i in letters:\n",
    "   print(f\"The ASCII number for {i} is {ord(i)}\")"
   ]
  },
  {
   "cell_type": "code",
   "execution_count": 23,
   "id": "6e5b5806-73b0-4c44-86f0-29549b01633c",
   "metadata": {},
   "outputs": [
    {
     "name": "stdout",
     "output_type": "stream",
     "text": [
      "20 \u0014==>21 \u0015==>22 \u0016==>23 \u0017==>24 \u0018==>25 \u0019==>26 \u001a==>27 \u001b==>28 \u001c",
      "==>29 \u001d",
      "==>30 \u001e",
      "==>31 \u001f==>32  ==>33 !==>34 \"==>35 #==>36 $==>37 %==>38 &==>39 '==>40 (==>41 )==>42 *==>43 +==>44 ,==>45 -==>46 .==>47 /==>48 0==>49 1==>50 2==>51 3==>52 4==>53 5==>54 6==>55 7==>56 8==>57 9==>58 :==>59 ;==>60 <==>61 ===>62 >==>63 ?==>64 @==>65 A==>66 B==>67 C==>68 D==>69 E==>70 F==>71 G==>72 H==>73 I==>74 J==>75 K==>76 L==>77 M==>78 N==>79 O==>80 P==>81 Q==>82 R==>83 S==>84 T==>85 U==>86 V==>87 W==>88 X==>89 Y==>90 Z==>91 [==>92 \\==>93 ]==>94 ^==>95 _==>96 `==>97 a==>98 b==>99 c==>100 d==>101 e==>102 f==>103 g==>104 h==>105 i==>106 j==>107 k==>108 l==>109 m==>110 n==>111 o==>112 p==>113 q==>114 r==>115 s==>116 t==>117 u==>118 v==>119 w==>120 x==>121 y==>122 z==>123 {==>124 |==>125 }==>126 ~==>127 ==>128 ==>129 ==>130 ==>131 ==>132 ==>133 ",
      "==>134 ==>135 ==>136 ==>137 ==>138 ==>139 ==>140 ==>141 ==>142 ==>143 ==>144 ==>145 ==>146 ==>147 ==>148 ==>149 ==>150 ==>151 ==>152 ==>153 ==>154 ==>155 ==>156 ==>157 ==>158 ==>159 ==>160  ==>161 ¡==>162 ¢==>163 £==>164 ¤==>165 ¥==>166 ¦==>167 §==>168 ¨==>169 ©==>170 ª==>171 «==>172 ¬==>173 ­==>174 ®==>175 ¯==>176 °==>177 ±==>178 ²==>179 ³==>180 ´==>181 µ==>182 ¶==>183 ·==>184 ¸==>185 ¹==>186 º==>187 »==>188 ¼==>189 ½==>190 ¾==>191 ¿==>192 À==>193 Á==>194 Â==>195 Ã==>196 Ä==>197 Å==>198 Æ==>199 Ç==>"
     ]
    }
   ],
   "source": [
    "# A-Z  a-z\n",
    "# A=== > 65\n",
    "# Z==== > 90\n",
    "# a ==== > 97\n",
    "# z ==== > 122\n",
    "# ! ==== > 33\n",
    "# ~ ==== > 126\n",
    "for i in range(20,200):\n",
    "    print(i,chr(i),end='==>')"
   ]
  },
  {
   "cell_type": "code",
   "execution_count": 40,
   "id": "a442cb78-ea44-4313-b7f6-1c24464db69e",
   "metadata": {},
   "outputs": [
    {
     "name": "stdout",
     "output_type": "stream",
     "text": [
      "900 ΄==>901 ΅==>902 Ά==>903 ·==>904 Έ==>905 Ή==>906 Ί==>907 ΋==>908 Ό==>909 ΍==>910 Ύ==>911 Ώ==>912 ΐ==>913 Α==>914 Β==>915 Γ==>916 Δ==>917 Ε==>918 Ζ==>919 Η==>920 Θ==>921 Ι==>922 Κ==>923 Λ==>924 Μ==>925 Ν==>926 Ξ==>927 Ο==>928 Π==>929 Ρ==>930 ΢==>931 Σ==>932 Τ==>933 Υ==>934 Φ==>935 Χ==>936 Ψ==>937 Ω==>938 Ϊ==>939 Ϋ==>940 ά==>941 έ==>942 ή==>943 ί==>944 ΰ==>945 α==>946 β==>947 γ==>948 δ==>949 ε==>950 ζ==>951 η==>952 θ==>953 ι==>954 κ==>955 λ==>956 μ==>957 ν==>958 ξ==>959 ο==>960 π==>961 ρ==>962 ς==>963 σ==>964 τ==>965 υ==>966 φ==>967 χ==>968 ψ==>969 ω==>970 ϊ==>971 ϋ==>972 ό==>973 ύ==>974 ώ==>975 Ϗ==>976 ϐ==>977 ϑ==>978 ϒ==>979 ϓ==>980 ϔ==>981 ϕ==>982 ϖ==>983 ϗ==>984 Ϙ==>985 ϙ==>986 Ϛ==>987 ϛ==>988 Ϝ==>989 ϝ==>990 Ϟ==>991 ϟ==>992 Ϡ==>993 ϡ==>994 Ϣ==>995 ϣ==>996 Ϥ==>997 ϥ==>998 Ϧ==>999 ϧ==>"
     ]
    }
   ],
   "source": [
    "for i in range(900,1000):\n",
    "    print(i,chr(i),end='==>')"
   ]
  },
  {
   "cell_type": "code",
   "execution_count": 43,
   "id": "1388b856-260c-464c-9284-529ffde66533",
   "metadata": {},
   "outputs": [
    {
     "name": "stdout",
     "output_type": "stream",
     "text": [
      "3078 ఆ==>3079 ఇ==>3080 ఈ==>3081 ఉ==>3082 ఊ==>3083 ఋ==>3084 ఌ==>3085 ఍==>3086 ఎ==>3087 ఏ==>3088 ఐ==>3089 ఑==>3090 ఒ==>3091 ఓ==>3092 ఔ==>3093 క==>3094 ఖ==>3095 గ==>3096 ఘ==>3097 ఙ==>3098 చ==>3099 ఛ==>3100 జ==>3101 ఝ==>3102 ఞ==>3103 ట==>3104 ఠ==>3105 డ==>3106 ఢ==>3107 ణ==>3108 త==>3109 థ==>3110 ద==>3111 ధ==>3112 న==>3113 ఩==>3114 ప==>3115 ఫ==>3116 బ==>3117 భ==>3118 మ==>3119 య==>3120 ర==>3121 ఱ==>3122 ల==>3123 ళ==>3124 ఴ==>3125 వ==>3126 శ==>3127 ష==>3128 స==>3129 హ==>3130 ఺==>3131 ఻==>3132 ఼==>3133 ఽ==>3134 ా==>3135 ి==>3136 ీ==>3137 ు==>3138 ూ==>3139 ృ==>3140 ౄ==>3141 ౅==>3142 ె==>3143 ే==>3144 ై==>3145 ౉==>3146 ొ==>3147 ో==>3148 ౌ==>3149 ్==>3150 ౎==>3151 ౏==>3152 ౐==>3153 ౑==>3154 ౒==>3155 ౓==>3156 ౔==>3157 ౕ==>3158 ౖ==>3159 ౗==>3160 ౘ==>3161 ౙ==>3162 ౚ==>3163 ౛==>3164 ౜==>3165 ౝ==>3166 ౞==>3167 ౟==>3168 ౠ==>3169 ౡ==>3170 ౢ==>3171 ౣ==>3172 ౤==>3173 ౥==>3174 ౦==>3175 ౧==>3176 ౨==>3177 ౩==>"
     ]
    }
   ],
   "source": [
    "for i in range(3078,3178):\n",
    "    print(i,chr(i),end='==>')"
   ]
  },
  {
   "cell_type": "code",
   "execution_count": 1,
   "id": "f4cc7f66-106e-4ca9-8935-178e9c78f0e6",
   "metadata": {},
   "outputs": [
    {
     "name": "stdout",
     "output_type": "stream",
     "text": [
      "1 3 5 7 9 "
     ]
    }
   ],
   "source": [
    "for i in range(1,10,2):\n",
    "    print(i,end=' ')"
   ]
  },
  {
   "cell_type": "code",
   "execution_count": null,
   "id": "83862456-633f-4650-8ee8-a657b80ab566",
   "metadata": {},
   "outputs": [],
   "source": []
  },
  {
   "cell_type": "code",
   "execution_count": null,
   "id": "32841567-d317-4d6d-8b87-724ded6f2d32",
   "metadata": {},
   "outputs": [],
   "source": [
    "<start point>\n",
    "while  <how to stop>:\n",
    "       codeline1\n",
    "       codeline2\n",
    "      <increment or decrement>"
   ]
  }
 ],
 "metadata": {
  "kernelspec": {
   "display_name": "Python 3 (ipykernel)",
   "language": "python",
   "name": "python3"
  },
  "language_info": {
   "codemirror_mode": {
    "name": "ipython",
    "version": 3
   },
   "file_extension": ".py",
   "mimetype": "text/x-python",
   "name": "python",
   "nbconvert_exporter": "python",
   "pygments_lexer": "ipython3",
   "version": "3.11.7"
  }
 },
 "nbformat": 4,
 "nbformat_minor": 5
}
