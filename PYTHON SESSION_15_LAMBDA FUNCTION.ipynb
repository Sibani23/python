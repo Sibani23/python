{
 "cells": [
  {
   "cell_type": "markdown",
   "id": "3416b8b5-56b0-46d6-91de-9b92bd4b40c6",
   "metadata": {},
   "source": [
    "**Lambda functions**\n",
    "  \n",
    "- Lambda functions represnts function concept\n",
    "\n",
    "- But we can write in a single line\n",
    "\n",
    "- Like list comprehension, lambda functions similar only\n",
    "\n",
    "- It will decrease the time complexity\n",
    "\n",
    "- always remember if we use many for loops or many conditions using multiple line ,\n",
    "\n",
    "- the time complexity will increase"
   ]
  },
  {
   "cell_type": "code",
   "execution_count": null,
   "id": "38322030-e22b-4318-91fc-c583ee49d5f5",
   "metadata": {},
   "outputs": [],
   "source": [
    "**It will use a keyword lambda**\n",
    "    \n",
    "# lambda <arguments>: <expression>"
   ]
  },
  {
   "cell_type": "markdown",
   "id": "f568893e-9f60-45b9-9543-d47d5b9064f0",
   "metadata": {},
   "source": [
    "$Pattern − 1$\n",
    "\n",
    "**Function with only one argument**\n",
    "    \n",
    "- function name\n",
    "- argument name\n",
    "- return output   "
   ]
  },
  {
   "cell_type": "code",
   "execution_count": null,
   "id": "2c63893d-9050-467b-8fa0-2749be460b28",
   "metadata": {},
   "outputs": [],
   "source": [
    "# syntax: <function name>= lambda <argument name>: <return output>\n",
    "def summ(n):\n",
    "    return(n+10)\n",
    "summ(10)\n",
    "\n",
    "# function name= summ\n",
    "# argument name = n\n",
    "# return output= n+10"
   ]
  },
  {
   "cell_type": "code",
   "execution_count": 1,
   "id": "eb4bbabc-5620-48d3-b5c7-8da4d57c62cf",
   "metadata": {},
   "outputs": [
    {
     "data": {
      "text/plain": [
       "110"
      ]
     },
     "execution_count": 1,
     "metadata": {},
     "output_type": "execute_result"
    }
   ],
   "source": [
    "summ= lambda n:n+10\n",
    "summ(100)"
   ]
  },
  {
   "cell_type": "code",
   "execution_count": 3,
   "id": "fb54b6ce-931c-4490-9399-6d08d92aac2d",
   "metadata": {},
   "outputs": [
    {
     "data": {
      "text/plain": [
       "1000"
      ]
     },
     "execution_count": 3,
     "metadata": {},
     "output_type": "execute_result"
    }
   ],
   "source": [
    "def cube(n):\n",
    "    return(n**3)\n",
    "cube(10)    "
   ]
  },
  {
   "cell_type": "code",
   "execution_count": 4,
   "id": "cee2b0aa-fbac-422e-bbc6-f082216c73f2",
   "metadata": {},
   "outputs": [
    {
     "data": {
      "text/plain": [
       "1000"
      ]
     },
     "execution_count": 4,
     "metadata": {},
     "output_type": "execute_result"
    }
   ],
   "source": [
    "cube= lambda n:n**3\n",
    "cube(10)"
   ]
  },
  {
   "cell_type": "markdown",
   "id": "0a890eb7-c1ce-4026-bb65-d578ced44697",
   "metadata": {},
   "source": [
    "**pattern-2**\n",
    "\n",
    "**two arguments**"
   ]
  },
  {
   "cell_type": "code",
   "execution_count": 9,
   "id": "251f8eb3-4561-4435-a91b-9ff7f0bf792e",
   "metadata": {},
   "outputs": [
    {
     "data": {
      "text/plain": [
       "100"
      ]
     },
     "execution_count": 9,
     "metadata": {},
     "output_type": "execute_result"
    }
   ],
   "source": [
    "# syntax : <function name>= lambda <arg1>,<arg2>: <return output>\n",
    "def add(a,b):\n",
    "    return(a+b)\n",
    "add(50,50)\n",
    "\n",
    "# Function name: add\n",
    "# arg1=a\n",
    "# arg2=b\n",
    "# return= a+b"
   ]
  },
  {
   "cell_type": "code",
   "execution_count": 5,
   "id": "501c1f04-e670-43fb-a9a9-8b97d3fabdfa",
   "metadata": {},
   "outputs": [
    {
     "data": {
      "text/plain": [
       "110"
      ]
     },
     "execution_count": 5,
     "metadata": {},
     "output_type": "execute_result"
    }
   ],
   "source": [
    "add=lambda n1,n2: n1+n2\n",
    "add(60,50)"
   ]
  },
  {
   "cell_type": "code",
   "execution_count": 6,
   "id": "41eb8d0e-8e9d-448f-a1ea-8d856ff36b08",
   "metadata": {},
   "outputs": [
    {
     "data": {
      "text/plain": [
       "80.67"
      ]
     },
     "execution_count": 6,
     "metadata": {},
     "output_type": "execute_result"
    }
   ],
   "source": [
    "average=lambda a,b,c:round((a+b+c)/3,2)\n",
    "average(10,202,30)"
   ]
  },
  {
   "cell_type": "markdown",
   "id": "3d29ea0e-3603-452a-9709-0d123a63b65e",
   "metadata": {},
   "source": [
    "$Pattern-3$\n",
    "\n",
    "**Default arguments**"
   ]
  },
  {
   "cell_type": "code",
   "execution_count": 7,
   "id": "a32e9be6-96b3-406f-9d50-b128c8754e8f",
   "metadata": {},
   "outputs": [
    {
     "data": {
      "text/plain": [
       "237.33"
      ]
     },
     "execution_count": 7,
     "metadata": {},
     "output_type": "execute_result"
    }
   ],
   "source": [
    "average=lambda a,b,c=500:round((a+b+c)/3,2)\n",
    "average(10,202)"
   ]
  },
  {
   "cell_type": "markdown",
   "id": "64543099-5095-47c8-a0cc-f94d12d9544e",
   "metadata": {},
   "source": [
    "**Pattern-4**\n",
    "\n",
    "**if-else**"
   ]
  },
  {
   "cell_type": "code",
   "execution_count": 12,
   "id": "74c4414a-af27-430c-83b5-e6b7f92bfd1b",
   "metadata": {},
   "outputs": [
    {
     "data": {
      "text/plain": [
       "20"
      ]
     },
     "execution_count": 12,
     "metadata": {},
     "output_type": "execute_result"
    }
   ],
   "source": [
    "def max(a,b):\n",
    "    if a>b:\n",
    "        return(a)\n",
    "    else:\n",
    "       return(b)\n",
    "max(10,20)"
   ]
  },
  {
   "cell_type": "code",
   "execution_count": 10,
   "id": "fa6261e2-fecc-41a4-a87a-3135407ea752",
   "metadata": {},
   "outputs": [
    {
     "data": {
      "text/plain": [
       "30"
      ]
     },
     "execution_count": 10,
     "metadata": {},
     "output_type": "execute_result"
    }
   ],
   "source": [
    "# syntax : function name = lambda <arg1>,<arg2>: <list comprehension>\n",
    "# syntax : function name = lambda <arg1>,<arg2>: <if_out><if_con><else><else_out\n",
    "maxx=lambda a,b: a if a>b else b\n",
    "maxx(30,20)"
   ]
  },
  {
   "cell_type": "markdown",
   "id": "2a415302-3e56-4c48-b562-2ec19e209b15",
   "metadata": {},
   "source": [
    "**Pattern-5**\n",
    "\n",
    "**using List**"
   ]
  },
  {
   "cell_type": "code",
   "execution_count": 13,
   "id": "a8f06aa9-626b-4c39-9a07-9ef218d68501",
   "metadata": {},
   "outputs": [
    {
     "data": {
      "text/plain": [
       "['Hyd', 'Chennai', 'Mumbai']"
      ]
     },
     "execution_count": 13,
     "metadata": {},
     "output_type": "execute_result"
    }
   ],
   "source": [
    "l=['hyd','chennai','mumbai']\n",
    "# op=['Hyd','Chennai','Mumbai']\n",
    "op=[]\n",
    "for i in l:\n",
    "    op.append(i.capitalize())\n",
    "op"
   ]
  },
  {
   "cell_type": "code",
   "execution_count": null,
   "id": "448f56fe-b0d9-4571-a118-a0b156aba5d3",
   "metadata": {},
   "outputs": [],
   "source": [
    "lambda <variable>:<op>\n",
    "# variable:i\n",
    "# op: i.capitalize()\n",
    "lambda <variable>:<op>,<iterator>\n",
    "# Qn: from where you are getting 'i'\n",
    "# <iterator>: list"
   ]
  },
  {
   "cell_type": "markdown",
   "id": "9ba82559-a22c-44aa-809d-48c87fd83fc5",
   "metadata": {},
   "source": [
    "**map**\n",
    "  \n",
    "- the function and iterator are available now\n",
    "- we need to map both"
   ]
  },
  {
   "cell_type": "code",
   "execution_count": 14,
   "id": "e2fcfba7-f669-40c3-afbb-17c3c1a17bea",
   "metadata": {},
   "outputs": [
    {
     "data": {
      "text/plain": [
       "(<function __main__.<lambda>(i)>, ['hyd', 'chennai', 'mumbai'])"
      ]
     },
     "execution_count": 14,
     "metadata": {},
     "output_type": "execute_result"
    }
   ],
   "source": [
    "l=['hyd','chennai','mumbai']\n",
    "lambda i: i.capitalize(),l"
   ]
  },
  {
   "cell_type": "code",
   "execution_count": 15,
   "id": "3d15866a-b5ae-4697-b795-20aaab5121d4",
   "metadata": {},
   "outputs": [
    {
     "data": {
      "text/plain": [
       "<map at 0x2817fd3e560>"
      ]
     },
     "execution_count": 15,
     "metadata": {},
     "output_type": "execute_result"
    }
   ],
   "source": [
    "l=['hyd','chennai','mumbai']\n",
    "map(lambda i: i.capitalize(),l)"
   ]
  },
  {
   "cell_type": "code",
   "execution_count": 16,
   "id": "cb5b8a59-3364-42f9-8c14-8d377d28afa5",
   "metadata": {},
   "outputs": [
    {
     "data": {
      "text/plain": [
       "['Hyd', 'Chennai', 'Mumbai']"
      ]
     },
     "execution_count": 16,
     "metadata": {},
     "output_type": "execute_result"
    }
   ],
   "source": [
    "# apply the list to see the values\n",
    "l=['hyd','chennai','mumbai']\n",
    "list(map(lambda i: i.capitalize(),l))"
   ]
  },
  {
   "cell_type": "code",
   "execution_count": 17,
   "id": "c8e34a37-997d-4346-a02b-f38bad4a5256",
   "metadata": {},
   "outputs": [
    {
     "data": {
      "text/plain": [
       "('Hyd', 'Chennai', 'Mumbai')"
      ]
     },
     "execution_count": 17,
     "metadata": {},
     "output_type": "execute_result"
    }
   ],
   "source": [
    "l=['hyd','chennai','mumbai']\n",
    "tuple(map(lambda i: i.capitalize(),l))"
   ]
  },
  {
   "cell_type": "code",
   "execution_count": null,
   "id": "e9875231-de0e-494b-af9f-6ceab6802730",
   "metadata": {},
   "outputs": [],
   "source": [
    "# step1: Write your normal expression\n",
    "# ex: lambda <var>: <op>===>lambda i: i.capitalize()\n",
    "# step2: add the iterator\n",
    "# ex: lambda <var>: <op>,<list>===>lambda i: i.capitalize(),list1\n",
    "# Step-3: Map the both\n",
    "# ex: map(lambda <var>: <op>,<list>)===>map(lambda i: i.capitalize(),list\n",
    "# Step-4: save the values in a list,\n",
    "# ex: list(map(lambda <var>: <op>,<list>))===>list(map(lambda i: i.capital\n",
    "#Note: Those who are getting list object not callable use tuple"
   ]
  },
  {
   "cell_type": "code",
   "execution_count": null,
   "id": "2eae37bf-ef56-478d-841a-fe3b578c1a0c",
   "metadata": {},
   "outputs": [],
   "source": [
    "- case-1: Function call with one arguments\n",
    "\n",
    "    - lambda arguments:Expression\n",
    "\n",
    "    - lambda variable\n",
    "\n",
    "- case-2: Function call with two arguments\n",
    "\n",
    "     - lambda arg1,arg2 : Expression\n",
    "\n",
    "     - lambda var1,var2 : return uotput\n",
    "\n",
    "- case-3: Function call with Defult arguments\n",
    "\n",
    "     - lambda arg1,arg2=500 : Expression\n",
    "\n",
    "     - lambda var1,var2=500 : return uotput \n",
    "\n",
    "- case-4: function with call with two arguments and if-else statements\n",
    "     - lambda arg1,arg2 : Expression\n",
    "\n",
    "     - lambda arg1,arg2 : Expression\n",
    "\n",
    "- case-5: Lambda oListperation using List\n",
    "\n",
    "      - Lambda arg: Expression,Interator\n",
    "\n",
    "      - map(lambda var: operation)\n",
    "\n",
    "      - - list(map(lambda var: operation,list))"
   ]
  },
  {
   "cell_type": "code",
   "execution_count": 5,
   "id": "ee866c28-7276-4d5e-b643-c63c09469747",
   "metadata": {},
   "outputs": [
    {
     "name": "stdout",
     "output_type": "stream",
     "text": [
      "HYD\n",
      "CHENNAI\n",
      "MUMBAI\n"
     ]
    },
    {
     "data": {
      "text/plain": [
       "['HYD', 'CHENNAI', 'MUMBAI']"
      ]
     },
     "execution_count": 5,
     "metadata": {},
     "output_type": "execute_result"
    }
   ],
   "source": [
    "l=['hyd','chennai','mumbai']\n",
    "# op['HYD','CHENAI,'MUMBAI']\n",
    "for i in l:\n",
    "    print(i.upper())\n",
    "\n",
    "list(map(lambda i:i.upper(),l))"
   ]
  },
  {
   "cell_type": "markdown",
   "id": "49202ba9-5dd9-483e-aff4-44edac59be52",
   "metadata": {},
   "source": [
    "**List**\n",
    "\n",
    "- whenever if condition is there use the filter"
   ]
  },
  {
   "cell_type": "code",
   "execution_count": 1,
   "id": "8b912069-1022-45d3-83f6-70a55f180d79",
   "metadata": {},
   "outputs": [
    {
     "data": {
      "text/plain": [
       "(False, True, True, False)"
      ]
     },
     "execution_count": 1,
     "metadata": {},
     "output_type": "execute_result"
    }
   ],
   "source": [
    "l=['hyd','che#nnai','mum#bai','blr']\n",
    "#op=['che#nnai','mum#bai']\n",
    "# for i in l:\n",
    "# if '#' in i:\n",
    "# print(i)\n",
    "\n",
    "# Mistake-1: tuple(map(lambda i:if '#' in i,l))\n",
    "#            do not write if\n",
    "\n",
    "tuple(map(lambda i:'#' in i,l))"
   ]
  },
  {
   "cell_type": "code",
   "execution_count": 8,
   "id": "46173f65-af72-4805-aa22-bdd6ad27a2bc",
   "metadata": {},
   "outputs": [
    {
     "data": {
      "text/plain": [
       "('che#nnai', 'mum#bai')"
      ]
     },
     "execution_count": 8,
     "metadata": {},
     "output_type": "execute_result"
    }
   ],
   "source": [
    "tuple(filter(lambda i:'#' in i,l))"
   ]
  },
  {
   "cell_type": "code",
   "execution_count": 2,
   "id": "bd5cbb1e-af5e-472d-8fc2-3dfaee1eb686",
   "metadata": {},
   "outputs": [
    {
     "data": {
      "text/plain": [
       "[2, 4, 6]"
      ]
     },
     "execution_count": 2,
     "metadata": {},
     "output_type": "execute_result"
    }
   ],
   "source": [
    "# numbers= [1,3,2,7,6]\n",
    "# op=[2,6]\n",
    "\n",
    "l1 = [1,2,3,4,5,6,7]\n",
    "list(filter(lambda i:i%2==0,l1))"
   ]
  },
  {
   "cell_type": "markdown",
   "id": "4bfbf26b-1466-4028-a697-d0d7f603036e",
   "metadata": {},
   "source": [
    "**Reduce**\n",
    "\n",
    "- All about function can achieve by reduce\n",
    "\n",
    "- Reduce is avelable from functools package\n",
    "\n",
    "- level-1: reduce(lambda summ, i i:summ+1,l1)\n",
    "\n",
    "- level-2: reduce(lambda summ, i i:summ+1,l1,intial_value)\n",
    "\n",
    "- for example we want intialize summ=0 then we choose level-1\n",
    "\n",
    "- for Example we want start with other than Zero then we choose level-2\n"
   ]
  },
  {
   "cell_type": "code",
   "execution_count": 3,
   "id": "c4639629-a6c9-4616-9605-e84d40dd3766",
   "metadata": {},
   "outputs": [
    {
     "name": "stdout",
     "output_type": "stream",
     "text": [
      "15\n"
     ]
    }
   ],
   "source": [
    "l1=[1,2,3,4,5]\n",
    "\n",
    "# I want sum of the elements in a list\n",
    "\n",
    "# Method-1: sum\n",
    "sum(l1)\n",
    "\n",
    "# Method-2: with out sum\n",
    "summ=0\n",
    "for i in l1:\n",
    "    summ=summ+i\n",
    "    \n",
    "print(summ)"
   ]
  },
  {
   "cell_type": "code",
   "execution_count": 4,
   "id": "7c868562-1ec1-4d1a-8ab1-71ff78264f43",
   "metadata": {},
   "outputs": [
    {
     "data": {
      "text/plain": [
       "<filter at 0x2033888f820>"
      ]
     },
     "execution_count": 4,
     "metadata": {},
     "output_type": "execute_result"
    }
   ],
   "source": [
    "l1=[1,2,3,4,5]\n",
    "filter(lambda summ,i:summ+i,l1)"
   ]
  },
  {
   "cell_type": "code",
   "execution_count": 5,
   "id": "6a0f2b66-3d44-4967-94ae-ba7e64439d84",
   "metadata": {},
   "outputs": [
    {
     "data": {
      "text/plain": [
       "15"
      ]
     },
     "execution_count": 5,
     "metadata": {},
     "output_type": "execute_result"
    }
   ],
   "source": [
    "l1=[1,2,3,4,5]\n",
    "max(l1)\n",
    "min(l1)\n",
    "len(l1)\n",
    "sum(l1)"
   ]
  },
  {
   "cell_type": "code",
   "execution_count": 6,
   "id": "3ba7dfb8-391f-4b9b-baa6-c9eda04aca2e",
   "metadata": {},
   "outputs": [],
   "source": [
    "import functools"
   ]
  },
  {
   "cell_type": "code",
   "execution_count": 7,
   "id": "97eeee46-c7a2-4d93-b91f-f43196ee7904",
   "metadata": {},
   "outputs": [
    {
     "data": {
      "text/plain": [
       "['GenericAlias',\n",
       " 'RLock',\n",
       " 'WRAPPER_ASSIGNMENTS',\n",
       " 'WRAPPER_UPDATES',\n",
       " '_CacheInfo',\n",
       " '_HashedSeq',\n",
       " '_NOT_FOUND',\n",
       " '__all__',\n",
       " '__builtins__',\n",
       " '__cached__',\n",
       " '__doc__',\n",
       " '__file__',\n",
       " '__loader__',\n",
       " '__name__',\n",
       " '__package__',\n",
       " '__spec__',\n",
       " '_c3_merge',\n",
       " '_c3_mro',\n",
       " '_compose_mro',\n",
       " '_convert',\n",
       " '_find_impl',\n",
       " '_ge_from_gt',\n",
       " '_ge_from_le',\n",
       " '_ge_from_lt',\n",
       " '_gt_from_ge',\n",
       " '_gt_from_le',\n",
       " '_gt_from_lt',\n",
       " '_initial_missing',\n",
       " '_le_from_ge',\n",
       " '_le_from_gt',\n",
       " '_le_from_lt',\n",
       " '_lru_cache_wrapper',\n",
       " '_lt_from_ge',\n",
       " '_lt_from_gt',\n",
       " '_lt_from_le',\n",
       " '_make_key',\n",
       " '_unwrap_partial',\n",
       " 'cache',\n",
       " 'cached_property',\n",
       " 'cmp_to_key',\n",
       " 'get_cache_token',\n",
       " 'lru_cache',\n",
       " 'namedtuple',\n",
       " 'partial',\n",
       " 'partialmethod',\n",
       " 'recursive_repr',\n",
       " 'reduce',\n",
       " 'singledispatch',\n",
       " 'singledispatchmethod',\n",
       " 'total_ordering',\n",
       " 'update_wrapper',\n",
       " 'wraps']"
      ]
     },
     "execution_count": 7,
     "metadata": {},
     "output_type": "execute_result"
    }
   ],
   "source": [
    "dir(functools)"
   ]
  },
  {
   "cell_type": "code",
   "execution_count": 8,
   "id": "55f71ea9-0a49-4fdc-8898-e9aca10b9c12",
   "metadata": {},
   "outputs": [
    {
     "data": {
      "text/plain": [
       "15"
      ]
     },
     "execution_count": 8,
     "metadata": {},
     "output_type": "execute_result"
    }
   ],
   "source": [
    "import functools\n",
    "l1=[1,2,3,4,5]\n",
    "functools.reduce(lambda summ,i:summ+i,l1)"
   ]
  },
  {
   "cell_type": "code",
   "execution_count": 9,
   "id": "df66d740-b81b-4d42-8bfe-26dd3bd8be64",
   "metadata": {},
   "outputs": [
    {
     "data": {
      "text/plain": [
       "15"
      ]
     },
     "execution_count": 9,
     "metadata": {},
     "output_type": "execute_result"
    }
   ],
   "source": [
    "#import functools\n",
    "#functools.reduce\n",
    "\n",
    "from functools import reduce\n",
    "l1=[1,2,3,4,5]\n",
    "reduce(lambda summ,i:summ+i,l1)"
   ]
  },
  {
   "cell_type": "code",
   "execution_count": 10,
   "id": "0264b054-7c24-4297-ba70-f616698a77df",
   "metadata": {},
   "outputs": [
    {
     "data": {
      "text/plain": [
       "15"
      ]
     },
     "execution_count": 10,
     "metadata": {},
     "output_type": "execute_result"
    }
   ],
   "source": [
    "import functools as ft\n",
    "l1=[1,2,3,4,5]\n",
    "ft.reduce(lambda summ,i:summ+i,l1)"
   ]
  },
  {
   "cell_type": "code",
   "execution_count": 11,
   "id": "34a28686-2a7d-4dcf-bfd9-0ab3ac08d5a8",
   "metadata": {},
   "outputs": [
    {
     "data": {
      "text/plain": [
       "15"
      ]
     },
     "execution_count": 11,
     "metadata": {},
     "output_type": "execute_result"
    }
   ],
   "source": [
    "import functools\n",
    "l1=[1,2,3,4,5]\n",
    "functools.reduce(lambda summ,i:summ+i,l1)\n",
    "\n",
    "from functools import reduce\n",
    "l1=[1,2,3,4,5]\n",
    "reduce(lambda summ,i:summ+i,l1)\n",
    "\n",
    "import functools as ft\n",
    "l1=[1,2,3,4,5]\n",
    "ft.reduce(lambda summ,i:summ+i,l1)"
   ]
  },
  {
   "cell_type": "code",
   "execution_count": 12,
   "id": "a4470192-0800-4600-bdea-b14ffc358b41",
   "metadata": {},
   "outputs": [
    {
     "data": {
      "text/plain": [
       "120"
      ]
     },
     "execution_count": 12,
     "metadata": {},
     "output_type": "execute_result"
    }
   ],
   "source": [
    "import functools\n",
    "l1=[1,2,3,4,5]\n",
    "functools.reduce(lambda mul,i:mul*i,l1)"
   ]
  },
  {
   "cell_type": "code",
   "execution_count": 13,
   "id": "18d3dbe2-1241-4741-a377-82488f5810d6",
   "metadata": {},
   "outputs": [],
   "source": [
    "import functools\n",
    "l1=[1,2,3,4,5]\n",
    "# 1*2*3*4*5:functools.reduce(lambda x,y:x*y,l1)\n",
    "# 1+2+3+4+5:functools.reduce(lambda x,y:x+y,l1)"
   ]
  },
  {
   "cell_type": "code",
   "execution_count": 14,
   "id": "033207dc-a778-4132-9abf-10b16c661fd9",
   "metadata": {},
   "outputs": [
    {
     "name": "stdout",
     "output_type": "stream",
     "text": [
      "15\n"
     ]
    },
    {
     "data": {
      "text/plain": [
       "5.0"
      ]
     },
     "execution_count": 14,
     "metadata": {},
     "output_type": "execute_result"
    }
   ],
   "source": [
    "# Method-2: with out sum\n",
    "summ=0\n",
    "for i in l1:\n",
    "    summ=summ+i\n",
    "    \n",
    "print(summ)\n",
    "\n",
    "# Other method\n",
    "import math\n",
    "math.sqrt(25)"
   ]
  },
  {
   "cell_type": "code",
   "execution_count": null,
   "id": "04bfcd53-e747-4ea1-aa2c-a7e4edc3daeb",
   "metadata": {},
   "outputs": [],
   "source": [
    "import functools"
   ]
  },
  {
   "cell_type": "code",
   "execution_count": 15,
   "id": "c45cefb5-ef2a-4db3-92f7-a9cf44fb3553",
   "metadata": {},
   "outputs": [
    {
     "data": {
      "text/plain": [
       "<module 'functools' from 'C:\\\\Users\\\\siban\\\\anaconda3\\\\Lib\\\\functools.py'>"
      ]
     },
     "execution_count": 15,
     "metadata": {},
     "output_type": "execute_result"
    }
   ],
   "source": [
    "functools"
   ]
  },
  {
   "cell_type": "code",
   "execution_count": null,
   "id": "ca3c51d5-56da-414a-88b7-7d1513f4d86e",
   "metadata": {},
   "outputs": [],
   "source": [
    "# maximum value\n",
    "\n",
    "# map\n",
    "# filter \n",
    "# Reduce\n",
    "# reduce: inbulit function some intialize\n",
    "\n",
    "# i want detailed word doucument with example"
   ]
  },
  {
   "cell_type": "code",
   "execution_count": null,
   "id": "ddee1a08-9a96-4a90-874f-8ee45126c728",
   "metadata": {},
   "outputs": [],
   "source": []
  }
 ],
 "metadata": {
  "kernelspec": {
   "display_name": "Python 3 (ipykernel)",
   "language": "python",
   "name": "python3"
  },
  "language_info": {
   "codemirror_mode": {
    "name": "ipython",
    "version": 3
   },
   "file_extension": ".py",
   "mimetype": "text/x-python",
   "name": "python",
   "nbconvert_exporter": "python",
   "pygments_lexer": "ipython3",
   "version": "3.11.7"
  }
 },
 "nbformat": 4,
 "nbformat_minor": 5
}
